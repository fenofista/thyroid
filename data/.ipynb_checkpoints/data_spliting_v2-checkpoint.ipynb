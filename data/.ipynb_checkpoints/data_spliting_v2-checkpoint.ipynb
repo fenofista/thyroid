{
 "cells": [
  {
   "cell_type": "code",
   "execution_count": 64,
   "id": "d7820b54-e313-4916-8c1a-39a6e694cc2f",
   "metadata": {},
   "outputs": [],
   "source": [
    "import pandas as pd\n",
    "import numpy as np\n",
    "# import cv2\n",
    "import matplotlib.pyplot as plt\n",
    "from sklearn.utils import shuffle\n",
    "import json\n",
    "import os\n",
    "import shutil"
   ]
  },
  {
   "cell_type": "code",
   "execution_count": 2,
   "id": "5ca8507e-26ae-4cfd-ab84-08321af1e3ba",
   "metadata": {},
   "outputs": [],
   "source": [
    "random_seed = 42"
   ]
  },
  {
   "cell_type": "markdown",
   "id": "8b01b121-641a-49fb-8664-e1f8d3ecd42f",
   "metadata": {},
   "source": [
    "# DDTI"
   ]
  },
  {
   "cell_type": "code",
   "execution_count": 51,
   "id": "5599f778-8b9a-47bc-b95c-18c29fd2216b",
   "metadata": {},
   "outputs": [],
   "source": [
    "dataset_name = \"DDTI dataset/\""
   ]
  },
  {
   "cell_type": "code",
   "execution_count": 52,
   "id": "2f883ec0-ddb2-4705-aa9b-3f4457c8c0c5",
   "metadata": {
    "scrolled": true
   },
   "outputs": [],
   "source": [
    "csv_file = pd.read_csv(dataset_name + \"DDTI/2_preprocessed_data/train.csv\")"
   ]
  },
  {
   "cell_type": "code",
   "execution_count": 53,
   "id": "e373a728-0280-46d6-bd84-d93cb728c052",
   "metadata": {},
   "outputs": [],
   "source": [
    "ID = []\n",
    "for i in range(len(csv_file[\"ID\"])):\n",
    "    id = csv_file[\"ID\"][i].split(\".\")[0]\n",
    "    ID.append(id)"
   ]
  },
  {
   "cell_type": "code",
   "execution_count": 54,
   "id": "17bae445-661d-4cdf-8694-7ff5cb3cd01f",
   "metadata": {},
   "outputs": [],
   "source": [
    "shuffle_ID = shuffle(ID, random_state = random_seed)"
   ]
  },
  {
   "cell_type": "code",
   "execution_count": 55,
   "id": "4cbac1e2-e456-4ce2-85e9-7aade319f10c",
   "metadata": {},
   "outputs": [],
   "source": [
    "test_ID = shuffle_ID"
   ]
  },
  {
   "cell_type": "code",
   "execution_count": 56,
   "id": "ee597e39-04ac-49fb-b960-221860800f05",
   "metadata": {},
   "outputs": [],
   "source": [
    "DDTI_test_df = pd.DataFrame(test_ID, columns = [\"ID\"])\n",
    "DDTI_test_df[\"dataset\"] = \"DDTI\""
   ]
  },
  {
   "cell_type": "code",
   "execution_count": 57,
   "id": "1c60f0e3-71b3-412e-97fe-1b2435506598",
   "metadata": {},
   "outputs": [
    {
     "data": {
      "text/html": [
       "<div>\n",
       "<style scoped>\n",
       "    .dataframe tbody tr th:only-of-type {\n",
       "        vertical-align: middle;\n",
       "    }\n",
       "\n",
       "    .dataframe tbody tr th {\n",
       "        vertical-align: top;\n",
       "    }\n",
       "\n",
       "    .dataframe thead th {\n",
       "        text-align: right;\n",
       "    }\n",
       "</style>\n",
       "<table border=\"1\" class=\"dataframe\">\n",
       "  <thead>\n",
       "    <tr style=\"text-align: right;\">\n",
       "      <th></th>\n",
       "      <th>ID</th>\n",
       "      <th>dataset</th>\n",
       "    </tr>\n",
       "  </thead>\n",
       "  <tbody>\n",
       "    <tr>\n",
       "      <th>0</th>\n",
       "      <td>20084</td>\n",
       "      <td>DDTI</td>\n",
       "    </tr>\n",
       "    <tr>\n",
       "      <th>1</th>\n",
       "      <td>20024</td>\n",
       "      <td>DDTI</td>\n",
       "    </tr>\n",
       "    <tr>\n",
       "      <th>2</th>\n",
       "      <td>10050</td>\n",
       "      <td>DDTI</td>\n",
       "    </tr>\n",
       "    <tr>\n",
       "      <th>3</th>\n",
       "      <td>346</td>\n",
       "      <td>DDTI</td>\n",
       "    </tr>\n",
       "    <tr>\n",
       "      <th>4</th>\n",
       "      <td>342</td>\n",
       "      <td>DDTI</td>\n",
       "    </tr>\n",
       "    <tr>\n",
       "      <th>...</th>\n",
       "      <td>...</td>\n",
       "      <td>...</td>\n",
       "    </tr>\n",
       "    <tr>\n",
       "      <th>632</th>\n",
       "      <td>10129</td>\n",
       "      <td>DDTI</td>\n",
       "    </tr>\n",
       "    <tr>\n",
       "      <th>633</th>\n",
       "      <td>10188</td>\n",
       "      <td>DDTI</td>\n",
       "    </tr>\n",
       "    <tr>\n",
       "      <th>634</th>\n",
       "      <td>20099</td>\n",
       "      <td>DDTI</td>\n",
       "    </tr>\n",
       "    <tr>\n",
       "      <th>635</th>\n",
       "      <td>271</td>\n",
       "      <td>DDTI</td>\n",
       "    </tr>\n",
       "    <tr>\n",
       "      <th>636</th>\n",
       "      <td>10182</td>\n",
       "      <td>DDTI</td>\n",
       "    </tr>\n",
       "  </tbody>\n",
       "</table>\n",
       "<p>637 rows × 2 columns</p>\n",
       "</div>"
      ],
      "text/plain": [
       "        ID dataset\n",
       "0    20084    DDTI\n",
       "1    20024    DDTI\n",
       "2    10050    DDTI\n",
       "3      346    DDTI\n",
       "4      342    DDTI\n",
       "..     ...     ...\n",
       "632  10129    DDTI\n",
       "633  10188    DDTI\n",
       "634  20099    DDTI\n",
       "635    271    DDTI\n",
       "636  10182    DDTI\n",
       "\n",
       "[637 rows x 2 columns]"
      ]
     },
     "execution_count": 57,
     "metadata": {},
     "output_type": "execute_result"
    }
   ],
   "source": [
    "DDTI_test_df"
   ]
  },
  {
   "cell_type": "code",
   "execution_count": 58,
   "id": "68a889e9-05ab-4dad-ab46-5293dbb9343d",
   "metadata": {},
   "outputs": [],
   "source": [
    "image_dir_path = dataset_name + \"DDTI/2_preprocessed_data/stage2/p_image/\""
   ]
  },
  {
   "cell_type": "code",
   "execution_count": 67,
   "id": "8ae094cf-0e3b-4228-bf40-bdf3e593ed01",
   "metadata": {},
   "outputs": [],
   "source": [
    "for i in range(len(DDTI_test_df)):\n",
    "    image_path = image_dir_path + DDTI_test_df[\"ID\"][i] + \".png\"\n",
    "    dst_file = f'YOLO_data/images/test/DDTI_{DDTI_test_df[\"ID\"][i]}.png'\n",
    "    if os.path.exists(image_path):\n",
    "        # print(\"exists\")\n",
    "        shutil.copy(image_path, dst_file)\n",
    "        pass\n",
    "    else:\n",
    "        print(\"not exists\")\n",
    "    # print(image_path)\n",
    "    # break"
   ]
  },
  {
   "cell_type": "code",
   "execution_count": 68,
   "id": "6be91877-62d7-4b6e-86bb-9a50818f38ba",
   "metadata": {},
   "outputs": [],
   "source": [
    "mask_dir_path = dataset_name + \"DDTI/2_preprocessed_data/stage2/p_mask/\""
   ]
  },
  {
   "cell_type": "code",
   "execution_count": 69,
   "id": "9249c5ed-645c-4acb-aa92-68a719631a7e",
   "metadata": {},
   "outputs": [],
   "source": [
    "for i in range(len(DDTI_test_df)):\n",
    "    mask_path = mask_dir_path + DDTI_test_df[\"ID\"][i] + \".png\"\n",
    "    dst_file = f'YOLO_data/masks/test/DDTI_{DDTI_test_df[\"ID\"][i]}.png'\n",
    "    if os.path.exists(mask_path):\n",
    "        # print(\"exists\")\n",
    "        shutil.copy(mask_path, dst_file)\n",
    "        pass\n",
    "    else:\n",
    "        print(\"not exists\")\n",
    "    # print(image_path)\n",
    "    # break"
   ]
  },
  {
   "cell_type": "code",
   "execution_count": 109,
   "id": "d56ef2ad-6377-4521-aa08-0ba11b8a9596",
   "metadata": {},
   "outputs": [
    {
     "data": {
      "text/plain": [
       "637"
      ]
     },
     "execution_count": 109,
     "metadata": {},
     "output_type": "execute_result"
    }
   ],
   "source": [
    "len(DDTI_test_df)"
   ]
  },
  {
   "cell_type": "markdown",
   "id": "191aeddb-a11d-4d76-9c9f-14dab5aca05f",
   "metadata": {},
   "source": [
    "# TG3K"
   ]
  },
  {
   "cell_type": "code",
   "execution_count": 70,
   "id": "b1e3dbf5-1fa0-4f6a-96f8-e46a2edd82e8",
   "metadata": {},
   "outputs": [],
   "source": [
    "dataset_name = \"tg3k/\""
   ]
  },
  {
   "cell_type": "code",
   "execution_count": 71,
   "id": "0c922515-7dfe-433a-bf8c-bce15a427e0e",
   "metadata": {},
   "outputs": [],
   "source": [
    "# Open and load the JSON file\n",
    "with open(dataset_name + 'tg3k-trainval.json', 'r') as file:\n",
    "    tg3k_data = json.load(file)\n"
   ]
  },
  {
   "cell_type": "code",
   "execution_count": 72,
   "id": "5a39994f-f02b-428b-b8fa-13dce9a77e21",
   "metadata": {},
   "outputs": [
    {
     "data": {
      "text/plain": [
       "3226"
      ]
     },
     "execution_count": 72,
     "metadata": {},
     "output_type": "execute_result"
    }
   ],
   "source": [
    "len(tg3k_data[\"train\"])"
   ]
  },
  {
   "cell_type": "code",
   "execution_count": 73,
   "id": "716a011b-538d-497b-96b4-1d1d66e5f6f9",
   "metadata": {},
   "outputs": [
    {
     "name": "stdout",
     "output_type": "stream",
     "text": [
      "3585\n"
     ]
    }
   ],
   "source": [
    "train_ID = tg3k_data[\"train\"] + tg3k_data[\"val\"]\n",
    "print(len(train_ID))"
   ]
  },
  {
   "cell_type": "code",
   "execution_count": 74,
   "id": "c40e4047-6104-4b42-b296-91383223f48d",
   "metadata": {},
   "outputs": [],
   "source": [
    "shuffle_val_test_ID = shuffle(train_ID, random_state = random_seed)"
   ]
  },
  {
   "cell_type": "code",
   "execution_count": 75,
   "id": "c64da90d-e715-4fcc-b40d-d028a9cbfc8d",
   "metadata": {},
   "outputs": [],
   "source": [
    "TG3K_train_df = pd.DataFrame(train_ID, columns = [\"ID\"])\n",
    "TG3K_train_df[\"dataset\"] = \"TG3K\""
   ]
  },
  {
   "cell_type": "code",
   "execution_count": 86,
   "id": "5b8d3563-2fda-496f-8257-c88909ec1cff",
   "metadata": {},
   "outputs": [
    {
     "name": "stdout",
     "output_type": "stream",
     "text": [
      "tg3k/thyroid-image/\n"
     ]
    }
   ],
   "source": [
    "image_dir_path = dataset_name + \"thyroid-image/\"\n",
    "print(image_dir_path)"
   ]
  },
  {
   "cell_type": "code",
   "execution_count": 89,
   "id": "d8951236-8516-41de-90a0-2dec5b48c636",
   "metadata": {
    "scrolled": true
   },
   "outputs": [],
   "source": [
    "for i in range(len(TG3K_train_df)):\n",
    "    ID = TG3K_train_df[\"ID\"][i]\n",
    "    ID = str(ID).zfill(4)\n",
    "    image_path = image_dir_path + ID + \".jpg\"\n",
    "    dst_file = f'YOLO_data/images/train/TG3K_{TG3K_train_df[\"ID\"][i]}.jpg'\n",
    "    # print(image_path)\n",
    "    # print(dst_file)\n",
    "    if os.path.exists(image_path):\n",
    "        # print(\"exists\")\n",
    "        shutil.copy(image_path, dst_file)\n",
    "        pass\n",
    "    else:\n",
    "        print(\"not exists\")\n",
    "    # print(image_path)\n",
    "    # break"
   ]
  },
  {
   "cell_type": "code",
   "execution_count": 90,
   "id": "1fc32d44-79af-4ed0-85dc-e369932b1586",
   "metadata": {},
   "outputs": [
    {
     "name": "stdout",
     "output_type": "stream",
     "text": [
      "tg3k/thyroid-mask/\n"
     ]
    }
   ],
   "source": [
    "mask_dir_path = dataset_name + \"thyroid-mask/\"\n",
    "print(mask_dir_path)"
   ]
  },
  {
   "cell_type": "code",
   "execution_count": 91,
   "id": "3e7c6ede-b606-429d-98d3-96747b7988fe",
   "metadata": {},
   "outputs": [],
   "source": [
    "for i in range(len(TG3K_train_df)):\n",
    "    ID = TG3K_train_df[\"ID\"][i]\n",
    "    ID = str(ID).zfill(4)\n",
    "    mask_path = mask_dir_path + ID + \".jpg\"\n",
    "    dst_file = f'YOLO_data/masks/train/TG3K_{TG3K_train_df[\"ID\"][i]}.jpg'\n",
    "    # print(image_path)\n",
    "    # print(dst_file)\n",
    "    if os.path.exists(mask_path):\n",
    "        # print(\"exists\")\n",
    "        shutil.copy(mask_path, dst_file)\n",
    "        pass\n",
    "    else:\n",
    "        print(\"not exists\")\n",
    "    # print(image_path)\n",
    "    # break"
   ]
  },
  {
   "cell_type": "code",
   "execution_count": null,
   "id": "52e495b5-1212-49e9-a530-1aebdc2c23eb",
   "metadata": {},
   "outputs": [],
   "source": []
  },
  {
   "cell_type": "markdown",
   "id": "1327a36b-e653-4ba7-b605-2f3071fb727d",
   "metadata": {},
   "source": [
    "# TN3K"
   ]
  },
  {
   "cell_type": "code",
   "execution_count": 92,
   "id": "6c4b308f-05e7-48e5-86d0-a71c0042661e",
   "metadata": {},
   "outputs": [],
   "source": [
    "dataset_name = \"tn3k/\""
   ]
  },
  {
   "cell_type": "code",
   "execution_count": 93,
   "id": "12d39150-1f92-4659-99de-e83491a01d50",
   "metadata": {},
   "outputs": [],
   "source": [
    "# Open and load the JSON file\n",
    "with open(dataset_name + 'tn3k-trainval-fold0.json', 'r') as file:\n",
    "    tn3k_data = json.load(file)\n"
   ]
  },
  {
   "cell_type": "code",
   "execution_count": 94,
   "id": "533b5911-4a8e-481a-83b7-798442aca1aa",
   "metadata": {},
   "outputs": [],
   "source": [
    "train_ID = tn3k_data[\"train\"] + tn3k_data[\"val\"]"
   ]
  },
  {
   "cell_type": "code",
   "execution_count": 95,
   "id": "a98c9b1f-a932-4eee-9775-6ff8ff912159",
   "metadata": {},
   "outputs": [],
   "source": [
    "test_dir = os.listdir(dataset_name + \"test-image\")"
   ]
  },
  {
   "cell_type": "code",
   "execution_count": 96,
   "id": "33acc8b5-b632-4145-8ef5-29790845d889",
   "metadata": {},
   "outputs": [],
   "source": [
    "test_ID = []\n",
    "for i in range(len(test_dir)):\n",
    "    id = test_dir[i].split(\".\")[0]\n",
    "    test_ID.append(id)"
   ]
  },
  {
   "cell_type": "code",
   "execution_count": 97,
   "id": "b5be272d-542d-4d16-8dc8-f3a7b3a63e4f",
   "metadata": {},
   "outputs": [
    {
     "name": "stdout",
     "output_type": "stream",
     "text": [
      "2879 614\n"
     ]
    }
   ],
   "source": [
    "print(len(train_ID), len(test_ID))"
   ]
  },
  {
   "cell_type": "code",
   "execution_count": 98,
   "id": "725e4006-c7c4-49bf-8849-cff845c6b41a",
   "metadata": {},
   "outputs": [],
   "source": [
    "TN3K_train_df = pd.DataFrame(train_ID, columns = [\"ID\"])\n",
    "TN3K_train_df[\"dataset\"] = \"TN3K\"\n",
    "\n",
    "\n",
    "TN3K_test_df = pd.DataFrame(test_ID, columns = [\"ID\"])\n",
    "TN3K_test_df[\"dataset\"] = \"TN3K\""
   ]
  },
  {
   "cell_type": "code",
   "execution_count": 99,
   "id": "7960110a-651f-4065-88b5-bf853efe81b4",
   "metadata": {},
   "outputs": [
    {
     "name": "stdout",
     "output_type": "stream",
     "text": [
      "tn3k/trainval-image/\n"
     ]
    }
   ],
   "source": [
    "image_dir_path = dataset_name + \"trainval-image/\"\n",
    "print(image_dir_path)"
   ]
  },
  {
   "cell_type": "code",
   "execution_count": 100,
   "id": "2e102673-12b3-4afe-b136-6407e9f53008",
   "metadata": {},
   "outputs": [],
   "source": [
    "for i in range(len(TN3K_train_df)):\n",
    "    ID = TN3K_train_df[\"ID\"][i]\n",
    "    ID = str(ID).zfill(4)\n",
    "    image_path = image_dir_path + ID + \".jpg\"\n",
    "    dst_file = f'YOLO_data/images/train/TN3K_{TN3K_train_df[\"ID\"][i]}.jpg'\n",
    "    # print(image_path)\n",
    "    # print(dst_file)\n",
    "    if os.path.exists(image_path):\n",
    "        # print(\"exists\")\n",
    "        shutil.copy(image_path, dst_file)\n",
    "        pass\n",
    "    else:\n",
    "        print(\"not exists\")\n",
    "    # print(image_path)\n",
    "    # break"
   ]
  },
  {
   "cell_type": "code",
   "execution_count": 101,
   "id": "084d76f3-e57a-4c52-a978-5926a706323d",
   "metadata": {},
   "outputs": [
    {
     "name": "stdout",
     "output_type": "stream",
     "text": [
      "tn3k/test-image/\n"
     ]
    }
   ],
   "source": [
    "image_dir_path = dataset_name + \"test-image/\"\n",
    "print(image_dir_path)"
   ]
  },
  {
   "cell_type": "code",
   "execution_count": 102,
   "id": "cbfd0a8b-cb5a-4d33-b042-10c73260a48b",
   "metadata": {},
   "outputs": [],
   "source": [
    "for i in range(len(TN3K_test_df)):\n",
    "    ID = TN3K_test_df[\"ID\"][i]\n",
    "    ID = str(ID).zfill(4)\n",
    "    image_path = image_dir_path + ID + \".jpg\"\n",
    "    dst_file = f'YOLO_data/images/test/TN3K_{TN3K_test_df[\"ID\"][i]}.jpg'\n",
    "    # print(image_path)\n",
    "    # print(dst_file)\n",
    "    if os.path.exists(image_path):\n",
    "        # print(\"exists\")\n",
    "        shutil.copy(image_path, dst_file)\n",
    "        pass\n",
    "    else:\n",
    "        print(\"not exists\")\n",
    "    # print(image_path)\n",
    "    # break"
   ]
  },
  {
   "cell_type": "code",
   "execution_count": 110,
   "id": "cb4b025c-ab65-4039-8449-65fcfa54c08a",
   "metadata": {},
   "outputs": [
    {
     "data": {
      "text/plain": [
       "614"
      ]
     },
     "execution_count": 110,
     "metadata": {},
     "output_type": "execute_result"
    }
   ],
   "source": [
    "len(TN3K_test_df)"
   ]
  },
  {
   "cell_type": "code",
   "execution_count": 103,
   "id": "58b991f5-0e69-44f9-9a4d-caa023ef0e86",
   "metadata": {},
   "outputs": [
    {
     "name": "stdout",
     "output_type": "stream",
     "text": [
      "tn3k/trainval-mask/\n"
     ]
    }
   ],
   "source": [
    "mask_dir_path = dataset_name + \"trainval-mask/\"\n",
    "print(mask_dir_path)"
   ]
  },
  {
   "cell_type": "code",
   "execution_count": 104,
   "id": "45cd3ae1-566e-4054-a59c-3e122692b5e5",
   "metadata": {},
   "outputs": [],
   "source": [
    "for i in range(len(TN3K_train_df)):\n",
    "    ID = TN3K_train_df[\"ID\"][i]\n",
    "    ID = str(ID).zfill(4)\n",
    "    mask_path = mask_dir_path + ID + \".jpg\"\n",
    "    dst_file = f'YOLO_data/masks/train/TN3K_{TN3K_train_df[\"ID\"][i]}.jpg'\n",
    "    # print(image_path)\n",
    "    # print(dst_file)\n",
    "    if os.path.exists(mask_path):\n",
    "        # print(\"exists\")\n",
    "        shutil.copy(mask_path, dst_file)\n",
    "        pass\n",
    "    else:\n",
    "        print(\"not exists\")\n",
    "    # print(image_path)\n",
    "    # break"
   ]
  },
  {
   "cell_type": "code",
   "execution_count": 105,
   "id": "c14f3231-8c9e-4b85-8062-87d88561c2b7",
   "metadata": {},
   "outputs": [
    {
     "name": "stdout",
     "output_type": "stream",
     "text": [
      "tn3k/test-mask/\n"
     ]
    }
   ],
   "source": [
    "mask_dir_path = dataset_name + \"test-mask/\"\n",
    "print(mask_dir_path)"
   ]
  },
  {
   "cell_type": "code",
   "execution_count": 106,
   "id": "25e8734d-7d1e-454b-937d-4f9ff1b976e0",
   "metadata": {},
   "outputs": [],
   "source": [
    "for i in range(len(TN3K_test_df)):\n",
    "    ID = TN3K_test_df[\"ID\"][i]\n",
    "    ID = str(ID).zfill(4)\n",
    "    mask_path = mask_dir_path + ID + \".jpg\"\n",
    "    dst_file = f'YOLO_data/masks/test/TN3K_{TN3K_test_df[\"ID\"][i]}.jpg'\n",
    "    # print(image_path)\n",
    "    # print(dst_file)\n",
    "    if os.path.exists(mask_path):\n",
    "        # print(\"exists\")\n",
    "        shutil.copy(mask_path, dst_file)\n",
    "        pass\n",
    "    else:\n",
    "        print(\"not exists\")\n",
    "    # print(image_path)\n",
    "    # break"
   ]
  },
  {
   "cell_type": "markdown",
   "id": "cb398545-b645-4f01-ab1b-a10587bac793",
   "metadata": {},
   "source": [
    "# Concate all df"
   ]
  },
  {
   "cell_type": "code",
   "execution_count": 39,
   "id": "48a04bac-6918-4986-a478-d71928bb048a",
   "metadata": {},
   "outputs": [],
   "source": [
    "total_train_df = pd.concat([TG3K_train_df, TN3K_train_df])\n",
    "shuffle_total_train_df = shuffle(total_train_df, random_state = random_seed).reset_index(drop=True)"
   ]
  },
  {
   "cell_type": "code",
   "execution_count": null,
   "id": "a56477f4-9d8f-4279-8ec3-ecef831f0329",
   "metadata": {},
   "outputs": [],
   "source": []
  },
  {
   "cell_type": "code",
   "execution_count": 40,
   "id": "992070e9-88a1-4a61-a33e-bb270eab01f8",
   "metadata": {},
   "outputs": [],
   "source": [
    "total_test_df = pd.concat([DDTI_test_df, TN3K_test_df])\n",
    "shuffle_total_test_df = shuffle(total_test_df, random_state = random_seed).reset_index(drop=True)"
   ]
  },
  {
   "cell_type": "code",
   "execution_count": 41,
   "id": "23bc850e-f8fa-4397-a023-16e1b549d2ac",
   "metadata": {},
   "outputs": [],
   "source": [
    "shuffle_total_train_df.to_csv(\"train_v2.csv\", index = False)"
   ]
  },
  {
   "cell_type": "code",
   "execution_count": 42,
   "id": "90db855d-5e87-4a49-b53c-00ffed6f662d",
   "metadata": {},
   "outputs": [],
   "source": [
    "shuffle_total_test_df.to_csv(\"test_v2.csv\", index = False)"
   ]
  },
  {
   "cell_type": "code",
   "execution_count": 43,
   "id": "2e7681c9-7a9d-402a-a124-0b1c7b511de3",
   "metadata": {},
   "outputs": [
    {
     "name": "stdout",
     "output_type": "stream",
     "text": [
      "6464\n"
     ]
    }
   ],
   "source": [
    "print(len(shuffle_total_train_df))"
   ]
  },
  {
   "cell_type": "code",
   "execution_count": 44,
   "id": "f0960003-0734-4a1c-b28b-8bb3b7bf34ff",
   "metadata": {},
   "outputs": [
    {
     "name": "stdout",
     "output_type": "stream",
     "text": [
      "1251\n"
     ]
    }
   ],
   "source": [
    "print(len(shuffle_total_test_df))"
   ]
  },
  {
   "cell_type": "code",
   "execution_count": 107,
   "id": "93150030-1d59-4185-b5f0-bc1e09d6a22e",
   "metadata": {},
   "outputs": [
    {
     "name": "stdout",
     "output_type": "stream",
     "text": [
      "6464\n"
     ]
    }
   ],
   "source": [
    "YOLO_train_images = os.listdir(\"YOLO_data/images/train\")\n",
    "print(len(YOLO_train_images))"
   ]
  },
  {
   "cell_type": "code",
   "execution_count": 108,
   "id": "a986a59e-315f-4ce1-bb2c-20aba1ecb9a8",
   "metadata": {},
   "outputs": [
    {
     "name": "stdout",
     "output_type": "stream",
     "text": [
      "1252\n"
     ]
    }
   ],
   "source": [
    "YOLO_test_images = os.listdir(\"YOLO_data/images/test\")\n",
    "print(len(YOLO_test_images))"
   ]
  },
  {
   "cell_type": "code",
   "execution_count": 112,
   "id": "438f9aa3-808a-421e-be8f-c97e40590e04",
   "metadata": {},
   "outputs": [
    {
     "data": {
      "text/plain": [
       "'TN3K_0613.jpg'"
      ]
     },
     "execution_count": 112,
     "metadata": {},
     "output_type": "execute_result"
    }
   ],
   "source": [
    "YOLO_test_images\n"
   ]
  },
  {
   "cell_type": "code",
   "execution_count": 127,
   "id": "d1389e4c-f750-4c15-bcb9-ecd7e78984c8",
   "metadata": {},
   "outputs": [
    {
     "name": "stdout",
     "output_type": "stream",
     "text": [
      ".ipynb_checkpoints\n",
      "1\n"
     ]
    }
   ],
   "source": [
    "count = 0\n",
    "for i in range(len(YOLO_test_images)):\n",
    "    if not \"TN3K\" in YOLO_test_images[i] and not \"DDTI\" in YOLO_test_images[i]:\n",
    "        # shutil.rmtree(YOLO_test_images[i])\n",
    "        print(YOLO_test_images[i])\n",
    "        count+=1\n",
    "print(count)"
   ]
  },
  {
   "cell_type": "code",
   "execution_count": null,
   "id": "e8ffb24f-ceb5-4c44-8789-a813078bd6d6",
   "metadata": {},
   "outputs": [],
   "source": []
  }
 ],
 "metadata": {
  "kernelspec": {
   "display_name": "Python 3 (ipykernel)",
   "language": "python",
   "name": "python3"
  },
  "language_info": {
   "codemirror_mode": {
    "name": "ipython",
    "version": 3
   },
   "file_extension": ".py",
   "mimetype": "text/x-python",
   "name": "python",
   "nbconvert_exporter": "python",
   "pygments_lexer": "ipython3",
   "version": "3.9.12"
  }
 },
 "nbformat": 4,
 "nbformat_minor": 5
}
