{
 "cells": [
  {
   "cell_type": "code",
   "execution_count": 1,
   "id": "d7820b54-e313-4916-8c1a-39a6e694cc2f",
   "metadata": {},
   "outputs": [
    {
     "name": "stderr",
     "output_type": "stream",
     "text": [
      "C:\\Users\\oplab\\anaconda3\\lib\\site-packages\\pandas\\core\\computation\\expressions.py:21: UserWarning: Pandas requires version '2.8.4' or newer of 'numexpr' (version '2.8.1' currently installed).\n",
      "  from pandas.core.computation.check import NUMEXPR_INSTALLED\n",
      "C:\\Users\\oplab\\anaconda3\\lib\\site-packages\\pandas\\core\\arrays\\masked.py:60: UserWarning: Pandas requires version '1.3.6' or newer of 'bottleneck' (version '1.3.4' currently installed).\n",
      "  from pandas.core import (\n"
     ]
    }
   ],
   "source": [
    "import pandas as pd\n",
    "import numpy as np\n",
    "# import cv2\n",
    "import matplotlib.pyplot as plt\n",
    "from sklearn.utils import shuffle\n",
    "import json\n",
    "import os"
   ]
  },
  {
   "cell_type": "code",
   "execution_count": 2,
   "id": "5ca8507e-26ae-4cfd-ab84-08321af1e3ba",
   "metadata": {},
   "outputs": [],
   "source": [
    "random_seed = 42"
   ]
  },
  {
   "cell_type": "markdown",
   "id": "8b01b121-641a-49fb-8664-e1f8d3ecd42f",
   "metadata": {},
   "source": [
    "# DDTI"
   ]
  },
  {
   "cell_type": "code",
   "execution_count": 3,
   "id": "5599f778-8b9a-47bc-b95c-18c29fd2216b",
   "metadata": {},
   "outputs": [],
   "source": [
    "dataset_name = \"DDTI dataset/\""
   ]
  },
  {
   "cell_type": "code",
   "execution_count": 4,
   "id": "2f883ec0-ddb2-4705-aa9b-3f4457c8c0c5",
   "metadata": {
    "scrolled": true
   },
   "outputs": [],
   "source": [
    "csv_file = pd.read_csv(dataset_name + \"DDTI/2_preprocessed_data/train.csv\")"
   ]
  },
  {
   "cell_type": "code",
   "execution_count": 5,
   "id": "e373a728-0280-46d6-bd84-d93cb728c052",
   "metadata": {},
   "outputs": [],
   "source": [
    "ID = []\n",
    "for i in range(len(csv_file[\"ID\"])):\n",
    "    id = csv_file[\"ID\"][i].split(\".\")[0]\n",
    "    ID.append(id)"
   ]
  },
  {
   "cell_type": "code",
   "execution_count": 6,
   "id": "17bae445-661d-4cdf-8694-7ff5cb3cd01f",
   "metadata": {},
   "outputs": [],
   "source": [
    "shuffle_ID = shuffle(ID, random_state = random_seed)"
   ]
  },
  {
   "cell_type": "code",
   "execution_count": 7,
   "id": "4cbac1e2-e456-4ce2-85e9-7aade319f10c",
   "metadata": {},
   "outputs": [
    {
     "name": "stdout",
     "output_type": "stream",
     "text": [
      "446 128 63\n"
     ]
    }
   ],
   "source": [
    "train_ID = shuffle_ID[:446]\n",
    "val_ID = shuffle_ID[446:574]\n",
    "test_ID = shuffle_ID[574:]\n",
    "print(len(train_ID), len(val_ID), len(test_ID))"
   ]
  },
  {
   "cell_type": "code",
   "execution_count": 8,
   "id": "ee597e39-04ac-49fb-b960-221860800f05",
   "metadata": {},
   "outputs": [],
   "source": [
    "DDTI_train_df = pd.DataFrame(train_ID, columns = [\"ID\"])\n",
    "DDTI_train_df[\"dataset\"] = \"DDTI\"\n",
    "\n",
    "DDTI_val_df = pd.DataFrame(val_ID, columns = [\"ID\"])\n",
    "DDTI_val_df[\"dataset\"] = \"DDTI\"\n",
    "\n",
    "DDTI_test_df = pd.DataFrame(test_ID, columns = [\"ID\"])\n",
    "DDTI_test_df[\"dataset\"] = \"DDTI\""
   ]
  },
  {
   "cell_type": "markdown",
   "id": "191aeddb-a11d-4d76-9c9f-14dab5aca05f",
   "metadata": {},
   "source": [
    "# TG3K"
   ]
  },
  {
   "cell_type": "code",
   "execution_count": 9,
   "id": "b1e3dbf5-1fa0-4f6a-96f8-e46a2edd82e8",
   "metadata": {},
   "outputs": [],
   "source": [
    "dataset_name = \"tg3k/\""
   ]
  },
  {
   "cell_type": "code",
   "execution_count": 10,
   "id": "0c922515-7dfe-433a-bf8c-bce15a427e0e",
   "metadata": {},
   "outputs": [],
   "source": [
    "# Open and load the JSON file\n",
    "with open(dataset_name + 'tg3k-trainval.json', 'r') as file:\n",
    "    tg3k_data = json.load(file)\n"
   ]
  },
  {
   "cell_type": "code",
   "execution_count": 11,
   "id": "5a39994f-f02b-428b-b8fa-13dce9a77e21",
   "metadata": {},
   "outputs": [
    {
     "data": {
      "text/plain": [
       "3226"
      ]
     },
     "execution_count": 11,
     "metadata": {},
     "output_type": "execute_result"
    }
   ],
   "source": [
    "len(tg3k_data[\"train\"])"
   ]
  },
  {
   "cell_type": "code",
   "execution_count": 12,
   "id": "716a011b-538d-497b-96b4-1d1d66e5f6f9",
   "metadata": {},
   "outputs": [
    {
     "name": "stdout",
     "output_type": "stream",
     "text": [
      "3226\n"
     ]
    }
   ],
   "source": [
    "train_ID = tg3k_data[\"train\"]\n",
    "print(len(train_ID))\n",
    "val_test_ID = tg3k_data[\"val\"]"
   ]
  },
  {
   "cell_type": "code",
   "execution_count": 13,
   "id": "c40e4047-6104-4b42-b296-91383223f48d",
   "metadata": {},
   "outputs": [],
   "source": [
    "shuffle_val_test_ID = shuffle(val_test_ID, random_state = random_seed)"
   ]
  },
  {
   "cell_type": "code",
   "execution_count": 14,
   "id": "9f75874d-ecb0-4479-9418-7e03bdcc1ba6",
   "metadata": {},
   "outputs": [
    {
     "name": "stdout",
     "output_type": "stream",
     "text": [
      "3226 240 119\n"
     ]
    }
   ],
   "source": [
    "val_ID = shuffle_val_test_ID[:240]\n",
    "test_ID = shuffle_val_test_ID[240:]\n",
    "print(len(train_ID), len(val_ID), len(test_ID))"
   ]
  },
  {
   "cell_type": "code",
   "execution_count": 15,
   "id": "c64da90d-e715-4fcc-b40d-d028a9cbfc8d",
   "metadata": {},
   "outputs": [],
   "source": [
    "TG3K_train_df = pd.DataFrame(train_ID, columns = [\"ID\"])\n",
    "TG3K_train_df[\"dataset\"] = \"TG3K\"\n",
    "\n",
    "TG3K_val_df = pd.DataFrame(val_ID, columns = [\"ID\"])\n",
    "TG3K_val_df[\"dataset\"] = \"TG3K\"\n",
    "\n",
    "TG3K_test_df = pd.DataFrame(test_ID, columns = [\"ID\"])\n",
    "TG3K_test_df[\"dataset\"] = \"TG3K\""
   ]
  },
  {
   "cell_type": "markdown",
   "id": "1327a36b-e653-4ba7-b605-2f3071fb727d",
   "metadata": {},
   "source": [
    "# TN3K"
   ]
  },
  {
   "cell_type": "code",
   "execution_count": 16,
   "id": "6c4b308f-05e7-48e5-86d0-a71c0042661e",
   "metadata": {},
   "outputs": [],
   "source": [
    "dataset_name = \"tn3k/\""
   ]
  },
  {
   "cell_type": "code",
   "execution_count": 17,
   "id": "12d39150-1f92-4659-99de-e83491a01d50",
   "metadata": {},
   "outputs": [],
   "source": [
    "# Open and load the JSON file\n",
    "with open(dataset_name + 'tn3k-trainval-fold0.json', 'r') as file:\n",
    "    tn3k_data = json.load(file)\n"
   ]
  },
  {
   "cell_type": "code",
   "execution_count": 18,
   "id": "533b5911-4a8e-481a-83b7-798442aca1aa",
   "metadata": {},
   "outputs": [],
   "source": [
    "train_ID = tn3k_data[\"train\"]\n",
    "val_ID = tn3k_data[\"val\"]"
   ]
  },
  {
   "cell_type": "code",
   "execution_count": 19,
   "id": "a98c9b1f-a932-4eee-9775-6ff8ff912159",
   "metadata": {},
   "outputs": [],
   "source": [
    "test_dir = os.listdir(dataset_name + \"test-image\")"
   ]
  },
  {
   "cell_type": "code",
   "execution_count": 20,
   "id": "33acc8b5-b632-4145-8ef5-29790845d889",
   "metadata": {},
   "outputs": [],
   "source": [
    "test_ID = []\n",
    "for i in range(len(test_dir)):\n",
    "    id = test_dir[i].split(\".\")[0]\n",
    "    test_ID.append(id)"
   ]
  },
  {
   "cell_type": "code",
   "execution_count": 21,
   "id": "b5be272d-542d-4d16-8dc8-f3a7b3a63e4f",
   "metadata": {},
   "outputs": [
    {
     "name": "stdout",
     "output_type": "stream",
     "text": [
      "2303 576 614\n"
     ]
    }
   ],
   "source": [
    "print(len(train_ID), len(val_ID), len(test_ID))"
   ]
  },
  {
   "cell_type": "code",
   "execution_count": 22,
   "id": "725e4006-c7c4-49bf-8849-cff845c6b41a",
   "metadata": {},
   "outputs": [],
   "source": [
    "TN3K_train_df = pd.DataFrame(train_ID, columns = [\"ID\"])\n",
    "TN3K_train_df[\"dataset\"] = \"TN3K\"\n",
    "\n",
    "TN3K_val_df = pd.DataFrame(val_ID, columns = [\"ID\"])\n",
    "TN3K_val_df[\"dataset\"] = \"TN3K\"\n",
    "\n",
    "TN3K_test_df = pd.DataFrame(test_ID, columns = [\"ID\"])\n",
    "TN3K_test_df[\"dataset\"] = \"TN3K\""
   ]
  },
  {
   "cell_type": "markdown",
   "id": "cb398545-b645-4f01-ab1b-a10587bac793",
   "metadata": {},
   "source": [
    "# Concate all df"
   ]
  },
  {
   "cell_type": "code",
   "execution_count": 23,
   "id": "48a04bac-6918-4986-a478-d71928bb048a",
   "metadata": {},
   "outputs": [],
   "source": [
    "total_train_df = pd.concat([DDTI_train_df, TG3K_train_df, TN3K_train_df])\n",
    "shuffle_total_train_df = shuffle(total_train_df, random_state = random_seed).reset_index(drop=True)"
   ]
  },
  {
   "cell_type": "code",
   "execution_count": 24,
   "id": "3ed3065d-8cb8-4791-a5b9-d44fbcd0e71f",
   "metadata": {},
   "outputs": [],
   "source": [
    "total_val_df = pd.concat([DDTI_val_df, TG3K_val_df, TN3K_val_df])\n",
    "shuffle_total_val_df = shuffle(total_val_df, random_state = random_seed).reset_index(drop=True)"
   ]
  },
  {
   "cell_type": "code",
   "execution_count": 25,
   "id": "992070e9-88a1-4a61-a33e-bb270eab01f8",
   "metadata": {},
   "outputs": [],
   "source": [
    "total_test_df = pd.concat([DDTI_test_df, TG3K_test_df, TN3K_test_df])\n",
    "shuffle_total_test_df = shuffle(total_test_df, random_state = random_seed).reset_index(drop=True)"
   ]
  },
  {
   "cell_type": "code",
   "execution_count": 27,
   "id": "23bc850e-f8fa-4397-a023-16e1b549d2ac",
   "metadata": {},
   "outputs": [],
   "source": [
    "shuffle_total_train_df.to_csv(\"train.csv\", index = False)"
   ]
  },
  {
   "cell_type": "code",
   "execution_count": 30,
   "id": "b5c0b5ed-b320-4f77-b430-4dc3f84618b3",
   "metadata": {},
   "outputs": [],
   "source": [
    "shuffle_total_val_df.to_csv(\"val.csv\", index = False)"
   ]
  },
  {
   "cell_type": "code",
   "execution_count": 31,
   "id": "90db855d-5e87-4a49-b53c-00ffed6f662d",
   "metadata": {},
   "outputs": [],
   "source": [
    "shuffle_total_test_df.to_csv(\"test.csv\", index = False)"
   ]
  },
  {
   "cell_type": "code",
   "execution_count": null,
   "id": "2e7681c9-7a9d-402a-a124-0b1c7b511de3",
   "metadata": {},
   "outputs": [],
   "source": []
  }
 ],
 "metadata": {
  "kernelspec": {
   "display_name": "Python 3 (ipykernel)",
   "language": "python",
   "name": "python3"
  },
  "language_info": {
   "codemirror_mode": {
    "name": "ipython",
    "version": 3
   },
   "file_extension": ".py",
   "mimetype": "text/x-python",
   "name": "python",
   "nbconvert_exporter": "python",
   "pygments_lexer": "ipython3",
   "version": "3.9.12"
  }
 },
 "nbformat": 4,
 "nbformat_minor": 5
}
