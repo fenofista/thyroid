{
 "cells": [
  {
   "cell_type": "code",
   "execution_count": 26,
   "id": "98f5cea4-b951-4f2a-9a59-dbfc9dacf67f",
   "metadata": {},
   "outputs": [],
   "source": [
    "import pandas as pd\n",
    "import os\n",
    "from sklearn.utils import shuffle\n",
    "from collections import defaultdict"
   ]
  },
  {
   "cell_type": "code",
   "execution_count": 13,
   "id": "44ffcc43-af24-4d1d-95a6-b035c38ecdd4",
   "metadata": {},
   "outputs": [],
   "source": [
    "benq_df = pd.read_csv(\"benq_all.csv\")"
   ]
  },
  {
   "cell_type": "code",
   "execution_count": 28,
   "id": "c5c56d8f-c4b4-458f-940a-493d81b255c7",
   "metadata": {},
   "outputs": [
    {
     "data": {
      "text/html": [
       "<div>\n",
       "<style scoped>\n",
       "    .dataframe tbody tr th:only-of-type {\n",
       "        vertical-align: middle;\n",
       "    }\n",
       "\n",
       "    .dataframe tbody tr th {\n",
       "        vertical-align: top;\n",
       "    }\n",
       "\n",
       "    .dataframe thead th {\n",
       "        text-align: right;\n",
       "    }\n",
       "</style>\n",
       "<table border=\"1\" class=\"dataframe\">\n",
       "  <thead>\n",
       "    <tr style=\"text-align: right;\">\n",
       "      <th></th>\n",
       "      <th>image_name</th>\n",
       "      <th>mask_name</th>\n",
       "    </tr>\n",
       "  </thead>\n",
       "  <tbody>\n",
       "    <tr>\n",
       "      <th>0</th>\n",
       "      <td>crop_2025-03-25-142513-1.mp4#t=8.5.jpg</td>\n",
       "      <td>crop_2025-03-25-142513-1.mp4#t=8.5.png</td>\n",
       "    </tr>\n",
       "    <tr>\n",
       "      <th>1</th>\n",
       "      <td>2025-03-25-142733-1.mp4#t=4.5.jpg</td>\n",
       "      <td>2025-03-25-142733-1.mp4#t=4.5.png</td>\n",
       "    </tr>\n",
       "    <tr>\n",
       "      <th>2</th>\n",
       "      <td>2025-03-25-143128-1.mp4#t=2.5.jpg</td>\n",
       "      <td>2025-03-25-143128-1.mp4#t=2.5.png</td>\n",
       "    </tr>\n",
       "    <tr>\n",
       "      <th>3</th>\n",
       "      <td>2025-03-25-142659-1.mp4#t=16.5.jpg</td>\n",
       "      <td>2025-03-25-142659-1.mp4#t=16.5.png</td>\n",
       "    </tr>\n",
       "    <tr>\n",
       "      <th>4</th>\n",
       "      <td>2025-03-25-142859-1.mp4#t=7.jpg</td>\n",
       "      <td>2025-03-25-142859-1.mp4#t=7.png</td>\n",
       "    </tr>\n",
       "    <tr>\n",
       "      <th>...</th>\n",
       "      <td>...</td>\n",
       "      <td>...</td>\n",
       "    </tr>\n",
       "    <tr>\n",
       "      <th>461</th>\n",
       "      <td>crop_2025-03-25-142446-1.mp4#t=7.jpg</td>\n",
       "      <td>crop_2025-03-25-142446-1.mp4#t=7.png</td>\n",
       "    </tr>\n",
       "    <tr>\n",
       "      <th>462</th>\n",
       "      <td>2025-03-25-144103-1.mp4#t=7.5.jpg</td>\n",
       "      <td>2025-03-25-144103-1.mp4#t=7.5.png</td>\n",
       "    </tr>\n",
       "    <tr>\n",
       "      <th>463</th>\n",
       "      <td>crop_2025-03-25-142733-1.mp4#t=9.jpg</td>\n",
       "      <td>crop_2025-03-25-142733-1.mp4#t=9.png</td>\n",
       "    </tr>\n",
       "    <tr>\n",
       "      <th>464</th>\n",
       "      <td>2025-03-25-142446-1.mp4#t=0.5.jpg</td>\n",
       "      <td>2025-03-25-142446-1.mp4#t=0.5.png</td>\n",
       "    </tr>\n",
       "    <tr>\n",
       "      <th>465</th>\n",
       "      <td>crop_2025-03-25-144103-1.mp4#t=1.jpg</td>\n",
       "      <td>crop_2025-03-25-144103-1.mp4#t=1.png</td>\n",
       "    </tr>\n",
       "  </tbody>\n",
       "</table>\n",
       "<p>466 rows × 2 columns</p>\n",
       "</div>"
      ],
      "text/plain": [
       "                                 image_name  \\\n",
       "0    crop_2025-03-25-142513-1.mp4#t=8.5.jpg   \n",
       "1         2025-03-25-142733-1.mp4#t=4.5.jpg   \n",
       "2         2025-03-25-143128-1.mp4#t=2.5.jpg   \n",
       "3        2025-03-25-142659-1.mp4#t=16.5.jpg   \n",
       "4           2025-03-25-142859-1.mp4#t=7.jpg   \n",
       "..                                      ...   \n",
       "461    crop_2025-03-25-142446-1.mp4#t=7.jpg   \n",
       "462       2025-03-25-144103-1.mp4#t=7.5.jpg   \n",
       "463    crop_2025-03-25-142733-1.mp4#t=9.jpg   \n",
       "464       2025-03-25-142446-1.mp4#t=0.5.jpg   \n",
       "465    crop_2025-03-25-144103-1.mp4#t=1.jpg   \n",
       "\n",
       "                                  mask_name  \n",
       "0    crop_2025-03-25-142513-1.mp4#t=8.5.png  \n",
       "1         2025-03-25-142733-1.mp4#t=4.5.png  \n",
       "2         2025-03-25-143128-1.mp4#t=2.5.png  \n",
       "3        2025-03-25-142659-1.mp4#t=16.5.png  \n",
       "4           2025-03-25-142859-1.mp4#t=7.png  \n",
       "..                                      ...  \n",
       "461    crop_2025-03-25-142446-1.mp4#t=7.png  \n",
       "462       2025-03-25-144103-1.mp4#t=7.5.png  \n",
       "463    crop_2025-03-25-142733-1.mp4#t=9.png  \n",
       "464       2025-03-25-142446-1.mp4#t=0.5.png  \n",
       "465    crop_2025-03-25-144103-1.mp4#t=1.png  \n",
       "\n",
       "[466 rows x 2 columns]"
      ]
     },
     "execution_count": 28,
     "metadata": {},
     "output_type": "execute_result"
    }
   ],
   "source": [
    "benq_df"
   ]
  },
  {
   "cell_type": "code",
   "execution_count": 35,
   "id": "e575c6b7-a1b2-473b-b992-467a14445ed0",
   "metadata": {},
   "outputs": [],
   "source": [
    "patient_image = defaultdict(list)\n",
    "patient_mask = defaultdict(list)\n",
    "for i in range(len(benq_df)):\n",
    "    image_name = benq_df[\"image_name\"][i]\n",
    "    mask_name = benq_df[\"mask_name\"][i]\n",
    "    if \"crop\" in image_name:\n",
    "        patient_ID = image_name.split(\"crop_\")[1]\n",
    "        patient_ID = patient_ID.split(\".mp4\")[0]\n",
    "    else:\n",
    "        patient_ID = image_name.split(\".mp4\")[0]\n",
    "    # print(image_name)\n",
    "    # print(patient_ID)\n",
    "    patient_image[patient_ID].append(image_name)\n",
    "    patient_mask[patient_ID].append(mask_name)"
   ]
  },
  {
   "cell_type": "code",
   "execution_count": 42,
   "id": "c8bf480a-6250-4332-a732-4fd7dc99da66",
   "metadata": {
    "scrolled": true
   },
   "outputs": [],
   "source": [
    "all_patient_ID = list(patient_image.keys())"
   ]
  },
  {
   "cell_type": "code",
   "execution_count": 43,
   "id": "2c975977-c27f-48ab-b57b-a4c8790eb592",
   "metadata": {
    "scrolled": true
   },
   "outputs": [],
   "source": [
    "shuffle_all_patient_ID = shuffle(all_patient_ID, random_state = 42)"
   ]
  },
  {
   "cell_type": "code",
   "execution_count": 46,
   "id": "caca349c-249f-4784-922e-60573f56524f",
   "metadata": {},
   "outputs": [],
   "source": [
    "train_patient_ID = shuffle_all_patient_ID[:7]\n",
    "test_patient_ID = shuffle_all_patient_ID[7:]"
   ]
  },
  {
   "cell_type": "code",
   "execution_count": null,
   "id": "023c1204-ad52-47aa-b243-b92fd344fffb",
   "metadata": {},
   "outputs": [],
   "source": [
    "train_image = []\n",
    "train_mask = []\n",
    "for i in range(len(train_patient_ID)):\n",
    "    patient_ID = train_patient_ID[i]\n",
    "    for j in range(len(patient_image[patient_ID])):\n",
    "        train_image.append(patient_image[patient_ID][j])\n",
    "        train_mask.append(patient_mask[patient_ID][j])\n",
    "\n",
    "train_data = {\n",
    "    \"image_name\" : train_image,\n",
    "    \"mask_name\" : train_mask\n",
    "}\n",
    "train_df = pd.DataFrame(train_data)\n",
    "\n",
    "for i in range(len(train_df)):\n",
    "    image_ID = train_df[\"image_name\"][i].split(\".jpg\")[0]\n",
    "    mask_ID = train_df[\"mask_name\"][i].split(\".png\")[0]\n",
    "    if image_ID != mask_ID:\n",
    "        print(\"not the same : \", image_ID)"
   ]
  },
  {
   "cell_type": "code",
   "execution_count": 60,
   "id": "bbfc58ef-5bce-49c4-80a7-bbd5e708f51c",
   "metadata": {},
   "outputs": [],
   "source": [
    "test_image = []\n",
    "test_mask = []\n",
    "for i in range(len(test_patient_ID)):\n",
    "    patient_ID = test_patient_ID[i]\n",
    "    for j in range(len(patient_image[patient_ID])):\n",
    "        test_image.append(patient_image[patient_ID][j])\n",
    "        test_mask.append(patient_mask[patient_ID][j])\n",
    "\n",
    "test_data = {\n",
    "    \"image_name\" : test_image,\n",
    "    \"mask_name\" : test_mask\n",
    "}\n",
    "test_df = pd.DataFrame(test_data)\n",
    "\n",
    "for i in range(len(test_df)):\n",
    "    image_ID = test_df[\"image_name\"][i].split(\".jpg\")[0]\n",
    "    mask_ID = test_df[\"mask_name\"][i].split(\".png\")[0]\n",
    "    if image_ID != mask_ID:\n",
    "        print(\"not the same : \", image_ID)"
   ]
  },
  {
   "cell_type": "code",
   "execution_count": 64,
   "id": "ba30b407-18e4-4de7-8fcf-ff5dd0efafe4",
   "metadata": {},
   "outputs": [],
   "source": [
    "train_df.to_csv(\"benq_train.csv\")\n",
    "test_df.to_csv(\"benq_test.csv\")"
   ]
  },
  {
   "cell_type": "code",
   "execution_count": null,
   "id": "73cf96a9-cc9e-4f04-ace5-30933c3b387b",
   "metadata": {},
   "outputs": [],
   "source": []
  }
 ],
 "metadata": {
  "kernelspec": {
   "display_name": "thyroid",
   "language": "python",
   "name": "thyroid"
  },
  "language_info": {
   "codemirror_mode": {
    "name": "ipython",
    "version": 3
   },
   "file_extension": ".py",
   "mimetype": "text/x-python",
   "name": "python",
   "nbconvert_exporter": "python",
   "pygments_lexer": "ipython3",
   "version": "3.12.9"
  }
 },
 "nbformat": 4,
 "nbformat_minor": 5
}
