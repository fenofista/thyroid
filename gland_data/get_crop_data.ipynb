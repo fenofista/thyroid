{
 "cells": [
  {
   "cell_type": "code",
   "execution_count": 1,
   "id": "37264301-2ccb-4002-a24f-265b56f60a5c",
   "metadata": {},
   "outputs": [],
   "source": [
    "import pandas as pd"
   ]
  },
  {
   "cell_type": "code",
   "execution_count": 30,
   "id": "bb4ce4dd-68b0-439e-9af5-e36ca7fa3ce6",
   "metadata": {},
   "outputs": [],
   "source": [
    "all_data = pd.read_csv(\"benq_all.csv\")"
   ]
  },
  {
   "cell_type": "code",
   "execution_count": 31,
   "id": "6111ff30-b385-412b-bc6f-78f90586eabf",
   "metadata": {},
   "outputs": [],
   "source": [
    "crop_all_data = []\n",
    "for i in range(len(all_data)):\n",
    "    image_name = all_data[\"image_name\"].iloc[i]\n",
    "    if \"crop\" in image_name:\n",
    "        crop_all_data.append(all_data.iloc[i])"
   ]
  },
  {
   "cell_type": "code",
   "execution_count": 32,
   "id": "0b396a97-8c96-42f7-ba31-38195ced9103",
   "metadata": {},
   "outputs": [],
   "source": [
    "crop_all_df = pd.concat(crop_all_data, axis = 1).T"
   ]
  },
  {
   "cell_type": "code",
   "execution_count": 33,
   "id": "7c003cf1-2371-47c8-8fc1-e41e31716f46",
   "metadata": {},
   "outputs": [],
   "source": [
    "crop_all_df.to_csv(\"crop_benq_all.csv\", index = False)"
   ]
  },
  {
   "cell_type": "code",
   "execution_count": 22,
   "id": "21146441-db10-46c8-ac21-62b473940812",
   "metadata": {},
   "outputs": [],
   "source": [
    "train_data = pd.read_csv(\"benq_train.csv\")"
   ]
  },
  {
   "cell_type": "code",
   "execution_count": 23,
   "id": "df4e5e28-6fed-44c9-8234-e726e33ce4da",
   "metadata": {},
   "outputs": [],
   "source": [
    "crop_train_data = []\n",
    "for i in range(len(train_data)):\n",
    "    image_name = train_data[\"image_name\"].iloc[i]\n",
    "    if \"crop\" in image_name:\n",
    "        crop_train_data.append(train_data.iloc[i])"
   ]
  },
  {
   "cell_type": "code",
   "execution_count": 24,
   "id": "7ff7065f-082f-4f7a-b058-b5e8aaab0b66",
   "metadata": {},
   "outputs": [],
   "source": [
    "crop_train_df = pd.concat(crop_train_data, axis = 1).T"
   ]
  },
  {
   "cell_type": "code",
   "execution_count": 25,
   "id": "9946cef8-07df-4602-b510-87bce1aabc58",
   "metadata": {},
   "outputs": [],
   "source": [
    "crop_train_df.to_csv(\"crop_benq_train.csv\", index = False)"
   ]
  },
  {
   "cell_type": "code",
   "execution_count": 26,
   "id": "489c068d-0311-428b-9800-89b4822d8894",
   "metadata": {},
   "outputs": [],
   "source": [
    "test_data = pd.read_csv(\"benq_test.csv\")"
   ]
  },
  {
   "cell_type": "code",
   "execution_count": 27,
   "id": "cc8c6289-ab4c-479f-a434-4862420c6f9a",
   "metadata": {},
   "outputs": [],
   "source": [
    "crop_test_data = []\n",
    "for i in range(len(test_data)):\n",
    "    image_name = test_data[\"image_name\"].iloc[i]\n",
    "    if \"crop\" in image_name:\n",
    "        crop_test_data.append(test_data.iloc[i])"
   ]
  },
  {
   "cell_type": "code",
   "execution_count": 28,
   "id": "40c28ffb-3c27-403d-91d9-2891118a07f6",
   "metadata": {},
   "outputs": [],
   "source": [
    "crop_test_df = pd.concat(crop_test_data, axis = 1).T"
   ]
  },
  {
   "cell_type": "code",
   "execution_count": 29,
   "id": "c63c95c7-2fa8-441c-95c5-f5a5cbcb733b",
   "metadata": {},
   "outputs": [],
   "source": [
    "crop_test_df.to_csv(\"crop_benq_test.csv\", index = False)"
   ]
  },
  {
   "cell_type": "code",
   "execution_count": null,
   "id": "8fd8513f-1a32-4aa9-9816-4a741b5ba6c0",
   "metadata": {},
   "outputs": [],
   "source": []
  }
 ],
 "metadata": {
  "kernelspec": {
   "display_name": "thyroid",
   "language": "python",
   "name": "thyroid"
  },
  "language_info": {
   "codemirror_mode": {
    "name": "ipython",
    "version": 3
   },
   "file_extension": ".py",
   "mimetype": "text/x-python",
   "name": "python",
   "nbconvert_exporter": "python",
   "pygments_lexer": "ipython3",
   "version": "3.12.9"
  }
 },
 "nbformat": 4,
 "nbformat_minor": 5
}
