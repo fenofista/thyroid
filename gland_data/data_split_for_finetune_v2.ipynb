{
 "cells": [
  {
   "cell_type": "code",
   "execution_count": 1,
   "id": "67e37627-9000-4d63-acd7-e80b2cb5c670",
   "metadata": {},
   "outputs": [],
   "source": [
    "import pandas as pd"
   ]
  },
  {
   "cell_type": "code",
   "execution_count": 2,
   "id": "7b0c064b-e689-4663-a840-2b02ee5903ab",
   "metadata": {},
   "outputs": [],
   "source": [
    "train_df = pd.read_csv(\"benq_train.csv\")"
   ]
  },
  {
   "cell_type": "code",
   "execution_count": 9,
   "id": "a1b66bdd-4b41-4881-82bd-1697c6c101c2",
   "metadata": {},
   "outputs": [],
   "source": [
    "ratio = 1\n",
    "finetune_train_len = int(len(train_df) * ratio)\n",
    "finetune_train = train_df[:finetune_train_len]"
   ]
  },
  {
   "cell_type": "code",
   "execution_count": 10,
   "id": "2ca5095b-9e70-44f9-a571-dfd2a49f3f92",
   "metadata": {},
   "outputs": [],
   "source": [
    "finetune_train.to_csv(f\"benq_train_{ratio}.csv\")"
   ]
  },
  {
   "cell_type": "code",
   "execution_count": null,
   "id": "7565e54e-295d-425e-80ee-e7edc5421282",
   "metadata": {},
   "outputs": [],
   "source": []
  }
 ],
 "metadata": {
  "kernelspec": {
   "display_name": "thyroid",
   "language": "python",
   "name": "thyroid"
  },
  "language_info": {
   "codemirror_mode": {
    "name": "ipython",
    "version": 3
   },
   "file_extension": ".py",
   "mimetype": "text/x-python",
   "name": "python",
   "nbconvert_exporter": "python",
   "pygments_lexer": "ipython3",
   "version": "3.12.9"
  }
 },
 "nbformat": 4,
 "nbformat_minor": 5
}
