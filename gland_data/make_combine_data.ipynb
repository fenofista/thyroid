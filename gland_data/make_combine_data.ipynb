{
 "cells": [
  {
   "cell_type": "code",
   "execution_count": 1,
   "id": "6386033e-5aa9-49d5-90b1-7f94b4c30468",
   "metadata": {},
   "outputs": [],
   "source": [
    "import os\n",
    "import pandas as pd\n",
    "import numpy as np"
   ]
  },
  {
   "cell_type": "code",
   "execution_count": 3,
   "id": "80fbd364-e3b3-4879-958e-6768d6633267",
   "metadata": {},
   "outputs": [
    {
     "name": "stdout",
     "output_type": "stream",
     "text": [
      "3966\n",
      "3966\n"
     ]
    }
   ],
   "source": [
    "image_dir = os.listdir(\"images\")\n",
    "print(len(image_dir))\n",
    "\n",
    "masks_dir = os.listdir(\"masks\")\n",
    "print(len(masks_dir))"
   ]
  },
  {
   "cell_type": "code",
   "execution_count": 11,
   "id": "9014b9f8-1f4a-4fa8-aae9-4c3e7830b565",
   "metadata": {},
   "outputs": [],
   "source": [
    "data = {\n",
    "    \"image_name\":[],\n",
    "    \"mask_name\":[]\n",
    "}\n",
    "benq_data= {\n",
    "    \"image_name\":[],\n",
    "    \"mask_name\":[]\n",
    "}\n",
    "tg3k_data= {\n",
    "    \"image_name\":[],\n",
    "    \"mask_name\":[]\n",
    "}\n",
    "for i in range(len(image_dir)):\n",
    "    name = image_dir[i].split(\".jpg\")[0]\n",
    "    if \"tg3k\" in name:\n",
    "        if os.path.exists(f\"images/{name}.jpg\"):\n",
    "            tg3k_data[\"image_name\"].append(f\"{name}.jpg\")\n",
    "        elif os.path.exists(f\"images/{name}.png\"):\n",
    "            tg3k_data[\"image_name\"].append(f\"{name}.png\")\n",
    "        else:\n",
    "            print(\"image not exists : \", name)\n",
    "    \n",
    "        if os.path.exists(f\"masks/{name}.jpg\"):\n",
    "            tg3k_data[\"mask_name\"].append(f\"{name}.jpg\")\n",
    "        elif os.path.exists(f\"masks/{name}.png\"):\n",
    "            tg3k_data[\"mask_name\"].append(f\"{name}.png\")\n",
    "        else:\n",
    "            print(\"mask not exists : \", name)\n",
    "    else:\n",
    "        if os.path.exists(f\"images/{name}.jpg\"):\n",
    "            benq_data[\"image_name\"].append(f\"{name}.jpg\")\n",
    "        elif os.path.exists(f\"images/{name}.png\"):\n",
    "            benq_data[\"image_name\"].append(f\"{name}.png\")\n",
    "        else:\n",
    "            print(\"image not exists : \", name)\n",
    "    \n",
    "        if os.path.exists(f\"masks/{name}.jpg\"):\n",
    "            benq_data[\"mask_name\"].append(f\"{name}.jpg\")\n",
    "        elif os.path.exists(f\"masks/{name}.png\"):\n",
    "            benq_data[\"mask_name\"].append(f\"{name}.png\")\n",
    "        else:\n",
    "            print(\"mask not exists : \", name)"
   ]
  },
  {
   "cell_type": "code",
   "execution_count": 14,
   "id": "817439e3-437d-4a7e-84ac-7fae4479dd97",
   "metadata": {},
   "outputs": [],
   "source": [
    "benq_df = pd.DataFrame(benq_data)"
   ]
  },
  {
   "cell_type": "code",
   "execution_count": 15,
   "id": "0a6b665e-6f10-4d67-8cb5-9969d9bbf6a8",
   "metadata": {},
   "outputs": [],
   "source": [
    "tg3k_df = pd.DataFrame(tg3k_data)"
   ]
  },
  {
   "cell_type": "code",
   "execution_count": 17,
   "id": "1c610226-cc68-400f-8e36-c0d17b98b5ba",
   "metadata": {},
   "outputs": [],
   "source": [
    "tg3k_df.to_csv(\"tg3k_all.csv\", index = False)\n",
    "benq_df.to_csv(\"benq_all.csv\", index = False)"
   ]
  },
  {
   "cell_type": "code",
   "execution_count": null,
   "id": "c8028f57-f553-41e2-aa0b-614140e5f4f3",
   "metadata": {},
   "outputs": [],
   "source": []
  }
 ],
 "metadata": {
  "kernelspec": {
   "display_name": "thyroid",
   "language": "python",
   "name": "thyroid"
  },
  "language_info": {
   "codemirror_mode": {
    "name": "ipython",
    "version": 3
   },
   "file_extension": ".py",
   "mimetype": "text/x-python",
   "name": "python",
   "nbconvert_exporter": "python",
   "pygments_lexer": "ipython3",
   "version": "3.12.9"
  }
 },
 "nbformat": 4,
 "nbformat_minor": 5
}
