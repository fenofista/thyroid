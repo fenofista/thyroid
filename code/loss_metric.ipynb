{
 "cells": [
  {
   "cell_type": "code",
   "execution_count": 3,
   "id": "6e917786-2f54-4bd8-af1f-10d38ece47ac",
   "metadata": {},
   "outputs": [],
   "source": [
    "import torch\n",
    "import torch.nn as nn\n",
    "\n",
    "class DiceLoss(nn.Module):\n",
    "    def __init__(self, smooth=1e-6):\n",
    "        super(DiceLoss, self).__init__()\n",
    "        self.smooth = smooth\n",
    "\n",
    "    def forward(self, inputs, targets):\n",
    "        \"\"\"\n",
    "        inputs: (N, 1, H, W) - predicted probabilities (after sigmoid)\n",
    "        targets: (N, 1, H, W) - ground truth (0 or 1)\n",
    "        \"\"\"\n",
    "        inputs = inputs.view(-1)\n",
    "        targets = targets.view(-1)\n",
    "\n",
    "        intersection = (inputs * targets).sum()\n",
    "        dice = (2. * intersection + self.smooth) / (inputs.sum() + targets.sum() + self.smooth)\n",
    "\n",
    "        return 1 - dice  # because we want to minimize the loss"
   ]
  },
  {
   "cell_type": "code",
   "execution_count": 4,
   "id": "a064adeb-e796-4388-bb4f-f9b3f174cdf2",
   "metadata": {},
   "outputs": [],
   "source": [
    "def iou_score(preds, targets, threshold=0.5, eps=1e-6):\n",
    "    \"\"\"\n",
    "    preds: (N, 1, H, W) - predicted probabilities\n",
    "    targets: (N, 1, H, W) - ground truth binary mask (0 or 1)\n",
    "    threshold: threshold to binarize predictions\n",
    "    eps: small value to avoid division by zero\n",
    "    \"\"\"\n",
    "    preds = (preds > threshold).float()\n",
    "    targets = targets.float()\n",
    "\n",
    "    intersection = (preds * targets).sum(dim=(1, 2, 3))\n",
    "    union = preds.sum(dim=(1, 2, 3)) + targets.sum(dim=(1, 2, 3)) - intersection\n",
    "\n",
    "    iou = (intersection + eps) / (union + eps)\n",
    "    return iou.mean()  # return average IoU across batch"
   ]
  },
  {
   "cell_type": "code",
   "execution_count": 17,
   "id": "c8df0494-e826-41a2-ab14-eefff845970a",
   "metadata": {},
   "outputs": [],
   "source": [
    "import torch\n",
    "import torch.nn as nn\n",
    "import torch.nn.functional as F\n",
    "class StructureLoss(nn.Module):\n",
    "    def __init__(self):\n",
    "        super(StructureLoss, self).__init__()\n",
    "\n",
    "    def forward(self, pred, mask):\n",
    "        \"\"\"\n",
    "        inputs: (N, 1, H, W) - predicted probabilities (after sigmoid)\n",
    "        targets: (N, 1, H, W) - ground truth (0 or 1)\n",
    "        \"\"\"\n",
    "        # inputs = inputs.view(-1)\n",
    "        # targets = targets.view(-1)\n",
    "\n",
    "        weit = 1 + 5*torch.abs(F.avg_pool2d(mask, kernel_size=31, stride=1, padding=15) - mask)\n",
    "        wbce = F.binary_cross_entropy_with_logits(pred, mask, reduce='none')\n",
    "        wbce = (weit*wbce).sum(dim=(2, 3)) / weit.sum(dim=(2, 3))\n",
    "    \n",
    "        pred = torch.sigmoid(pred)\n",
    "        inter = ((pred * mask)*weit).sum(dim=(2, 3))\n",
    "        union = ((pred + mask)*weit).sum(dim=(2, 3))\n",
    "        wiou = 1 - (inter + 1)/(union - inter+1)\n",
    "\n",
    "        return (wbce + wiou).mean()  # because we want to minimize the loss"
   ]
  },
  {
   "cell_type": "code",
   "execution_count": 12,
   "id": "cc54f2a0-5b33-4a90-a98a-1ed638264399",
   "metadata": {},
   "outputs": [],
   "source": [
    "def structure_loss(pred, mask):\n",
    "    \n",
    "    weit = 1 + 5*torch.abs(F.avg_pool2d(mask, kernel_size=31, stride=1, padding=15) - mask)\n",
    "    wbce = F.binary_cross_entropy_with_logits(pred, mask, reduce='none')\n",
    "    wbce = (weit*wbce).sum(dim=(2, 3)) / weit.sum(dim=(2, 3))\n",
    "\n",
    "    pred = torch.sigmoid(pred)\n",
    "    inter = ((pred * mask)*weit).sum(dim=(2, 3))\n",
    "    union = ((pred + mask)*weit).sum(dim=(2, 3))\n",
    "    wiou = 1 - (inter + 1)/(union - inter+1)\n",
    "    \n",
    "    return (wbce + wiou).mean()"
   ]
  },
  {
   "cell_type": "code",
   "execution_count": 13,
   "id": "f1b2546f-b97a-4216-9373-294761f693e6",
   "metadata": {},
   "outputs": [],
   "source": [
    "# Random numbers from uniform distribution [0, 1)\n",
    "a = torch.rand(16, 1, 224, 224)   # 3x4 matrix\n",
    "b = torch.rand(16, 1, 224, 224)"
   ]
  },
  {
   "cell_type": "code",
   "execution_count": 14,
   "id": "07405e09-2e57-4348-8eef-3baa9b47a955",
   "metadata": {
    "scrolled": true
   },
   "outputs": [
    {
     "data": {
      "text/plain": [
       "tensor(1.3404)"
      ]
     },
     "execution_count": 14,
     "metadata": {},
     "output_type": "execute_result"
    }
   ],
   "source": [
    "structure_loss(a, b)"
   ]
  },
  {
   "cell_type": "code",
   "execution_count": 18,
   "id": "723fcf0d-c569-455d-96af-c007e7be89e0",
   "metadata": {},
   "outputs": [],
   "source": [
    "loss_fn = StructureLoss()"
   ]
  },
  {
   "cell_type": "code",
   "execution_count": 19,
   "id": "dc43c84d-6243-4f02-9224-fffb3997ee7b",
   "metadata": {
    "scrolled": true
   },
   "outputs": [
    {
     "data": {
      "text/plain": [
       "tensor(1.3404)"
      ]
     },
     "execution_count": 19,
     "metadata": {},
     "output_type": "execute_result"
    }
   ],
   "source": [
    "loss_fn(a, b)"
   ]
  },
  {
   "cell_type": "code",
   "execution_count": null,
   "id": "23ffef3b-530a-4387-9a19-098f0bc1613d",
   "metadata": {},
   "outputs": [],
   "source": []
  }
 ],
 "metadata": {
  "kernelspec": {
   "display_name": "thyroid",
   "language": "python",
   "name": "thyroid"
  },
  "language_info": {
   "codemirror_mode": {
    "name": "ipython",
    "version": 3
   },
   "file_extension": ".py",
   "mimetype": "text/x-python",
   "name": "python",
   "nbconvert_exporter": "python",
   "pygments_lexer": "ipython3",
   "version": "3.12.10"
  }
 },
 "nbformat": 4,
 "nbformat_minor": 5
}
