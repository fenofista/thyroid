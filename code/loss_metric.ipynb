{
 "cells": [
  {
   "cell_type": "code",
   "execution_count": 3,
   "id": "6e917786-2f54-4bd8-af1f-10d38ece47ac",
   "metadata": {},
   "outputs": [],
   "source": [
    "import torch\n",
    "import torch.nn as nn\n",
    "\n",
    "class DiceLoss(nn.Module):\n",
    "    def __init__(self, smooth=1e-6):\n",
    "        super(DiceLoss, self).__init__()\n",
    "        self.smooth = smooth\n",
    "\n",
    "    def forward(self, inputs, targets):\n",
    "        \"\"\"\n",
    "        inputs: (N, 1, H, W) - predicted probabilities (after sigmoid)\n",
    "        targets: (N, 1, H, W) - ground truth (0 or 1)\n",
    "        \"\"\"\n",
    "        inputs = inputs.view(-1)\n",
    "        targets = targets.view(-1)\n",
    "\n",
    "        intersection = (inputs * targets).sum()\n",
    "        dice = (2. * intersection + self.smooth) / (inputs.sum() + targets.sum() + self.smooth)\n",
    "\n",
    "        return 1 - dice  # because we want to minimize the loss"
   ]
  },
  {
   "cell_type": "code",
   "execution_count": 4,
   "id": "a064adeb-e796-4388-bb4f-f9b3f174cdf2",
   "metadata": {},
   "outputs": [],
   "source": [
    "def iou_score(preds, targets, threshold=0.5, eps=1e-6):\n",
    "    \"\"\"\n",
    "    preds: (N, 1, H, W) - predicted probabilities\n",
    "    targets: (N, 1, H, W) - ground truth binary mask (0 or 1)\n",
    "    threshold: threshold to binarize predictions\n",
    "    eps: small value to avoid division by zero\n",
    "    \"\"\"\n",
    "    preds = (preds > threshold).float()\n",
    "    targets = targets.float()\n",
    "\n",
    "    intersection = (preds * targets).sum(dim=(1, 2, 3))\n",
    "    union = preds.sum(dim=(1, 2, 3)) + targets.sum(dim=(1, 2, 3)) - intersection\n",
    "\n",
    "    iou = (intersection + eps) / (union + eps)\n",
    "    return iou.mean()  # return average IoU across batch"
   ]
  },
  {
   "cell_type": "code",
   "execution_count": null,
   "id": "c8df0494-e826-41a2-ab14-eefff845970a",
   "metadata": {},
   "outputs": [],
   "source": []
  }
 ],
 "metadata": {
  "kernelspec": {
   "display_name": "thyroid",
   "language": "python",
   "name": "thyroid"
  },
  "language_info": {
   "codemirror_mode": {
    "name": "ipython",
    "version": 3
   },
   "file_extension": ".py",
   "mimetype": "text/x-python",
   "name": "python",
   "nbconvert_exporter": "python",
   "pygments_lexer": "ipython3",
   "version": "3.12.10"
  }
 },
 "nbformat": 4,
 "nbformat_minor": 5
}
