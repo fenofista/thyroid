{
 "cells": [
  {
   "cell_type": "markdown",
   "id": "419b1832-fd19-4148-bf39-cae28458151f",
   "metadata": {},
   "source": [
    "### remember to change model saving path!!!"
   ]
  },
  {
   "cell_type": "code",
   "execution_count": 1,
   "id": "cbada50d-1e33-4c43-898d-674a7a1cbd43",
   "metadata": {},
   "outputs": [
    {
     "name": "stderr",
     "output_type": "stream",
     "text": [
      "/home/twszbak764/.local/lib/python3.12/site-packages/tqdm/auto.py:21: TqdmWarning: IProgress not found. Please update jupyter and ipywidgets. See https://ipywidgets.readthedocs.io/en/stable/user_install.html\n",
      "  from .autonotebook import tqdm as notebook_tqdm\n",
      "/home/twszbak764/.local/lib/python3.12/site-packages/timm/models/layers/__init__.py:48: FutureWarning: Importing from timm.models.layers is deprecated, please import via timm.layers\n",
      "  warnings.warn(f\"Importing from {__name__} is deprecated, please import via timm.layers\", FutureWarning)\n",
      "/home/twszbak764/.local/lib/python3.12/site-packages/timm/models/registry.py:4: FutureWarning: Importing from timm.models.registry is deprecated, please import via timm.models\n",
      "  warnings.warn(f\"Importing from {__name__} is deprecated, please import via timm.models\", FutureWarning)\n"
     ]
    }
   ],
   "source": [
    "import torch\n",
    "from torch.utils.data import Dataset, DataLoader\n",
    "import numpy as np\n",
    "from PIL import Image\n",
    "import os\n",
    "from torchvision import transforms\n",
    "import pandas as pd\n",
    "import matplotlib.pyplot as plt\n",
    "import torch.optim as optim\n",
    "from tqdm import tqdm\n",
    "import random\n",
    "import torch.nn as nn\n",
    "from dataset import Thyroid_Dataset\n",
    "from model import Eff_Unet\n",
    "from HarDMSEG import HarDMSEG\n",
    "from loss_metric import DiceLoss, IOU_score, StructureLoss, TverskyLoss\n",
    "from LightMed.model.LightMed import LightMed\n",
    "from PMFSNet.lib.models.PMFSNet import PMFSNet\n",
    "from PMFSNet.lib.models.PMFSNet_FFT import PMFSNet_FFT\n",
    "from hybrid_model_v3 import HybridSegModel"
   ]
  },
  {
   "cell_type": "code",
   "execution_count": 2,
   "id": "552e0837-3243-45a8-af13-0dd8363d8b6d",
   "metadata": {},
   "outputs": [],
   "source": [
    "def set_seed(seed):\n",
    "    random.seed(seed)\n",
    "    np.random.seed(seed)\n",
    "    os.environ['PYTHONHASHSEED'] = str(seed)\n",
    "    torch.manual_seed(seed)\n",
    "    torch.cuda.manual_seed(seed)\n",
    "    torch.cuda.manual_seed_all(seed)\n",
    "    torch.backends.cudnn.deterministic = True\n",
    "    torch.backends.cudnn.benchmark = False\n",
    "\n",
    "set_seed(42)"
   ]
  },
  {
   "cell_type": "code",
   "execution_count": 3,
   "id": "c3dd7a74-f2d5-493a-8d69-aca94d4586aa",
   "metadata": {},
   "outputs": [
    {
     "name": "stderr",
     "output_type": "stream",
     "text": [
      "\u001b[34m\u001b[1mwandb\u001b[0m: \u001b[32m\u001b[41mERROR\u001b[0m Failed to detect the name of this notebook. You can set it manually with the WANDB_NOTEBOOK_NAME environment variable to enable code saving.\n",
      "\u001b[34m\u001b[1mwandb\u001b[0m: Currently logged in as: \u001b[33ms960068sss\u001b[0m (\u001b[33ms960068sss-ucl\u001b[0m) to \u001b[32mhttps://api.wandb.ai\u001b[0m. Use \u001b[1m`wandb login --relogin`\u001b[0m to force relogin\n"
     ]
    },
    {
     "data": {
      "text/plain": [
       "True"
      ]
     },
     "execution_count": 3,
     "metadata": {},
     "output_type": "execute_result"
    }
   ],
   "source": [
    "import wandb\n",
    "wandb.login()"
   ]
  },
  {
   "cell_type": "code",
   "execution_count": 4,
   "id": "f7db1b35-7517-4305-8612-c910a0093bf0",
   "metadata": {},
   "outputs": [],
   "source": [
    "import torch\n",
    "from torch.utils.data import Dataset, DataLoader\n",
    "import numpy as np\n",
    "from PIL import Image\n",
    "import os\n",
    "from torchvision import transforms\n",
    "import pandas as pd\n",
    "import matplotlib.pyplot as plt\n",
    "import torchvision.transforms.functional as tx\n",
    "import random\n",
    "import cv2\n",
    "from PIL import ImageEnhance\n",
    "from skimage.exposure import match_histograms\n",
    "import torchvision.transforms as T\n",
    "import torchvision.transforms.functional as F\n",
    "class Ge_Benq_add_inference_Dataset(Dataset):\n",
    "    def __init__(self, csv_file, transform, image_size, training = True):\n",
    "        self.df = pd.read_csv(csv_file)\n",
    "        self.transform = transform\n",
    "        self.image_size = image_size\n",
    "        self.training = training\n",
    "    def __len__(self):\n",
    "        return len(self.df)\n",
    "\n",
    "    def __getitem__(self, idx):\n",
    "        image_name = self.df[\"image_name\"][idx]\n",
    "        mask_name = self.df[\"mask_name\"][idx]\n",
    "        dataset = self.df[\"dataset\"][idx]\n",
    "        mask_type = self.df[\"mask_type\"][idx]\n",
    "        from_inference = self.df[\"inference\"][idx]\n",
    "        inference_from_which_dataset = self.df[\"from_folder\"][idx]\n",
    "        \n",
    "        if dataset == \"ge\":\n",
    "            from_dataset = 1\n",
    "        elif dataset == \"benq\":\n",
    "            from_dataset = 2\n",
    "\n",
    "        if mask_type == \"nodule\":\n",
    "            mask_type = 1\n",
    "        elif mask_type == \"gland\":\n",
    "            mask_type = 2\n",
    "\n",
    "        if from_inference == False:\n",
    "            if dataset == \"benq\":\n",
    "                from_folder = \"../gland_data\"\n",
    "            elif dataset == \"ge\":\n",
    "                if mask_type == 1:\n",
    "                    from_folder = \"../ge_data/nodule\"\n",
    "                else:\n",
    "                    from_folder = \"../ge_data/gland\"\n",
    "            \n",
    "            image_path = f\"{from_folder}/images/{image_name}\"\n",
    "            mask_path = f\"{from_folder}/masks/{mask_name}\"\n",
    "        else:\n",
    "            if inference_from_which_dataset == \"ge_gland\":\n",
    "                image_path = f\"../ge_data/gland/images/{image_name}\"\n",
    "                mask_path = f\"../ge_data/gland/from_scratch_inference_masks_all_v1/nodule/{mask_name}\"\n",
    "            else:\n",
    "                print(\"not find!!\")\n",
    "\n",
    "        image = Image.open(image_path).convert(\"L\")\n",
    "        mask = Image.open(mask_path).convert(\"L\")\n",
    "        \n",
    "        image_tensor, mask_tensor = self.transform(image, mask, self.image_size)\n",
    "        mask_tensor = (mask_tensor > 0.5).float()\n",
    "        if torch.sum(mask_tensor) == 0:\n",
    "            # print(\"nothing\")\n",
    "            return [None]\n",
    "        return image_tensor, mask_tensor, from_dataset, mask_type"
   ]
  },
  {
   "cell_type": "code",
   "execution_count": 5,
   "id": "73eef130-f914-4c3f-8670-99dff492b23e",
   "metadata": {
    "scrolled": true
   },
   "outputs": [
    {
     "ename": "KeyError",
     "evalue": "'from_folder'",
     "output_type": "error",
     "traceback": [
      "\u001b[31m---------------------------------------------------------------------------\u001b[39m",
      "\u001b[31mKeyError\u001b[39m                                  Traceback (most recent call last)",
      "\u001b[36mFile \u001b[39m\u001b[32m~/.local/lib/python3.12/site-packages/pandas/core/indexes/base.py:3805\u001b[39m, in \u001b[36mIndex.get_loc\u001b[39m\u001b[34m(self, key)\u001b[39m\n\u001b[32m   3804\u001b[39m \u001b[38;5;28;01mtry\u001b[39;00m:\n\u001b[32m-> \u001b[39m\u001b[32m3805\u001b[39m     \u001b[38;5;28;01mreturn\u001b[39;00m \u001b[38;5;28mself\u001b[39m._engine.get_loc(casted_key)\n\u001b[32m   3806\u001b[39m \u001b[38;5;28;01mexcept\u001b[39;00m \u001b[38;5;167;01mKeyError\u001b[39;00m \u001b[38;5;28;01mas\u001b[39;00m err:\n",
      "\u001b[36mFile \u001b[39m\u001b[32mindex.pyx:167\u001b[39m, in \u001b[36mpandas._libs.index.IndexEngine.get_loc\u001b[39m\u001b[34m()\u001b[39m\n",
      "\u001b[36mFile \u001b[39m\u001b[32mindex.pyx:196\u001b[39m, in \u001b[36mpandas._libs.index.IndexEngine.get_loc\u001b[39m\u001b[34m()\u001b[39m\n",
      "\u001b[36mFile \u001b[39m\u001b[32mpandas/_libs/hashtable_class_helper.pxi:7081\u001b[39m, in \u001b[36mpandas._libs.hashtable.PyObjectHashTable.get_item\u001b[39m\u001b[34m()\u001b[39m\n",
      "\u001b[36mFile \u001b[39m\u001b[32mpandas/_libs/hashtable_class_helper.pxi:7089\u001b[39m, in \u001b[36mpandas._libs.hashtable.PyObjectHashTable.get_item\u001b[39m\u001b[34m()\u001b[39m\n",
      "\u001b[31mKeyError\u001b[39m: 'from_folder'",
      "\nThe above exception was the direct cause of the following exception:\n",
      "\u001b[31mKeyError\u001b[39m                                  Traceback (most recent call last)",
      "\u001b[36mCell\u001b[39m\u001b[36m \u001b[39m\u001b[32mIn[5]\u001b[39m\u001b[32m, line 67\u001b[39m\n\u001b[32m     64\u001b[39m test_dataset = Ge_Benq_add_inference_Dataset(\u001b[33m\"\u001b[39m\u001b[33m../ge_benq_data/ge(nodule_gland)_benq(gland)_test_add_inference_v1.csv\u001b[39m\u001b[33m\"\u001b[39m, transform = test_augmentation, image_size = image_size, training = \u001b[38;5;28;01mFalse\u001b[39;00m)\n\u001b[32m     65\u001b[39m test_dataloader = DataLoader(test_dataset, batch_size = batch_size, shuffle = \u001b[38;5;28;01mFalse\u001b[39;00m, collate_fn=custom_collate_fn)\n\u001b[32m---> \u001b[39m\u001b[32m67\u001b[39m image, mask, from_dataset, mask_type = \u001b[38;5;28mnext\u001b[39m(\u001b[38;5;28miter\u001b[39m(test_dataloader))\n",
      "\u001b[36mFile \u001b[39m\u001b[32m~/miniconda3/envs/thyroid/lib/python3.12/site-packages/torch/utils/data/dataloader.py:733\u001b[39m, in \u001b[36m_BaseDataLoaderIter.__next__\u001b[39m\u001b[34m(self)\u001b[39m\n\u001b[32m    730\u001b[39m \u001b[38;5;28;01mif\u001b[39;00m \u001b[38;5;28mself\u001b[39m._sampler_iter \u001b[38;5;129;01mis\u001b[39;00m \u001b[38;5;28;01mNone\u001b[39;00m:\n\u001b[32m    731\u001b[39m     \u001b[38;5;66;03m# TODO(https://github.com/pytorch/pytorch/issues/76750)\u001b[39;00m\n\u001b[32m    732\u001b[39m     \u001b[38;5;28mself\u001b[39m._reset()  \u001b[38;5;66;03m# type: ignore[call-arg]\u001b[39;00m\n\u001b[32m--> \u001b[39m\u001b[32m733\u001b[39m data = \u001b[38;5;28mself\u001b[39m._next_data()\n\u001b[32m    734\u001b[39m \u001b[38;5;28mself\u001b[39m._num_yielded += \u001b[32m1\u001b[39m\n\u001b[32m    735\u001b[39m \u001b[38;5;28;01mif\u001b[39;00m (\n\u001b[32m    736\u001b[39m     \u001b[38;5;28mself\u001b[39m._dataset_kind == _DatasetKind.Iterable\n\u001b[32m    737\u001b[39m     \u001b[38;5;129;01mand\u001b[39;00m \u001b[38;5;28mself\u001b[39m._IterableDataset_len_called \u001b[38;5;129;01mis\u001b[39;00m \u001b[38;5;129;01mnot\u001b[39;00m \u001b[38;5;28;01mNone\u001b[39;00m\n\u001b[32m    738\u001b[39m     \u001b[38;5;129;01mand\u001b[39;00m \u001b[38;5;28mself\u001b[39m._num_yielded > \u001b[38;5;28mself\u001b[39m._IterableDataset_len_called\n\u001b[32m    739\u001b[39m ):\n",
      "\u001b[36mFile \u001b[39m\u001b[32m~/miniconda3/envs/thyroid/lib/python3.12/site-packages/torch/utils/data/dataloader.py:789\u001b[39m, in \u001b[36m_SingleProcessDataLoaderIter._next_data\u001b[39m\u001b[34m(self)\u001b[39m\n\u001b[32m    787\u001b[39m \u001b[38;5;28;01mdef\u001b[39;00m\u001b[38;5;250m \u001b[39m\u001b[34m_next_data\u001b[39m(\u001b[38;5;28mself\u001b[39m):\n\u001b[32m    788\u001b[39m     index = \u001b[38;5;28mself\u001b[39m._next_index()  \u001b[38;5;66;03m# may raise StopIteration\u001b[39;00m\n\u001b[32m--> \u001b[39m\u001b[32m789\u001b[39m     data = \u001b[38;5;28mself\u001b[39m._dataset_fetcher.fetch(index)  \u001b[38;5;66;03m# may raise StopIteration\u001b[39;00m\n\u001b[32m    790\u001b[39m     \u001b[38;5;28;01mif\u001b[39;00m \u001b[38;5;28mself\u001b[39m._pin_memory:\n\u001b[32m    791\u001b[39m         data = _utils.pin_memory.pin_memory(data, \u001b[38;5;28mself\u001b[39m._pin_memory_device)\n",
      "\u001b[36mFile \u001b[39m\u001b[32m~/miniconda3/envs/thyroid/lib/python3.12/site-packages/torch/utils/data/_utils/fetch.py:52\u001b[39m, in \u001b[36m_MapDatasetFetcher.fetch\u001b[39m\u001b[34m(self, possibly_batched_index)\u001b[39m\n\u001b[32m     50\u001b[39m         data = \u001b[38;5;28mself\u001b[39m.dataset.__getitems__(possibly_batched_index)\n\u001b[32m     51\u001b[39m     \u001b[38;5;28;01melse\u001b[39;00m:\n\u001b[32m---> \u001b[39m\u001b[32m52\u001b[39m         data = [\u001b[38;5;28mself\u001b[39m.dataset[idx] \u001b[38;5;28;01mfor\u001b[39;00m idx \u001b[38;5;129;01min\u001b[39;00m possibly_batched_index]\n\u001b[32m     53\u001b[39m \u001b[38;5;28;01melse\u001b[39;00m:\n\u001b[32m     54\u001b[39m     data = \u001b[38;5;28mself\u001b[39m.dataset[possibly_batched_index]\n",
      "\u001b[36mCell\u001b[39m\u001b[36m \u001b[39m\u001b[32mIn[4]\u001b[39m\u001b[32m, line 31\u001b[39m, in \u001b[36mGe_Benq_add_inference_Dataset.__getitem__\u001b[39m\u001b[34m(self, idx)\u001b[39m\n\u001b[32m     29\u001b[39m mask_type = \u001b[38;5;28mself\u001b[39m.df[\u001b[33m\"\u001b[39m\u001b[33mmask_type\u001b[39m\u001b[33m\"\u001b[39m][idx]\n\u001b[32m     30\u001b[39m from_inference = \u001b[38;5;28mself\u001b[39m.df[\u001b[33m\"\u001b[39m\u001b[33minference\u001b[39m\u001b[33m\"\u001b[39m][idx]\n\u001b[32m---> \u001b[39m\u001b[32m31\u001b[39m inference_from_which_dataset = \u001b[38;5;28mself\u001b[39m.df[\u001b[33m\"\u001b[39m\u001b[33mfrom_folder\u001b[39m\u001b[33m\"\u001b[39m][idx]\n\u001b[32m     33\u001b[39m \u001b[38;5;28;01mif\u001b[39;00m dataset == \u001b[33m\"\u001b[39m\u001b[33mge\u001b[39m\u001b[33m\"\u001b[39m:\n\u001b[32m     34\u001b[39m     from_dataset = \u001b[32m1\u001b[39m\n",
      "\u001b[36mFile \u001b[39m\u001b[32m~/.local/lib/python3.12/site-packages/pandas/core/frame.py:4102\u001b[39m, in \u001b[36mDataFrame.__getitem__\u001b[39m\u001b[34m(self, key)\u001b[39m\n\u001b[32m   4100\u001b[39m \u001b[38;5;28;01mif\u001b[39;00m \u001b[38;5;28mself\u001b[39m.columns.nlevels > \u001b[32m1\u001b[39m:\n\u001b[32m   4101\u001b[39m     \u001b[38;5;28;01mreturn\u001b[39;00m \u001b[38;5;28mself\u001b[39m._getitem_multilevel(key)\n\u001b[32m-> \u001b[39m\u001b[32m4102\u001b[39m indexer = \u001b[38;5;28mself\u001b[39m.columns.get_loc(key)\n\u001b[32m   4103\u001b[39m \u001b[38;5;28;01mif\u001b[39;00m is_integer(indexer):\n\u001b[32m   4104\u001b[39m     indexer = [indexer]\n",
      "\u001b[36mFile \u001b[39m\u001b[32m~/.local/lib/python3.12/site-packages/pandas/core/indexes/base.py:3812\u001b[39m, in \u001b[36mIndex.get_loc\u001b[39m\u001b[34m(self, key)\u001b[39m\n\u001b[32m   3807\u001b[39m     \u001b[38;5;28;01mif\u001b[39;00m \u001b[38;5;28misinstance\u001b[39m(casted_key, \u001b[38;5;28mslice\u001b[39m) \u001b[38;5;129;01mor\u001b[39;00m (\n\u001b[32m   3808\u001b[39m         \u001b[38;5;28misinstance\u001b[39m(casted_key, abc.Iterable)\n\u001b[32m   3809\u001b[39m         \u001b[38;5;129;01mand\u001b[39;00m \u001b[38;5;28many\u001b[39m(\u001b[38;5;28misinstance\u001b[39m(x, \u001b[38;5;28mslice\u001b[39m) \u001b[38;5;28;01mfor\u001b[39;00m x \u001b[38;5;129;01min\u001b[39;00m casted_key)\n\u001b[32m   3810\u001b[39m     ):\n\u001b[32m   3811\u001b[39m         \u001b[38;5;28;01mraise\u001b[39;00m InvalidIndexError(key)\n\u001b[32m-> \u001b[39m\u001b[32m3812\u001b[39m     \u001b[38;5;28;01mraise\u001b[39;00m \u001b[38;5;167;01mKeyError\u001b[39;00m(key) \u001b[38;5;28;01mfrom\u001b[39;00m\u001b[38;5;250m \u001b[39m\u001b[34;01merr\u001b[39;00m\n\u001b[32m   3813\u001b[39m \u001b[38;5;28;01mexcept\u001b[39;00m \u001b[38;5;167;01mTypeError\u001b[39;00m:\n\u001b[32m   3814\u001b[39m     \u001b[38;5;66;03m# If we have a listlike key, _check_indexing_error will raise\u001b[39;00m\n\u001b[32m   3815\u001b[39m     \u001b[38;5;66;03m#  InvalidIndexError. Otherwise we fall through and re-raise\u001b[39;00m\n\u001b[32m   3816\u001b[39m     \u001b[38;5;66;03m#  the TypeError.\u001b[39;00m\n\u001b[32m   3817\u001b[39m     \u001b[38;5;28mself\u001b[39m._check_indexing_error(key)\n",
      "\u001b[31mKeyError\u001b[39m: 'from_folder'"
     ]
    }
   ],
   "source": [
    "image_size = 128\n",
    "batch_size = 256\n",
    "def train_augmentation(image, mask, image_size):\n",
    "    resize = T.Resize((image_size, image_size))\n",
    "    image = resize(image)\n",
    "    mask = resize(mask)\n",
    "\n",
    "    p = 0.7\n",
    "    \n",
    "    # if(random.random() < p):\n",
    "    #     jitter = T.ColorJitter(brightness = 0.5, contrast = 0.25)\n",
    "    #     image = jitter(image)\n",
    "    # if(random.random() < p):\n",
    "    #     transform = T.GaussianBlur(kernel_size=3, sigma=(0.1, 2.0))\n",
    "    #     image = transform(image)  # image must be a PIL image\n",
    "    if(random.random() < p):\n",
    "        # angle = random.uniform(-10, 10)  # 旋轉角度從 ±10 度\n",
    "        angle = 0.0\n",
    "        max_dx = 0.05  # 水平平移比例\n",
    "        max_dy = 0.3  # 垂直平移比例\n",
    "        translate_x = random.uniform(-max_dx, max_dx) * image.size[0]\n",
    "        translate_y = random.uniform(-max_dy, max_dy) * image.size[1]\n",
    "        translate = (int(translate_x), int(translate_y))\n",
    "        scale = random.uniform(0.9, 1.6)  # 尺度縮放 ±5%\n",
    "        # scale = 1.0\n",
    "        # shear = [random.uniform(-5, 5), random.uniform(-5, 5)]  # 小幅剪切\n",
    "        shear=[0.0, 0.0]\n",
    "        image = F.affine(image, angle=angle, translate=translate, scale=scale, shear=shear)\n",
    "        mask = F.affine(mask, angle=angle, translate=translate, scale=scale, shear=shear)\n",
    "\n",
    "        \n",
    "    image_tensor = tx.to_tensor(image)\n",
    "    mask_tensor = tx.to_tensor(mask)\n",
    "\n",
    "    # If standardization\n",
    "    mean = image_tensor.mean()\n",
    "    std = image_tensor.std()\n",
    "    std = std if std > 0 else 1.0  # avoid division by zero\n",
    "    image_tensor = (image_tensor - mean) / std\n",
    "    return image_tensor, mask_tensor\n",
    "def test_augmentation(image, mask, image_size):\n",
    "    resize = T.Resize((image_size, image_size))\n",
    "    image = resize(image)\n",
    "    mask = resize(mask)\n",
    "\n",
    "    image_tensor = tx.to_tensor(image)\n",
    "    mask_tensor = tx.to_tensor(mask)\n",
    "\n",
    "    # If standardization\n",
    "    mean = image_tensor.mean()\n",
    "    std = image_tensor.std()\n",
    "    std = std if std > 0 else 1.0  # avoid division by zero\n",
    "    image_tensor = (image_tensor - mean) / std\n",
    "    return image_tensor, mask_tensor\n",
    "def custom_collate_fn(batch):\n",
    "    # print(batch)\n",
    "    filtered_batch = [item for item in batch if item[0] is not None]\n",
    "    if len(filtered_batch) == 0:\n",
    "        return [None, None]\n",
    "    return torch.utils.data.dataloader.default_collate(filtered_batch)\n",
    "train_dataset = Ge_Benq_add_inference_Dataset(\"../ge_benq_data/ge(nodule_gland)_benq(gland)_train_add_inference_v1.csv\", transform = train_augmentation, image_size = image_size)\n",
    "train_dataloader = DataLoader(train_dataset, batch_size = batch_size, shuffle = True, collate_fn=custom_collate_fn)\n",
    "\n",
    "test_dataset = Ge_Benq_add_inference_Dataset(\"../ge_benq_data/ge(nodule_gland)_benq(gland)_test_add_inference_v1.csv\", transform = test_augmentation, image_size = image_size, training = False)\n",
    "test_dataloader = DataLoader(test_dataset, batch_size = batch_size, shuffle = False, collate_fn=custom_collate_fn)\n",
    "\n",
    "image, mask, from_dataset, mask_type = next(iter(test_dataloader))"
   ]
  },
  {
   "cell_type": "code",
   "execution_count": 8,
   "id": "da0e1427-6dc3-41fc-a80d-bc9bea2dc4d3",
   "metadata": {
    "scrolled": true
   },
   "outputs": [
    {
     "data": {
      "text/plain": [
       "nan"
      ]
     },
     "execution_count": 8,
     "metadata": {},
     "output_type": "execute_result"
    }
   ],
   "source": [
    "train_dataset.df[\"from_folder\"][0]"
   ]
  },
  {
   "cell_type": "code",
   "execution_count": 7,
   "id": "13b42251-ce28-4331-8035-962b0abd60fd",
   "metadata": {},
   "outputs": [
    {
     "data": {
      "text/plain": [
       "tensor([1, 2, 1, 2, 2, 1, 1, 1, 1, 1, 2, 1, 2, 1, 1, 2, 2, 2, 2, 2, 2, 2, 2, 2,\n",
       "        2, 1, 2, 1, 1, 2, 1, 1, 1, 2, 2, 2, 1, 1, 1, 1, 1, 2, 1, 1, 2, 2, 2, 1,\n",
       "        1, 2, 2, 1, 2, 1, 1, 1, 2, 2, 1, 1, 2, 1, 1, 2, 1, 1, 1, 1, 1, 1, 1, 1,\n",
       "        2, 2, 1, 1, 2, 2, 2, 2, 2, 1, 2, 1, 1, 1, 1, 2, 2, 1, 1, 1, 2, 2, 1, 2,\n",
       "        2, 2, 1, 2, 2, 2, 2, 1, 2, 1, 1, 1, 2, 2, 1, 2, 2, 2])"
      ]
     },
     "execution_count": 7,
     "metadata": {},
     "output_type": "execute_result"
    }
   ],
   "source": [
    "mask_type"
   ]
  },
  {
   "cell_type": "code",
   "execution_count": 8,
   "id": "cee5b6f8-749e-4964-862a-255a44883a20",
   "metadata": {},
   "outputs": [
    {
     "name": "stdout",
     "output_type": "stream",
     "text": [
      "788 218\n"
     ]
    }
   ],
   "source": [
    "print(len(train_dataset), len(test_dataset))"
   ]
  },
  {
   "cell_type": "code",
   "execution_count": 9,
   "id": "014e0c3f-1e5b-44ff-9930-0bfb774c38b2",
   "metadata": {},
   "outputs": [
    {
     "data": {
      "text/plain": [
       "<matplotlib.image.AxesImage at 0x7f4d0e8a9f40>"
      ]
     },
     "execution_count": 9,
     "metadata": {},
     "output_type": "execute_result"
    },
    {
     "data": {
      "image/png": "[encoded data removed]",
      "text/plain": [
       "<Figure size 640x480 with 1 Axes>"
      ]
     },
     "metadata": {},
     "output_type": "display_data"
    }
   ],
   "source": [
    "plt.imshow(image[18][0])"
   ]
  },
  {
   "cell_type": "code",
   "execution_count": 10,
   "id": "31a25cc8-c6ce-46c6-881f-0b042cfc3a5c",
   "metadata": {},
   "outputs": [],
   "source": [
    "def train(dataloader, model, optimizer, loss_fn, device):\n",
    "    total_loss = 0\n",
    "    total_IOU = 0\n",
    "    total_DICE = 0\n",
    "\n",
    "    total_ge_nodule_IOU = 0\n",
    "    total_ge_gland_IOU = 0\n",
    "    total_benq_gland_IOU = 0\n",
    "    \n",
    "    total_ge_nodule_DICE = 0\n",
    "    total_ge_gland_DICE = 0\n",
    "    total_benq_gland_DICE = 0\n",
    "    \n",
    "    model.train()\n",
    "    model.to(device)\n",
    "    \n",
    "    count = 0\n",
    "    for image, mask, from_dataset, mask_type in tqdm(dataloader):\n",
    "        if image == None:\n",
    "            continue\n",
    "        image, mask = image.to(device), mask.to(device)\n",
    "        \n",
    "        outputs = model(image)\n",
    "        \n",
    "        nodule_output = outputs[:, 0:1, :, :]\n",
    "        gland_output = outputs[:, 1:2, :, :]\n",
    "\n",
    "        # get output\n",
    "        ge_nodule_output = nodule_output[(from_dataset == 1) & (mask_type == 1)]\n",
    "        ge_gland_output = gland_output[(from_dataset == 1) & (mask_type == 2)]\n",
    "        benq_gland_output = gland_output[(from_dataset == 2) & (mask_type == 2)]\n",
    "\n",
    "        # get len\n",
    "        ge_nodule_len = ge_nodule_output.shape[0]\n",
    "        ge_gland_len = ge_gland_output.shape[0]\n",
    "        benq_gland_len = benq_gland_output.shape[0]\n",
    "\n",
    "        if ge_nodule_len == 0 or ge_gland_len == 0 or benq_gland_len == 0:\n",
    "            continue\n",
    "\n",
    "        nodule_ratio = ge_nodule_len / (ge_nodule_len + ge_gland_len + benq_gland_len)\n",
    "        gland_ratio = (ge_gland_len + benq_gland_len) / (ge_nodule_len + ge_gland_len + benq_gland_len)\n",
    "        \n",
    "        ge_gland_ratio = ge_gland_len / (ge_gland_len + benq_gland_len)\n",
    "        benq_gland_ratio = benq_gland_len / (ge_gland_len + benq_gland_len)\n",
    "        \n",
    "        # get mask\n",
    "        ge_nodule_mask = mask[(from_dataset == 1) & (mask_type == 1)]\n",
    "        ge_gland_mask = mask[(from_dataset == 1) & (mask_type == 2)]\n",
    "        benq_gland_mask = mask[(from_dataset == 2) & (mask_type == 2)]\n",
    "        \n",
    "        #get loss\n",
    "        ge_nodule_loss = loss_fn(ge_nodule_output, ge_nodule_mask)\n",
    "        ge_gland_loss = loss_fn(ge_gland_output, ge_gland_mask)\n",
    "        benq_gland_loss = loss_fn(benq_gland_output, benq_gland_mask)\n",
    "\n",
    "        nodule_loss = ge_nodule_loss\n",
    "        gland_loss = (ge_gland_loss * ge_gland_ratio + benq_gland_loss * benq_gland_ratio)\n",
    "        loss = (nodule_loss * nodule_ratio + gland_loss * gland_ratio)\n",
    "        \n",
    "        # get IOU\n",
    "        ge_nodule_IOU = IOU_score(ge_nodule_output, ge_nodule_mask)\n",
    "        ge_gland_IOU = IOU_score(ge_gland_output, ge_gland_mask)\n",
    "        benq_gland_IOU = IOU_score(benq_gland_output, benq_gland_mask)\n",
    "\n",
    "        nodule_IOU = ge_nodule_IOU\n",
    "        gland_IOU = (ge_gland_IOU * ge_gland_ratio + benq_gland_IOU * benq_gland_ratio)\n",
    "        IOU = (nodule_IOU * nodule_ratio + gland_IOU * gland_ratio)\n",
    "\n",
    "        # get DICE\n",
    "        dice_loss = DiceLoss()\n",
    "        \n",
    "        ge_nodule_DICE = 1 - dice_loss(ge_nodule_output, ge_nodule_mask)\n",
    "        ge_gland_DICE = 1 - dice_loss(ge_gland_output, ge_gland_mask)\n",
    "        benq_gland_DICE = 1 - dice_loss(benq_gland_output, benq_gland_mask)\n",
    "\n",
    "        nodule_DICE = ge_nodule_DICE\n",
    "        gland_DICE = (ge_gland_DICE * ge_gland_ratio + benq_gland_DICE * benq_gland_ratio)\n",
    "        DICE = (nodule_DICE * nodule_ratio + gland_DICE * gland_ratio)\n",
    "\n",
    "        \n",
    "        # Backward and optimize\n",
    "        optimizer.zero_grad()   # clear previous gradients\n",
    "        loss.backward()         # compute gradients\n",
    "        optimizer.step()        # update weights\n",
    "\n",
    "        total_loss += loss.item()\n",
    "        total_IOU += IOU.item()\n",
    "        total_DICE += DICE.item()\n",
    "\n",
    "        total_ge_nodule_IOU += ge_nodule_IOU\n",
    "        total_ge_gland_IOU += ge_gland_IOU\n",
    "        total_benq_gland_IOU += benq_gland_IOU\n",
    "\n",
    "        total_ge_nodule_DICE += ge_nodule_DICE\n",
    "        total_ge_gland_DICE += ge_gland_DICE\n",
    "        total_benq_gland_DICE += benq_gland_DICE\n",
    "        count+=1\n",
    "\n",
    "    return total_loss/count, total_IOU/count, total_DICE/count, total_ge_nodule_IOU/count, total_ge_gland_IOU/count, total_benq_gland_IOU/count, total_ge_nodule_DICE/count, total_ge_gland_DICE/count, total_benq_gland_DICE/count\n",
    "\n",
    "\n",
    "# \n",
    "# Only calculate nodule loss, IOU, DICE, because there is no gland data in the testing set\n",
    "def val(dataloader, model, loss_fn, device):\n",
    "    total_loss = 0\n",
    "    total_IOU = 0\n",
    "    total_DICE = 0\n",
    "\n",
    "    total_ge_nodule_IOU = 0\n",
    "    total_ge_gland_IOU = 0\n",
    "    total_benq_gland_IOU = 0\n",
    "    \n",
    "    total_ge_nodule_DICE = 0\n",
    "    total_ge_gland_DICE = 0\n",
    "    total_benq_gland_DICE = 0\n",
    "    \n",
    "    model.train()\n",
    "    model.to(device)\n",
    "    count = 0\n",
    "    for image, mask, from_dataset, mask_type in tqdm(dataloader):\n",
    "        if image == None:\n",
    "            continue\n",
    "        image, mask = image.to(device), mask.to(device)\n",
    "        \n",
    "        outputs = model(image)\n",
    "        \n",
    "        nodule_output = outputs[:, 0:1, :, :]\n",
    "        gland_output = outputs[:, 1:2, :, :]\n",
    "\n",
    "        # get output\n",
    "        ge_nodule_output = nodule_output[(from_dataset == 1) & (mask_type == 1)]\n",
    "        ge_gland_output = gland_output[(from_dataset == 1) & (mask_type == 2)]\n",
    "        benq_gland_output = gland_output[(from_dataset == 2) & (mask_type == 2)]\n",
    "\n",
    "        # get len\n",
    "        ge_nodule_len = ge_nodule_output.shape[0]\n",
    "        ge_gland_len = ge_gland_output.shape[0]\n",
    "        benq_gland_len = benq_gland_output.shape[0]\n",
    "\n",
    "        if ge_nodule_len == 0 or ge_gland_len == 0 or benq_gland_len == 0:\n",
    "            continue\n",
    "        nodule_ratio = ge_nodule_len / (ge_nodule_len + ge_gland_len + benq_gland_len)\n",
    "        gland_ratio = (ge_gland_len + benq_gland_len) / (ge_nodule_len + ge_gland_len + benq_gland_len)\n",
    "        \n",
    "        ge_gland_ratio = ge_gland_len / (ge_gland_len + benq_gland_len)\n",
    "        benq_gland_ratio = benq_gland_len / (ge_gland_len + benq_gland_len)\n",
    "        \n",
    "        # get mask\n",
    "        ge_nodule_mask = mask[(from_dataset == 1) & (mask_type == 1)]\n",
    "        ge_gland_mask = mask[(from_dataset == 1) & (mask_type == 2)]\n",
    "        benq_gland_mask = mask[(from_dataset == 2) & (mask_type == 2)]\n",
    "        \n",
    "        #get loss\n",
    "        ge_nodule_loss = loss_fn(ge_nodule_output, ge_nodule_mask)\n",
    "        ge_gland_loss = loss_fn(ge_gland_output, ge_gland_mask)\n",
    "        benq_gland_loss = loss_fn(benq_gland_output, benq_gland_mask)\n",
    "\n",
    "        nodule_loss = ge_nodule_loss\n",
    "        gland_loss = (ge_gland_loss * ge_gland_ratio + benq_gland_loss * benq_gland_ratio)\n",
    "        loss = (nodule_loss * nodule_ratio + gland_loss * gland_ratio)\n",
    "        \n",
    "        # get IOU\n",
    "        ge_nodule_IOU = IOU_score(ge_nodule_output, ge_nodule_mask)\n",
    "        ge_gland_IOU = IOU_score(ge_gland_output, ge_gland_mask)\n",
    "        benq_gland_IOU = IOU_score(benq_gland_output, benq_gland_mask)\n",
    "\n",
    "        nodule_IOU = ge_nodule_IOU\n",
    "        gland_IOU = (ge_gland_IOU * ge_gland_ratio + benq_gland_IOU * benq_gland_ratio)\n",
    "        IOU = (nodule_IOU * nodule_ratio + gland_IOU * gland_ratio)\n",
    "\n",
    "        # get DICE\n",
    "        dice_loss = DiceLoss()\n",
    "        \n",
    "        ge_nodule_DICE = 1 - dice_loss(ge_nodule_output, ge_nodule_mask)\n",
    "        ge_gland_DICE = 1 - dice_loss(ge_gland_output, ge_gland_mask)\n",
    "        benq_gland_DICE = 1 - dice_loss(benq_gland_output, benq_gland_mask)\n",
    "\n",
    "        nodule_DICE = ge_nodule_DICE\n",
    "        gland_DICE = (ge_gland_DICE * ge_gland_ratio + benq_gland_DICE * benq_gland_ratio)\n",
    "        DICE = (nodule_DICE * nodule_ratio + gland_DICE * gland_ratio)\n",
    "\n",
    "        total_loss += loss.item()\n",
    "        total_IOU += IOU.item()\n",
    "        total_DICE += DICE.item()\n",
    "\n",
    "        total_ge_nodule_IOU += ge_nodule_IOU\n",
    "        total_ge_gland_IOU += ge_gland_IOU\n",
    "        total_benq_gland_IOU += benq_gland_IOU\n",
    "\n",
    "        total_ge_nodule_DICE += ge_nodule_DICE\n",
    "        total_ge_gland_DICE += ge_gland_DICE\n",
    "        total_benq_gland_DICE += benq_gland_DICE\n",
    "        count+=1\n",
    "\n",
    "    return total_loss/count, total_IOU/count, total_DICE/count, total_ge_nodule_IOU/count, total_ge_gland_IOU/count, total_benq_gland_IOU/count, total_ge_nodule_DICE/count, total_ge_gland_DICE/count, total_benq_gland_DICE/count\n",
    "\n",
    "    "
   ]
  },
  {
   "cell_type": "code",
   "execution_count": 11,
   "id": "7d0f2b7c-d1d7-4e78-89cc-d55ab16516f1",
   "metadata": {
    "scrolled": true
   },
   "outputs": [],
   "source": [
    "\n",
    "# inference_name = \"models/Phase 1/Hybrid_crop_DDTI_standardization_aug_affine(0.5)_for_gland\"\n",
    "model = HybridSegModel(in_channels = 1, out_channels = 2, output_size = image_size, layers_num = 3)\n",
    "# checkpoint = torch.load(f\"{inference_name}/best_checkpoint.pth\")\n",
    "# model.load_state_dict(checkpoint['model_state_dict'])\n",
    "# optimizer.load_state_dict(checkpoint['optimizer_state_dict'])\n",
    "# scheduler.load_state_dict(checkpoint['scheduler_state_dict'])"
   ]
  },
  {
   "cell_type": "code",
   "execution_count": 12,
   "id": "680c079b-64b3-4e9c-b05f-8f031d214ecb",
   "metadata": {},
   "outputs": [],
   "source": [
    "# # freeze encoder\n",
    "# for param in model.backbone.parameters():\n",
    "#     param.requires_grad = False"
   ]
  },
  {
   "cell_type": "code",
   "execution_count": 13,
   "id": "3f53eeed-e524-4c53-8e42-db3d746d9e52",
   "metadata": {},
   "outputs": [],
   "source": [
    "\n",
    "epochs = 500\n",
    "lr = 0.01\n",
    "loss_fn = StructureLoss()\n",
    "# loss_fn = TverskyLoss()\n",
    "optimizer = optim.Adam(model.parameters(), lr=lr)\n",
    "# optimizer = optim.AdamW(model.parameters(), lr=lr)\n",
    "scheduler = optim.lr_scheduler.CosineAnnealingLR(optimizer, T_max=epochs)"
   ]
  },
  {
   "cell_type": "code",
   "execution_count": 14,
   "id": "0da10b3f-373c-4e37-a89f-3de7e7be13cf",
   "metadata": {
    "scrolled": true
   },
   "outputs": [
    {
     "data": {
      "text/html": [
       "creating run (0.0s)"
      ],
      "text/plain": [
       "<IPython.core.display.HTML object>"
      ]
     },
     "metadata": {},
     "output_type": "display_data"
    },
    {
     "data": {
      "text/html": [
       "Tracking run with wandb version 0.19.11"
      ],
      "text/plain": [
       "<IPython.core.display.HTML object>"
      ]
     },
     "metadata": {},
     "output_type": "display_data"
    },
    {
     "data": {
      "text/html": [
       "Run data is saved locally in <code>/home/twszbak764/thyroid/code/wandb/run-20250605_133502-yxohgbpk</code>"
      ],
      "text/plain": [
       "<IPython.core.display.HTML object>"
      ]
     },
     "metadata": {},
     "output_type": "display_data"
    },
    {
     "data": {
      "text/html": [
       "Syncing run <strong><a href='https://wandb.ai/s960068sss-ucl/thyroid_ge_benq_from_scratch/runs/yxohgbpk' target=\"_blank\">hybrid_model_ge(nodule_gland)_benq(gland)_from_scratch_v1</a></strong> to <a href='https://wandb.ai/s960068sss-ucl/thyroid_ge_benq_from_scratch' target=\"_blank\">Weights & Biases</a> (<a href='https://wandb.me/developer-guide' target=\"_blank\">docs</a>)<br>"
      ],
      "text/plain": [
       "<IPython.core.display.HTML object>"
      ]
     },
     "metadata": {},
     "output_type": "display_data"
    },
    {
     "data": {
      "text/html": [
       " View project at <a href='https://wandb.ai/s960068sss-ucl/thyroid_ge_benq_from_scratch' target=\"_blank\">https://wandb.ai/s960068sss-ucl/thyroid_ge_benq_from_scratch</a>"
      ],
      "text/plain": [
       "<IPython.core.display.HTML object>"
      ]
     },
     "metadata": {},
     "output_type": "display_data"
    },
    {
     "data": {
      "text/html": [
       " View run at <a href='https://wandb.ai/s960068sss-ucl/thyroid_ge_benq_from_scratch/runs/yxohgbpk' target=\"_blank\">https://wandb.ai/s960068sss-ucl/thyroid_ge_benq_from_scratch/runs/yxohgbpk</a>"
      ],
      "text/plain": [
       "<IPython.core.display.HTML object>"
      ]
     },
     "metadata": {},
     "output_type": "display_data"
    },
    {
     "data": {
      "text/html": [
       "<button onClick=\"this.nextSibling.style.display='block';this.style.display='none';\">Display W&B run</button><iframe src='https://wandb.ai/s960068sss-ucl/thyroid_ge_benq_from_scratch/runs/yxohgbpk?jupyter=true' style='border:none;width:100%;height:420px;display:none;'></iframe>"
      ],
      "text/plain": [
       "<wandb.sdk.wandb_run.Run at 0x7f4d0e7db590>"
      ]
     },
     "execution_count": 14,
     "metadata": {},
     "output_type": "execute_result"
    }
   ],
   "source": [
    "\n",
    "project = \"thyroid_ge_benq_finetune\"\n",
    "name = \"hybrid_model_ge(nodule_gland)_benq(gland)_from_scratch_v1\"\n",
    "# name = \"test\"\n",
    "\n",
    "wandb.init(\n",
    "    project = project,  # Project name in W&B\n",
    "    name = name,       # (optional) specific run name\n",
    "    config={                     # (optional) hyperparameters\n",
    "        \"image_size\": image_size,\n",
    "        \"learning_rate\": lr,\n",
    "        \"epochs\": epochs,\n",
    "        \"batch_size\": batch_size,\n",
    "        # \"weight_decay\":1e-4\n",
    "    }\n",
    ")"
   ]
  },
  {
   "cell_type": "code",
   "execution_count": 15,
   "id": "e33af555-b222-4002-a981-e8ff436d6898",
   "metadata": {},
   "outputs": [
    {
     "name": "stdout",
     "output_type": "stream",
     "text": [
      "image size : 128, lr : 0.005, epochs : 500, batch size : 128\n"
     ]
    }
   ],
   "source": [
    "print(f\"image size : {image_size}, lr : {lr}, epochs : {epochs}, batch size : {batch_size}\")"
   ]
  },
  {
   "cell_type": "code",
   "execution_count": 16,
   "id": "be607e4f-fff9-4ade-afdd-8c73bcdbeb23",
   "metadata": {
    "scrolled": true
   },
   "outputs": [
    {
     "name": "stdout",
     "output_type": "stream",
     "text": [
      "epoch : 0\n"
     ]
    },
    {
     "name": "stderr",
     "output_type": "stream",
     "text": [
      "/home/twszbak764/miniconda3/envs/thyroid/lib/python3.12/site-packages/torch/nn/_reduction.py:51: UserWarning: size_average and reduce args will be deprecated, please use reduction='mean' instead.\n",
      "  warnings.warn(warning.format(ret))\n",
      "100%|██████████| 7/7 [00:11<00:00,  1.62s/it]\n"
     ]
    },
    {
     "name": "stdout",
     "output_type": "stream",
     "text": [
      "train loss : 1.1061830009732927, train IOU : 0.19246906294886554, train DICE : 0.24166934617928096\n"
     ]
    },
    {
     "name": "stderr",
     "output_type": "stream",
     "text": [
      "100%|██████████| 2/2 [00:02<00:00,  1.29s/it]\n"
     ]
    },
    {
     "name": "stdout",
     "output_type": "stream",
     "text": [
      "val loss : 0.9255535900592804, val IOU : 0.38798287510871887, val DICE : 0.40310001373291016\n",
      "epoch : 1\n"
     ]
    },
    {
     "name": "stderr",
     "output_type": "stream",
     "text": [
      "100%|██████████| 7/7 [00:10<00:00,  1.45s/it]\n"
     ]
    },
    {
     "name": "stdout",
     "output_type": "stream",
     "text": [
      "train loss : 0.7573035359382629, train IOU : 0.42122564145496916, train DICE : 0.4940377814429147\n"
     ]
    },
    {
     "name": "stderr",
     "output_type": "stream",
     "text": [
      "100%|██████████| 2/2 [00:02<00:00,  1.31s/it]\n"
     ]
    },
    {
     "name": "stdout",
     "output_type": "stream",
     "text": [
      "val loss : 0.9428499341011047, val IOU : 0.4147159457206726, val DICE : 0.5093801021575928\n",
      "epoch : 2\n"
     ]
    },
    {
     "name": "stderr",
     "output_type": "stream",
     "text": [
      "100%|██████████| 7/7 [00:10<00:00,  1.44s/it]\n"
     ]
    },
    {
     "name": "stdout",
     "output_type": "stream",
     "text": [
      "train loss : 0.6381292683737618, train IOU : 0.4775890793119158, train DICE : 0.5885524834905352\n"
     ]
    },
    {
     "name": "stderr",
     "output_type": "stream",
     "text": [
      "100%|██████████| 2/2 [00:02<00:00,  1.30s/it]\n"
     ]
    },
    {
     "name": "stdout",
     "output_type": "stream",
     "text": [
      "val loss : 0.8061575591564178, val IOU : 0.47990214824676514, val DICE : 0.5796007513999939\n",
      "epoch : 3\n"
     ]
    },
    {
     "name": "stderr",
     "output_type": "stream",
     "text": [
      "100%|██████████| 7/7 [00:10<00:00,  1.44s/it]\n"
     ]
    },
    {
     "name": "stdout",
     "output_type": "stream",
     "text": [
      "train loss : 0.5791084269682566, train IOU : 0.5208430290222168, train DICE : 0.644088864326477\n"
     ]
    },
    {
     "name": "stderr",
     "output_type": "stream",
     "text": [
      "100%|██████████| 2/2 [00:02<00:00,  1.28s/it]\n"
     ]
    },
    {
     "name": "stdout",
     "output_type": "stream",
     "text": [
      "val loss : 0.8020357489585876, val IOU : 0.46376438438892365, val DICE : 0.5782224535942078\n",
      "epoch : 4\n"
     ]
    },
    {
     "name": "stderr",
     "output_type": "stream",
     "text": [
      "100%|██████████| 7/7 [00:10<00:00,  1.45s/it]\n"
     ]
    },
    {
     "name": "stdout",
     "output_type": "stream",
     "text": [
      "train loss : 0.5113373909677777, train IOU : 0.5684030396597726, train DICE : 0.6959765638623919\n"
     ]
    },
    {
     "name": "stderr",
     "output_type": "stream",
     "text": [
      "100%|██████████| 2/2 [00:02<00:00,  1.30s/it]\n"
     ]
    },
    {
     "name": "stdout",
     "output_type": "stream",
     "text": [
      "val loss : 0.8418375849723816, val IOU : 0.4677165150642395, val DICE : 0.5879263579845428\n",
      "epoch : 5\n"
     ]
    },
    {
     "name": "stderr",
     "output_type": "stream",
     "text": [
      "100%|██████████| 7/7 [00:10<00:00,  1.45s/it]\n"
     ]
    },
    {
     "name": "stdout",
     "output_type": "stream",
     "text": [
      "train loss : 0.4579337750162397, train IOU : 0.6122110741479057, train DICE : 0.7392337577683585\n"
     ]
    },
    {
     "name": "stderr",
     "output_type": "stream",
     "text": [
      "100%|██████████| 2/2 [00:02<00:00,  1.32s/it]\n"
     ]
    },
    {
     "name": "stdout",
     "output_type": "stream",
     "text": [
      "val loss : 0.8095763027667999, val IOU : 0.47786006331443787, val DICE : 0.5991316437721252\n",
      "epoch : 6\n"
     ]
    },
    {
     "name": "stderr",
     "output_type": "stream",
     "text": [
      "100%|██████████| 7/7 [00:10<00:00,  1.44s/it]\n"
     ]
    },
    {
     "name": "stdout",
     "output_type": "stream",
     "text": [
      "train loss : 0.44711398226874216, train IOU : 0.6177494951656887, train DICE : 0.7465190546853202\n"
     ]
    },
    {
     "name": "stderr",
     "output_type": "stream",
     "text": [
      "100%|██████████| 2/2 [00:02<00:00,  1.28s/it]\n"
     ]
    },
    {
     "name": "stdout",
     "output_type": "stream",
     "text": [
      "val loss : 0.9390868246555328, val IOU : 0.4613102078437805, val DICE : 0.5574427247047424\n",
      "epoch : 7\n"
     ]
    },
    {
     "name": "stderr",
     "output_type": "stream",
     "text": [
      "100%|██████████| 7/7 [00:09<00:00,  1.42s/it]\n"
     ]
    },
    {
     "name": "stdout",
     "output_type": "stream",
     "text": [
      "train loss : 0.4347602476676305, train IOU : 0.6297760903835297, train DICE : 0.755761593580246\n"
     ]
    },
    {
     "name": "stderr",
     "output_type": "stream",
     "text": [
      "100%|██████████| 2/2 [00:02<00:00,  1.28s/it]\n"
     ]
    },
    {
     "name": "stdout",
     "output_type": "stream",
     "text": [
      "val loss : 0.9063688218593597, val IOU : 0.472848579287529, val DICE : 0.5836342573165894\n",
      "epoch : 8\n"
     ]
    },
    {
     "name": "stderr",
     "output_type": "stream",
     "text": [
      "100%|██████████| 7/7 [00:09<00:00,  1.42s/it]\n"
     ]
    },
    {
     "name": "stdout",
     "output_type": "stream",
     "text": [
      "train loss : 0.3984314927033016, train IOU : 0.6700297168322972, train DICE : 0.7817007218088422\n"
     ]
    },
    {
     "name": "stderr",
     "output_type": "stream",
     "text": [
      "100%|██████████| 2/2 [00:02<00:00,  1.27s/it]\n"
     ]
    },
    {
     "name": "stdout",
     "output_type": "stream",
     "text": [
      "val loss : 0.8338223695755005, val IOU : 0.4809764623641968, val DICE : 0.589195042848587\n",
      "epoch : 9\n"
     ]
    },
    {
     "name": "stderr",
     "output_type": "stream",
     "text": [
      "100%|██████████| 7/7 [00:10<00:00,  1.45s/it]\n"
     ]
    },
    {
     "name": "stdout",
     "output_type": "stream",
     "text": [
      "train loss : 0.3633263622011457, train IOU : 0.6896085824285235, train DICE : 0.8057111161095756\n"
     ]
    },
    {
     "name": "stderr",
     "output_type": "stream",
     "text": [
      "100%|██████████| 2/2 [00:02<00:00,  1.29s/it]\n"
     ]
    },
    {
     "name": "stdout",
     "output_type": "stream",
     "text": [
      "val loss : 0.8887215554714203, val IOU : 0.503896951675415, val DICE : 0.6052461862564087\n",
      "epoch : 10\n"
     ]
    },
    {
     "name": "stderr",
     "output_type": "stream",
     "text": [
      "100%|██████████| 7/7 [00:10<00:00,  1.43s/it]\n"
     ]
    },
    {
     "name": "stdout",
     "output_type": "stream",
     "text": [
      "train loss : 0.34694591590336393, train IOU : 0.7125659499849591, train DICE : 0.823062104838235\n"
     ]
    },
    {
     "name": "stderr",
     "output_type": "stream",
     "text": [
      "100%|██████████| 2/2 [00:02<00:00,  1.27s/it]\n"
     ]
    },
    {
     "name": "stdout",
     "output_type": "stream",
     "text": [
      "val loss : 0.848704606294632, val IOU : 0.5102716386318207, val DICE : 0.6240949928760529\n",
      "epoch : 11\n"
     ]
    },
    {
     "name": "stderr",
     "output_type": "stream",
     "text": [
      "100%|██████████| 7/7 [00:09<00:00,  1.42s/it]\n"
     ]
    },
    {
     "name": "stdout",
     "output_type": "stream",
     "text": [
      "train loss : 0.32394376397132874, train IOU : 0.7313402806009565, train DICE : 0.8328279001372201\n"
     ]
    },
    {
     "name": "stderr",
     "output_type": "stream",
     "text": [
      "100%|██████████| 2/2 [00:02<00:00,  1.28s/it]\n"
     ]
    },
    {
     "name": "stdout",
     "output_type": "stream",
     "text": [
      "val loss : 0.9698421657085419, val IOU : 0.4683443009853363, val DICE : 0.5889927446842194\n",
      "epoch : 12\n"
     ]
    },
    {
     "name": "stderr",
     "output_type": "stream",
     "text": [
      "100%|██████████| 7/7 [00:10<00:00,  1.45s/it]\n"
     ]
    },
    {
     "name": "stdout",
     "output_type": "stream",
     "text": [
      "train loss : 0.294048262493951, train IOU : 0.7605230978557042, train DICE : 0.8550675596509661\n"
     ]
    },
    {
     "name": "stderr",
     "output_type": "stream",
     "text": [
      "100%|██████████| 2/2 [00:02<00:00,  1.29s/it]\n"
     ]
    },
    {
     "name": "stdout",
     "output_type": "stream",
     "text": [
      "val loss : 1.0059276819229126, val IOU : 0.49093079566955566, val DICE : 0.6137703359127045\n",
      "epoch : 13\n"
     ]
    },
    {
     "name": "stderr",
     "output_type": "stream",
     "text": [
      "100%|██████████| 7/7 [00:10<00:00,  1.46s/it]\n"
     ]
    },
    {
     "name": "stdout",
     "output_type": "stream",
     "text": [
      "train loss : 0.2951168765624364, train IOU : 0.7527189751466116, train DICE : 0.8544906874497732\n"
     ]
    },
    {
     "name": "stderr",
     "output_type": "stream",
     "text": [
      "100%|██████████| 2/2 [00:02<00:00,  1.27s/it]\n"
     ]
    },
    {
     "name": "stdout",
     "output_type": "stream",
     "text": [
      "val loss : 0.8305252492427826, val IOU : 0.5492863357067108, val DICE : 0.6630208790302277\n",
      "epoch : 14\n"
     ]
    },
    {
     "name": "stderr",
     "output_type": "stream",
     "text": [
      "100%|██████████| 7/7 [00:10<00:00,  1.43s/it]\n"
     ]
    },
    {
     "name": "stdout",
     "output_type": "stream",
     "text": [
      "train loss : 0.26938155932085855, train IOU : 0.7787066527775356, train DICE : 0.869528089250837\n"
     ]
    },
    {
     "name": "stderr",
     "output_type": "stream",
     "text": [
      "100%|██████████| 2/2 [00:02<00:00,  1.27s/it]\n"
     ]
    },
    {
     "name": "stdout",
     "output_type": "stream",
     "text": [
      "val loss : 0.7452090680599213, val IOU : 0.5537046194076538, val DICE : 0.6606141924858093\n",
      "epoch : 15\n"
     ]
    },
    {
     "name": "stderr",
     "output_type": "stream",
     "text": [
      "100%|██████████| 7/7 [00:09<00:00,  1.43s/it]\n"
     ]
    },
    {
     "name": "stdout",
     "output_type": "stream",
     "text": [
      "train loss : 0.26899652431408566, train IOU : 0.7774145503838857, train DICE : 0.8669251104195913\n"
     ]
    },
    {
     "name": "stderr",
     "output_type": "stream",
     "text": [
      "100%|██████████| 2/2 [00:02<00:00,  1.28s/it]\n"
     ]
    },
    {
     "name": "stdout",
     "output_type": "stream",
     "text": [
      "val loss : 0.8766781389713287, val IOU : 0.5436825454235077, val DICE : 0.6625569462776184\n",
      "epoch : 16\n"
     ]
    },
    {
     "name": "stderr",
     "output_type": "stream",
     "text": [
      "100%|██████████| 7/7 [00:10<00:00,  1.45s/it]\n"
     ]
    },
    {
     "name": "stdout",
     "output_type": "stream",
     "text": [
      "train loss : 0.24545625490801676, train IOU : 0.7984668612480164, train DICE : 0.8823549236570086\n"
     ]
    },
    {
     "name": "stderr",
     "output_type": "stream",
     "text": [
      "100%|██████████| 2/2 [00:02<00:00,  1.29s/it]\n"
     ]
    },
    {
     "name": "stdout",
     "output_type": "stream",
     "text": [
      "val loss : 1.0329569280147552, val IOU : 0.5315855443477631, val DICE : 0.6488494277000427\n",
      "epoch : 17\n"
     ]
    },
    {
     "name": "stderr",
     "output_type": "stream",
     "text": [
      "100%|██████████| 7/7 [00:10<00:00,  1.45s/it]\n"
     ]
    },
    {
     "name": "stdout",
     "output_type": "stream",
     "text": [
      "train loss : 0.23573164216109685, train IOU : 0.8075127942221505, train DICE : 0.8885969945362636\n"
     ]
    },
    {
     "name": "stderr",
     "output_type": "stream",
     "text": [
      "100%|██████████| 2/2 [00:02<00:00,  1.30s/it]\n"
     ]
    },
    {
     "name": "stdout",
     "output_type": "stream",
     "text": [
      "val loss : 0.8961763978004456, val IOU : 0.5394467413425446, val DICE : 0.6628913581371307\n",
      "epoch : 18\n"
     ]
    },
    {
     "name": "stderr",
     "output_type": "stream",
     "text": [
      "100%|██████████| 7/7 [00:09<00:00,  1.42s/it]\n"
     ]
    },
    {
     "name": "stdout",
     "output_type": "stream",
     "text": [
      "train loss : 0.22067779302597046, train IOU : 0.8224584204810006, train DICE : 0.8976265447480338\n"
     ]
    },
    {
     "name": "stderr",
     "output_type": "stream",
     "text": [
      "100%|██████████| 2/2 [00:02<00:00,  1.27s/it]\n"
     ]
    },
    {
     "name": "stdout",
     "output_type": "stream",
     "text": [
      "val loss : 0.9705576300621033, val IOU : 0.5303567945957184, val DICE : 0.6442880034446716\n",
      "epoch : 19\n"
     ]
    },
    {
     "name": "stderr",
     "output_type": "stream",
     "text": [
      "100%|██████████| 7/7 [00:10<00:00,  1.43s/it]\n"
     ]
    },
    {
     "name": "stdout",
     "output_type": "stream",
     "text": [
      "train loss : 0.21988009554999216, train IOU : 0.8099653806005206, train DICE : 0.8923313702855792\n"
     ]
    },
    {
     "name": "stderr",
     "output_type": "stream",
     "text": [
      "100%|██████████| 2/2 [00:02<00:00,  1.27s/it]\n"
     ]
    },
    {
     "name": "stdout",
     "output_type": "stream",
     "text": [
      "val loss : 0.8709600865840912, val IOU : 0.5545057654380798, val DICE : 0.6730036735534668\n",
      "epoch : 20\n"
     ]
    },
    {
     "name": "stderr",
     "output_type": "stream",
     "text": [
      "100%|██████████| 7/7 [00:10<00:00,  1.46s/it]\n"
     ]
    },
    {
     "name": "stdout",
     "output_type": "stream",
     "text": [
      "train loss : 0.22959029035908834, train IOU : 0.8111192498888288, train DICE : 0.8926895260810852\n"
     ]
    },
    {
     "name": "stderr",
     "output_type": "stream",
     "text": [
      "100%|██████████| 2/2 [00:02<00:00,  1.27s/it]\n"
     ]
    },
    {
     "name": "stdout",
     "output_type": "stream",
     "text": [
      "val loss : 0.9114182591438293, val IOU : 0.5555715560913086, val DICE : 0.6728264689445496\n",
      "epoch : 21\n"
     ]
    },
    {
     "name": "stderr",
     "output_type": "stream",
     "text": [
      "100%|██████████| 7/7 [00:10<00:00,  1.44s/it]\n"
     ]
    },
    {
     "name": "stdout",
     "output_type": "stream",
     "text": [
      "train loss : 0.21956267527171544, train IOU : 0.8177574106625148, train DICE : 0.8962201646396092\n"
     ]
    },
    {
     "name": "stderr",
     "output_type": "stream",
     "text": [
      "100%|██████████| 2/2 [00:02<00:00,  1.27s/it]\n"
     ]
    },
    {
     "name": "stdout",
     "output_type": "stream",
     "text": [
      "val loss : 1.0649994611740112, val IOU : 0.5301568806171417, val DICE : 0.6353787183761597\n",
      "epoch : 22\n"
     ]
    },
    {
     "name": "stderr",
     "output_type": "stream",
     "text": [
      "100%|██████████| 7/7 [00:10<00:00,  1.43s/it]\n"
     ]
    },
    {
     "name": "stdout",
     "output_type": "stream",
     "text": [
      "train loss : 0.23059957580907003, train IOU : 0.8110780715942383, train DICE : 0.8880017059189933\n"
     ]
    },
    {
     "name": "stderr",
     "output_type": "stream",
     "text": [
      "100%|██████████| 2/2 [00:02<00:00,  1.27s/it]\n"
     ]
    },
    {
     "name": "stdout",
     "output_type": "stream",
     "text": [
      "val loss : 0.9866710901260376, val IOU : 0.551599383354187, val DICE : 0.6721323728561401\n",
      "epoch : 23\n"
     ]
    },
    {
     "name": "stderr",
     "output_type": "stream",
     "text": [
      "100%|██████████| 7/7 [00:10<00:00,  1.44s/it]\n"
     ]
    },
    {
     "name": "stdout",
     "output_type": "stream",
     "text": [
      "train loss : 0.21954494288989476, train IOU : 0.8118803926876613, train DICE : 0.8901047110557556\n"
     ]
    },
    {
     "name": "stderr",
     "output_type": "stream",
     "text": [
      "100%|██████████| 2/2 [00:02<00:00,  1.29s/it]\n"
     ]
    },
    {
     "name": "stdout",
     "output_type": "stream",
     "text": [
      "val loss : 0.9019665718078613, val IOU : 0.5734015703201294, val DICE : 0.6889221966266632\n",
      "epoch : 24\n"
     ]
    },
    {
     "name": "stderr",
     "output_type": "stream",
     "text": [
      "100%|██████████| 7/7 [00:10<00:00,  1.46s/it]\n"
     ]
    },
    {
     "name": "stdout",
     "output_type": "stream",
     "text": [
      "train loss : 0.238131759422166, train IOU : 0.7985048804964338, train DICE : 0.8816306931631905\n"
     ]
    },
    {
     "name": "stderr",
     "output_type": "stream",
     "text": [
      "100%|██████████| 2/2 [00:02<00:00,  1.27s/it]\n"
     ]
    },
    {
     "name": "stdout",
     "output_type": "stream",
     "text": [
      "val loss : 0.9592742025852203, val IOU : 0.5524670481681824, val DICE : 0.6712495684623718\n",
      "epoch : 25\n"
     ]
    },
    {
     "name": "stderr",
     "output_type": "stream",
     "text": [
      "100%|██████████| 7/7 [00:10<00:00,  1.45s/it]\n"
     ]
    },
    {
     "name": "stdout",
     "output_type": "stream",
     "text": [
      "train loss : 0.2221620104142598, train IOU : 0.8225376861436027, train DICE : 0.896838366985321\n"
     ]
    },
    {
     "name": "stderr",
     "output_type": "stream",
     "text": [
      "100%|██████████| 2/2 [00:02<00:00,  1.30s/it]\n"
     ]
    },
    {
     "name": "stdout",
     "output_type": "stream",
     "text": [
      "val loss : 0.8160344958305359, val IOU : 0.5758456587791443, val DICE : 0.6979488134384155\n",
      "epoch : 26\n"
     ]
    },
    {
     "name": "stderr",
     "output_type": "stream",
     "text": [
      "100%|██████████| 7/7 [00:10<00:00,  1.45s/it]\n"
     ]
    },
    {
     "name": "stdout",
     "output_type": "stream",
     "text": [
      "train loss : 0.23125619334833963, train IOU : 0.8078126396451678, train DICE : 0.8896996378898621\n"
     ]
    },
    {
     "name": "stderr",
     "output_type": "stream",
     "text": [
      "100%|██████████| 2/2 [00:02<00:00,  1.32s/it]\n"
     ]
    },
    {
     "name": "stdout",
     "output_type": "stream",
     "text": [
      "val loss : 0.9492957592010498, val IOU : 0.5563908219337463, val DICE : 0.6707368791103363\n",
      "epoch : 27\n"
     ]
    },
    {
     "name": "stderr",
     "output_type": "stream",
     "text": [
      "100%|██████████| 7/7 [00:10<00:00,  1.45s/it]\n"
     ]
    },
    {
     "name": "stdout",
     "output_type": "stream",
     "text": [
      "train loss : 0.20622759560743967, train IOU : 0.8303290704886118, train DICE : 0.904049297173818\n"
     ]
    },
    {
     "name": "stderr",
     "output_type": "stream",
     "text": [
      "100%|██████████| 2/2 [00:02<00:00,  1.32s/it]\n"
     ]
    },
    {
     "name": "stdout",
     "output_type": "stream",
     "text": [
      "val loss : 0.8548884689807892, val IOU : 0.5808506011962891, val DICE : 0.6948679983615875\n",
      "epoch : 28\n"
     ]
    },
    {
     "name": "stderr",
     "output_type": "stream",
     "text": [
      "100%|██████████| 7/7 [00:10<00:00,  1.45s/it]\n"
     ]
    },
    {
     "name": "stdout",
     "output_type": "stream",
     "text": [
      "train loss : 0.18958917756875357, train IOU : 0.8416121105353037, train DICE : 0.9118075966835022\n"
     ]
    },
    {
     "name": "stderr",
     "output_type": "stream",
     "text": [
      "100%|██████████| 2/2 [00:02<00:00,  1.30s/it]\n"
     ]
    },
    {
     "name": "stdout",
     "output_type": "stream",
     "text": [
      "val loss : 0.9191184639930725, val IOU : 0.5769429206848145, val DICE : 0.6943793296813965\n",
      "epoch : 29\n"
     ]
    },
    {
     "name": "stderr",
     "output_type": "stream",
     "text": [
      "100%|██████████| 7/7 [00:10<00:00,  1.44s/it]\n"
     ]
    },
    {
     "name": "stdout",
     "output_type": "stream",
     "text": [
      "train loss : 0.17489390713827951, train IOU : 0.8520147459847587, train DICE : 0.9194856200899396\n"
     ]
    },
    {
     "name": "stderr",
     "output_type": "stream",
     "text": [
      "100%|██████████| 2/2 [00:02<00:00,  1.26s/it]\n"
     ]
    },
    {
     "name": "stdout",
     "output_type": "stream",
     "text": [
      "val loss : 0.9760603606700897, val IOU : 0.5901541411876678, val DICE : 0.7117370069026947\n",
      "epoch : 30\n"
     ]
    },
    {
     "name": "stderr",
     "output_type": "stream",
     "text": [
      "100%|██████████| 7/7 [00:10<00:00,  1.43s/it]\n"
     ]
    },
    {
     "name": "stdout",
     "output_type": "stream",
     "text": [
      "train loss : 0.1746991624434789, train IOU : 0.8544871310393015, train DICE : 0.9207113782564799\n"
     ]
    },
    {
     "name": "stderr",
     "output_type": "stream",
     "text": [
      "100%|██████████| 2/2 [00:02<00:00,  1.28s/it]\n"
     ]
    },
    {
     "name": "stdout",
     "output_type": "stream",
     "text": [
      "val loss : 1.0846911668777466, val IOU : 0.5729640424251556, val DICE : 0.6935537457466125\n",
      "epoch : 31\n"
     ]
    },
    {
     "name": "stderr",
     "output_type": "stream",
     "text": [
      "100%|██████████| 7/7 [00:09<00:00,  1.42s/it]\n"
     ]
    },
    {
     "name": "stdout",
     "output_type": "stream",
     "text": [
      "train loss : 0.16344283946922847, train IOU : 0.8651882239750454, train DICE : 0.9261875833783831\n"
     ]
    },
    {
     "name": "stderr",
     "output_type": "stream",
     "text": [
      "100%|██████████| 2/2 [00:02<00:00,  1.28s/it]\n"
     ]
    },
    {
     "name": "stdout",
     "output_type": "stream",
     "text": [
      "val loss : 1.1691128611564636, val IOU : 0.562908262014389, val DICE : 0.6797201037406921\n",
      "epoch : 32\n"
     ]
    },
    {
     "name": "stderr",
     "output_type": "stream",
     "text": [
      "100%|██████████| 7/7 [00:09<00:00,  1.42s/it]\n"
     ]
    },
    {
     "name": "stdout",
     "output_type": "stream",
     "text": [
      "train loss : 0.16063162684440613, train IOU : 0.8663386404514313, train DICE : 0.928622325261434\n"
     ]
    },
    {
     "name": "stderr",
     "output_type": "stream",
     "text": [
      "100%|██████████| 2/2 [00:02<00:00,  1.27s/it]\n"
     ]
    },
    {
     "name": "stdout",
     "output_type": "stream",
     "text": [
      "val loss : 1.037543386220932, val IOU : 0.5726715922355652, val DICE : 0.6996799111366272\n",
      "epoch : 33\n"
     ]
    },
    {
     "name": "stderr",
     "output_type": "stream",
     "text": [
      "100%|██████████| 7/7 [00:10<00:00,  1.44s/it]\n"
     ]
    },
    {
     "name": "stdout",
     "output_type": "stream",
     "text": [
      "train loss : 0.15514490646975382, train IOU : 0.8718187212944031, train DICE : 0.9302283270018441\n"
     ]
    },
    {
     "name": "stderr",
     "output_type": "stream",
     "text": [
      "100%|██████████| 2/2 [00:02<00:00,  1.27s/it]\n"
     ]
    },
    {
     "name": "stdout",
     "output_type": "stream",
     "text": [
      "val loss : 0.9209968447685242, val IOU : 0.5980736613273621, val DICE : 0.7177795767784119\n",
      "epoch : 34\n"
     ]
    },
    {
     "name": "stderr",
     "output_type": "stream",
     "text": [
      "100%|██████████| 7/7 [00:10<00:00,  1.43s/it]\n"
     ]
    },
    {
     "name": "stdout",
     "output_type": "stream",
     "text": [
      "train loss : 0.1518387006861823, train IOU : 0.8741776176861354, train DICE : 0.931483805179596\n"
     ]
    },
    {
     "name": "stderr",
     "output_type": "stream",
     "text": [
      "100%|██████████| 2/2 [00:02<00:00,  1.28s/it]\n"
     ]
    },
    {
     "name": "stdout",
     "output_type": "stream",
     "text": [
      "val loss : 1.2388795018196106, val IOU : 0.562322348356247, val DICE : 0.6828156411647797\n",
      "epoch : 35\n"
     ]
    },
    {
     "name": "stderr",
     "output_type": "stream",
     "text": [
      "100%|██████████| 7/7 [00:10<00:00,  1.44s/it]\n"
     ]
    },
    {
     "name": "stdout",
     "output_type": "stream",
     "text": [
      "train loss : 0.15175339579582214, train IOU : 0.8720454829079765, train DICE : 0.9311391881534031\n"
     ]
    },
    {
     "name": "stderr",
     "output_type": "stream",
     "text": [
      "100%|██████████| 2/2 [00:02<00:00,  1.27s/it]\n"
     ]
    },
    {
     "name": "stdout",
     "output_type": "stream",
     "text": [
      "val loss : 1.1343151330947876, val IOU : 0.580658495426178, val DICE : 0.701179563999176\n",
      "epoch : 36\n"
     ]
    },
    {
     "name": "stderr",
     "output_type": "stream",
     "text": [
      "100%|██████████| 7/7 [00:10<00:00,  1.46s/it]\n"
     ]
    },
    {
     "name": "stdout",
     "output_type": "stream",
     "text": [
      "train loss : 0.15901157472814834, train IOU : 0.8633274521146502, train DICE : 0.9276055949074882\n"
     ]
    },
    {
     "name": "stderr",
     "output_type": "stream",
     "text": [
      "100%|██████████| 2/2 [00:02<00:00,  1.27s/it]\n"
     ]
    },
    {
     "name": "stdout",
     "output_type": "stream",
     "text": [
      "val loss : 1.0817716717720032, val IOU : 0.5863194167613983, val DICE : 0.7090869843959808\n",
      "epoch : 37\n"
     ]
    },
    {
     "name": "stderr",
     "output_type": "stream",
     "text": [
      "100%|██████████| 7/7 [00:09<00:00,  1.43s/it]\n"
     ]
    },
    {
     "name": "stdout",
     "output_type": "stream",
     "text": [
      "train loss : 0.17360338355813706, train IOU : 0.8545251148087638, train DICE : 0.9231544477599007\n"
     ]
    },
    {
     "name": "stderr",
     "output_type": "stream",
     "text": [
      "100%|██████████| 2/2 [00:02<00:00,  1.26s/it]\n"
     ]
    },
    {
     "name": "stdout",
     "output_type": "stream",
     "text": [
      "val loss : 0.8525267243385315, val IOU : 0.5995767414569855, val DICE : 0.7200961112976074\n",
      "epoch : 38\n"
     ]
    },
    {
     "name": "stderr",
     "output_type": "stream",
     "text": [
      "100%|██████████| 7/7 [00:10<00:00,  1.46s/it]\n"
     ]
    },
    {
     "name": "stdout",
     "output_type": "stream",
     "text": [
      "train loss : 0.16792331423078263, train IOU : 0.8622207641601562, train DICE : 0.9256296583584377\n"
     ]
    },
    {
     "name": "stderr",
     "output_type": "stream",
     "text": [
      "100%|██████████| 2/2 [00:02<00:00,  1.28s/it]\n"
     ]
    },
    {
     "name": "stdout",
     "output_type": "stream",
     "text": [
      "val loss : 0.9439628720283508, val IOU : 0.5768761336803436, val DICE : 0.6953763067722321\n",
      "epoch : 39\n"
     ]
    },
    {
     "name": "stderr",
     "output_type": "stream",
     "text": [
      "100%|██████████| 7/7 [00:09<00:00,  1.42s/it]\n"
     ]
    },
    {
     "name": "stdout",
     "output_type": "stream",
     "text": [
      "train loss : 0.16143366694450378, train IOU : 0.8668426672617594, train DICE : 0.9288857479890188\n"
     ]
    },
    {
     "name": "stderr",
     "output_type": "stream",
     "text": [
      "100%|██████████| 2/2 [00:02<00:00,  1.26s/it]\n"
     ]
    },
    {
     "name": "stdout",
     "output_type": "stream",
     "text": [
      "val loss : 0.9437248706817627, val IOU : 0.5997393727302551, val DICE : 0.7269632816314697\n",
      "epoch : 40\n"
     ]
    },
    {
     "name": "stderr",
     "output_type": "stream",
     "text": [
      "100%|██████████| 7/7 [00:10<00:00,  1.45s/it]\n"
     ]
    },
    {
     "name": "stdout",
     "output_type": "stream",
     "text": [
      "train loss : 0.1521209946700505, train IOU : 0.8752283368791852, train DICE : 0.9327977129391262\n"
     ]
    },
    {
     "name": "stderr",
     "output_type": "stream",
     "text": [
      "100%|██████████| 2/2 [00:02<00:00,  1.31s/it]\n"
     ]
    },
    {
     "name": "stdout",
     "output_type": "stream",
     "text": [
      "val loss : 0.9537404179573059, val IOU : 0.6036620438098907, val DICE : 0.7258768975734711\n",
      "epoch : 41\n"
     ]
    },
    {
     "name": "stderr",
     "output_type": "stream",
     "text": [
      "100%|██████████| 7/7 [00:10<00:00,  1.45s/it]\n"
     ]
    },
    {
     "name": "stdout",
     "output_type": "stream",
     "text": [
      "train loss : 0.14659434769834792, train IOU : 0.8725533826010567, train DICE : 0.9335985950061253\n"
     ]
    },
    {
     "name": "stderr",
     "output_type": "stream",
     "text": [
      "100%|██████████| 2/2 [00:02<00:00,  1.27s/it]\n"
     ]
    },
    {
     "name": "stdout",
     "output_type": "stream",
     "text": [
      "val loss : 1.440877079963684, val IOU : 0.533738374710083, val DICE : 0.6513237953186035\n",
      "epoch : 42\n"
     ]
    },
    {
     "name": "stderr",
     "output_type": "stream",
     "text": [
      " 71%|███████▏  | 5/7 [00:09<00:03,  1.83s/it]\n"
     ]
    },
    {
     "ename": "KeyboardInterrupt",
     "evalue": "",
     "output_type": "error",
     "traceback": [
      "\u001b[31m---------------------------------------------------------------------------\u001b[39m",
      "\u001b[31mKeyboardInterrupt\u001b[39m                         Traceback (most recent call last)",
      "\u001b[36mCell\u001b[39m\u001b[36m \u001b[39m\u001b[32mIn[16]\u001b[39m\u001b[32m, line 4\u001b[39m\n\u001b[32m      2\u001b[39m \u001b[38;5;28;01mfor\u001b[39;00m epoch \u001b[38;5;129;01min\u001b[39;00m \u001b[38;5;28mrange\u001b[39m(epochs):\n\u001b[32m      3\u001b[39m     \u001b[38;5;28mprint\u001b[39m(\u001b[33mf\u001b[39m\u001b[33m\"\u001b[39m\u001b[33mepoch : \u001b[39m\u001b[38;5;132;01m{\u001b[39;00mepoch\u001b[38;5;132;01m}\u001b[39;00m\u001b[33m\"\u001b[39m)\n\u001b[32m----> \u001b[39m\u001b[32m4\u001b[39m     total_loss_train, total_IOU_train, total_DICE_train, ge_nodule_IOU_train, ge_gland_IOU_train, benq_gland_IOU_train, ge_nodule_DICE_train, ge_gland_DICE_train, benq_gland_DICE_train = train(train_dataloader, model, optimizer, loss_fn, \u001b[33m\"\u001b[39m\u001b[33mcuda\u001b[39m\u001b[33m\"\u001b[39m)\n\u001b[32m      5\u001b[39m     \u001b[38;5;28mprint\u001b[39m(\u001b[33mf\u001b[39m\u001b[33m\"\u001b[39m\u001b[33mtrain loss : \u001b[39m\u001b[38;5;132;01m{\u001b[39;00mtotal_loss_train\u001b[38;5;132;01m}\u001b[39;00m\u001b[33m, train IOU : \u001b[39m\u001b[38;5;132;01m{\u001b[39;00mtotal_IOU_train\u001b[38;5;132;01m}\u001b[39;00m\u001b[33m, train DICE : \u001b[39m\u001b[38;5;132;01m{\u001b[39;00mtotal_DICE_train\u001b[38;5;132;01m}\u001b[39;00m\u001b[33m\"\u001b[39m)\n\u001b[32m      6\u001b[39m     total_loss_val, total_IOU_val, total_DICE_val, ge_nodule_IOU_val, ge_gland_IOU_val, benq_gland_IOU_val, ge_nodule_DICE_val, ge_gland_DICE_val, benq_gland_DICE_val = val(test_dataloader, model, loss_fn, \u001b[33m\"\u001b[39m\u001b[33mcuda\u001b[39m\u001b[33m\"\u001b[39m)\n",
      "\u001b[36mCell\u001b[39m\u001b[36m \u001b[39m\u001b[32mIn[10]\u001b[39m\u001b[32m, line 18\u001b[39m, in \u001b[36mtrain\u001b[39m\u001b[34m(dataloader, model, optimizer, loss_fn, device)\u001b[39m\n\u001b[32m     15\u001b[39m model.to(device)\n\u001b[32m     17\u001b[39m count = \u001b[32m0\u001b[39m\n\u001b[32m---> \u001b[39m\u001b[32m18\u001b[39m \u001b[38;5;28;01mfor\u001b[39;00m image, mask, from_dataset, mask_type \u001b[38;5;129;01min\u001b[39;00m tqdm(dataloader):\n\u001b[32m     19\u001b[39m     \u001b[38;5;28;01mif\u001b[39;00m image == \u001b[38;5;28;01mNone\u001b[39;00m:\n\u001b[32m     20\u001b[39m         \u001b[38;5;28;01mcontinue\u001b[39;00m\n",
      "\u001b[36mFile \u001b[39m\u001b[32m~/.local/lib/python3.12/site-packages/tqdm/std.py:1181\u001b[39m, in \u001b[36mtqdm.__iter__\u001b[39m\u001b[34m(self)\u001b[39m\n\u001b[32m   1178\u001b[39m time = \u001b[38;5;28mself\u001b[39m._time\n\u001b[32m   1180\u001b[39m \u001b[38;5;28;01mtry\u001b[39;00m:\n\u001b[32m-> \u001b[39m\u001b[32m1181\u001b[39m     \u001b[38;5;28;01mfor\u001b[39;00m obj \u001b[38;5;129;01min\u001b[39;00m iterable:\n\u001b[32m   1182\u001b[39m         \u001b[38;5;28;01myield\u001b[39;00m obj\n\u001b[32m   1183\u001b[39m         \u001b[38;5;66;03m# Update and possibly print the progressbar.\u001b[39;00m\n\u001b[32m   1184\u001b[39m         \u001b[38;5;66;03m# Note: does not call self.update(1) for speed optimisation.\u001b[39;00m\n",
      "\u001b[36mFile \u001b[39m\u001b[32m~/miniconda3/envs/thyroid/lib/python3.12/site-packages/torch/utils/data/dataloader.py:733\u001b[39m, in \u001b[36m_BaseDataLoaderIter.__next__\u001b[39m\u001b[34m(self)\u001b[39m\n\u001b[32m    730\u001b[39m \u001b[38;5;28;01mif\u001b[39;00m \u001b[38;5;28mself\u001b[39m._sampler_iter \u001b[38;5;129;01mis\u001b[39;00m \u001b[38;5;28;01mNone\u001b[39;00m:\n\u001b[32m    731\u001b[39m     \u001b[38;5;66;03m# TODO(https://github.com/pytorch/pytorch/issues/76750)\u001b[39;00m\n\u001b[32m    732\u001b[39m     \u001b[38;5;28mself\u001b[39m._reset()  \u001b[38;5;66;03m# type: ignore[call-arg]\u001b[39;00m\n\u001b[32m--> \u001b[39m\u001b[32m733\u001b[39m data = \u001b[38;5;28mself\u001b[39m._next_data()\n\u001b[32m    734\u001b[39m \u001b[38;5;28mself\u001b[39m._num_yielded += \u001b[32m1\u001b[39m\n\u001b[32m    735\u001b[39m \u001b[38;5;28;01mif\u001b[39;00m (\n\u001b[32m    736\u001b[39m     \u001b[38;5;28mself\u001b[39m._dataset_kind == _DatasetKind.Iterable\n\u001b[32m    737\u001b[39m     \u001b[38;5;129;01mand\u001b[39;00m \u001b[38;5;28mself\u001b[39m._IterableDataset_len_called \u001b[38;5;129;01mis\u001b[39;00m \u001b[38;5;129;01mnot\u001b[39;00m \u001b[38;5;28;01mNone\u001b[39;00m\n\u001b[32m    738\u001b[39m     \u001b[38;5;129;01mand\u001b[39;00m \u001b[38;5;28mself\u001b[39m._num_yielded > \u001b[38;5;28mself\u001b[39m._IterableDataset_len_called\n\u001b[32m    739\u001b[39m ):\n",
      "\u001b[36mFile \u001b[39m\u001b[32m~/miniconda3/envs/thyroid/lib/python3.12/site-packages/torch/utils/data/dataloader.py:789\u001b[39m, in \u001b[36m_SingleProcessDataLoaderIter._next_data\u001b[39m\u001b[34m(self)\u001b[39m\n\u001b[32m    787\u001b[39m \u001b[38;5;28;01mdef\u001b[39;00m\u001b[38;5;250m \u001b[39m\u001b[34m_next_data\u001b[39m(\u001b[38;5;28mself\u001b[39m):\n\u001b[32m    788\u001b[39m     index = \u001b[38;5;28mself\u001b[39m._next_index()  \u001b[38;5;66;03m# may raise StopIteration\u001b[39;00m\n\u001b[32m--> \u001b[39m\u001b[32m789\u001b[39m     data = \u001b[38;5;28mself\u001b[39m._dataset_fetcher.fetch(index)  \u001b[38;5;66;03m# may raise StopIteration\u001b[39;00m\n\u001b[32m    790\u001b[39m     \u001b[38;5;28;01mif\u001b[39;00m \u001b[38;5;28mself\u001b[39m._pin_memory:\n\u001b[32m    791\u001b[39m         data = _utils.pin_memory.pin_memory(data, \u001b[38;5;28mself\u001b[39m._pin_memory_device)\n",
      "\u001b[36mFile \u001b[39m\u001b[32m~/miniconda3/envs/thyroid/lib/python3.12/site-packages/torch/utils/data/_utils/fetch.py:52\u001b[39m, in \u001b[36m_MapDatasetFetcher.fetch\u001b[39m\u001b[34m(self, possibly_batched_index)\u001b[39m\n\u001b[32m     50\u001b[39m         data = \u001b[38;5;28mself\u001b[39m.dataset.__getitems__(possibly_batched_index)\n\u001b[32m     51\u001b[39m     \u001b[38;5;28;01melse\u001b[39;00m:\n\u001b[32m---> \u001b[39m\u001b[32m52\u001b[39m         data = [\u001b[38;5;28mself\u001b[39m.dataset[idx] \u001b[38;5;28;01mfor\u001b[39;00m idx \u001b[38;5;129;01min\u001b[39;00m possibly_batched_index]\n\u001b[32m     53\u001b[39m \u001b[38;5;28;01melse\u001b[39;00m:\n\u001b[32m     54\u001b[39m     data = \u001b[38;5;28mself\u001b[39m.dataset[possibly_batched_index]\n",
      "\u001b[36mCell\u001b[39m\u001b[36m \u001b[39m\u001b[32mIn[4]\u001b[39m\u001b[32m, line 53\u001b[39m, in \u001b[36mGe_Benq_Dataset.__getitem__\u001b[39m\u001b[34m(self, idx)\u001b[39m\n\u001b[32m     50\u001b[39m image_path = \u001b[33mf\u001b[39m\u001b[33m\"\u001b[39m\u001b[38;5;132;01m{\u001b[39;00mfrom_folder\u001b[38;5;132;01m}\u001b[39;00m\u001b[33m/images/\u001b[39m\u001b[38;5;132;01m{\u001b[39;00mimage_name\u001b[38;5;132;01m}\u001b[39;00m\u001b[33m\"\u001b[39m\n\u001b[32m     51\u001b[39m mask_path = \u001b[33mf\u001b[39m\u001b[33m\"\u001b[39m\u001b[38;5;132;01m{\u001b[39;00mfrom_folder\u001b[38;5;132;01m}\u001b[39;00m\u001b[33m/masks/\u001b[39m\u001b[38;5;132;01m{\u001b[39;00mmask_name\u001b[38;5;132;01m}\u001b[39;00m\u001b[33m\"\u001b[39m\n\u001b[32m---> \u001b[39m\u001b[32m53\u001b[39m image = Image.open(image_path).convert(\u001b[33m\"\u001b[39m\u001b[33mL\u001b[39m\u001b[33m\"\u001b[39m)\n\u001b[32m     54\u001b[39m mask = Image.open(mask_path).convert(\u001b[33m\"\u001b[39m\u001b[33mL\u001b[39m\u001b[33m\"\u001b[39m)\n\u001b[32m     56\u001b[39m image_tensor, mask_tensor = \u001b[38;5;28mself\u001b[39m.transform(image, mask, \u001b[38;5;28mself\u001b[39m.image_size)\n",
      "\u001b[36mFile \u001b[39m\u001b[32m~/miniconda3/envs/thyroid/lib/python3.12/site-packages/PIL/Image.py:982\u001b[39m, in \u001b[36mImage.convert\u001b[39m\u001b[34m(self, mode, matrix, dither, palette, colors)\u001b[39m\n\u001b[32m    979\u001b[39m \u001b[38;5;28;01mif\u001b[39;00m mode \u001b[38;5;129;01min\u001b[39;00m (\u001b[33m\"\u001b[39m\u001b[33mBGR;15\u001b[39m\u001b[33m\"\u001b[39m, \u001b[33m\"\u001b[39m\u001b[33mBGR;16\u001b[39m\u001b[33m\"\u001b[39m, \u001b[33m\"\u001b[39m\u001b[33mBGR;24\u001b[39m\u001b[33m\"\u001b[39m):\n\u001b[32m    980\u001b[39m     deprecate(mode, \u001b[32m12\u001b[39m)\n\u001b[32m--> \u001b[39m\u001b[32m982\u001b[39m \u001b[38;5;28mself\u001b[39m.load()\n\u001b[32m    984\u001b[39m has_transparency = \u001b[33m\"\u001b[39m\u001b[33mtransparency\u001b[39m\u001b[33m\"\u001b[39m \u001b[38;5;129;01min\u001b[39;00m \u001b[38;5;28mself\u001b[39m.info\n\u001b[32m    985\u001b[39m \u001b[38;5;28;01mif\u001b[39;00m \u001b[38;5;129;01mnot\u001b[39;00m mode \u001b[38;5;129;01mand\u001b[39;00m \u001b[38;5;28mself\u001b[39m.mode == \u001b[33m\"\u001b[39m\u001b[33mP\u001b[39m\u001b[33m\"\u001b[39m:\n\u001b[32m    986\u001b[39m     \u001b[38;5;66;03m# determine default mode\u001b[39;00m\n",
      "\u001b[36mFile \u001b[39m\u001b[32m~/miniconda3/envs/thyroid/lib/python3.12/site-packages/PIL/ImageFile.py:389\u001b[39m, in \u001b[36mImageFile.load\u001b[39m\u001b[34m(self)\u001b[39m\n\u001b[32m    386\u001b[39m         \u001b[38;5;28;01mraise\u001b[39;00m \u001b[38;5;167;01mOSError\u001b[39;00m(msg)\n\u001b[32m    388\u001b[39m b = b + s\n\u001b[32m--> \u001b[39m\u001b[32m389\u001b[39m n, err_code = decoder.decode(b)\n\u001b[32m    390\u001b[39m \u001b[38;5;28;01mif\u001b[39;00m n < \u001b[32m0\u001b[39m:\n\u001b[32m    391\u001b[39m     \u001b[38;5;28;01mbreak\u001b[39;00m\n",
      "\u001b[31mKeyboardInterrupt\u001b[39m: "
     ]
    }
   ],
   "source": [
    "max_IOU = -1\n",
    "for epoch in range(epochs):\n",
    "    print(f\"epoch : {epoch}\")\n",
    "    total_loss_train, total_IOU_train, total_DICE_train, ge_nodule_IOU_train, ge_gland_IOU_train, benq_gland_IOU_train, ge_nodule_DICE_train, ge_gland_DICE_train, benq_gland_DICE_train = train(train_dataloader, model, optimizer, loss_fn, \"cuda\")\n",
    "    print(f\"train loss : {total_loss_train}, train IOU : {total_IOU_train}, train DICE : {total_DICE_train}\")\n",
    "    total_loss_val, total_IOU_val, total_DICE_val, ge_nodule_IOU_val, ge_gland_IOU_val, benq_gland_IOU_val, ge_nodule_DICE_val, ge_gland_DICE_val, benq_gland_DICE_val = val(test_dataloader, model, loss_fn, \"cuda\")\n",
    "    print(f\"val loss : {total_loss_val}, val IOU : {total_IOU_val}, val DICE : {total_DICE_val}\")\n",
    "    \n",
    "    scheduler.step()\n",
    "    current_lr = scheduler.get_last_lr()[0]\n",
    "\n",
    "\n",
    "\n",
    "    if max_IOU < total_IOU_val:\n",
    "        max_IOU = total_IOU_val\n",
    "        checkpoint = {\n",
    "            'epoch': epoch,\n",
    "            'model_state_dict': model.state_dict(),\n",
    "            'optimizer_state_dict': optimizer.state_dict(),\n",
    "            'scheduler_state_dict': scheduler.state_dict(),\n",
    "            \"IOU\" : total_IOU_val,\n",
    "            \"DICE\" : total_DICE_val,\n",
    "            \"loss\" : total_loss_val\n",
    "        }\n",
    "        folder = f\"models/finetune/ge_benq/{name}/\"\n",
    "        if not os.path.exists(folder):\n",
    "            os.mkdir(folder)\n",
    "        torch.save(checkpoint, f\"models/finetune/ge_benq/{name}/best_checkpoint.pth\")\n",
    "\n",
    "    \n",
    "    wandb.log({\n",
    "        \"epoch\": epoch,\n",
    "        \"Learning Rate\":current_lr,\n",
    "        \n",
    "        \"train_loss\": total_loss_train,\n",
    "        \"train_IOU\": total_IOU_train,\n",
    "        \"train_DICE\": total_DICE_train,\n",
    "        \"train_ge_nodule_IOU\" : ge_nodule_IOU_train,\n",
    "        \"train_ge_nodule_DICE\" : ge_nodule_DICE_train,\n",
    "        \"train_ge_gland_IOU\" : ge_gland_IOU_train,\n",
    "        \"train_ge_gland_DICE\" : ge_gland_DICE_train,\n",
    "        \"train_benq_gland_IOU\" : benq_gland_IOU_train,\n",
    "        \"train_benq_gland_DICE\" : benq_gland_DICE_train,\n",
    "        \n",
    "        \"val_loss\": total_loss_val,\n",
    "        \"val_IOU\": total_IOU_val,\n",
    "        \"val_DICE\": total_DICE_val,\n",
    "        \"val_ge_nodule_IOU\" : ge_nodule_IOU_val,\n",
    "        \"val_ge_nodule_DICE\" : ge_nodule_DICE_val,\n",
    "        \"val_ge_gland_IOU\" : ge_gland_IOU_val,\n",
    "        \"val_ge_gland_DICE\" : ge_gland_DICE_val,\n",
    "        \"val_benq_gland_IOU\" : benq_gland_IOU_val,\n",
    "        \"val_benq_gland_DICE\" : benq_gland_DICE_val,\n",
    "        \n",
    "    })\n",
    "\n",
    "\n",
    "\n",
    "\n",
    "checkpoint = {\n",
    "    'epoch': epoch,\n",
    "    'model_state_dict': model.state_dict(),\n",
    "    'optimizer_state_dict': optimizer.state_dict(),\n",
    "    'scheduler_state_dict': scheduler.state_dict(),\n",
    "    \"IOU\" : total_IOU_val,\n",
    "    \"DICE\" : total_DICE_val,\n",
    "    \"loss\" : total_loss_val\n",
    "}\n",
    "torch.save(checkpoint, f\"models/finetune/ge_benq/{name}/last_checkpoint.pth\")\n",
    "wandb.finish()"
   ]
  },
  {
   "cell_type": "code",
   "execution_count": null,
   "id": "85b58550-f8c4-49cc-bf06-9f1fad998b2f",
   "metadata": {},
   "outputs": [],
   "source": []
  }
 ],
 "metadata": {
  "kernelspec": {
   "display_name": "thyroid",
   "language": "python",
   "name": "thyroid"
  },
  "language_info": {
   "codemirror_mode": {
    "name": "ipython",
    "version": 3
   },
   "file_extension": ".py",
   "mimetype": "text/x-python",
   "name": "python",
   "nbconvert_exporter": "python",
   "pygments_lexer": "ipython3",
   "version": "3.12.9"
  }
 },
 "nbformat": 4,
 "nbformat_minor": 5
}
