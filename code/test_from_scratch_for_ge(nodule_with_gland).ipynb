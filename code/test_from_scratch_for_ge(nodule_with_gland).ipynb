{
 "cells": [
  {
   "cell_type": "markdown",
   "id": "419b1832-fd19-4148-bf39-cae28458151f",
   "metadata": {},
   "source": [
    "### remember to change model saving path!!!"
   ]
  },
  {
   "cell_type": "code",
   "execution_count": 2,
   "id": "cbada50d-1e33-4c43-898d-674a7a1cbd43",
   "metadata": {},
   "outputs": [
    {
     "name": "stderr",
     "output_type": "stream",
     "text": [
      "/home/twszbak764/.local/lib/python3.12/site-packages/tqdm/auto.py:21: TqdmWarning: IProgress not found. Please update jupyter and ipywidgets. See https://ipywidgets.readthedocs.io/en/stable/user_install.html\n",
      "  from .autonotebook import tqdm as notebook_tqdm\n",
      "/home/twszbak764/.local/lib/python3.12/site-packages/timm/models/layers/__init__.py:48: FutureWarning: Importing from timm.models.layers is deprecated, please import via timm.layers\n",
      "  warnings.warn(f\"Importing from {__name__} is deprecated, please import via timm.layers\", FutureWarning)\n",
      "/home/twszbak764/.local/lib/python3.12/site-packages/timm/models/registry.py:4: FutureWarning: Importing from timm.models.registry is deprecated, please import via timm.models\n",
      "  warnings.warn(f\"Importing from {__name__} is deprecated, please import via timm.models\", FutureWarning)\n"
     ]
    }
   ],
   "source": [
    "import torch\n",
    "from torch.utils.data import Dataset, DataLoader\n",
    "import numpy as np\n",
    "from PIL import Image\n",
    "import os\n",
    "from torchvision import transforms\n",
    "import pandas as pd\n",
    "import matplotlib.pyplot as plt\n",
    "import torch.optim as optim\n",
    "from tqdm import tqdm\n",
    "import random\n",
    "import torch.nn as nn\n",
    "from dataset import Thyroid_Dataset\n",
    "from model import Eff_Unet\n",
    "from HarDMSEG import HarDMSEG\n",
    "from loss_metric import DiceLoss, IOU_score, StructureLoss, TverskyLoss\n",
    "from LightMed.model.LightMed import LightMed\n",
    "from PMFSNet.lib.models.PMFSNet import PMFSNet\n",
    "from PMFSNet.lib.models.PMFSNet_FFT import PMFSNet_FFT\n",
    "from hybrid_model_v3 import HybridSegModel\n",
    "from helper import postprocess_logits_with_fill"
   ]
  },
  {
   "cell_type": "code",
   "execution_count": 3,
   "id": "552e0837-3243-45a8-af13-0dd8363d8b6d",
   "metadata": {},
   "outputs": [],
   "source": [
    "def set_seed(seed):\n",
    "    random.seed(seed)\n",
    "    np.random.seed(seed)\n",
    "    os.environ['PYTHONHASHSEED'] = str(seed)\n",
    "    torch.manual_seed(seed)\n",
    "    torch.cuda.manual_seed(seed)\n",
    "    torch.cuda.manual_seed_all(seed)\n",
    "    torch.backends.cudnn.deterministic = True\n",
    "    torch.backends.cudnn.benchmark = False\n",
    "\n",
    "set_seed(42)"
   ]
  },
  {
   "cell_type": "code",
   "execution_count": 35,
   "id": "f7db1b35-7517-4305-8612-c910a0093bf0",
   "metadata": {},
   "outputs": [],
   "source": [
    "import torch\n",
    "from torch.utils.data import Dataset, DataLoader\n",
    "import numpy as np\n",
    "from PIL import Image\n",
    "import os\n",
    "from torchvision import transforms\n",
    "import pandas as pd\n",
    "import matplotlib.pyplot as plt\n",
    "import torchvision.transforms.functional as tx\n",
    "import random\n",
    "import cv2\n",
    "from PIL import ImageEnhance\n",
    "from skimage.exposure import match_histograms\n",
    "import torchvision.transforms as T\n",
    "import torchvision.transforms.functional as F\n",
    "class Ge_nodule_Dataset(Dataset):\n",
    "    def __init__(self, csv_file, transform, image_size, training = True):\n",
    "        self.df = pd.read_csv(csv_file)\n",
    "        self.transform = transform\n",
    "        self.image_size = image_size\n",
    "        self.training = training\n",
    "    def __len__(self):\n",
    "        return len(self.df)\n",
    "\n",
    "    def __getitem__(self, idx):\n",
    "        image_name = self.df[\"image_name\"][idx]\n",
    "        mask_name = self.df[\"mask_name\"][idx]\n",
    "       \n",
    "\n",
    "        from_folder = \"../ge_data/nodule\"\n",
    "        \n",
    "        image_path = f\"{from_folder}/images/{image_name}\"\n",
    "        nodule_mask_path = f\"{from_folder}/true_nodule_masks/{mask_name}\"\n",
    "        gland_mask_path = f\"{from_folder}/inference_gland(wo_nodule)_masks/{mask_name}\"\n",
    "\n",
    "        image = Image.open(image_path).convert(\"L\")\n",
    "        nodule_mask = Image.open(nodule_mask_path).convert(\"L\")\n",
    "        gland_mask = Image.open(gland_mask_path).convert(\"L\")\n",
    "        \n",
    "        image_tensor, nodule_mask_tensor, gland_mask_tensor = self.transform(image, nodule_mask, gland_mask, self.image_size)\n",
    "        nodule_mask_tensor = (nodule_mask_tensor > 0.5).float()\n",
    "        gland_mask_tensor = (gland_mask_tensor > 0.5).float()\n",
    "        \n",
    "        if torch.sum(nodule_mask_tensor) == 0 or torch.sum(gland_mask_tensor) == 0:\n",
    "            return [None]\n",
    "        return image_tensor, nodule_mask_tensor, gland_mask_tensor"
   ]
  },
  {
   "cell_type": "code",
   "execution_count": 36,
   "id": "73eef130-f914-4c3f-8670-99dff492b23e",
   "metadata": {
    "scrolled": true
   },
   "outputs": [],
   "source": [
    "image_size = 128\n",
    "batch_size = 1\n",
    "\n",
    "def test_augmentation(image, nodule_mask, gland_mask, image_size):\n",
    "    resize = T.Resize((image_size, image_size))\n",
    "    image = resize(image)\n",
    "    nodule_mask = resize(nodule_mask)\n",
    "    gland_mask = resize(gland_mask)\n",
    "        \n",
    "    image_tensor = tx.to_tensor(image)\n",
    "    nodule_mask_tensor = tx.to_tensor(nodule_mask)\n",
    "    gland_mask_tensor = tx.to_tensor(gland_mask)\n",
    "\n",
    "    # If standardization\n",
    "    mean = image_tensor.mean()\n",
    "    std = image_tensor.std()\n",
    "    std = std if std > 0 else 1.0  # avoid division by zero\n",
    "    image_tensor = (image_tensor - mean) / std\n",
    "    return image_tensor, nodule_mask_tensor, gland_mask_tensor\n",
    "def custom_collate_fn(batch):\n",
    "    # print(batch)\n",
    "    filtered_batch = [item for item in batch if item[0] is not None]\n",
    "    if len(filtered_batch) == 0:\n",
    "        return [None, None, None]\n",
    "    return torch.utils.data.dataloader.default_collate(filtered_batch)\n",
    "test_path = \"../ge_data/nodule/new_test.csv\"\n",
    "test_dataset = Ge_nodule_Dataset(test_path, transform = test_augmentation, image_size = image_size, training = False)\n",
    "test_dataloader = DataLoader(test_dataset, batch_size = batch_size, shuffle = False, collate_fn=custom_collate_fn)\n",
    "\n",
    "image, nodule_mask, gland_mask = next(iter(test_dataloader))"
   ]
  },
  {
   "cell_type": "code",
   "execution_count": 37,
   "id": "da0e1427-6dc3-41fc-a80d-bc9bea2dc4d3",
   "metadata": {
    "scrolled": true
   },
   "outputs": [
    {
     "data": {
      "text/plain": [
       "torch.Size([1, 1, 128, 128])"
      ]
     },
     "execution_count": 37,
     "metadata": {},
     "output_type": "execute_result"
    }
   ],
   "source": [
    "image.shape"
   ]
  },
  {
   "cell_type": "code",
   "execution_count": 38,
   "id": "cee5b6f8-749e-4964-862a-255a44883a20",
   "metadata": {},
   "outputs": [
    {
     "data": {
      "text/plain": [
       "101"
      ]
     },
     "execution_count": 38,
     "metadata": {},
     "output_type": "execute_result"
    }
   ],
   "source": [
    "len(test_dataset)"
   ]
  },
  {
   "cell_type": "code",
   "execution_count": 39,
   "id": "31a25cc8-c6ce-46c6-881f-0b042cfc3a5c",
   "metadata": {},
   "outputs": [],
   "source": [
    "# Only calculate nodule loss, IOU, DICE, because there is no gland data in the testing set\n",
    "def val(dataloader, model, device, nodule_post_process = False):\n",
    "    total_IOU = 0\n",
    "    total_DICE = 0\n",
    "\n",
    "    total_nodule_IOU = 0\n",
    "    total_nodule_DICE = 0\n",
    "\n",
    "    total_gland_IOU = 0\n",
    "    total_gland_DICE = 0\n",
    "\n",
    "    IOU_arr = []\n",
    "    \n",
    "    model.train()\n",
    "    model.to(device)\n",
    "    count = 0\n",
    "    for image, nodule_mask, gland_mask in tqdm(dataloader):\n",
    "        if image == None:\n",
    "            continue\n",
    "        image, nodule_mask, gland_mask = image.to(device), nodule_mask.to(device), gland_mask.to(device)\n",
    "        \n",
    "        outputs = model(image)\n",
    "        \n",
    "        nodule_output = outputs[:, 0:1, :, :]\n",
    "        gland_output = outputs[:, 1:2, :, :]\n",
    "\n",
    "        if nodule_post_process:\n",
    "            nodule_output = torch.sigmoid(nodule_output)\n",
    "            nodule_output = nodule_output > 0.5\n",
    "            gland_output = torch.sigmoid(gland_output)\n",
    "            gland_output = gland_output > 0.5\n",
    "            nodule_output = nodule_output & gland_output\n",
    "            \n",
    "            nodule_IOU = IOU_score(nodule_output, nodule_mask, need_act = False)\n",
    "            gland_IOU = IOU_score(gland_output, gland_mask, need_act = False)\n",
    "    \n",
    "            dice_loss = DiceLoss(need_act = False)\n",
    "            nodule_DICE = 1 - dice_loss(nodule_output, nodule_mask)\n",
    "            gland_DICE = 1 - dice_loss(gland_output, gland_mask)\n",
    "            \n",
    "        else:\n",
    "            nodule_IOU = IOU_score(nodule_output, nodule_mask)\n",
    "            gland_IOU = IOU_score(gland_output, gland_mask)\n",
    "    \n",
    "            dice_loss = DiceLoss()\n",
    "            nodule_DICE = 1 - dice_loss(nodule_output, nodule_mask)\n",
    "            gland_DICE = 1 - dice_loss(gland_output, gland_mask)\n",
    "            \n",
    "        IOU = (nodule_IOU + gland_IOU) / 2\n",
    "        DICE = (nodule_DICE + gland_DICE) / 2\n",
    "        \n",
    "        total_IOU += IOU.item()\n",
    "        total_DICE += DICE.item()\n",
    "\n",
    "        total_nodule_IOU += nodule_IOU.item()\n",
    "        total_nodule_DICE += nodule_DICE.item()\n",
    "        total_gland_IOU += gland_IOU.item()\n",
    "        total_gland_DICE += gland_DICE.item()\n",
    "\n",
    "        IOU_arr.append(nodule_IOU.item())\n",
    "        count+=1\n",
    "    return total_IOU/count, total_DICE/count, total_nodule_IOU / count, total_nodule_DICE / count, total_gland_IOU / count, total_gland_DICE / count, IOU_arr\n",
    "\n",
    "    "
   ]
  },
  {
   "cell_type": "code",
   "execution_count": 48,
   "id": "7d0f2b7c-d1d7-4e78-89cc-d55ab16516f1",
   "metadata": {
    "scrolled": true
   },
   "outputs": [
    {
     "data": {
      "text/plain": [
       "<All keys matched successfully>"
      ]
     },
     "execution_count": 48,
     "metadata": {},
     "output_type": "execute_result"
    }
   ],
   "source": [
    "\n",
    "name = \"hybrid_model_ge(nodule_with_gland(wo_nodule))_from_scratch_v1_aug_space(0.9)_weight_decay(0.0005)\"\n",
    "inference_name = f\"models/from_scratch/ge(nodule_with_gland)/{name}\"\n",
    "model = HybridSegModel(in_channels = 1, out_channels = 2, output_size = image_size, layers_num = 3)\n",
    "checkpoint = torch.load(f\"{inference_name}/best_checkpoint.pth\")\n",
    "model.load_state_dict(checkpoint['model_state_dict'])"
   ]
  },
  {
   "cell_type": "code",
   "execution_count": 49,
   "id": "be607e4f-fff9-4ade-afdd-8c73bcdbeb23",
   "metadata": {
    "scrolled": true
   },
   "outputs": [
    {
     "name": "stderr",
     "output_type": "stream",
     "text": [
      "100%|██████████| 101/101 [00:02<00:00, 44.09it/s]"
     ]
    },
    {
     "name": "stdout",
     "output_type": "stream",
     "text": [
      "val IOU : 0.6548726567537477, val DICE : 0.7579587163901566\n",
      "val nodule IOU : 0.6982729804545346, val nodule DICE : 0.7920251317543558\n",
      "val gland IOU : 0.6114723368889035, val gland DICE : 0.7238923022062471\n"
     ]
    },
    {
     "name": "stderr",
     "output_type": "stream",
     "text": [
      "\n"
     ]
    }
   ],
   "source": [
    "\n",
    "\n",
    "total_IOU_val, total_DICE_val, total_nodule_IOU_val, total_nodule_DICE_val, total_gland_IOU_val, total_gland_DICE_val, IOU_arr = val(test_dataloader, model, \"cuda\", nodule_post_process = False)\n",
    "print(f\"val IOU : {total_IOU_val}, val DICE : {total_DICE_val}\")\n",
    "print(f\"val nodule IOU : {total_nodule_IOU_val}, val nodule DICE : {total_nodule_DICE_val}\")\n",
    "print(f\"val gland IOU : {total_gland_IOU_val}, val gland DICE : {total_gland_DICE_val}\")\n",
    "   "
   ]
  },
  {
   "cell_type": "code",
   "execution_count": null,
   "id": "85b58550-f8c4-49cc-bf06-9f1fad998b2f",
   "metadata": {
    "scrolled": true
   },
   "outputs": [],
   "source": [
    "test_dataset = Ge_nodule_Dataset(test_path, transform = test_augmentation, image_size = image_size, training = False)\n",
    "test_dataloader = DataLoader(test_dataset, batch_size = batch_size, shuffle = False, collate_fn=custom_collate_fn)\n",
    "model.to(\"cpu\")\n",
    "for image, nodule_mask, gland_mask in tqdm(test_dataloader):\n",
    "    if image != None:\n",
    "        outputs = model(image)\n",
    "        nodule_output = outputs[:, 0:1, :, :]\n",
    "        gland_output = outputs[:, 1:2, :, :]\n",
    "        \n",
    "        nodule_output = torch.sigmoid(nodule_output)\n",
    "        nodule_output = nodule_output > 0.9\n",
    "\n",
    "        gland_output = postprocess_logits_with_fill(gland_output)\n",
    "        gland_output = gland_output > 0.5\n",
    "        \n",
    "        nodule_mask = nodule_mask > 0.5\n",
    "        gland_mask = gland_mask > 0.5\n",
    "\n",
    "        \n",
    "        plt.figure(figsize = (10, 10))\n",
    "        plt.subplot(2,3,1)\n",
    "        plt.imshow(image[0][0])\n",
    "        plt.title(\"image\")\n",
    "        plt.subplot(2,3,2)\n",
    "        plt.imshow(nodule_mask[0][0])\n",
    "        plt.title(\"nodule mask\")\n",
    "        plt.subplot(2,3,3)\n",
    "        plt.imshow(nodule_output[0][0].detach().numpy())\n",
    "        plt.title(\"nodule pred\")\n",
    "\n",
    "        plt.subplot(2,3,4)\n",
    "        plt.imshow(image[0][0])\n",
    "        plt.title(\"image\")\n",
    "        plt.subplot(2,3,5)\n",
    "        plt.imshow(gland_mask[0][0].detach().numpy())\n",
    "        plt.title(\"gland mask\")\n",
    "        plt.subplot(2,3,6)\n",
    "        plt.imshow(gland_output[0][0].detach().numpy())\n",
    "        plt.title(\"gland pred\")\n",
    "        plt.show()"
   ]
  },
  {
   "cell_type": "code",
   "execution_count": null,
   "id": "0ac1520c-9fd4-4393-8941-4b1d56f55948",
   "metadata": {},
   "outputs": [],
   "source": []
  },
  {
   "cell_type": "code",
   "execution_count": null,
   "id": "7fa883a3-ba52-4a60-abc6-c421e15a21fa",
   "metadata": {},
   "outputs": [],
   "source": []
  }
 ],
 "metadata": {
  "kernelspec": {
   "display_name": "thyroid",
   "language": "python",
   "name": "thyroid"
  },
  "language_info": {
   "codemirror_mode": {
    "name": "ipython",
    "version": 3
   },
   "file_extension": ".py",
   "mimetype": "text/x-python",
   "name": "python",
   "nbconvert_exporter": "python",
   "pygments_lexer": "ipython3",
   "version": "3.12.9"
  }
 },
 "nbformat": 4,
 "nbformat_minor": 5
}
