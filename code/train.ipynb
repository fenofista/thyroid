{
 "cells": [
  {
   "cell_type": "code",
   "execution_count": 1,
   "id": "52551d1d-9446-4db5-8b82-a125baea80d7",
   "metadata": {},
   "outputs": [
    {
     "name": "stderr",
     "output_type": "stream",
     "text": [
      "C:\\Users\\oplab\\anaconda3\\envs\\thyroid\\Lib\\site-packages\\timm\\models\\layers\\__init__.py:48: FutureWarning: Importing from timm.models.layers is deprecated, please import via timm.layers\n",
      "  warnings.warn(f\"Importing from {__name__} is deprecated, please import via timm.layers\", FutureWarning)\n",
      "C:\\Users\\oplab\\anaconda3\\envs\\thyroid\\Lib\\site-packages\\timm\\models\\registry.py:4: FutureWarning: Importing from timm.models.registry is deprecated, please import via timm.models\n",
      "  warnings.warn(f\"Importing from {__name__} is deprecated, please import via timm.models\", FutureWarning)\n"
     ]
    }
   ],
   "source": [
    "import torch\n",
    "from torch.utils.data import Dataset, DataLoader\n",
    "import numpy as np\n",
    "from PIL import Image\n",
    "import os\n",
    "from torchvision import transforms\n",
    "import pandas as pd\n",
    "import matplotlib.pyplot as plt\n",
    "import torch.optim as optim\n",
    "from tqdm import tqdm\n",
    "import random\n",
    "\n",
    "from dataset import Thyroid_Dataset\n",
    "from model import Eff_Unet\n",
    "from loss_metric import DiceLoss, IOU_score"
   ]
  },
  {
   "cell_type": "code",
   "execution_count": 2,
   "id": "248dde1d-68d5-4fa1-96f0-94c0408334e8",
   "metadata": {},
   "outputs": [],
   "source": [
    "def set_seed(seed):\n",
    "    random.seed(seed)\n",
    "    np.random.seed(seed)\n",
    "    os.environ['PYTHONHASHSEED'] = str(seed)\n",
    "    torch.manual_seed(seed)\n",
    "    torch.cuda.manual_seed(seed)\n",
    "    torch.cuda.manual_seed_all(seed)\n",
    "    torch.backends.cudnn.deterministic = True\n",
    "    torch.backends.cudnn.benchmark = False\n",
    "\n",
    "set_seed(42)"
   ]
  },
  {
   "cell_type": "code",
   "execution_count": 3,
   "id": "ef26125b-81d0-440a-89fc-ae66f35ffbd1",
   "metadata": {},
   "outputs": [
    {
     "name": "stderr",
     "output_type": "stream",
     "text": [
      "wandb: ERROR Failed to detect the name of this notebook. You can set it manually with the WANDB_NOTEBOOK_NAME environment variable to enable code saving.\n",
      "wandb: Currently logged in as: s960068sss (s960068sss-ucl) to https://api.wandb.ai. Use `wandb login --relogin` to force relogin\n"
     ]
    },
    {
     "data": {
      "text/plain": [
       "True"
      ]
     },
     "execution_count": 3,
     "metadata": {},
     "output_type": "execute_result"
    }
   ],
   "source": [
    "import wandb\n",
    "wandb.login()"
   ]
  },
  {
   "cell_type": "code",
   "execution_count": 4,
   "id": "a327316f-dc4a-4787-93c2-94866cec88ef",
   "metadata": {},
   "outputs": [],
   "source": [
    "image_size = 128\n",
    "transform = transforms.Compose([\n",
    "    transforms.Resize((image_size, image_size)),\n",
    "    transforms.ToTensor()\n",
    "])\n",
    "train_dataset = Thyroid_Dataset(\"train.csv\", transform = transform)\n",
    "train_dataloader = DataLoader(train_dataset, batch_size = 8)\n",
    "\n",
    "val_dataset = Thyroid_Dataset(\"val.csv\", transform = transform)\n",
    "val_dataloader = DataLoader(val_dataset, batch_size = 8)\n",
    "# image, mask = next(iter(train_dataloader))\n",
    "# image = image.cuda()\n",
    "# mask = mask.cuda()"
   ]
  },
  {
   "cell_type": "code",
   "execution_count": 5,
   "id": "d42205ed-9909-4f36-949f-4ed7244b006f",
   "metadata": {},
   "outputs": [],
   "source": [
    "# model = Eff_Unet(\n",
    "#         layers=[5, 5, 15, 10],\n",
    "#         embed_dims=[40, 80, 192, 384],\n",
    "#         downsamples=[True, True, True, True],\n",
    "#         vit_num=6,\n",
    "#         drop_path_rate=0.1,\n",
    "#         num_classes=1,\n",
    "#         resolution = image_size).cuda()\n"
   ]
  },
  {
   "cell_type": "code",
   "execution_count": 6,
   "id": "9105c5e2-de65-4585-8f0e-c98e7048cdcc",
   "metadata": {},
   "outputs": [],
   "source": [
    "# loss_fn = DiceLoss()"
   ]
  },
  {
   "cell_type": "code",
   "execution_count": 7,
   "id": "b7be29f2-eb47-4c1b-a2aa-f233277df2f4",
   "metadata": {},
   "outputs": [],
   "source": [
    "# optimizer = optim.Adam(model.parameters(), lr=0.001)"
   ]
  },
  {
   "cell_type": "code",
   "execution_count": 8,
   "id": "783c83b7-f098-43cc-b1e1-414e543eb63a",
   "metadata": {
    "scrolled": true
   },
   "outputs": [],
   "source": [
    "# for epoch in range(1000):\n",
    "#     outputs = model(image)\n",
    "#     # outputs = torch.sigmoid(logits)\n",
    "#     loss = loss_fn(outputs, mask)\n",
    "#     IOU = IOU_score(outputs, mask)\n",
    "\n",
    "#     # Backward and optimize\n",
    "#     optimizer.zero_grad()   # clear previous gradients\n",
    "#     loss.backward()         # compute gradients\n",
    "#     optimizer.step()        # update weights\n",
    "\n",
    "#     print(f\"Epoch {epoch+1}, Loss: {loss.item():.4f}, IOU: {IOU.item():.4f}\")"
   ]
  },
  {
   "cell_type": "code",
   "execution_count": 9,
   "id": "1d1d16cd-aa05-4c5e-9736-0cdbb02529a1",
   "metadata": {},
   "outputs": [],
   "source": [
    "def train(dataloader, model, optimizer, loss_fn, device):\n",
    "    total_loss = 0\n",
    "    total_IOU = 0\n",
    "    \n",
    "    model.train()\n",
    "    model.to(device)\n",
    "    for image, mask in tqdm(dataloader):\n",
    "        image, mask = image.to(device), mask.to(device)\n",
    "        outputs = model(image)\n",
    "        \n",
    "        loss = loss_fn(outputs, mask)\n",
    "        IOU = IOU_score(outputs, mask)\n",
    "    \n",
    "        # Backward and optimize\n",
    "        optimizer.zero_grad()   # clear previous gradients\n",
    "        loss.backward()         # compute gradients\n",
    "        optimizer.step()        # update weights\n",
    "\n",
    "        total_loss += loss.item()\n",
    "        total_IOU += IOU.item()\n",
    "    return total_loss/len(dataloader), total_IOU/len(dataloader)\n",
    "        \n",
    "def val(dataloader, model, loss_fn, device):\n",
    "    total_loss = 0\n",
    "    total_IOU = 0\n",
    "\n",
    "    model.eval()\n",
    "    model.to(device)\n",
    "    for image, mask in tqdm(dataloader):\n",
    "        image, mask = image.to(device), mask.to(device)\n",
    "        outputs = model(image)\n",
    "        \n",
    "        loss = loss_fn(outputs, mask)\n",
    "        IOU = IOU_score(outputs, mask)\n",
    "    \n",
    "\n",
    "        total_loss += loss.item()\n",
    "        total_IOU += IOU.item()\n",
    "    return total_loss/len(dataloader), total_IOU/len(dataloader)"
   ]
  },
  {
   "cell_type": "code",
   "execution_count": 10,
   "id": "338a9dc0-d323-490b-81c5-1853e70983d4",
   "metadata": {
    "scrolled": true
   },
   "outputs": [
    {
     "data": {
      "text/html": [
       "Tracking run with wandb version 0.19.10"
      ],
      "text/plain": [
       "<IPython.core.display.HTML object>"
      ]
     },
     "metadata": {},
     "output_type": "display_data"
    },
    {
     "data": {
      "text/html": [
       "Run data is saved locally in <code>C:\\Users\\oplab\\Desktop\\Tony\\Thyroid\\code\\wandb\\run-20250430_002653-v4ytiu4s</code>"
      ],
      "text/plain": [
       "<IPython.core.display.HTML object>"
      ]
     },
     "metadata": {},
     "output_type": "display_data"
    },
    {
     "data": {
      "text/html": [
       "Syncing run <strong><a href='https://wandb.ai/s960068sss-ucl/thyroid/runs/v4ytiu4s' target=\"_blank\">baseline v1</a></strong> to <a href='https://wandb.ai/s960068sss-ucl/thyroid' target=\"_blank\">Weights & Biases</a> (<a href='https://wandb.me/developer-guide' target=\"_blank\">docs</a>)<br>"
      ],
      "text/plain": [
       "<IPython.core.display.HTML object>"
      ]
     },
     "metadata": {},
     "output_type": "display_data"
    },
    {
     "data": {
      "text/html": [
       " View project at <a href='https://wandb.ai/s960068sss-ucl/thyroid' target=\"_blank\">https://wandb.ai/s960068sss-ucl/thyroid</a>"
      ],
      "text/plain": [
       "<IPython.core.display.HTML object>"
      ]
     },
     "metadata": {},
     "output_type": "display_data"
    },
    {
     "data": {
      "text/html": [
       " View run at <a href='https://wandb.ai/s960068sss-ucl/thyroid/runs/v4ytiu4s' target=\"_blank\">https://wandb.ai/s960068sss-ucl/thyroid/runs/v4ytiu4s</a>"
      ],
      "text/plain": [
       "<IPython.core.display.HTML object>"
      ]
     },
     "metadata": {},
     "output_type": "display_data"
    },
    {
     "data": {
      "text/html": [
       "<button onClick=\"this.nextSibling.style.display='block';this.style.display='none';\">Display W&B run</button><iframe src='https://wandb.ai/s960068sss-ucl/thyroid/runs/v4ytiu4s?jupyter=true' style='border:none;width:100%;height:420px;display:none;'></iframe>"
      ],
      "text/plain": [
       "<wandb.sdk.wandb_run.Run at 0x238d9d44260>"
      ]
     },
     "execution_count": 10,
     "metadata": {},
     "output_type": "execute_result"
    }
   ],
   "source": [
    "wandb.init(\n",
    "    project=\"thyroid\",  # Project name in W&B\n",
    "    name=\"baseline v1\",       # (optional) specific run name\n",
    "    config={                     # (optional) hyperparameters\n",
    "        \"image_size\": 128,\n",
    "        \"learning_rate\": 0.001,\n",
    "        \"epochs\": 20,\n",
    "        \"batch_size\": 8\n",
    "    }\n",
    ")"
   ]
  },
  {
   "cell_type": "code",
   "execution_count": 11,
   "id": "d28b5b3f-f5eb-4766-880e-c4b32c34a429",
   "metadata": {},
   "outputs": [],
   "source": [
    "model = Eff_Unet(\n",
    "        layers=[5, 5, 15, 10],\n",
    "        embed_dims=[40, 80, 192, 384],\n",
    "        downsamples=[True, True, True, True],\n",
    "        vit_num=6,\n",
    "        drop_path_rate=0.1,\n",
    "        num_classes=1,\n",
    "        resolution = image_size).cuda()\n"
   ]
  },
  {
   "cell_type": "code",
   "execution_count": 12,
   "id": "39874c9f-ddfc-439b-abfa-f50b620f314a",
   "metadata": {},
   "outputs": [],
   "source": [
    "loss_fn = DiceLoss()\n",
    "optimizer = optim.Adam(model.parameters(), lr=0.001)"
   ]
  },
  {
   "cell_type": "code",
   "execution_count": null,
   "id": "59c88d21-6f83-4dc4-9b30-27b058360611",
   "metadata": {},
   "outputs": [
    {
     "name": "stdout",
     "output_type": "stream",
     "text": [
      "epoch : 0\n"
     ]
    },
    {
     "name": "stderr",
     "output_type": "stream",
     "text": [
      "100%|████████████████████████████████████████████████████████████████████████████████| 747/747 [02:59<00:00,  4.17it/s]\n"
     ]
    },
    {
     "name": "stdout",
     "output_type": "stream",
     "text": [
      "train loss : 0.3817038804172991, train IOU : 0.46893010095978677\n"
     ]
    },
    {
     "name": "stderr",
     "output_type": "stream",
     "text": [
      "100%|████████████████████████████████████████████████████████████████████████████████| 118/118 [00:11<00:00, 10.47it/s]\n"
     ]
    },
    {
     "name": "stdout",
     "output_type": "stream",
     "text": [
      "val loss : 0.33508963453567636, val IOU : 0.4406148705442073\n",
      "epoch : 1\n"
     ]
    },
    {
     "name": "stderr",
     "output_type": "stream",
     "text": [
      "100%|████████████████████████████████████████████████████████████████████████████████| 747/747 [02:57<00:00,  4.20it/s]\n"
     ]
    },
    {
     "name": "stdout",
     "output_type": "stream",
     "text": [
      "train loss : 0.2460084212831704, train IOU : 0.5797787882397613\n"
     ]
    },
    {
     "name": "stderr",
     "output_type": "stream",
     "text": [
      "100%|████████████████████████████████████████████████████████████████████████████████| 118/118 [00:11<00:00, 10.40it/s]\n"
     ]
    },
    {
     "name": "stdout",
     "output_type": "stream",
     "text": [
      "val loss : 0.29301378989623766, val IOU : 0.489732437467171\n",
      "epoch : 2\n"
     ]
    },
    {
     "name": "stderr",
     "output_type": "stream",
     "text": [
      "100%|████████████████████████████████████████████████████████████████████████████████| 747/747 [02:58<00:00,  4.18it/s]\n"
     ]
    },
    {
     "name": "stdout",
     "output_type": "stream",
     "text": [
      "train loss : 0.20239650708444945, train IOU : 0.6341376302232704\n"
     ]
    },
    {
     "name": "stderr",
     "output_type": "stream",
     "text": [
      "100%|████████████████████████████████████████████████████████████████████████████████| 118/118 [00:11<00:00, 10.66it/s]\n"
     ]
    },
    {
     "name": "stdout",
     "output_type": "stream",
     "text": [
      "val loss : 0.23506143992230044, val IOU : 0.5551137898938131\n",
      "epoch : 3\n"
     ]
    },
    {
     "name": "stderr",
     "output_type": "stream",
     "text": [
      "100%|████████████████████████████████████████████████████████████████████████████████| 747/747 [02:57<00:00,  4.21it/s]\n"
     ]
    },
    {
     "name": "stdout",
     "output_type": "stream",
     "text": [
      "train loss : 0.1763722343617175, train IOU : 0.6717185856028892\n"
     ]
    },
    {
     "name": "stderr",
     "output_type": "stream",
     "text": [
      "100%|████████████████████████████████████████████████████████████████████████████████| 118/118 [00:11<00:00, 10.21it/s]\n"
     ]
    },
    {
     "name": "stdout",
     "output_type": "stream",
     "text": [
      "val loss : 0.2230592794337515, val IOU : 0.5571210985466585\n",
      "epoch : 4\n"
     ]
    },
    {
     "name": "stderr",
     "output_type": "stream",
     "text": [
      "100%|████████████████████████████████████████████████████████████████████████████████| 747/747 [02:57<00:00,  4.21it/s]\n"
     ]
    },
    {
     "name": "stdout",
     "output_type": "stream",
     "text": [
      "train loss : 0.1618476737455192, train IOU : 0.6939372536009415\n"
     ]
    },
    {
     "name": "stderr",
     "output_type": "stream",
     "text": [
      "100%|████████████████████████████████████████████████████████████████████████████████| 118/118 [00:11<00:00, 10.25it/s]\n"
     ]
    },
    {
     "name": "stdout",
     "output_type": "stream",
     "text": [
      "val loss : 0.2062899177357302, val IOU : 0.5968747856253285\n",
      "epoch : 5\n"
     ]
    },
    {
     "name": "stderr",
     "output_type": "stream",
     "text": [
      "  6%|████▉                                                                            | 45/747 [00:11<02:44,  4.27it/s]"
     ]
    }
   ],
   "source": [
    "for epoch in range(20):\n",
    "    print(f\"epoch : {epoch}\")\n",
    "    total_loss_train, total_IOU_train = train(train_dataloader, model, optimizer, loss_fn, \"cuda\")\n",
    "    print(f\"train loss : {total_loss_train}, train IOU : {total_IOU_train}\")\n",
    "    total_loss_val, total_IOU_val = val(val_dataloader, model, loss_fn, \"cuda\")\n",
    "    print(f\"val loss : {total_loss_val}, val IOU : {total_IOU_val}\")\n",
    "\n",
    "    wandb.log({\n",
    "        \"epoch\": epoch,\n",
    "        \"train_loss\": total_loss_train,\n",
    "        \"train_IOU\": total_IOU_train,\n",
    "        \"val_loss\": total_loss_val,\n",
    "        \"val_IOU\": total_IOU_val\n",
    "    })\n",
    "wandb.finish()"
   ]
  },
  {
   "cell_type": "code",
   "execution_count": null,
   "id": "4e84c5aa-badd-4626-93f8-b4d23ee5afcf",
   "metadata": {},
   "outputs": [],
   "source": [
    "# total_loss_train, total_IOU_train = train(train_dataloader, model, optimizer, loss_fn, \"cuda\")"
   ]
  },
  {
   "cell_type": "code",
   "execution_count": null,
   "id": "3d14307c-1d09-4124-97cb-6a7ab2b1630e",
   "metadata": {},
   "outputs": [],
   "source": [
    "# total_loss_val, total_IOU_val = val(val_dataloader, model, loss_fn, \"cuda\")"
   ]
  },
  {
   "cell_type": "code",
   "execution_count": 17,
   "id": "324abdf7-792a-4446-a53c-45b338e40b60",
   "metadata": {},
   "outputs": [
    {
     "name": "stdout",
     "output_type": "stream",
     "text": [
      "ll\n"
     ]
    }
   ],
   "source": [
    "print(\"ll\")"
   ]
  },
  {
   "cell_type": "code",
   "execution_count": null,
   "id": "d4b0e7ab-625a-423a-b7c8-c88ce47645a1",
   "metadata": {},
   "outputs": [],
   "source": []
  }
 ],
 "metadata": {
  "kernelspec": {
   "display_name": "thyroid",
   "language": "python",
   "name": "thyroid"
  },
  "language_info": {
   "codemirror_mode": {
    "name": "ipython",
    "version": 3
   },
   "file_extension": ".py",
   "mimetype": "text/x-python",
   "name": "python",
   "nbconvert_exporter": "python",
   "pygments_lexer": "ipython3",
   "version": "3.12.10"
  }
 },
 "nbformat": 4,
 "nbformat_minor": 5
}
