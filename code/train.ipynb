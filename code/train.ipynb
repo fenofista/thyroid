{
 "cells": [
  {
   "cell_type": "code",
   "execution_count": 1,
   "id": "52551d1d-9446-4db5-8b82-a125baea80d7",
   "metadata": {},
   "outputs": [
    {
     "name": "stderr",
     "output_type": "stream",
     "text": [
      "/home/twszbak764/.local/lib/python3.12/site-packages/tqdm/auto.py:21: TqdmWarning: IProgress not found. Please update jupyter and ipywidgets. See https://ipywidgets.readthedocs.io/en/stable/user_install.html\n",
      "  from .autonotebook import tqdm as notebook_tqdm\n",
      "/home/twszbak764/.local/lib/python3.12/site-packages/timm/models/layers/__init__.py:48: FutureWarning: Importing from timm.models.layers is deprecated, please import via timm.layers\n",
      "  warnings.warn(f\"Importing from {__name__} is deprecated, please import via timm.layers\", FutureWarning)\n",
      "/home/twszbak764/.local/lib/python3.12/site-packages/timm/models/registry.py:4: FutureWarning: Importing from timm.models.registry is deprecated, please import via timm.models\n",
      "  warnings.warn(f\"Importing from {__name__} is deprecated, please import via timm.models\", FutureWarning)\n"
     ]
    }
   ],
   "source": [
    "import torch\n",
    "from torch.utils.data import Dataset, DataLoader\n",
    "import numpy as np\n",
    "from PIL import Image\n",
    "import os\n",
    "from torchvision import transforms\n",
    "import pandas as pd\n",
    "import matplotlib.pyplot as plt\n",
    "import torch.optim as optim\n",
    "from tqdm import tqdm\n",
    "import random\n",
    "import torch.nn as nn\n",
    "from dataset import Thyroid_Dataset\n",
    "from model import Eff_Unet\n",
    "from HarDMSEG import HarDMSEG\n",
    "from loss_metric import DiceLoss, IOU_score, StructureLoss\n",
    "from LightMed.model.LightMed import LightMed\n",
    "from PMFSNet.lib.models.PMFSNet import PMFSNet\n",
    "from PMFSNet.lib.models.PMFSNet_FFT import PMFSNet_FFT\n",
    "import torchvision.transforms.functional as F\n",
    "import torchvision.transforms as T\n",
    "import torchvision.transforms.functional as tx\n",
    "from torchvision.transforms import GaussianBlur\n",
    "# from hybrid_model_v1 import HybridSegModel\n",
    "from hybrid_model_v3_upsample import HybridSegModel"
   ]
  },
  {
   "cell_type": "code",
   "execution_count": 2,
   "id": "248dde1d-68d5-4fa1-96f0-94c0408334e8",
   "metadata": {},
   "outputs": [],
   "source": [
    "def set_seed(seed):\n",
    "    random.seed(seed)\n",
    "    np.random.seed(seed)\n",
    "    os.environ['PYTHONHASHSEED'] = str(seed)\n",
    "    torch.manual_seed(seed)\n",
    "    torch.cuda.manual_seed(seed)\n",
    "    torch.cuda.manual_seed_all(seed)\n",
    "    torch.backends.cudnn.deterministic = True\n",
    "    torch.backends.cudnn.benchmark = False\n",
    "\n",
    "set_seed(42)"
   ]
  },
  {
   "cell_type": "code",
   "execution_count": 3,
   "id": "ef26125b-81d0-440a-89fc-ae66f35ffbd1",
   "metadata": {},
   "outputs": [
    {
     "name": "stderr",
     "output_type": "stream",
     "text": [
      "\u001b[34m\u001b[1mwandb\u001b[0m: \u001b[32m\u001b[41mERROR\u001b[0m Failed to detect the name of this notebook. You can set it manually with the WANDB_NOTEBOOK_NAME environment variable to enable code saving.\n",
      "\u001b[34m\u001b[1mwandb\u001b[0m: Currently logged in as: \u001b[33ms960068sss\u001b[0m (\u001b[33ms960068sss-ucl\u001b[0m) to \u001b[32mhttps://api.wandb.ai\u001b[0m. Use \u001b[1m`wandb login --relogin`\u001b[0m to force relogin\n"
     ]
    },
    {
     "data": {
      "text/plain": [
       "True"
      ]
     },
     "execution_count": 3,
     "metadata": {},
     "output_type": "execute_result"
    }
   ],
   "source": [
    "import wandb\n",
    "wandb.login()"
   ]
  },
  {
   "cell_type": "code",
   "execution_count": 4,
   "id": "a327316f-dc4a-4787-93c2-94866cec88ef",
   "metadata": {
    "scrolled": true
   },
   "outputs": [],
   "source": [
    "image_size = 128\n",
    "batch_size = 64\n",
    "def train_augmentation(image, mask, image_size):\n",
    "\n",
    "    p = 0.5\n",
    "    \n",
    "    resize = T.Resize((image_size, image_size))\n",
    "    image = resize(image)\n",
    "    mask = resize(mask)\n",
    "    \n",
    "    # if(random.random() < p):\n",
    "    #     jitter = T.ColorJitter(brightness=0.5)\n",
    "    #     image = jitter(image)\n",
    "    # if(random.random() < p):\n",
    "    #     angle = random.uniform(-10, 10)  # 旋轉角度從 ±10 度\n",
    "    #     translate = (random.uniform(-0.05, 0.05) * image.size[0],\n",
    "    #                  random.uniform(-0.05, 0.05) * image.size[1])  # 最多平移 ±5%\n",
    "    #     scale = random.uniform(0.95, 1.05)  # 尺度縮放 ±5%\n",
    "    #     shear = [random.uniform(-5, 5), random.uniform(-5, 5)]  # 小幅剪切\n",
    "    \n",
    "    #     image = F.affine(image, angle=angle, translate=translate, scale=scale, shear=shear)\n",
    "    #     mask = F.affine(mask, angle=angle, translate=translate, scale=scale, shear=shear)\n",
    "    # if random.random() < p:\n",
    "    #     image = F.hflip(image)\n",
    "    #     mask = F.hflip(mask)\n",
    "    # if(random.random() < p):\n",
    "    #     transform = T.GaussianBlur(kernel_size=3, sigma=(0.1, 2.0))\n",
    "    #     image = transform(image)  # image must be a PIL image\n",
    "    \n",
    "    image_tensor = tx.to_tensor(image)\n",
    "    mask_tensor = tx.to_tensor(mask)\n",
    "\n",
    "    # If standardization\n",
    "    mean = image_tensor.mean()\n",
    "    std = image_tensor.std()\n",
    "    std = std if std > 0 else 1.0  # avoid division by zero\n",
    "    image_tensor = (image_tensor - mean) / std\n",
    "    \n",
    "    return image_tensor, mask_tensor\n",
    "def test_augmentation(image, mask, image_size):\n",
    "    resize = T.Resize((image_size, image_size))\n",
    "    image = resize(image)\n",
    "    mask = resize(mask)\n",
    "\n",
    "    image_tensor = tx.to_tensor(image)\n",
    "    mask_tensor = tx.to_tensor(mask)\n",
    "\n",
    "    # If standardization\n",
    "    mean = image_tensor.mean()\n",
    "    std = image_tensor.std()\n",
    "    std = std if std > 0 else 1.0  # avoid division by zero\n",
    "    image_tensor = (image_tensor - mean) / std\n",
    "    return image_tensor, mask_tensor\n",
    "\n",
    "    \n",
    "train_dataset = Thyroid_Dataset(\"train_v2.csv\", transform = train_augmentation, image_size = image_size)\n",
    "train_dataloader = DataLoader(train_dataset, batch_size = batch_size, shuffle = True)\n",
    "\n",
    "test_dataset = Thyroid_Dataset(\"test_v2.csv\", transform = test_augmentation, image_size = image_size, return_from_dataset = True, crop_DDTI = True, histo_match = False)\n",
    "test_dataloader = DataLoader(test_dataset, batch_size = batch_size)\n",
    "\n",
    "image, mask, seg_type = next(iter(train_dataloader))\n",
    "image = image\n",
    "mask = mask"
   ]
  },
  {
   "cell_type": "code",
   "execution_count": 5,
   "id": "47edc937-3f17-4110-b4aa-c27f96849fba",
   "metadata": {
    "scrolled": true
   },
   "outputs": [
    {
     "name": "stdout",
     "output_type": "stream",
     "text": [
      "std :  tensor(1.0000)\n",
      "unique :  tensor([0., 1.])\n"
     ]
    }
   ],
   "source": [
    "print(\"std : \", torch.std(image))\n",
    "print(\"unique : \", torch.unique(mask))"
   ]
  },
  {
   "cell_type": "code",
   "execution_count": 6,
   "id": "1b81274e-b0ec-4908-ab13-a892eb8adddd",
   "metadata": {
    "scrolled": true
   },
   "outputs": [],
   "source": [
    "# index = 39\n",
    "# for index in range(5):\n",
    "#     # plt.subplot(1,2,1)\n",
    "#     # plt.imshow(mask[index][0], alpha = 0.3)\n",
    "#     plt.imshow(image[index][0])\n",
    "#     plt.imshow(mask[index][0], alpha = 0.3)\n",
    "    \n",
    "#     # plt.subplot(1,2,2)\n",
    "#     # plt.imshow(mask[index][0])\n",
    "#     plt.show()"
   ]
  },
  {
   "cell_type": "code",
   "execution_count": 7,
   "id": "d42205ed-9909-4f36-949f-4ed7244b006f",
   "metadata": {
    "scrolled": true
   },
   "outputs": [],
   "source": [
    "# model = Eff_Unet(\n",
    "#         layers=[5, 5, 15, 10],\n",
    "#         embed_dims=[40, 80, 192, 384],\n",
    "#         downsamples=[True, True, True, True],\n",
    "#         vit_num=6,\n",
    "#         drop_path_rate=0.1,\n",
    "#         num_classes=1,\n",
    "#         resolution = image_size).cuda()\n",
    "# model = HarDMSEG(in_channels = 1)\n",
    "# model = LightMed(in_channels = 1, out_channels = 1, image_size = image_size)\n",
    "# model = PMFSNet(in_channels = 1, out_channels = 2, dim = \"2d\")\n",
    "# model = PMFSNet_FFT(in_channels = 1, out_channels = 2, dim = \"2d\")\n",
    "# model = HybridSegModel(in_channels = 1, out_channels = 2, output_size = image_size, layers_num = 3)"
   ]
  },
  {
   "cell_type": "code",
   "execution_count": 8,
   "id": "9105c5e2-de65-4585-8f0e-c98e7048cdcc",
   "metadata": {},
   "outputs": [],
   "source": [
    "# loss_fn_nodule = StructureLoss()\n",
    "# loss_fn_gland = StructureLoss()"
   ]
  },
  {
   "cell_type": "code",
   "execution_count": 9,
   "id": "42b0ac90-a13a-4cd5-a0df-dd36e48534cc",
   "metadata": {
    "scrolled": true
   },
   "outputs": [],
   "source": [
    "# model.to(\"cuda\")\n",
    "# image = image.to(\"cuda\")\n",
    "# mask = mask.to(\"cuda\")"
   ]
  },
  {
   "cell_type": "code",
   "execution_count": 10,
   "id": "b7be29f2-eb47-4c1b-a2aa-f233277df2f4",
   "metadata": {},
   "outputs": [],
   "source": [
    "# optimizer = optim.Adam(model.parameters(), lr=0.001)"
   ]
  },
  {
   "cell_type": "code",
   "execution_count": 11,
   "id": "783c83b7-f098-43cc-b1e1-414e543eb63a",
   "metadata": {
    "scrolled": true
   },
   "outputs": [],
   "source": [
    "# for epoch in range(1000):\n",
    "#     outputs = model(image)\n",
    "\n",
    "#     nodule_output = outputs[:, 0:1, :, :][seg_type==1]\n",
    "#     nodule_mask = mask[seg_type==1]\n",
    "    \n",
    "#     gland_output = outputs[:, 1:2, :, :][seg_type==2]\n",
    "#     gland_mask = mask[seg_type==2]\n",
    "#     # outputs = torch.sigmoid(logits)\n",
    "#     # print(nodule_output.shape, nodule_mask.shape)\n",
    "#     nodule_loss = loss_fn_nodule(nodule_output, nodule_mask)\n",
    "#     gland_loss = loss_fn_gland(gland_output, gland_mask)\n",
    "    \n",
    "#     loss = nodule_loss + gland_loss\n",
    "    \n",
    "#     IOU = (IOU_score(nodule_output, nodule_mask) + IOU_score(gland_output, gland_mask)) / 2\n",
    "    \n",
    "#     dice_loss = DiceLoss()\n",
    "#     # print(dice_loss(nodule_output, nodule_mask))\n",
    "#     # print(dice_loss(gland_output, gland_mask)) \n",
    "#     DICE = ((1 - dice_loss(nodule_output, nodule_mask)) + (1 - dice_loss(gland_output, gland_mask))) / 2\n",
    "    \n",
    "#     # Backward and optimize\n",
    "#     optimizer.zero_grad()   # clear previous gradients\n",
    "#     loss.backward()         # compute gradients\n",
    "#     optimizer.step()        # update weights\n",
    "\n",
    "#     print(f\"Epoch {epoch+1}, Loss: {loss.item():.4f}, IOU: {IOU.item():.4f}, DICE: {DICE.item()}\")"
   ]
  },
  {
   "cell_type": "code",
   "execution_count": null,
   "id": "74ba9d28-3779-4cc2-b8b7-0f2e82e2b252",
   "metadata": {},
   "outputs": [],
   "source": []
  },
  {
   "cell_type": "code",
   "execution_count": 12,
   "id": "5786a0c4-28f4-4cbb-b78c-40ad76262db7",
   "metadata": {},
   "outputs": [],
   "source": [
    "# (1 - dice_loss(nodule_output, nodule_mask))"
   ]
  },
  {
   "cell_type": "code",
   "execution_count": 13,
   "id": "1b8b759a-8a5b-4e2a-99f6-2ae9169207dc",
   "metadata": {
    "scrolled": true
   },
   "outputs": [],
   "source": [
    "# index = 4\n",
    "# plt.subplot(1,2,1)\n",
    "# plt.imshow(nodule_mask[index][0].detach().cpu().numpy())\n",
    "# nodule_output = (nodule_output > 0.5)\n",
    "# plt.subplot(1,2,2)\n",
    "# plt.imshow(nodule_output[index][0].detach().cpu().numpy())"
   ]
  },
  {
   "cell_type": "code",
   "execution_count": 14,
   "id": "646519ad-45ad-42c0-98cc-4364c5cfefb2",
   "metadata": {},
   "outputs": [],
   "source": [
    "# index = 4\n",
    "# plt.subplot(1,2,1)\n",
    "# plt.imshow(gland_mask[index][0].detach().cpu().numpy())\n",
    "# gland_output = (gland_output > 0.5)\n",
    "# plt.subplot(1,2,2)\n",
    "# plt.imshow(gland_output[index][0].detach().cpu().numpy())"
   ]
  },
  {
   "cell_type": "code",
   "execution_count": null,
   "id": "7b9646be-a608-488d-849c-77cd4e212d1a",
   "metadata": {},
   "outputs": [],
   "source": []
  },
  {
   "cell_type": "code",
   "execution_count": null,
   "id": "fec4d7b8-7c40-40d2-a6a6-48d9d8b68db3",
   "metadata": {},
   "outputs": [],
   "source": []
  },
  {
   "cell_type": "code",
   "execution_count": 15,
   "id": "1d1d16cd-aa05-4c5e-9736-0cdbb02529a1",
   "metadata": {},
   "outputs": [],
   "source": [
    "def train(dataloader, model, optimizer, loss_fn_nodule, loss_fn_gland, device):\n",
    "    total_loss = 0\n",
    "    total_IOU = 0\n",
    "    total_DICE = 0\n",
    "    \n",
    "    model.train()\n",
    "    model.to(device)\n",
    "    count = 0\n",
    "    for image, mask, seg_type in tqdm(dataloader):\n",
    "        image, mask, seg_type = image.to(device), mask.to(device), seg_type.to(device)\n",
    "        outputs = model(image)\n",
    "\n",
    "        nodule_output = outputs[:, 0:1, :, :][seg_type==1]\n",
    "        nodule_mask = mask[seg_type==1]\n",
    "        \n",
    "        gland_output = outputs[:, 1:2, :, :][seg_type==2]\n",
    "        gland_mask = mask[seg_type==2]\n",
    "\n",
    "        nodule_loss = loss_fn_nodule(nodule_output, nodule_mask)\n",
    "        gland_loss = loss_fn_gland(gland_output, gland_mask)\n",
    "\n",
    "\n",
    "        \n",
    "        loss = nodule_loss + gland_loss\n",
    "        IOU = (IOU_score(nodule_output, nodule_mask) + IOU_score(gland_output, gland_mask)) / 2\n",
    "\n",
    "        dice_loss = DiceLoss()\n",
    "        DICE = ((1 - dice_loss(nodule_output, nodule_mask)) + (1 - dice_loss(gland_output, gland_mask))) / 2\n",
    "\n",
    "        \n",
    "        # Backward and optimize\n",
    "        optimizer.zero_grad()   # clear previous gradients\n",
    "        loss.backward()         # compute gradients\n",
    "        optimizer.step()        # update weights\n",
    "\n",
    "        total_loss += loss.item()\n",
    "        total_IOU += IOU.item()\n",
    "        total_DICE += DICE.item()\n",
    "        # count+=1\n",
    "        # if count==5:\n",
    "        #     break\n",
    "    return total_loss/len(dataloader), total_IOU/len(dataloader), total_DICE/len(dataloader)\n",
    "\n",
    "\n",
    "# \n",
    "# Only calculate nodule loss, IOU, DICE, because there is no gland data in the testing set\n",
    "def val(dataloader, model, loss_fn_nodule, loss_fn_gland, device):\n",
    "    total_loss = 0\n",
    "    DDTI_total_loss = 0\n",
    "    TN3K_total_loss = 0\n",
    "    \n",
    "    total_IOU = 0\n",
    "    DDTI_total_IOU = 0\n",
    "    TN3K_total_IOU = 0\n",
    "    \n",
    "    total_DICE = 0\n",
    "    DDTI_total_DICE = 0\n",
    "    TN3K_total_DICE = 0\n",
    "\n",
    "    model.eval()\n",
    "    model.to(device)\n",
    "    for image, mask, seg_type, from_dataset in tqdm(dataloader):\n",
    "        image, mask, seg_type = image.to(device), mask.to(device), seg_type.to(device)\n",
    "        outputs = model(image)\n",
    "        \n",
    "        nodule_output = outputs[:, 0:1, :, :][seg_type==1]\n",
    "        nodule_mask = mask[seg_type==1]\n",
    "\n",
    "\n",
    "        DDTI_nodule_output = nodule_output[from_dataset==1]\n",
    "        TN3K_nodule_output = nodule_output[from_dataset==3]\n",
    "\n",
    "        DDTI_nodule_mask = nodule_mask[from_dataset==1]\n",
    "        TN3K_nodule_mask = nodule_mask[from_dataset==3]\n",
    "        \n",
    "\n",
    "        nodule_loss = loss_fn_nodule(nodule_output, nodule_mask)\n",
    "        DDTI_nodule_loss = loss_fn_nodule(DDTI_nodule_output, DDTI_nodule_mask)\n",
    "        TN3K_nodule_loss = loss_fn_nodule(TN3K_nodule_output, TN3K_nodule_mask)\n",
    "        \n",
    "        IOU = IOU_score(nodule_output, nodule_mask)\n",
    "        DDTI_IOU = IOU_score(DDTI_nodule_output, DDTI_nodule_mask)\n",
    "        TN3K_IOU = IOU_score(TN3K_nodule_output, TN3K_nodule_mask)\n",
    "\n",
    "        dice_loss = DiceLoss()\n",
    "        DICE = 1 - dice_loss(nodule_output, nodule_mask)\n",
    "        DDTI_DICE = 1 - dice_loss(DDTI_nodule_output, DDTI_nodule_mask)\n",
    "        TN3K_DICE = 1 - dice_loss(TN3K_nodule_output, TN3K_nodule_mask)\n",
    "    \n",
    "\n",
    "        total_loss += nodule_loss.item()\n",
    "        DDTI_total_loss += DDTI_nodule_loss.item()\n",
    "        TN3K_total_loss += TN3K_nodule_loss.item()\n",
    "        \n",
    "        total_IOU += IOU.item()\n",
    "        DDTI_total_IOU += DDTI_IOU.item()\n",
    "        TN3K_total_IOU += TN3K_IOU.item()\n",
    "        \n",
    "        total_DICE += DICE.item()\n",
    "        DDTI_total_DICE += DDTI_DICE.item()\n",
    "        TN3K_total_DICE += TN3K_DICE.item()\n",
    "    return total_loss/len(dataloader), total_IOU/len(dataloader), total_DICE/len(dataloader), DDTI_total_loss/len(dataloader), DDTI_total_IOU/len(dataloader), DDTI_total_DICE/len(dataloader), TN3K_total_loss/len(dataloader), TN3K_total_IOU/len(dataloader), TN3K_total_DICE/len(dataloader), "
   ]
  },
  {
   "cell_type": "code",
   "execution_count": 16,
   "id": "338a9dc0-d323-490b-81c5-1853e70983d4",
   "metadata": {
    "scrolled": true
   },
   "outputs": [
    {
     "data": {
      "text/html": [
       "Tracking run with wandb version 0.19.11"
      ],
      "text/plain": [
       "<IPython.core.display.HTML object>"
      ]
     },
     "metadata": {},
     "output_type": "display_data"
    },
    {
     "data": {
      "text/html": [
       "Run data is saved locally in <code>/home/twszbak764/thyroid/code/wandb/run-20250527_124125-9vcmlwak</code>"
      ],
      "text/plain": [
       "<IPython.core.display.HTML object>"
      ]
     },
     "metadata": {},
     "output_type": "display_data"
    },
    {
     "data": {
      "text/html": [
       "Syncing run <strong><a href='https://wandb.ai/s960068sss-ucl/thyroid_hybrid_model/runs/9vcmlwak' target=\"_blank\">hybrid_v3_upsample_baseline</a></strong> to <a href='https://wandb.ai/s960068sss-ucl/thyroid_hybrid_model' target=\"_blank\">Weights & Biases</a> (<a href='https://wandb.me/developer-guide' target=\"_blank\">docs</a>)<br>"
      ],
      "text/plain": [
       "<IPython.core.display.HTML object>"
      ]
     },
     "metadata": {},
     "output_type": "display_data"
    },
    {
     "data": {
      "text/html": [
       " View project at <a href='https://wandb.ai/s960068sss-ucl/thyroid_hybrid_model' target=\"_blank\">https://wandb.ai/s960068sss-ucl/thyroid_hybrid_model</a>"
      ],
      "text/plain": [
       "<IPython.core.display.HTML object>"
      ]
     },
     "metadata": {},
     "output_type": "display_data"
    },
    {
     "data": {
      "text/html": [
       " View run at <a href='https://wandb.ai/s960068sss-ucl/thyroid_hybrid_model/runs/9vcmlwak' target=\"_blank\">https://wandb.ai/s960068sss-ucl/thyroid_hybrid_model/runs/9vcmlwak</a>"
      ],
      "text/plain": [
       "<IPython.core.display.HTML object>"
      ]
     },
     "metadata": {},
     "output_type": "display_data"
    },
    {
     "data": {
      "text/html": [
       "<button onClick=\"this.nextSibling.style.display='block';this.style.display='none';\">Display W&B run</button><iframe src='https://wandb.ai/s960068sss-ucl/thyroid_hybrid_model/runs/9vcmlwak?jupyter=true' style='border:none;width:100%;height:420px;display:none;'></iframe>"
      ],
      "text/plain": [
       "<wandb.sdk.wandb_run.Run at 0x7fe345aaad80>"
      ]
     },
     "execution_count": 16,
     "metadata": {},
     "output_type": "execute_result"
    }
   ],
   "source": [
    "epochs = 50\n",
    "lr = 0.001\n",
    "project = \"thyroid_hybrid_model\"\n",
    "# name=name=\"PMFSNet_crop_DDTI_standardization_aug_affine(0.5)_hflip(0.5)_lr_0.001\"\n",
    "# name = \"HarDnet_crop_DDTI_standardization_aug_affine(0.5)_lr_0.005\"\n",
    "# name = \"LightMed_crop_DDTI\"\n",
    "# name = \"test\"\n",
    "# name = \"HarDnetMSEG_baseline\"\n",
    "name = \"hybrid_v3_upsample_baseline\"\n",
    "wandb.init(\n",
    "    project = project,  # Project name in W&B\n",
    "    name = name,       # (optional) specific run name\n",
    "    config={                     # (optional) hyperparameters\n",
    "        \"image_size\": image_size,\n",
    "        \"learning_rate\": lr,\n",
    "        \"epochs\": epochs,\n",
    "        \"batch_size\": batch_size,\n",
    "        # \"weight_decay\":1e-4\n",
    "    }\n",
    ")"
   ]
  },
  {
   "cell_type": "code",
   "execution_count": 17,
   "id": "d28b5b3f-f5eb-4766-880e-c4b32c34a429",
   "metadata": {},
   "outputs": [],
   "source": [
    "# model = Eff_Unet(\n",
    "#         layers=[5, 5, 15, 10],\n",
    "#         embed_dims=[10, 20, 48, 96],\n",
    "#         # embed_dims=[40, 80, 192, 384],\n",
    "#         downsamples=[True, True, True, True],\n",
    "#         vit_num=6,\n",
    "#         drop_path_rate=0.1,\n",
    "#         num_classes=1,\n",
    "#         resolution = image_size).cuda()\n",
    "# model = HarDMSEG(in_channels = 1, out_channels = 2)\n",
    "# model = LightMed(in_channels = 1, out_channels = 2, image_size = image_size)\n",
    "# model = PMFSNet(in_channels = 1, out_channels = 2, dim = \"2d\")\n",
    "# model = PMFSNet_FFT(in_channels = 1, out_channels = 2, dim = \"2d\")\n",
    "model =  HybridSegModel(in_channels = 1, out_channels = 2, output_size = image_size, layers_num = 3)"
   ]
  },
  {
   "cell_type": "code",
   "execution_count": 18,
   "id": "17f78983-065b-4117-be49-342f079b8bc8",
   "metadata": {
    "scrolled": true
   },
   "outputs": [
    {
     "name": "stdout",
     "output_type": "stream",
     "text": [
      "image size : 128, lr : 0.001, epochs : 50, batch size : 64, model : HybridSegModel(\n",
      "  (backbone): HarDNetBackbone(\n",
      "    (base_conv_1): ConvLayer(\n",
      "      (conv): Conv2d(1, 32, kernel_size=(3, 3), stride=(2, 2), padding=(1, 1), bias=False)\n",
      "      (norm): BatchNorm2d(32, eps=1e-05, momentum=0.1, affine=True, track_running_stats=True)\n",
      "      (relu): ReLU6(inplace=True)\n",
      "    )\n",
      "    (base_conv_2): ConvLayer(\n",
      "      (conv): Conv2d(32, 64, kernel_size=(3, 3), stride=(1, 1), padding=(1, 1), bias=False)\n",
      "      (norm): BatchNorm2d(64, eps=1e-05, momentum=0.1, affine=True, track_running_stats=True)\n",
      "      (relu): ReLU6(inplace=True)\n",
      "    )\n",
      "    (base_max_pool): MaxPool2d(kernel_size=3, stride=2, padding=1, dilation=1, ceil_mode=False)\n",
      "    (encoder_blocks): ModuleList(\n",
      "      (0): EncoderBlock(\n",
      "        (hardblock): HarDBlock(\n",
      "          (layers): ModuleList(\n",
      "            (0): ConvLayer(\n",
      "              (conv): Conv2d(64, 14, kernel_size=(3, 3), stride=(1, 1), padding=(1, 1), bias=False)\n",
      "              (norm): BatchNorm2d(14, eps=1e-05, momentum=0.1, affine=True, track_running_stats=True)\n",
      "              (relu): ReLU6(inplace=True)\n",
      "            )\n",
      "            (1): ConvLayer(\n",
      "              (conv): Conv2d(78, 24, kernel_size=(3, 3), stride=(1, 1), padding=(1, 1), bias=False)\n",
      "              (norm): BatchNorm2d(24, eps=1e-05, momentum=0.1, affine=True, track_running_stats=True)\n",
      "              (relu): ReLU6(inplace=True)\n",
      "            )\n",
      "            (2): ConvLayer(\n",
      "              (conv): Conv2d(24, 14, kernel_size=(3, 3), stride=(1, 1), padding=(1, 1), bias=False)\n",
      "              (norm): BatchNorm2d(14, eps=1e-05, momentum=0.1, affine=True, track_running_stats=True)\n",
      "              (relu): ReLU6(inplace=True)\n",
      "            )\n",
      "            (3): ConvLayer(\n",
      "              (conv): Conv2d(102, 40, kernel_size=(3, 3), stride=(1, 1), padding=(1, 1), bias=False)\n",
      "              (norm): BatchNorm2d(40, eps=1e-05, momentum=0.1, affine=True, track_running_stats=True)\n",
      "              (relu): ReLU6(inplace=True)\n",
      "            )\n",
      "            (4): ConvLayer(\n",
      "              (conv): Conv2d(40, 14, kernel_size=(3, 3), stride=(1, 1), padding=(1, 1), bias=False)\n",
      "              (norm): BatchNorm2d(14, eps=1e-05, momentum=0.1, affine=True, track_running_stats=True)\n",
      "              (relu): ReLU6(inplace=True)\n",
      "            )\n",
      "            (5): ConvLayer(\n",
      "              (conv): Conv2d(54, 24, kernel_size=(3, 3), stride=(1, 1), padding=(1, 1), bias=False)\n",
      "              (norm): BatchNorm2d(24, eps=1e-05, momentum=0.1, affine=True, track_running_stats=True)\n",
      "              (relu): ReLU6(inplace=True)\n",
      "            )\n",
      "            (6): ConvLayer(\n",
      "              (conv): Conv2d(24, 14, kernel_size=(3, 3), stride=(1, 1), padding=(1, 1), bias=False)\n",
      "              (norm): BatchNorm2d(14, eps=1e-05, momentum=0.1, affine=True, track_running_stats=True)\n",
      "              (relu): ReLU6(inplace=True)\n",
      "            )\n",
      "            (7): ConvLayer(\n",
      "              (conv): Conv2d(142, 68, kernel_size=(3, 3), stride=(1, 1), padding=(1, 1), bias=False)\n",
      "              (norm): BatchNorm2d(68, eps=1e-05, momentum=0.1, affine=True, track_running_stats=True)\n",
      "              (relu): ReLU6(inplace=True)\n",
      "            )\n",
      "          )\n",
      "        )\n",
      "        (conv): ConvLayer(\n",
      "          (conv): Conv2d(124, 128, kernel_size=(1, 1), stride=(1, 1), bias=False)\n",
      "          (norm): BatchNorm2d(128, eps=1e-05, momentum=0.1, affine=True, track_running_stats=True)\n",
      "          (relu): ReLU6(inplace=True)\n",
      "        )\n",
      "      )\n",
      "      (1): EncoderBlock(\n",
      "        (hardblock): HarDBlock(\n",
      "          (layers): ModuleList(\n",
      "            (0): ConvLayer(\n",
      "              (conv): Conv2d(128, 16, kernel_size=(3, 3), stride=(1, 1), padding=(1, 1), bias=False)\n",
      "              (norm): BatchNorm2d(16, eps=1e-05, momentum=0.1, affine=True, track_running_stats=True)\n",
      "              (relu): ReLU6(inplace=True)\n",
      "            )\n",
      "            (1): ConvLayer(\n",
      "              (conv): Conv2d(144, 28, kernel_size=(3, 3), stride=(1, 1), padding=(1, 1), bias=False)\n",
      "              (norm): BatchNorm2d(28, eps=1e-05, momentum=0.1, affine=True, track_running_stats=True)\n",
      "              (relu): ReLU6(inplace=True)\n",
      "            )\n",
      "            (2): ConvLayer(\n",
      "              (conv): Conv2d(28, 16, kernel_size=(3, 3), stride=(1, 1), padding=(1, 1), bias=False)\n",
      "              (norm): BatchNorm2d(16, eps=1e-05, momentum=0.1, affine=True, track_running_stats=True)\n",
      "              (relu): ReLU6(inplace=True)\n",
      "            )\n",
      "            (3): ConvLayer(\n",
      "              (conv): Conv2d(172, 46, kernel_size=(3, 3), stride=(1, 1), padding=(1, 1), bias=False)\n",
      "              (norm): BatchNorm2d(46, eps=1e-05, momentum=0.1, affine=True, track_running_stats=True)\n",
      "              (relu): ReLU6(inplace=True)\n",
      "            )\n",
      "            (4): ConvLayer(\n",
      "              (conv): Conv2d(46, 16, kernel_size=(3, 3), stride=(1, 1), padding=(1, 1), bias=False)\n",
      "              (norm): BatchNorm2d(16, eps=1e-05, momentum=0.1, affine=True, track_running_stats=True)\n",
      "              (relu): ReLU6(inplace=True)\n",
      "            )\n",
      "            (5): ConvLayer(\n",
      "              (conv): Conv2d(62, 28, kernel_size=(3, 3), stride=(1, 1), padding=(1, 1), bias=False)\n",
      "              (norm): BatchNorm2d(28, eps=1e-05, momentum=0.1, affine=True, track_running_stats=True)\n",
      "              (relu): ReLU6(inplace=True)\n",
      "            )\n",
      "            (6): ConvLayer(\n",
      "              (conv): Conv2d(28, 16, kernel_size=(3, 3), stride=(1, 1), padding=(1, 1), bias=False)\n",
      "              (norm): BatchNorm2d(16, eps=1e-05, momentum=0.1, affine=True, track_running_stats=True)\n",
      "              (relu): ReLU6(inplace=True)\n",
      "            )\n",
      "            (7): ConvLayer(\n",
      "              (conv): Conv2d(218, 78, kernel_size=(3, 3), stride=(1, 1), padding=(1, 1), bias=False)\n",
      "              (norm): BatchNorm2d(78, eps=1e-05, momentum=0.1, affine=True, track_running_stats=True)\n",
      "              (relu): ReLU6(inplace=True)\n",
      "            )\n",
      "            (8): ConvLayer(\n",
      "              (conv): Conv2d(78, 16, kernel_size=(3, 3), stride=(1, 1), padding=(1, 1), bias=False)\n",
      "              (norm): BatchNorm2d(16, eps=1e-05, momentum=0.1, affine=True, track_running_stats=True)\n",
      "              (relu): ReLU6(inplace=True)\n",
      "            )\n",
      "            (9): ConvLayer(\n",
      "              (conv): Conv2d(94, 28, kernel_size=(3, 3), stride=(1, 1), padding=(1, 1), bias=False)\n",
      "              (norm): BatchNorm2d(28, eps=1e-05, momentum=0.1, affine=True, track_running_stats=True)\n",
      "              (relu): ReLU6(inplace=True)\n",
      "            )\n",
      "            (10): ConvLayer(\n",
      "              (conv): Conv2d(28, 16, kernel_size=(3, 3), stride=(1, 1), padding=(1, 1), bias=False)\n",
      "              (norm): BatchNorm2d(16, eps=1e-05, momentum=0.1, affine=True, track_running_stats=True)\n",
      "              (relu): ReLU6(inplace=True)\n",
      "            )\n",
      "            (11): ConvLayer(\n",
      "              (conv): Conv2d(122, 46, kernel_size=(3, 3), stride=(1, 1), padding=(1, 1), bias=False)\n",
      "              (norm): BatchNorm2d(46, eps=1e-05, momentum=0.1, affine=True, track_running_stats=True)\n",
      "              (relu): ReLU6(inplace=True)\n",
      "            )\n",
      "            (12): ConvLayer(\n",
      "              (conv): Conv2d(46, 16, kernel_size=(3, 3), stride=(1, 1), padding=(1, 1), bias=False)\n",
      "              (norm): BatchNorm2d(16, eps=1e-05, momentum=0.1, affine=True, track_running_stats=True)\n",
      "              (relu): ReLU6(inplace=True)\n",
      "            )\n",
      "            (13): ConvLayer(\n",
      "              (conv): Conv2d(62, 28, kernel_size=(3, 3), stride=(1, 1), padding=(1, 1), bias=False)\n",
      "              (norm): BatchNorm2d(28, eps=1e-05, momentum=0.1, affine=True, track_running_stats=True)\n",
      "              (relu): ReLU6(inplace=True)\n",
      "            )\n",
      "            (14): ConvLayer(\n",
      "              (conv): Conv2d(28, 16, kernel_size=(3, 3), stride=(1, 1), padding=(1, 1), bias=False)\n",
      "              (norm): BatchNorm2d(16, eps=1e-05, momentum=0.1, affine=True, track_running_stats=True)\n",
      "              (relu): ReLU6(inplace=True)\n",
      "            )\n",
      "            (15): ConvLayer(\n",
      "              (conv): Conv2d(296, 134, kernel_size=(3, 3), stride=(1, 1), padding=(1, 1), bias=False)\n",
      "              (norm): BatchNorm2d(134, eps=1e-05, momentum=0.1, affine=True, track_running_stats=True)\n",
      "              (relu): ReLU6(inplace=True)\n",
      "            )\n",
      "          )\n",
      "        )\n",
      "        (conv): ConvLayer(\n",
      "          (conv): Conv2d(262, 256, kernel_size=(1, 1), stride=(1, 1), bias=False)\n",
      "          (norm): BatchNorm2d(256, eps=1e-05, momentum=0.1, affine=True, track_running_stats=True)\n",
      "          (relu): ReLU6(inplace=True)\n",
      "        )\n",
      "      )\n",
      "      (2): EncoderBlock(\n",
      "        (hardblock): HarDBlock(\n",
      "          (layers): ModuleList(\n",
      "            (0): ConvLayer(\n",
      "              (conv): Conv2d(256, 20, kernel_size=(3, 3), stride=(1, 1), padding=(1, 1), bias=False)\n",
      "              (norm): BatchNorm2d(20, eps=1e-05, momentum=0.1, affine=True, track_running_stats=True)\n",
      "              (relu): ReLU6(inplace=True)\n",
      "            )\n",
      "            (1): ConvLayer(\n",
      "              (conv): Conv2d(276, 34, kernel_size=(3, 3), stride=(1, 1), padding=(1, 1), bias=False)\n",
      "              (norm): BatchNorm2d(34, eps=1e-05, momentum=0.1, affine=True, track_running_stats=True)\n",
      "              (relu): ReLU6(inplace=True)\n",
      "            )\n",
      "            (2): ConvLayer(\n",
      "              (conv): Conv2d(34, 20, kernel_size=(3, 3), stride=(1, 1), padding=(1, 1), bias=False)\n",
      "              (norm): BatchNorm2d(20, eps=1e-05, momentum=0.1, affine=True, track_running_stats=True)\n",
      "              (relu): ReLU6(inplace=True)\n",
      "            )\n",
      "            (3): ConvLayer(\n",
      "              (conv): Conv2d(310, 58, kernel_size=(3, 3), stride=(1, 1), padding=(1, 1), bias=False)\n",
      "              (norm): BatchNorm2d(58, eps=1e-05, momentum=0.1, affine=True, track_running_stats=True)\n",
      "              (relu): ReLU6(inplace=True)\n",
      "            )\n",
      "            (4): ConvLayer(\n",
      "              (conv): Conv2d(58, 20, kernel_size=(3, 3), stride=(1, 1), padding=(1, 1), bias=False)\n",
      "              (norm): BatchNorm2d(20, eps=1e-05, momentum=0.1, affine=True, track_running_stats=True)\n",
      "              (relu): ReLU6(inplace=True)\n",
      "            )\n",
      "            (5): ConvLayer(\n",
      "              (conv): Conv2d(78, 34, kernel_size=(3, 3), stride=(1, 1), padding=(1, 1), bias=False)\n",
      "              (norm): BatchNorm2d(34, eps=1e-05, momentum=0.1, affine=True, track_running_stats=True)\n",
      "              (relu): ReLU6(inplace=True)\n",
      "            )\n",
      "            (6): ConvLayer(\n",
      "              (conv): Conv2d(34, 20, kernel_size=(3, 3), stride=(1, 1), padding=(1, 1), bias=False)\n",
      "              (norm): BatchNorm2d(20, eps=1e-05, momentum=0.1, affine=True, track_running_stats=True)\n",
      "              (relu): ReLU6(inplace=True)\n",
      "            )\n",
      "            (7): ConvLayer(\n",
      "              (conv): Conv2d(368, 98, kernel_size=(3, 3), stride=(1, 1), padding=(1, 1), bias=False)\n",
      "              (norm): BatchNorm2d(98, eps=1e-05, momentum=0.1, affine=True, track_running_stats=True)\n",
      "              (relu): ReLU6(inplace=True)\n",
      "            )\n",
      "            (8): ConvLayer(\n",
      "              (conv): Conv2d(98, 20, kernel_size=(3, 3), stride=(1, 1), padding=(1, 1), bias=False)\n",
      "              (norm): BatchNorm2d(20, eps=1e-05, momentum=0.1, affine=True, track_running_stats=True)\n",
      "              (relu): ReLU6(inplace=True)\n",
      "            )\n",
      "            (9): ConvLayer(\n",
      "              (conv): Conv2d(118, 34, kernel_size=(3, 3), stride=(1, 1), padding=(1, 1), bias=False)\n",
      "              (norm): BatchNorm2d(34, eps=1e-05, momentum=0.1, affine=True, track_running_stats=True)\n",
      "              (relu): ReLU6(inplace=True)\n",
      "            )\n",
      "            (10): ConvLayer(\n",
      "              (conv): Conv2d(34, 20, kernel_size=(3, 3), stride=(1, 1), padding=(1, 1), bias=False)\n",
      "              (norm): BatchNorm2d(20, eps=1e-05, momentum=0.1, affine=True, track_running_stats=True)\n",
      "              (relu): ReLU6(inplace=True)\n",
      "            )\n",
      "            (11): ConvLayer(\n",
      "              (conv): Conv2d(152, 58, kernel_size=(3, 3), stride=(1, 1), padding=(1, 1), bias=False)\n",
      "              (norm): BatchNorm2d(58, eps=1e-05, momentum=0.1, affine=True, track_running_stats=True)\n",
      "              (relu): ReLU6(inplace=True)\n",
      "            )\n",
      "            (12): ConvLayer(\n",
      "              (conv): Conv2d(58, 20, kernel_size=(3, 3), stride=(1, 1), padding=(1, 1), bias=False)\n",
      "              (norm): BatchNorm2d(20, eps=1e-05, momentum=0.1, affine=True, track_running_stats=True)\n",
      "              (relu): ReLU6(inplace=True)\n",
      "            )\n",
      "            (13): ConvLayer(\n",
      "              (conv): Conv2d(78, 34, kernel_size=(3, 3), stride=(1, 1), padding=(1, 1), bias=False)\n",
      "              (norm): BatchNorm2d(34, eps=1e-05, momentum=0.1, affine=True, track_running_stats=True)\n",
      "              (relu): ReLU6(inplace=True)\n",
      "            )\n",
      "            (14): ConvLayer(\n",
      "              (conv): Conv2d(34, 20, kernel_size=(3, 3), stride=(1, 1), padding=(1, 1), bias=False)\n",
      "              (norm): BatchNorm2d(20, eps=1e-05, momentum=0.1, affine=True, track_running_stats=True)\n",
      "              (relu): ReLU6(inplace=True)\n",
      "            )\n",
      "            (15): ConvLayer(\n",
      "              (conv): Conv2d(466, 168, kernel_size=(3, 3), stride=(1, 1), padding=(1, 1), bias=False)\n",
      "              (norm): BatchNorm2d(168, eps=1e-05, momentum=0.1, affine=True, track_running_stats=True)\n",
      "              (relu): ReLU6(inplace=True)\n",
      "            )\n",
      "          )\n",
      "        )\n",
      "        (conv): ConvLayer(\n",
      "          (conv): Conv2d(328, 320, kernel_size=(1, 1), stride=(1, 1), bias=False)\n",
      "          (norm): BatchNorm2d(320, eps=1e-05, momentum=0.1, affine=True, track_running_stats=True)\n",
      "          (relu): ReLU6(inplace=True)\n",
      "        )\n",
      "      )\n",
      "    )\n",
      "    (encoder_pools): ModuleList(\n",
      "      (0-2): 3 x MaxPool2d(kernel_size=2, stride=2, padding=0, dilation=1, ceil_mode=False)\n",
      "    )\n",
      "  )\n",
      "  (pmfs): PMFS(\n",
      "    (amff): AMFF(\n",
      "      (max_pools): ModuleList(\n",
      "        (0-3): 4 x AdaptiveMaxPool2d(output_size=(20, 20))\n",
      "      )\n",
      "      (conv): ModuleList(\n",
      "        (0): Conv2d(64, 12, kernel_size=(3, 3), stride=(1, 1), padding=(1, 1))\n",
      "        (1): Conv2d(128, 12, kernel_size=(3, 3), stride=(1, 1), padding=(1, 1))\n",
      "        (2): Conv2d(256, 12, kernel_size=(3, 3), stride=(1, 1), padding=(1, 1))\n",
      "        (3): Conv2d(320, 12, kernel_size=(3, 3), stride=(1, 1), padding=(1, 1))\n",
      "      )\n",
      "    )\n",
      "    (pmcs): PMCS(\n",
      "      (query_conv): Conv2d(48, 48, kernel_size=(1, 1), stride=(1, 1))\n",
      "      (key_conv): Conv2d(48, 1, kernel_size=(1, 1), stride=(1, 1))\n",
      "      (value_conv): Conv2d(48, 48, kernel_size=(1, 1), stride=(1, 1))\n",
      "      (out_conv): Conv2d(48, 48, kernel_size=(1, 1), stride=(1, 1))\n",
      "      (norm): LayerNorm((48,), eps=1e-05, elementwise_affine=True)\n",
      "      (sigmoid): Sigmoid()\n",
      "    )\n",
      "    (pmss): PMSS(\n",
      "      (query_conv): Conv2d(48, 48, kernel_size=(1, 1), stride=(1, 1))\n",
      "      (key_conv): Conv2d(48, 48, kernel_size=(1, 1), stride=(1, 1))\n",
      "      (value_conv): Conv2d(48, 192, kernel_size=(1, 1), stride=(1, 1))\n",
      "      (output_conv): Conv2d(192, 48, kernel_size=(1, 1), stride=(1, 1))\n",
      "      (sigmoid): Sigmoid()\n",
      "    )\n",
      "  )\n",
      "  (decoder): Decoder(\n",
      "    (all_ups): ModuleList(\n",
      "      (0-1): 2 x Upsample(scale_factor=2.0, mode='nearest')\n",
      "    )\n",
      "    (all_convs): ModuleList(\n",
      "      (0): Sequential(\n",
      "        (0): Conv2d(48, 16, kernel_size=(3, 3), stride=(1, 1), padding=(1, 1))\n",
      "        (1): ReLU(inplace=True)\n",
      "      )\n",
      "      (1): Sequential(\n",
      "        (0): Conv2d(16, 8, kernel_size=(3, 3), stride=(1, 1), padding=(1, 1))\n",
      "        (1): ReLU(inplace=True)\n",
      "      )\n",
      "    )\n",
      "    (ups): ModuleList(\n",
      "      (0-1): 2 x Upsample(scale_factor=2.0, mode='nearest')\n",
      "    )\n",
      "    (convs): ModuleList(\n",
      "      (0): Sequential(\n",
      "        (0): Conv2d(48, 16, kernel_size=(3, 3), stride=(1, 1), padding=(1, 1))\n",
      "        (1): ReLU(inplace=True)\n",
      "      )\n",
      "      (1): Sequential(\n",
      "        (0): Conv2d(16, 8, kernel_size=(3, 3), stride=(1, 1), padding=(1, 1))\n",
      "        (1): ReLU(inplace=True)\n",
      "      )\n",
      "    )\n",
      "    (out_conv): Conv2d(8, 32, kernel_size=(1, 1), stride=(1, 1))\n",
      "  )\n",
      "  (upsample_list): ModuleList(\n",
      "    (0): UpsampleConvBlock(\n",
      "      (conv): ConvLayer(\n",
      "        (conv): Conv2d(64, 32, kernel_size=(3, 3), stride=(1, 1), padding=(1, 1), bias=False)\n",
      "        (norm): BatchNorm2d(32, eps=1e-05, momentum=0.1, affine=True, track_running_stats=True)\n",
      "        (relu): ReLU6(inplace=True)\n",
      "      )\n",
      "    )\n",
      "    (1): UpsampleConvBlock(\n",
      "      (conv): ConvLayer(\n",
      "        (conv): Conv2d(128, 32, kernel_size=(3, 3), stride=(1, 1), padding=(1, 1), bias=False)\n",
      "        (norm): BatchNorm2d(32, eps=1e-05, momentum=0.1, affine=True, track_running_stats=True)\n",
      "        (relu): ReLU6(inplace=True)\n",
      "      )\n",
      "    )\n",
      "    (2): UpsampleConvBlock(\n",
      "      (conv): ConvLayer(\n",
      "        (conv): Conv2d(256, 32, kernel_size=(3, 3), stride=(1, 1), padding=(1, 1), bias=False)\n",
      "        (norm): BatchNorm2d(32, eps=1e-05, momentum=0.1, affine=True, track_running_stats=True)\n",
      "        (relu): ReLU6(inplace=True)\n",
      "      )\n",
      "    )\n",
      "    (3): UpsampleConvBlock(\n",
      "      (conv): ConvLayer(\n",
      "        (conv): Conv2d(320, 32, kernel_size=(3, 3), stride=(1, 1), padding=(1, 1), bias=False)\n",
      "        (norm): BatchNorm2d(32, eps=1e-05, momentum=0.1, affine=True, track_running_stats=True)\n",
      "        (relu): ReLU6(inplace=True)\n",
      "      )\n",
      "    )\n",
      "    (4): UpsampleConvBlock(\n",
      "      (conv): ConvLayer(\n",
      "        (conv): Conv2d(640, 32, kernel_size=(3, 3), stride=(1, 1), padding=(1, 1), bias=False)\n",
      "        (norm): BatchNorm2d(32, eps=1e-05, momentum=0.1, affine=True, track_running_stats=True)\n",
      "        (relu): ReLU6(inplace=True)\n",
      "      )\n",
      "    )\n",
      "    (5): UpsampleConvBlock(\n",
      "      (conv): ConvLayer(\n",
      "        (conv): Conv2d(1024, 32, kernel_size=(3, 3), stride=(1, 1), padding=(1, 1), bias=False)\n",
      "        (norm): BatchNorm2d(32, eps=1e-05, momentum=0.1, affine=True, track_running_stats=True)\n",
      "        (relu): ReLU6(inplace=True)\n",
      "      )\n",
      "    )\n",
      "  )\n",
      "  (final_conv): Conv2d(128, 2, kernel_size=(1, 1), stride=(1, 1))\n",
      ")\n"
     ]
    }
   ],
   "source": [
    "print(f\"image size : {image_size}, lr : {lr}, epochs : {epochs}, batch size : {batch_size}, model : {model}\")"
   ]
  },
  {
   "cell_type": "markdown",
   "id": "b9193833-aa7f-44d9-b6f2-0eb7d28f9e9f",
   "metadata": {},
   "source": [
    "### If using pretrained model"
   ]
  },
  {
   "cell_type": "code",
   "execution_count": 19,
   "id": "874fb586-4f2a-4bd2-bd18-00f94f31feef",
   "metadata": {},
   "outputs": [],
   "source": [
    "# pretrained_name = \"PMFSNet_baseline\"\n",
    "# # model = HarDMSEG(in_channels = 1)\n",
    "# model = PMFSNet(in_channels = 1, out_channels = 1, dim = \"2d\")\n",
    "# # model = LightMed(in_channels = 1, out_channels = 1, image_size = image_size)\n",
    "# checkpoint = torch.load(f\"models/{pretrained_name}/best_checkpoint.pth\")\n",
    "# model.load_state_dict(checkpoint['model_state_dict'])"
   ]
  },
  {
   "cell_type": "code",
   "execution_count": 20,
   "id": "39874c9f-ddfc-439b-abfa-f50b620f314a",
   "metadata": {},
   "outputs": [],
   "source": [
    "# loss_fn = DiceLoss()\n",
    "loss_fn_nodule = StructureLoss()\n",
    "loss_fn_gland = StructureLoss()\n",
    "optimizer = optim.Adam(model.parameters(), lr=lr)\n",
    "scheduler = optim.lr_scheduler.CosineAnnealingLR(optimizer, T_max=epochs)"
   ]
  },
  {
   "cell_type": "code",
   "execution_count": 21,
   "id": "59c88d21-6f83-4dc4-9b30-27b058360611",
   "metadata": {
    "scrolled": true
   },
   "outputs": [
    {
     "name": "stdout",
     "output_type": "stream",
     "text": [
      "epoch : 0\n"
     ]
    },
    {
     "name": "stderr",
     "output_type": "stream",
     "text": [
      "/home/twszbak764/miniconda3/envs/thyroid/lib/python3.12/site-packages/torch/nn/_reduction.py:51: UserWarning: size_average and reduce args will be deprecated, please use reduction='mean' instead.\n",
      "  warnings.warn(warning.format(ret))\n",
      "100%|██████████| 101/101 [01:18<00:00,  1.28it/s]\n"
     ]
    },
    {
     "name": "stdout",
     "output_type": "stream",
     "text": [
      "train loss : 1.285356316235986, train IOU : 0.5534881978747573, train DICE : 0.6806488426605074\n"
     ]
    },
    {
     "name": "stderr",
     "output_type": "stream",
     "text": [
      "100%|██████████| 20/20 [00:09<00:00,  2.05it/s]\n"
     ]
    },
    {
     "name": "stdout",
     "output_type": "stream",
     "text": [
      "val loss : 0.8283487975597381, val IOU : 0.47170667350292206, val DICE : 0.6437902420759201\n",
      "epoch : 1\n"
     ]
    },
    {
     "name": "stderr",
     "output_type": "stream",
     "text": [
      "100%|██████████| 101/101 [00:18<00:00,  5.37it/s]\n"
     ]
    },
    {
     "name": "stdout",
     "output_type": "stream",
     "text": [
      "train loss : 0.9482538930260309, train IOU : 0.659552006438227, train DICE : 0.7950005560818285\n"
     ]
    },
    {
     "name": "stderr",
     "output_type": "stream",
     "text": [
      "100%|██████████| 20/20 [00:02<00:00,  7.38it/s]\n"
     ]
    },
    {
     "name": "stdout",
     "output_type": "stream",
     "text": [
      "val loss : 0.7260559886693955, val IOU : 0.536646680533886, val DICE : 0.7005877524614335\n",
      "epoch : 2\n"
     ]
    },
    {
     "name": "stderr",
     "output_type": "stream",
     "text": [
      "100%|██████████| 101/101 [00:18<00:00,  5.35it/s]\n"
     ]
    },
    {
     "name": "stdout",
     "output_type": "stream",
     "text": [
      "train loss : 0.829348893448858, train IOU : 0.7041357448785612, train DICE : 0.8254050759985896\n"
     ]
    },
    {
     "name": "stderr",
     "output_type": "stream",
     "text": [
      "100%|██████████| 20/20 [00:02<00:00,  7.40it/s]\n"
     ]
    },
    {
     "name": "stdout",
     "output_type": "stream",
     "text": [
      "val loss : 0.6918688863515854, val IOU : 0.5594232261180878, val DICE : 0.7122121185064316\n",
      "epoch : 3\n"
     ]
    },
    {
     "name": "stderr",
     "output_type": "stream",
     "text": [
      "100%|██████████| 101/101 [00:18<00:00,  5.35it/s]\n"
     ]
    },
    {
     "name": "stdout",
     "output_type": "stream",
     "text": [
      "train loss : 0.7427708719036367, train IOU : 0.7331751561400914, train DICE : 0.8482421093648023\n"
     ]
    },
    {
     "name": "stderr",
     "output_type": "stream",
     "text": [
      "100%|██████████| 20/20 [00:02<00:00,  7.56it/s]\n"
     ]
    },
    {
     "name": "stdout",
     "output_type": "stream",
     "text": [
      "val loss : 0.6468048006296158, val IOU : 0.5916127309203147, val DICE : 0.7489693939685822\n",
      "epoch : 4\n"
     ]
    },
    {
     "name": "stderr",
     "output_type": "stream",
     "text": [
      "100%|██████████| 101/101 [00:18<00:00,  5.37it/s]\n"
     ]
    },
    {
     "name": "stdout",
     "output_type": "stream",
     "text": [
      "train loss : 0.686064358394925, train IOU : 0.7537501106167784, train DICE : 0.8635201985293096\n"
     ]
    },
    {
     "name": "stderr",
     "output_type": "stream",
     "text": [
      "100%|██████████| 20/20 [00:02<00:00,  7.54it/s]\n"
     ]
    },
    {
     "name": "stdout",
     "output_type": "stream",
     "text": [
      "val loss : 0.6438147515058518, val IOU : 0.5945205062627792, val DICE : 0.7543130695819855\n",
      "epoch : 5\n"
     ]
    },
    {
     "name": "stderr",
     "output_type": "stream",
     "text": [
      "100%|██████████| 101/101 [00:18<00:00,  5.44it/s]\n"
     ]
    },
    {
     "name": "stdout",
     "output_type": "stream",
     "text": [
      "train loss : 0.6263367102877928, train IOU : 0.7756139335065785, train DICE : 0.877552339346102\n"
     ]
    },
    {
     "name": "stderr",
     "output_type": "stream",
     "text": [
      "100%|██████████| 20/20 [00:02<00:00,  7.59it/s]\n"
     ]
    },
    {
     "name": "stdout",
     "output_type": "stream",
     "text": [
      "val loss : 0.6517310529947281, val IOU : 0.6040982365608215, val DICE : 0.7613282471895217\n",
      "epoch : 6\n"
     ]
    },
    {
     "name": "stderr",
     "output_type": "stream",
     "text": [
      "100%|██████████| 101/101 [00:18<00:00,  5.55it/s]\n"
     ]
    },
    {
     "name": "stdout",
     "output_type": "stream",
     "text": [
      "train loss : 0.5825876655555008, train IOU : 0.7916907573690509, train DICE : 0.8877710458075646\n"
     ]
    },
    {
     "name": "stderr",
     "output_type": "stream",
     "text": [
      "100%|██████████| 20/20 [00:02<00:00,  7.58it/s]\n"
     ]
    },
    {
     "name": "stdout",
     "output_type": "stream",
     "text": [
      "val loss : 0.7291287004947662, val IOU : 0.558964017033577, val DICE : 0.7402098685503006\n",
      "epoch : 7\n"
     ]
    },
    {
     "name": "stderr",
     "output_type": "stream",
     "text": [
      "100%|██████████| 101/101 [00:18<00:00,  5.55it/s]\n"
     ]
    },
    {
     "name": "stdout",
     "output_type": "stream",
     "text": [
      "train loss : 0.5515437391724917, train IOU : 0.8024789950635174, train DICE : 0.894392202986349\n"
     ]
    },
    {
     "name": "stderr",
     "output_type": "stream",
     "text": [
      "100%|██████████| 20/20 [00:02<00:00,  7.61it/s]\n"
     ]
    },
    {
     "name": "stdout",
     "output_type": "stream",
     "text": [
      "val loss : 0.5547318264842034, val IOU : 0.6551604062318802, val DICE : 0.7998262345790863\n",
      "epoch : 8\n"
     ]
    },
    {
     "name": "stderr",
     "output_type": "stream",
     "text": [
      "100%|██████████| 101/101 [00:18<00:00,  5.56it/s]\n"
     ]
    },
    {
     "name": "stdout",
     "output_type": "stream",
     "text": [
      "train loss : 0.5239285437187345, train IOU : 0.8121552467346191, train DICE : 0.9013856525468354\n"
     ]
    },
    {
     "name": "stderr",
     "output_type": "stream",
     "text": [
      "100%|██████████| 20/20 [00:02<00:00,  7.58it/s]\n"
     ]
    },
    {
     "name": "stdout",
     "output_type": "stream",
     "text": [
      "val loss : 0.587027621269226, val IOU : 0.6371447950601578, val DICE : 0.7795161128044128\n",
      "epoch : 9\n"
     ]
    },
    {
     "name": "stderr",
     "output_type": "stream",
     "text": [
      "100%|██████████| 101/101 [00:18<00:00,  5.57it/s]\n"
     ]
    },
    {
     "name": "stdout",
     "output_type": "stream",
     "text": [
      "train loss : 0.4914483321775304, train IOU : 0.8235145234825587, train DICE : 0.9089510499840916\n"
     ]
    },
    {
     "name": "stderr",
     "output_type": "stream",
     "text": [
      "100%|██████████| 20/20 [00:02<00:00,  7.57it/s]\n"
     ]
    },
    {
     "name": "stdout",
     "output_type": "stream",
     "text": [
      "val loss : 0.6241381108760834, val IOU : 0.610661256313324, val DICE : 0.7711813598871231\n",
      "epoch : 10\n"
     ]
    },
    {
     "name": "stderr",
     "output_type": "stream",
     "text": [
      "100%|██████████| 101/101 [00:18<00:00,  5.55it/s]\n"
     ]
    },
    {
     "name": "stdout",
     "output_type": "stream",
     "text": [
      "train loss : 0.4763409161921775, train IOU : 0.8289167426600315, train DICE : 0.9118518616893504\n"
     ]
    },
    {
     "name": "stderr",
     "output_type": "stream",
     "text": [
      "100%|██████████| 20/20 [00:02<00:00,  7.59it/s]\n"
     ]
    },
    {
     "name": "stdout",
     "output_type": "stream",
     "text": [
      "val loss : 0.6079150184988975, val IOU : 0.6349625170230866, val DICE : 0.7794553756713867\n",
      "epoch : 11\n"
     ]
    },
    {
     "name": "stderr",
     "output_type": "stream",
     "text": [
      "100%|██████████| 101/101 [00:18<00:00,  5.57it/s]\n"
     ]
    },
    {
     "name": "stdout",
     "output_type": "stream",
     "text": [
      "train loss : 0.44612565459591325, train IOU : 0.8400373553285504, train DICE : 0.9189791042025727\n"
     ]
    },
    {
     "name": "stderr",
     "output_type": "stream",
     "text": [
      "100%|██████████| 20/20 [00:02<00:00,  7.61it/s]\n"
     ]
    },
    {
     "name": "stdout",
     "output_type": "stream",
     "text": [
      "val loss : 0.658744877576828, val IOU : 0.625190943479538, val DICE : 0.7775425106287003\n",
      "epoch : 12\n"
     ]
    },
    {
     "name": "stderr",
     "output_type": "stream",
     "text": [
      "100%|██████████| 101/101 [00:18<00:00,  5.57it/s]\n"
     ]
    },
    {
     "name": "stdout",
     "output_type": "stream",
     "text": [
      "train loss : 0.423157806443696, train IOU : 0.8482258249037337, train DICE : 0.9234769161384885\n"
     ]
    },
    {
     "name": "stderr",
     "output_type": "stream",
     "text": [
      "100%|██████████| 20/20 [00:02<00:00,  7.62it/s]\n"
     ]
    },
    {
     "name": "stdout",
     "output_type": "stream",
     "text": [
      "val loss : 0.5387239381670952, val IOU : 0.6783502489328385, val DICE : 0.8212381482124329\n",
      "epoch : 13\n"
     ]
    },
    {
     "name": "stderr",
     "output_type": "stream",
     "text": [
      "100%|██████████| 101/101 [00:18<00:00,  5.56it/s]\n"
     ]
    },
    {
     "name": "stdout",
     "output_type": "stream",
     "text": [
      "train loss : 0.39067366040579166, train IOU : 0.8592152890592518, train DICE : 0.9308091319433534\n"
     ]
    },
    {
     "name": "stderr",
     "output_type": "stream",
     "text": [
      "100%|██████████| 20/20 [00:02<00:00,  7.64it/s]\n"
     ]
    },
    {
     "name": "stdout",
     "output_type": "stream",
     "text": [
      "val loss : 0.5516443595290184, val IOU : 0.6781838715076447, val DICE : 0.79954574406147\n",
      "epoch : 14\n"
     ]
    },
    {
     "name": "stderr",
     "output_type": "stream",
     "text": [
      "100%|██████████| 101/101 [00:18<00:00,  5.55it/s]\n"
     ]
    },
    {
     "name": "stdout",
     "output_type": "stream",
     "text": [
      "train loss : 0.3700290109851573, train IOU : 0.8668713734881712, train DICE : 0.9353267804230794\n"
     ]
    },
    {
     "name": "stderr",
     "output_type": "stream",
     "text": [
      "100%|██████████| 20/20 [00:02<00:00,  7.60it/s]\n"
     ]
    },
    {
     "name": "stdout",
     "output_type": "stream",
     "text": [
      "val loss : 0.596599668264389, val IOU : 0.6612340867519378, val DICE : 0.7861560463905335\n",
      "epoch : 15\n"
     ]
    },
    {
     "name": "stderr",
     "output_type": "stream",
     "text": [
      "100%|██████████| 101/101 [00:18<00:00,  5.56it/s]\n"
     ]
    },
    {
     "name": "stdout",
     "output_type": "stream",
     "text": [
      "train loss : 0.34424441610232437, train IOU : 0.8762624983740325, train DICE : 0.9401517321567724\n"
     ]
    },
    {
     "name": "stderr",
     "output_type": "stream",
     "text": [
      "100%|██████████| 20/20 [00:02<00:00,  7.64it/s]\n"
     ]
    },
    {
     "name": "stdout",
     "output_type": "stream",
     "text": [
      "val loss : 0.526800000667572, val IOU : 0.694926318526268, val DICE : 0.8319249421358108\n",
      "epoch : 16\n"
     ]
    },
    {
     "name": "stderr",
     "output_type": "stream",
     "text": [
      "100%|██████████| 101/101 [00:18<00:00,  5.56it/s]\n"
     ]
    },
    {
     "name": "stdout",
     "output_type": "stream",
     "text": [
      "train loss : 0.31952053662573937, train IOU : 0.8844271862860953, train DICE : 0.945702857310229\n"
     ]
    },
    {
     "name": "stderr",
     "output_type": "stream",
     "text": [
      "100%|██████████| 20/20 [00:02<00:00,  7.55it/s]\n"
     ]
    },
    {
     "name": "stdout",
     "output_type": "stream",
     "text": [
      "val loss : 0.5442569926381111, val IOU : 0.6976105004549027, val DICE : 0.8343873709440232\n",
      "epoch : 17\n"
     ]
    },
    {
     "name": "stderr",
     "output_type": "stream",
     "text": [
      "100%|██████████| 101/101 [00:18<00:00,  5.55it/s]\n"
     ]
    },
    {
     "name": "stdout",
     "output_type": "stream",
     "text": [
      "train loss : 0.29537695823329513, train IOU : 0.8933281585721686, train DICE : 0.9506231463781678\n"
     ]
    },
    {
     "name": "stderr",
     "output_type": "stream",
     "text": [
      "100%|██████████| 20/20 [00:02<00:00,  7.59it/s]\n"
     ]
    },
    {
     "name": "stdout",
     "output_type": "stream",
     "text": [
      "val loss : 0.6552057325839996, val IOU : 0.674617412686348, val DICE : 0.8262146472930908\n",
      "epoch : 18\n"
     ]
    },
    {
     "name": "stderr",
     "output_type": "stream",
     "text": [
      "100%|██████████| 101/101 [00:18<00:00,  5.57it/s]\n"
     ]
    },
    {
     "name": "stdout",
     "output_type": "stream",
     "text": [
      "train loss : 0.2757848992501155, train IOU : 0.9001975513920926, train DICE : 0.9537466428067425\n"
     ]
    },
    {
     "name": "stderr",
     "output_type": "stream",
     "text": [
      "100%|██████████| 20/20 [00:02<00:00,  7.57it/s]\n"
     ]
    },
    {
     "name": "stdout",
     "output_type": "stream",
     "text": [
      "val loss : 0.6026426300406456, val IOU : 0.7022740811109542, val DICE : 0.834193542599678\n",
      "epoch : 19\n"
     ]
    },
    {
     "name": "stderr",
     "output_type": "stream",
     "text": [
      "100%|██████████| 101/101 [00:18<00:00,  5.58it/s]\n"
     ]
    },
    {
     "name": "stdout",
     "output_type": "stream",
     "text": [
      "train loss : 0.25843285761847357, train IOU : 0.9065186546580626, train DICE : 0.9570484397434952\n"
     ]
    },
    {
     "name": "stderr",
     "output_type": "stream",
     "text": [
      "100%|██████████| 20/20 [00:02<00:00,  7.61it/s]\n"
     ]
    },
    {
     "name": "stdout",
     "output_type": "stream",
     "text": [
      "val loss : 0.6489278271794319, val IOU : 0.6950477659702301, val DICE : 0.8395493656396866\n",
      "epoch : 20\n"
     ]
    },
    {
     "name": "stderr",
     "output_type": "stream",
     "text": [
      "100%|██████████| 101/101 [00:18<00:00,  5.55it/s]\n"
     ]
    },
    {
     "name": "stdout",
     "output_type": "stream",
     "text": [
      "train loss : 0.2429286623650258, train IOU : 0.9116520155774485, train DICE : 0.9602299905059362\n"
     ]
    },
    {
     "name": "stderr",
     "output_type": "stream",
     "text": [
      "100%|██████████| 20/20 [00:02<00:00,  7.60it/s]\n"
     ]
    },
    {
     "name": "stdout",
     "output_type": "stream",
     "text": [
      "val loss : 0.7379490956664085, val IOU : 0.6775136351585388, val DICE : 0.8234014689922333\n",
      "epoch : 21\n"
     ]
    },
    {
     "name": "stderr",
     "output_type": "stream",
     "text": [
      "100%|██████████| 101/101 [00:18<00:00,  5.56it/s]\n"
     ]
    },
    {
     "name": "stdout",
     "output_type": "stream",
     "text": [
      "train loss : 0.23110585003206047, train IOU : 0.9157803176653267, train DICE : 0.9619958318106019\n"
     ]
    },
    {
     "name": "stderr",
     "output_type": "stream",
     "text": [
      "100%|██████████| 20/20 [00:02<00:00,  7.63it/s]\n"
     ]
    },
    {
     "name": "stdout",
     "output_type": "stream",
     "text": [
      "val loss : 0.7168415993452072, val IOU : 0.6982773840427399, val DICE : 0.8376651793718338\n",
      "epoch : 22\n"
     ]
    },
    {
     "name": "stderr",
     "output_type": "stream",
     "text": [
      "100%|██████████| 101/101 [00:18<00:00,  5.57it/s]\n"
     ]
    },
    {
     "name": "stdout",
     "output_type": "stream",
     "text": [
      "train loss : 0.21821187982464782, train IOU : 0.9202465816299514, train DICE : 0.9643894664131769\n"
     ]
    },
    {
     "name": "stderr",
     "output_type": "stream",
     "text": [
      "100%|██████████| 20/20 [00:02<00:00,  7.63it/s]\n"
     ]
    },
    {
     "name": "stdout",
     "output_type": "stream",
     "text": [
      "val loss : 0.6750083804130554, val IOU : 0.7201738804578781, val DICE : 0.8499150067567826\n",
      "epoch : 23\n"
     ]
    },
    {
     "name": "stderr",
     "output_type": "stream",
     "text": [
      "100%|██████████| 101/101 [00:18<00:00,  5.56it/s]\n"
     ]
    },
    {
     "name": "stdout",
     "output_type": "stream",
     "text": [
      "train loss : 0.20473379737669878, train IOU : 0.9246331825114713, train DICE : 0.966698677823095\n"
     ]
    },
    {
     "name": "stderr",
     "output_type": "stream",
     "text": [
      "100%|██████████| 20/20 [00:02<00:00,  7.60it/s]\n"
     ]
    },
    {
     "name": "stdout",
     "output_type": "stream",
     "text": [
      "val loss : 0.7372164830565453, val IOU : 0.7054192006587983, val DICE : 0.8455593019723893\n",
      "epoch : 24\n"
     ]
    },
    {
     "name": "stderr",
     "output_type": "stream",
     "text": [
      "100%|██████████| 101/101 [00:18<00:00,  5.57it/s]\n"
     ]
    },
    {
     "name": "stdout",
     "output_type": "stream",
     "text": [
      "train loss : 0.197249306015449, train IOU : 0.9272661150091945, train DICE : 0.9681009473186908\n"
     ]
    },
    {
     "name": "stderr",
     "output_type": "stream",
     "text": [
      "100%|██████████| 20/20 [00:02<00:00,  7.61it/s]\n"
     ]
    },
    {
     "name": "stdout",
     "output_type": "stream",
     "text": [
      "val loss : 0.7825571894645691, val IOU : 0.7068104654550552, val DICE : 0.8477076351642608\n",
      "epoch : 25\n"
     ]
    },
    {
     "name": "stderr",
     "output_type": "stream",
     "text": [
      "100%|██████████| 101/101 [00:18<00:00,  5.57it/s]\n"
     ]
    },
    {
     "name": "stdout",
     "output_type": "stream",
     "text": [
      "train loss : 0.18960314487466717, train IOU : 0.9297374616755117, train DICE : 0.9696068327025612\n"
     ]
    },
    {
     "name": "stderr",
     "output_type": "stream",
     "text": [
      "100%|██████████| 20/20 [00:02<00:00,  7.59it/s]\n"
     ]
    },
    {
     "name": "stdout",
     "output_type": "stream",
     "text": [
      "val loss : 0.6360206589102745, val IOU : 0.7286186307668686, val DICE : 0.8545337229967117\n",
      "epoch : 26\n"
     ]
    },
    {
     "name": "stderr",
     "output_type": "stream",
     "text": [
      "100%|██████████| 101/101 [00:18<00:00,  5.54it/s]\n"
     ]
    },
    {
     "name": "stdout",
     "output_type": "stream",
     "text": [
      "train loss : 0.1736598560715666, train IOU : 0.9355127958968135, train DICE : 0.9722978803190855\n"
     ]
    },
    {
     "name": "stderr",
     "output_type": "stream",
     "text": [
      "100%|██████████| 20/20 [00:02<00:00,  7.59it/s]\n"
     ]
    },
    {
     "name": "stdout",
     "output_type": "stream",
     "text": [
      "val loss : 0.7417069479823113, val IOU : 0.7263279974460601, val DICE : 0.8572685688734054\n",
      "epoch : 27\n"
     ]
    },
    {
     "name": "stderr",
     "output_type": "stream",
     "text": [
      "100%|██████████| 101/101 [00:18<00:00,  5.55it/s]\n"
     ]
    },
    {
     "name": "stdout",
     "output_type": "stream",
     "text": [
      "train loss : 0.1661550932296432, train IOU : 0.9381738499839707, train DICE : 0.9736156233466498\n"
     ]
    },
    {
     "name": "stderr",
     "output_type": "stream",
     "text": [
      "100%|██████████| 20/20 [00:02<00:00,  7.55it/s]\n"
     ]
    },
    {
     "name": "stdout",
     "output_type": "stream",
     "text": [
      "val loss : 0.8689594328403473, val IOU : 0.7066820800304413, val DICE : 0.8475569814443589\n",
      "epoch : 28\n"
     ]
    },
    {
     "name": "stderr",
     "output_type": "stream",
     "text": [
      "100%|██████████| 101/101 [00:18<00:00,  5.54it/s]\n"
     ]
    },
    {
     "name": "stdout",
     "output_type": "stream",
     "text": [
      "train loss : 0.15406319130175183, train IOU : 0.9425250297725791, train DICE : 0.9756894979146448\n"
     ]
    },
    {
     "name": "stderr",
     "output_type": "stream",
     "text": [
      "100%|██████████| 20/20 [00:02<00:00,  7.59it/s]\n"
     ]
    },
    {
     "name": "stdout",
     "output_type": "stream",
     "text": [
      "val loss : 0.7186224684119225, val IOU : 0.7397445648908615, val DICE : 0.8636872977018356\n",
      "epoch : 29\n"
     ]
    },
    {
     "name": "stderr",
     "output_type": "stream",
     "text": [
      "100%|██████████| 101/101 [00:18<00:00,  5.58it/s]\n"
     ]
    },
    {
     "name": "stdout",
     "output_type": "stream",
     "text": [
      "train loss : 0.14696022204243311, train IOU : 0.9444949774458857, train DICE : 0.9770016245322652\n"
     ]
    },
    {
     "name": "stderr",
     "output_type": "stream",
     "text": [
      "100%|██████████| 20/20 [00:02<00:00,  7.62it/s]\n"
     ]
    },
    {
     "name": "stdout",
     "output_type": "stream",
     "text": [
      "val loss : 0.8702337354421615, val IOU : 0.7209880262613296, val DICE : 0.8536013841629029\n",
      "epoch : 30\n"
     ]
    },
    {
     "name": "stderr",
     "output_type": "stream",
     "text": [
      "100%|██████████| 101/101 [00:18<00:00,  5.56it/s]\n"
     ]
    },
    {
     "name": "stdout",
     "output_type": "stream",
     "text": [
      "train loss : 0.13965504845180135, train IOU : 0.9476504756672548, train DICE : 0.978033694300321\n"
     ]
    },
    {
     "name": "stderr",
     "output_type": "stream",
     "text": [
      "100%|██████████| 20/20 [00:02<00:00,  7.58it/s]\n"
     ]
    },
    {
     "name": "stdout",
     "output_type": "stream",
     "text": [
      "val loss : 0.8411388665437698, val IOU : 0.732870128750801, val DICE : 0.8609986513853073\n",
      "epoch : 31\n"
     ]
    },
    {
     "name": "stderr",
     "output_type": "stream",
     "text": [
      "100%|██████████| 101/101 [00:18<00:00,  5.57it/s]\n"
     ]
    },
    {
     "name": "stdout",
     "output_type": "stream",
     "text": [
      "train loss : 0.13056525868354457, train IOU : 0.9508112851936038, train DICE : 0.9795676216040508\n"
     ]
    },
    {
     "name": "stderr",
     "output_type": "stream",
     "text": [
      "100%|██████████| 20/20 [00:02<00:00,  7.59it/s]\n"
     ]
    },
    {
     "name": "stdout",
     "output_type": "stream",
     "text": [
      "val loss : 0.8404191225767136, val IOU : 0.7364051878452301, val DICE : 0.862163645029068\n",
      "epoch : 32\n"
     ]
    },
    {
     "name": "stderr",
     "output_type": "stream",
     "text": [
      "100%|██████████| 101/101 [00:18<00:00,  5.56it/s]\n"
     ]
    },
    {
     "name": "stdout",
     "output_type": "stream",
     "text": [
      "train loss : 0.1260612072183354, train IOU : 0.9525151211436432, train DICE : 0.9803072521001985\n"
     ]
    },
    {
     "name": "stderr",
     "output_type": "stream",
     "text": [
      "100%|██████████| 20/20 [00:02<00:00,  7.59it/s]\n"
     ]
    },
    {
     "name": "stdout",
     "output_type": "stream",
     "text": [
      "val loss : 0.9619240581989288, val IOU : 0.7270538687705994, val DICE : 0.8556590259075165\n",
      "epoch : 33\n"
     ]
    },
    {
     "name": "stderr",
     "output_type": "stream",
     "text": [
      "100%|██████████| 101/101 [00:18<00:00,  5.56it/s]\n"
     ]
    },
    {
     "name": "stdout",
     "output_type": "stream",
     "text": [
      "train loss : 0.12041233568498404, train IOU : 0.954413098273891, train DICE : 0.9811611488313958\n"
     ]
    },
    {
     "name": "stderr",
     "output_type": "stream",
     "text": [
      "100%|██████████| 20/20 [00:02<00:00,  7.62it/s]\n"
     ]
    },
    {
     "name": "stdout",
     "output_type": "stream",
     "text": [
      "val loss : 0.9630084156990051, val IOU : 0.73413844704628, val DICE : 0.8601498812437057\n",
      "epoch : 34\n"
     ]
    },
    {
     "name": "stderr",
     "output_type": "stream",
     "text": [
      "100%|██████████| 101/101 [00:18<00:00,  5.56it/s]\n"
     ]
    },
    {
     "name": "stdout",
     "output_type": "stream",
     "text": [
      "train loss : 0.11237987101373106, train IOU : 0.9574124470795735, train DICE : 0.9824889337662424\n"
     ]
    },
    {
     "name": "stderr",
     "output_type": "stream",
     "text": [
      "100%|██████████| 20/20 [00:02<00:00,  7.67it/s]\n"
     ]
    },
    {
     "name": "stdout",
     "output_type": "stream",
     "text": [
      "val loss : 0.9663858324289322, val IOU : 0.7397847950458527, val DICE : 0.8637845844030381\n",
      "epoch : 35\n"
     ]
    },
    {
     "name": "stderr",
     "output_type": "stream",
     "text": [
      "100%|██████████| 101/101 [00:18<00:00,  5.54it/s]\n"
     ]
    },
    {
     "name": "stdout",
     "output_type": "stream",
     "text": [
      "train loss : 0.10845707932321152, train IOU : 0.9589429379689811, train DICE : 0.9830632445835831\n"
     ]
    },
    {
     "name": "stderr",
     "output_type": "stream",
     "text": [
      "100%|██████████| 20/20 [00:02<00:00,  7.58it/s]\n"
     ]
    },
    {
     "name": "stdout",
     "output_type": "stream",
     "text": [
      "val loss : 1.0086657255887985, val IOU : 0.7426986217498779, val DICE : 0.8655901610851288\n",
      "epoch : 36\n"
     ]
    },
    {
     "name": "stderr",
     "output_type": "stream",
     "text": [
      "100%|██████████| 101/101 [00:18<00:00,  5.56it/s]\n"
     ]
    },
    {
     "name": "stdout",
     "output_type": "stream",
     "text": [
      "train loss : 0.10328614888804974, train IOU : 0.9610833785321453, train DICE : 0.983927598093996\n"
     ]
    },
    {
     "name": "stderr",
     "output_type": "stream",
     "text": [
      "100%|██████████| 20/20 [00:02<00:00,  7.63it/s]\n"
     ]
    },
    {
     "name": "stdout",
     "output_type": "stream",
     "text": [
      "val loss : 0.9822363227605819, val IOU : 0.7444828420877456, val DICE : 0.8662304818630219\n",
      "epoch : 37\n"
     ]
    },
    {
     "name": "stderr",
     "output_type": "stream",
     "text": [
      "100%|██████████| 101/101 [00:18<00:00,  5.52it/s]\n"
     ]
    },
    {
     "name": "stdout",
     "output_type": "stream",
     "text": [
      "train loss : 0.09880282973298932, train IOU : 0.9626056551933289, train DICE : 0.984626041780604\n"
     ]
    },
    {
     "name": "stderr",
     "output_type": "stream",
     "text": [
      "100%|██████████| 20/20 [00:02<00:00,  7.62it/s]\n"
     ]
    },
    {
     "name": "stdout",
     "output_type": "stream",
     "text": [
      "val loss : 1.0728956490755082, val IOU : 0.7426381796598435, val DICE : 0.8647291541099549\n",
      "epoch : 38\n"
     ]
    },
    {
     "name": "stderr",
     "output_type": "stream",
     "text": [
      "100%|██████████| 101/101 [00:18<00:00,  5.56it/s]\n"
     ]
    },
    {
     "name": "stdout",
     "output_type": "stream",
     "text": [
      "train loss : 0.0937787931744415, train IOU : 0.9645046326193479, train DICE : 0.985445777968605\n"
     ]
    },
    {
     "name": "stderr",
     "output_type": "stream",
     "text": [
      "100%|██████████| 20/20 [00:02<00:00,  7.57it/s]\n"
     ]
    },
    {
     "name": "stdout",
     "output_type": "stream",
     "text": [
      "val loss : 1.0690275430679321, val IOU : 0.7436597853899002, val DICE : 0.8660279422998428\n",
      "epoch : 39\n"
     ]
    },
    {
     "name": "stderr",
     "output_type": "stream",
     "text": [
      "100%|██████████| 101/101 [00:18<00:00,  5.57it/s]\n"
     ]
    },
    {
     "name": "stdout",
     "output_type": "stream",
     "text": [
      "train loss : 0.09034211771322949, train IOU : 0.9657048270253852, train DICE : 0.9859890625028327\n"
     ]
    },
    {
     "name": "stderr",
     "output_type": "stream",
     "text": [
      "100%|██████████| 20/20 [00:02<00:00,  7.67it/s]\n"
     ]
    },
    {
     "name": "stdout",
     "output_type": "stream",
     "text": [
      "val loss : 1.0891041964292527, val IOU : 0.7487425833940506, val DICE : 0.8676401674747467\n",
      "epoch : 40\n"
     ]
    },
    {
     "name": "stderr",
     "output_type": "stream",
     "text": [
      "100%|██████████| 101/101 [00:18<00:00,  5.53it/s]\n"
     ]
    },
    {
     "name": "stdout",
     "output_type": "stream",
     "text": [
      "train loss : 0.0869433721988508, train IOU : 0.9672053922521006, train DICE : 0.9864923328456312\n"
     ]
    },
    {
     "name": "stderr",
     "output_type": "stream",
     "text": [
      "100%|██████████| 20/20 [00:02<00:00,  7.57it/s]\n"
     ]
    },
    {
     "name": "stdout",
     "output_type": "stream",
     "text": [
      "val loss : 1.1339978218078612, val IOU : 0.748973286151886, val DICE : 0.8680414497852326\n",
      "epoch : 41\n"
     ]
    },
    {
     "name": "stderr",
     "output_type": "stream",
     "text": [
      "100%|██████████| 101/101 [00:18<00:00,  5.52it/s]\n"
     ]
    },
    {
     "name": "stdout",
     "output_type": "stream",
     "text": [
      "train loss : 0.08388376154816977, train IOU : 0.9685374958680408, train DICE : 0.9870030065574268\n"
     ]
    },
    {
     "name": "stderr",
     "output_type": "stream",
     "text": [
      "100%|██████████| 20/20 [00:02<00:00,  7.60it/s]\n"
     ]
    },
    {
     "name": "stdout",
     "output_type": "stream",
     "text": [
      "val loss : 1.1675984561443329, val IOU : 0.7494499623775482, val DICE : 0.8677129834890366\n",
      "epoch : 42\n"
     ]
    },
    {
     "name": "stderr",
     "output_type": "stream",
     "text": [
      "100%|██████████| 101/101 [00:18<00:00,  5.56it/s]\n"
     ]
    },
    {
     "name": "stdout",
     "output_type": "stream",
     "text": [
      "train loss : 0.08118721407533873, train IOU : 0.9694725021277324, train DICE : 0.9874425807801803\n"
     ]
    },
    {
     "name": "stderr",
     "output_type": "stream",
     "text": [
      "100%|██████████| 20/20 [00:02<00:00,  7.67it/s]\n"
     ]
    },
    {
     "name": "stdout",
     "output_type": "stream",
     "text": [
      "val loss : 1.1958944499492645, val IOU : 0.7491907924413681, val DICE : 0.8675025045871735\n",
      "epoch : 43\n"
     ]
    },
    {
     "name": "stderr",
     "output_type": "stream",
     "text": [
      "100%|██████████| 101/101 [00:18<00:00,  5.55it/s]\n"
     ]
    },
    {
     "name": "stdout",
     "output_type": "stream",
     "text": [
      "train loss : 0.07839410936478342, train IOU : 0.9707423442661172, train DICE : 0.9878575860863865\n"
     ]
    },
    {
     "name": "stderr",
     "output_type": "stream",
     "text": [
      "100%|██████████| 20/20 [00:02<00:00,  7.60it/s]\n"
     ]
    },
    {
     "name": "stdout",
     "output_type": "stream",
     "text": [
      "val loss : 1.2054522186517715, val IOU : 0.7507305026054383, val DICE : 0.8682935506105423\n",
      "epoch : 44\n"
     ]
    },
    {
     "name": "stderr",
     "output_type": "stream",
     "text": [
      "100%|██████████| 101/101 [00:18<00:00,  5.55it/s]\n"
     ]
    },
    {
     "name": "stdout",
     "output_type": "stream",
     "text": [
      "train loss : 0.07666465367125992, train IOU : 0.9713945341582345, train DICE : 0.9881281528142419\n"
     ]
    },
    {
     "name": "stderr",
     "output_type": "stream",
     "text": [
      "100%|██████████| 20/20 [00:02<00:00,  7.60it/s]\n"
     ]
    },
    {
     "name": "stdout",
     "output_type": "stream",
     "text": [
      "val loss : 1.2578779995441436, val IOU : 0.7493494927883149, val DICE : 0.8676337748765945\n",
      "epoch : 45\n"
     ]
    },
    {
     "name": "stderr",
     "output_type": "stream",
     "text": [
      "100%|██████████| 101/101 [00:18<00:00,  5.56it/s]\n"
     ]
    },
    {
     "name": "stdout",
     "output_type": "stream",
     "text": [
      "train loss : 0.07562870384737996, train IOU : 0.971786624724322, train DICE : 0.9882923518076981\n"
     ]
    },
    {
     "name": "stderr",
     "output_type": "stream",
     "text": [
      "100%|██████████| 20/20 [00:02<00:00,  7.64it/s]\n"
     ]
    },
    {
     "name": "stdout",
     "output_type": "stream",
     "text": [
      "val loss : 1.2578438609838485, val IOU : 0.7501315683126449, val DICE : 0.8680261313915253\n",
      "epoch : 46\n"
     ]
    },
    {
     "name": "stderr",
     "output_type": "stream",
     "text": [
      "100%|██████████| 101/101 [00:18<00:00,  5.56it/s]\n"
     ]
    },
    {
     "name": "stdout",
     "output_type": "stream",
     "text": [
      "train loss : 0.07459201538326717, train IOU : 0.9722408852954902, train DICE : 0.9884687012965137\n"
     ]
    },
    {
     "name": "stderr",
     "output_type": "stream",
     "text": [
      "100%|██████████| 20/20 [00:02<00:00,  7.57it/s]\n"
     ]
    },
    {
     "name": "stdout",
     "output_type": "stream",
     "text": [
      "val loss : 1.2550379902124404, val IOU : 0.7506937116384507, val DICE : 0.8681362688541412\n",
      "epoch : 47\n"
     ]
    },
    {
     "name": "stderr",
     "output_type": "stream",
     "text": [
      "100%|██████████| 101/101 [00:18<00:00,  5.56it/s]\n"
     ]
    },
    {
     "name": "stdout",
     "output_type": "stream",
     "text": [
      "train loss : 0.07368332051699704, train IOU : 0.9726602559042449, train DICE : 0.9886211127337843\n"
     ]
    },
    {
     "name": "stderr",
     "output_type": "stream",
     "text": [
      "100%|██████████| 20/20 [00:02<00:00,  7.61it/s]\n"
     ]
    },
    {
     "name": "stdout",
     "output_type": "stream",
     "text": [
      "val loss : 1.2581817597150802, val IOU : 0.7514533460140228, val DICE : 0.8685450971126556\n",
      "epoch : 48\n"
     ]
    },
    {
     "name": "stderr",
     "output_type": "stream",
     "text": [
      "100%|██████████| 101/101 [00:18<00:00,  5.53it/s]\n"
     ]
    },
    {
     "name": "stdout",
     "output_type": "stream",
     "text": [
      "train loss : 0.07341946218863572, train IOU : 0.9726770496604467, train DICE : 0.9886275795426699\n"
     ]
    },
    {
     "name": "stderr",
     "output_type": "stream",
     "text": [
      "100%|██████████| 20/20 [00:02<00:00,  7.58it/s]\n"
     ]
    },
    {
     "name": "stdout",
     "output_type": "stream",
     "text": [
      "val loss : 1.2728574395179748, val IOU : 0.7504221498966217, val DICE : 0.867884686589241\n",
      "epoch : 49\n"
     ]
    },
    {
     "name": "stderr",
     "output_type": "stream",
     "text": [
      "100%|██████████| 101/101 [00:18<00:00,  5.56it/s]\n"
     ]
    },
    {
     "name": "stdout",
     "output_type": "stream",
     "text": [
      "train loss : 0.0730737428558935, train IOU : 0.9728870769538501, train DICE : 0.9887151446672949\n"
     ]
    },
    {
     "name": "stderr",
     "output_type": "stream",
     "text": [
      "100%|██████████| 20/20 [00:02<00:00,  7.59it/s]\n"
     ]
    },
    {
     "name": "stdout",
     "output_type": "stream",
     "text": [
      "val loss : 1.2830171018838883, val IOU : 0.7504754453897476, val DICE : 0.8680468410253525\n"
     ]
    },
    {
     "data": {
      "text/html": [],
      "text/plain": [
       "<IPython.core.display.HTML object>"
      ]
     },
     "metadata": {},
     "output_type": "display_data"
    },
    {
     "data": {
      "text/html": [
       "<br>    <style><br>        .wandb-row {<br>            display: flex;<br>            flex-direction: row;<br>            flex-wrap: wrap;<br>            justify-content: flex-start;<br>            width: 100%;<br>        }<br>        .wandb-col {<br>            display: flex;<br>            flex-direction: column;<br>            flex-basis: 100%;<br>            flex: 1;<br>            padding: 10px;<br>        }<br>    </style><br><div class=\"wandb-row\"><div class=\"wandb-col\"><h3>Run history:</h3><br/><table class=\"wandb\"><tr><td>DDTI_val_DICE</td><td>▁▄▄▅▅▃▇▇▄▅█▆▅██▇▇▅▆▇▆█▇▆█▇▇▇▇▇█▇▇▇▇▇▇▇▇▇</td></tr><tr><td>DDTI_val_IOU</td><td>▁▄▅▆▅▂█▇▄▃▅██▅▆▄▆▇▅▆▇▅▇▆▇▆▆▇▇▇▇▇▇▇▇▇▇▇▇▇</td></tr><tr><td>DDTI_val_loss</td><td>▂▁▁▁▁▂▁▁▂▁▁▁▂▁▁▂▂▃▃▃▄▃▄▃▅▄▅▅▅▆▆▆▆▇▇▇████</td></tr><tr><td>Learning Rate</td><td>███████▇▇▇▇▇▆▆▆▅▅▅▅▅▄▄▄▃▃▃▃▂▂▂▂▂▂▁▁▁▁▁▁▁</td></tr><tr><td>TN3K_val_DICE</td><td>▁▂▃▄▄▅▅▅▅▅▆▆▆▆▇▇▇▇▇▇█▇██████████████████</td></tr><tr><td>TN3K_val_IOU</td><td>▁▂▃▃▃▄▅▄▅▅▆▆▆▆▆▇▇▇▇▇▇▇▇▇▇███████████████</td></tr><tr><td>TN3K_val_loss</td><td>█▇▆▆▆▆▄▅▄▅▄▃▄▃▃▃▂▂▂▂▂▂▂▂▂▁▁▁▁▁▁▁▁▁▁▁▁▁▁▁</td></tr><tr><td>epoch</td><td>▁▁▁▁▂▂▂▂▂▂▃▃▃▃▃▄▄▄▄▄▅▅▅▅▅▆▆▆▆▆▆▇▇▇▇▇▇███</td></tr><tr><td>train_DICE</td><td>▁▄▄▅▅▆▆▆▆▇▇▇▇▇▇▇▇▇▇█████████████████████</td></tr><tr><td>train_IOU</td><td>▁▃▄▄▅▅▅▆▆▆▆▆▆▇▇▇▇▇▇▇▇▇▇▇████████████████</td></tr><tr><td>train_loss</td><td>█▆▅▅▅▄▄▄▃▃▃▃▃▂▂▂▂▂▂▂▂▂▂▁▁▁▁▁▁▁▁▁▁▁▁▁▁▁▁▁</td></tr><tr><td>val_DICE</td><td>▁▃▃▄▄▄▆▅▅▅▇▆▅▇▇▇▇▇▇▇█▇██████████████████</td></tr><tr><td>val_IOU</td><td>▁▃▃▄▄▃▆▅▄▅▆▆▆▇▇▇▇▇▇▇▇▇█▇█▇██████████████</td></tr><tr><td>val_loss</td><td>▄▃▂▂▂▁▂▂▂▂▁▂▁▁▂▂▃▃▂▃▂▃▄▃▄▄▅▅▅▅▆▆▆▇▇▇████</td></tr></table><br/></div><div class=\"wandb-col\"><h3>Run summary:</h3><br/><table class=\"wandb\"><tr><td>DDTI_val_DICE</td><td>0.70435</td></tr><tr><td>DDTI_val_IOU</td><td>0.53437</td></tr><tr><td>DDTI_val_loss</td><td>2.47729</td></tr><tr><td>Learning Rate</td><td>0</td></tr><tr><td>TN3K_val_DICE</td><td>0.98916</td></tr><tr><td>TN3K_val_IOU</td><td>0.97293</td></tr><tr><td>TN3K_val_loss</td><td>0.04381</td></tr><tr><td>epoch</td><td>49</td></tr><tr><td>train_DICE</td><td>0.98872</td></tr><tr><td>train_IOU</td><td>0.97289</td></tr><tr><td>train_loss</td><td>0.07307</td></tr><tr><td>val_DICE</td><td>0.86805</td></tr><tr><td>val_IOU</td><td>0.75048</td></tr><tr><td>val_loss</td><td>1.28302</td></tr></table><br/></div></div>"
      ],
      "text/plain": [
       "<IPython.core.display.HTML object>"
      ]
     },
     "metadata": {},
     "output_type": "display_data"
    },
    {
     "data": {
      "text/html": [
       " View run <strong style=\"color:#cdcd00\">hybrid_v3_upsample_baseline</strong> at: <a href='https://wandb.ai/s960068sss-ucl/thyroid_hybrid_model/runs/9vcmlwak' target=\"_blank\">https://wandb.ai/s960068sss-ucl/thyroid_hybrid_model/runs/9vcmlwak</a><br> View project at: <a href='https://wandb.ai/s960068sss-ucl/thyroid_hybrid_model' target=\"_blank\">https://wandb.ai/s960068sss-ucl/thyroid_hybrid_model</a><br>Synced 5 W&B file(s), 0 media file(s), 0 artifact file(s) and 0 other file(s)"
      ],
      "text/plain": [
       "<IPython.core.display.HTML object>"
      ]
     },
     "metadata": {},
     "output_type": "display_data"
    },
    {
     "data": {
      "text/html": [
       "Find logs at: <code>./wandb/run-20250527_124125-9vcmlwak/logs</code>"
      ],
      "text/plain": [
       "<IPython.core.display.HTML object>"
      ]
     },
     "metadata": {},
     "output_type": "display_data"
    }
   ],
   "source": [
    "max_IOU = -1\n",
    "for epoch in range(epochs):\n",
    "    print(f\"epoch : {epoch}\")\n",
    "    total_loss_train, total_IOU_train, total_DICE_train = train(train_dataloader, model, optimizer, loss_fn_nodule, loss_fn_gland, \"cuda\")\n",
    "    print(f\"train loss : {total_loss_train}, train IOU : {total_IOU_train}, train DICE : {total_DICE_train}\")\n",
    "    total_loss_val, total_IOU_val, total_DICE_val, DDTI_total_loss_val, DDTI_total_IOU_val, DDTI_total_DICE_val, TN3K_total_loss_val, TN3K_total_IOU_val, TN3K_total_DICE_val = val(test_dataloader, model, loss_fn_nodule, loss_fn_gland, \"cuda\")\n",
    "    print(f\"val loss : {total_loss_val}, val IOU : {total_IOU_val}, val DICE : {total_DICE_val}\")\n",
    "    \n",
    "    scheduler.step()\n",
    "    current_lr = scheduler.get_last_lr()[0]\n",
    "\n",
    "\n",
    "\n",
    "    if max_IOU < total_IOU_val:\n",
    "        max_IOU = total_IOU_val\n",
    "        checkpoint = {\n",
    "            'epoch': epoch,\n",
    "            'model_state_dict': model.state_dict(),\n",
    "            'optimizer_state_dict': optimizer.state_dict(),\n",
    "            'scheduler_state_dict': scheduler.state_dict(),\n",
    "            \"IOU\" : total_IOU_val,\n",
    "            \"DICE\" : total_DICE_val,\n",
    "            \"loss\" : total_loss_val\n",
    "        }\n",
    "        folder = f\"models/{name}\"\n",
    "        if not os.path.exists(folder):\n",
    "            os.mkdir(folder)\n",
    "        torch.save(checkpoint, f\"models/{name}/best_checkpoint.pth\")\n",
    "\n",
    "    \n",
    "    wandb.log({\n",
    "        \"epoch\": epoch,\n",
    "        \"Learning Rate\":current_lr,\n",
    "        \n",
    "        \"train_loss\": total_loss_train,\n",
    "        \"train_IOU\": total_IOU_train,\n",
    "        \"train_DICE\": total_DICE_train,\n",
    "        \n",
    "        \"val_loss\": total_loss_val,\n",
    "        \"val_IOU\": total_IOU_val,\n",
    "        \"val_DICE\": total_DICE_val,\n",
    "\n",
    "        \"DDTI_val_loss\": DDTI_total_loss_val,\n",
    "        \"DDTI_val_IOU\": DDTI_total_IOU_val,\n",
    "        \"DDTI_val_DICE\": DDTI_total_DICE_val,\n",
    "\n",
    "        \"TN3K_val_loss\": TN3K_total_loss_val,\n",
    "        \"TN3K_val_IOU\": TN3K_total_IOU_val,\n",
    "        \"TN3K_val_DICE\": TN3K_total_DICE_val,\n",
    "        \n",
    "    })\n",
    "\n",
    "\n",
    "\n",
    "\n",
    "checkpoint = {\n",
    "    'epoch': epoch,\n",
    "    'model_state_dict': model.state_dict(),\n",
    "    'optimizer_state_dict': optimizer.state_dict(),\n",
    "    'scheduler_state_dict': scheduler.state_dict(),\n",
    "    \"IOU\" : total_IOU_val,\n",
    "    \"DICE\" : total_DICE_val,\n",
    "    \"loss\" : total_loss_val\n",
    "}\n",
    "if not os.path.exists(folder):\n",
    "    os.mkdir(folder)\n",
    "torch.save(checkpoint, f\"models/{name}/last_checkpoint.pth\")\n",
    "wandb.finish()"
   ]
  },
  {
   "cell_type": "code",
   "execution_count": 22,
   "id": "5d67100e-b724-4699-a866-2e90091b467c",
   "metadata": {},
   "outputs": [
    {
     "name": "stdout",
     "output_type": "stream",
     "text": [
      "0.7514533460140228\n"
     ]
    }
   ],
   "source": [
    "print(max_IOU)"
   ]
  },
  {
   "cell_type": "code",
   "execution_count": 23,
   "id": "c58a8697-c3e8-414c-9ed8-722bc4edf44d",
   "metadata": {},
   "outputs": [
    {
     "ename": "FileNotFoundError",
     "evalue": "[Errno 2] No such file or directory: 'models/PMFSNet_baseline/last_checkpoint.pth'",
     "output_type": "error",
     "traceback": [
      "\u001b[31m---------------------------------------------------------------------------\u001b[39m",
      "\u001b[31mFileNotFoundError\u001b[39m                         Traceback (most recent call last)",
      "\u001b[36mCell\u001b[39m\u001b[36m \u001b[39m\u001b[32mIn[23]\u001b[39m\u001b[32m, line 5\u001b[39m\n\u001b[32m      3\u001b[39m model = PMFSNet(in_channels = \u001b[32m1\u001b[39m, out_channels = \u001b[32m1\u001b[39m, dim = \u001b[33m\"\u001b[39m\u001b[33m2d\u001b[39m\u001b[33m\"\u001b[39m)\n\u001b[32m      4\u001b[39m \u001b[38;5;66;03m# model = LightMed(in_channels = 1, out_channels = 1, image_size = image_size)\u001b[39;00m\n\u001b[32m----> \u001b[39m\u001b[32m5\u001b[39m checkpoint = torch.load(\u001b[33mf\u001b[39m\u001b[33m\"\u001b[39m\u001b[33mmodels/\u001b[39m\u001b[38;5;132;01m{\u001b[39;00minference_name\u001b[38;5;132;01m}\u001b[39;00m\u001b[33m/last_checkpoint.pth\u001b[39m\u001b[33m\"\u001b[39m)\n\u001b[32m      6\u001b[39m model.load_state_dict(checkpoint[\u001b[33m'\u001b[39m\u001b[33mmodel_state_dict\u001b[39m\u001b[33m'\u001b[39m])\n",
      "\u001b[36mFile \u001b[39m\u001b[32m~/miniconda3/envs/thyroid/lib/python3.12/site-packages/torch/serialization.py:1479\u001b[39m, in \u001b[36mload\u001b[39m\u001b[34m(f, map_location, pickle_module, weights_only, mmap, **pickle_load_args)\u001b[39m\n\u001b[32m   1476\u001b[39m \u001b[38;5;28;01mif\u001b[39;00m \u001b[33m\"\u001b[39m\u001b[33mencoding\u001b[39m\u001b[33m\"\u001b[39m \u001b[38;5;129;01mnot\u001b[39;00m \u001b[38;5;129;01min\u001b[39;00m pickle_load_args.keys():\n\u001b[32m   1477\u001b[39m     pickle_load_args[\u001b[33m\"\u001b[39m\u001b[33mencoding\u001b[39m\u001b[33m\"\u001b[39m] = \u001b[33m\"\u001b[39m\u001b[33mutf-8\u001b[39m\u001b[33m\"\u001b[39m\n\u001b[32m-> \u001b[39m\u001b[32m1479\u001b[39m \u001b[38;5;28;01mwith\u001b[39;00m _open_file_like(f, \u001b[33m\"\u001b[39m\u001b[33mrb\u001b[39m\u001b[33m\"\u001b[39m) \u001b[38;5;28;01mas\u001b[39;00m opened_file:\n\u001b[32m   1480\u001b[39m     \u001b[38;5;28;01mif\u001b[39;00m _is_zipfile(opened_file):\n\u001b[32m   1481\u001b[39m         \u001b[38;5;66;03m# The zipfile reader is going to advance the current file position.\u001b[39;00m\n\u001b[32m   1482\u001b[39m         \u001b[38;5;66;03m# If we want to actually tail call to torch.jit.load, we need to\u001b[39;00m\n\u001b[32m   1483\u001b[39m         \u001b[38;5;66;03m# reset back to the original position.\u001b[39;00m\n\u001b[32m   1484\u001b[39m         orig_position = opened_file.tell()\n",
      "\u001b[36mFile \u001b[39m\u001b[32m~/miniconda3/envs/thyroid/lib/python3.12/site-packages/torch/serialization.py:759\u001b[39m, in \u001b[36m_open_file_like\u001b[39m\u001b[34m(name_or_buffer, mode)\u001b[39m\n\u001b[32m    757\u001b[39m \u001b[38;5;28;01mdef\u001b[39;00m\u001b[38;5;250m \u001b[39m\u001b[34m_open_file_like\u001b[39m(name_or_buffer: FileLike, mode: \u001b[38;5;28mstr\u001b[39m) -> _opener[IO[\u001b[38;5;28mbytes\u001b[39m]]:\n\u001b[32m    758\u001b[39m     \u001b[38;5;28;01mif\u001b[39;00m _is_path(name_or_buffer):\n\u001b[32m--> \u001b[39m\u001b[32m759\u001b[39m         \u001b[38;5;28;01mreturn\u001b[39;00m _open_file(name_or_buffer, mode)\n\u001b[32m    760\u001b[39m     \u001b[38;5;28;01melse\u001b[39;00m:\n\u001b[32m    761\u001b[39m         \u001b[38;5;28;01mif\u001b[39;00m \u001b[33m\"\u001b[39m\u001b[33mw\u001b[39m\u001b[33m\"\u001b[39m \u001b[38;5;129;01min\u001b[39;00m mode:\n",
      "\u001b[36mFile \u001b[39m\u001b[32m~/miniconda3/envs/thyroid/lib/python3.12/site-packages/torch/serialization.py:740\u001b[39m, in \u001b[36m_open_file.__init__\u001b[39m\u001b[34m(self, name, mode)\u001b[39m\n\u001b[32m    739\u001b[39m \u001b[38;5;28;01mdef\u001b[39;00m\u001b[38;5;250m \u001b[39m\u001b[34m__init__\u001b[39m(\u001b[38;5;28mself\u001b[39m, name: Union[\u001b[38;5;28mstr\u001b[39m, os.PathLike[\u001b[38;5;28mstr\u001b[39m]], mode: \u001b[38;5;28mstr\u001b[39m) -> \u001b[38;5;28;01mNone\u001b[39;00m:\n\u001b[32m--> \u001b[39m\u001b[32m740\u001b[39m     \u001b[38;5;28msuper\u001b[39m().\u001b[34m__init__\u001b[39m(\u001b[38;5;28mopen\u001b[39m(name, mode))\n",
      "\u001b[31mFileNotFoundError\u001b[39m: [Errno 2] No such file or directory: 'models/PMFSNet_baseline/last_checkpoint.pth'"
     ]
    }
   ],
   "source": [
    "inference_name = \"PMFSNet_baseline\"\n",
    "# model = HarDMSEG(in_channels = 1)\n",
    "model = PMFSNet(in_channels = 1, out_channels = 1, dim = \"2d\")\n",
    "# model = LightMed(in_channels = 1, out_channels = 1, image_size = image_size)\n",
    "checkpoint = torch.load(f\"models/{inference_name}/last_checkpoint.pth\")\n",
    "model.load_state_dict(checkpoint['model_state_dict'])\n",
    "# optimizer.load_state_dict(checkpoint['optimizer_state_dict'])\n",
    "# scheduler.load_state_dict(checkpoint['scheduler_state_dict'])"
   ]
  },
  {
   "cell_type": "code",
   "execution_count": null,
   "id": "4e84c5aa-badd-4626-93f8-b4d23ee5afcf",
   "metadata": {},
   "outputs": [],
   "source": [
    "\n",
    "total_loss_val, total_IOU_val, total_DICE_val = val(test_dataloader, model, loss_fn, \"cuda\")\n",
    "print(f\"val loss : {total_loss_val}, val IOU : {total_IOU_val}, val DICE : {total_DICE_val}\")\n"
   ]
  },
  {
   "cell_type": "code",
   "execution_count": null,
   "id": "dafcd1cd-51e8-4895-8a6d-837234076860",
   "metadata": {
    "scrolled": true
   },
   "outputs": [],
   "source": [
    "DICE = 0\n",
    "# model.to(\"cuda\")\n",
    "model.eval()\n",
    "for image, mask in tqdm(test_dataloader):\n",
    "    image, mask = image, mask\n",
    "    preds = model(image)\n",
    "    DICE += (1 - dice_loss(preds, mask)).item()\n",
    "print(DICE/len(test_dataloader))"
   ]
  },
  {
   "cell_type": "code",
   "execution_count": null,
   "id": "a39cba45-1411-4e97-8f59-560e936c1602",
   "metadata": {
    "scrolled": true
   },
   "outputs": [],
   "source": [
    "index = 7\n",
    "plt.subplot(1,2,1)\n",
    "plt.imshow(preds[index][0])\n",
    "plt.subplot(1,2,2)\n",
    "plt.imshow(mask[index][0])"
   ]
  },
  {
   "cell_type": "code",
   "execution_count": null,
   "id": "f32ecdce-22c9-4a43-b389-c21d455fae5f",
   "metadata": {},
   "outputs": [],
   "source": [
    "dice_loss = DiceLoss()\n",
    "print(1 - dice_loss(preds, mask))"
   ]
  },
  {
   "cell_type": "code",
   "execution_count": null,
   "id": "a182cb39-4545-44db-940d-727076da0cce",
   "metadata": {},
   "outputs": [],
   "source": [
    "plt.imshow(mask[index][0])"
   ]
  },
  {
   "cell_type": "code",
   "execution_count": null,
   "id": "a070d2d6-8567-48af-a4db-2aa0f7bd4ed3",
   "metadata": {},
   "outputs": [],
   "source": []
  }
 ],
 "metadata": {
  "kernelspec": {
   "display_name": "thyroid",
   "language": "python",
   "name": "thyroid"
  },
  "language_info": {
   "codemirror_mode": {
    "name": "ipython",
    "version": 3
   },
   "file_extension": ".py",
   "mimetype": "text/x-python",
   "name": "python",
   "nbconvert_exporter": "python",
   "pygments_lexer": "ipython3",
   "version": "3.12.9"
  }
 },
 "nbformat": 4,
 "nbformat_minor": 5
}
