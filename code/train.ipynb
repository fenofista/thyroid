{
 "cells": [
  {
   "cell_type": "code",
   "execution_count": 1,
   "id": "52551d1d-9446-4db5-8b82-a125baea80d7",
   "metadata": {},
   "outputs": [
    {
     "name": "stderr",
     "output_type": "stream",
     "text": [
      "/home/twszbak764/.local/lib/python3.12/site-packages/tqdm/auto.py:21: TqdmWarning: IProgress not found. Please update jupyter and ipywidgets. See https://ipywidgets.readthedocs.io/en/stable/user_install.html\n",
      "  from .autonotebook import tqdm as notebook_tqdm\n",
      "/home/twszbak764/.local/lib/python3.12/site-packages/timm/models/layers/__init__.py:48: FutureWarning: Importing from timm.models.layers is deprecated, please import via timm.layers\n",
      "  warnings.warn(f\"Importing from {__name__} is deprecated, please import via timm.layers\", FutureWarning)\n",
      "/home/twszbak764/.local/lib/python3.12/site-packages/timm/models/registry.py:4: FutureWarning: Importing from timm.models.registry is deprecated, please import via timm.models\n",
      "  warnings.warn(f\"Importing from {__name__} is deprecated, please import via timm.models\", FutureWarning)\n"
     ]
    }
   ],
   "source": [
    "import torch\n",
    "from torch.utils.data import Dataset, DataLoader\n",
    "import numpy as np\n",
    "from PIL import Image\n",
    "import os\n",
    "from torchvision import transforms\n",
    "import pandas as pd\n",
    "import matplotlib.pyplot as plt\n",
    "import torch.optim as optim\n",
    "from tqdm import tqdm\n",
    "import random\n",
    "import torch.nn as nn\n",
    "from dataset import Thyroid_Dataset\n",
    "from model import Eff_Unet\n",
    "from HarDMSEG import HarDMSEG\n",
    "from loss_metric import DiceLoss, IOU_score, StructureLoss\n",
    "from LightMed.model.LightMed import LightMed\n",
    "from PMFSNet.lib.models.PMFSNet import PMFSNet\n",
    "from PMFSNet.lib.models.PMFSNet_FFT import PMFSNet_FFT\n",
    "import torchvision.transforms.functional as F\n",
    "import torchvision.transforms as T\n",
    "import torchvision.transforms.functional as tx\n",
    "from torchvision.transforms import GaussianBlur\n",
    "# from hybrid_model_v1 import HybridSegModel\n",
    "from hybrid_model_v3 import HybridSegModel"
   ]
  },
  {
   "cell_type": "code",
   "execution_count": 2,
   "id": "248dde1d-68d5-4fa1-96f0-94c0408334e8",
   "metadata": {},
   "outputs": [],
   "source": [
    "def set_seed(seed):\n",
    "    random.seed(seed)\n",
    "    np.random.seed(seed)\n",
    "    os.environ['PYTHONHASHSEED'] = str(seed)\n",
    "    torch.manual_seed(seed)\n",
    "    torch.cuda.manual_seed(seed)\n",
    "    torch.cuda.manual_seed_all(seed)\n",
    "    torch.backends.cudnn.deterministic = True\n",
    "    torch.backends.cudnn.benchmark = False\n",
    "\n",
    "set_seed(42)"
   ]
  },
  {
   "cell_type": "code",
   "execution_count": 3,
   "id": "ef26125b-81d0-440a-89fc-ae66f35ffbd1",
   "metadata": {},
   "outputs": [
    {
     "name": "stderr",
     "output_type": "stream",
     "text": [
      "\u001b[34m\u001b[1mwandb\u001b[0m: \u001b[32m\u001b[41mERROR\u001b[0m Failed to detect the name of this notebook. You can set it manually with the WANDB_NOTEBOOK_NAME environment variable to enable code saving.\n",
      "\u001b[34m\u001b[1mwandb\u001b[0m: Currently logged in as: \u001b[33ms960068sss\u001b[0m (\u001b[33ms960068sss-ucl\u001b[0m) to \u001b[32mhttps://api.wandb.ai\u001b[0m. Use \u001b[1m`wandb login --relogin`\u001b[0m to force relogin\n"
     ]
    },
    {
     "data": {
      "text/plain": [
       "True"
      ]
     },
     "execution_count": 3,
     "metadata": {},
     "output_type": "execute_result"
    }
   ],
   "source": [
    "import wandb\n",
    "wandb.login()"
   ]
  },
  {
   "cell_type": "code",
   "execution_count": 4,
   "id": "a327316f-dc4a-4787-93c2-94866cec88ef",
   "metadata": {
    "scrolled": true
   },
   "outputs": [],
   "source": [
    "image_size = 224\n",
    "batch_size = 100\n",
    "def train_augmentation(image, mask, image_size):\n",
    "\n",
    "    p = 0.5\n",
    "    \n",
    "    resize = T.Resize((image_size, image_size))\n",
    "    image = resize(image)\n",
    "    mask = resize(mask)\n",
    "    \n",
    "    # if(random.random() < p):\n",
    "    #     jitter = T.ColorJitter(brightness=0.5)\n",
    "    #     image = jitter(image)\n",
    "    # if(random.random() < p):\n",
    "    #     angle = random.uniform(-10, 10)  # 旋轉角度從 ±10 度\n",
    "    #     translate = (random.uniform(-0.05, 0.05) * image.size[0],\n",
    "    #                  random.uniform(-0.05, 0.05) * image.size[1])  # 最多平移 ±5%\n",
    "    #     scale = random.uniform(0.95, 1.05)  # 尺度縮放 ±5%\n",
    "    #     shear = [random.uniform(-5, 5), random.uniform(-5, 5)]  # 小幅剪切\n",
    "    \n",
    "    #     image = F.affine(image, angle=angle, translate=translate, scale=scale, shear=shear)\n",
    "    #     mask = F.affine(mask, angle=angle, translate=translate, scale=scale, shear=shear)\n",
    "    # if random.random() < p:\n",
    "    #     image = F.hflip(image)\n",
    "    #     mask = F.hflip(mask)\n",
    "    # if(random.random() < p):\n",
    "    #     transform = T.GaussianBlur(kernel_size=3, sigma=(0.1, 2.0))\n",
    "    #     image = transform(image)  # image must be a PIL image\n",
    "    \n",
    "    image_tensor = tx.to_tensor(image)\n",
    "    mask_tensor = tx.to_tensor(mask)\n",
    "\n",
    "    # If standardization\n",
    "    mean = image_tensor.mean()\n",
    "    std = image_tensor.std()\n",
    "    std = std if std > 0 else 1.0  # avoid division by zero\n",
    "    image_tensor = (image_tensor - mean) / std\n",
    "    \n",
    "    return image_tensor, mask_tensor\n",
    "def test_augmentation(image, mask, image_size):\n",
    "    resize = T.Resize((image_size, image_size))\n",
    "    image = resize(image)\n",
    "    mask = resize(mask)\n",
    "\n",
    "    image_tensor = tx.to_tensor(image)\n",
    "    mask_tensor = tx.to_tensor(mask)\n",
    "\n",
    "    # If standardization\n",
    "    mean = image_tensor.mean()\n",
    "    std = image_tensor.std()\n",
    "    std = std if std > 0 else 1.0  # avoid division by zero\n",
    "    image_tensor = (image_tensor - mean) / std\n",
    "    return image_tensor, mask_tensor\n",
    "\n",
    "    \n",
    "train_dataset = Thyroid_Dataset(\"train_v2.csv\", transform = train_augmentation, image_size = image_size)\n",
    "train_dataloader = DataLoader(train_dataset, batch_size = batch_size, shuffle = True)\n",
    "\n",
    "test_dataset = Thyroid_Dataset(\"test_v2.csv\", transform = test_augmentation, image_size = image_size, return_from_dataset = True, crop_DDTI = True, histo_match = False)\n",
    "test_dataloader = DataLoader(test_dataset, batch_size = batch_size)\n",
    "\n",
    "image, mask, seg_type = next(iter(train_dataloader))\n",
    "image = image\n",
    "mask = mask"
   ]
  },
  {
   "cell_type": "code",
   "execution_count": 5,
   "id": "47edc937-3f17-4110-b4aa-c27f96849fba",
   "metadata": {
    "scrolled": true
   },
   "outputs": [
    {
     "name": "stdout",
     "output_type": "stream",
     "text": [
      "std :  tensor(1.0000)\n",
      "unique :  tensor([0., 1.])\n"
     ]
    }
   ],
   "source": [
    "print(\"std : \", torch.std(image))\n",
    "print(\"unique : \", torch.unique(mask))"
   ]
  },
  {
   "cell_type": "code",
   "execution_count": 6,
   "id": "1b81274e-b0ec-4908-ab13-a892eb8adddd",
   "metadata": {
    "scrolled": true
   },
   "outputs": [],
   "source": [
    "# index = 39\n",
    "# for index in range(5):\n",
    "#     # plt.subplot(1,2,1)\n",
    "#     # plt.imshow(mask[index][0], alpha = 0.3)\n",
    "#     plt.imshow(image[index][0])\n",
    "#     plt.imshow(mask[index][0], alpha = 0.3)\n",
    "    \n",
    "#     # plt.subplot(1,2,2)\n",
    "#     # plt.imshow(mask[index][0])\n",
    "#     plt.show()"
   ]
  },
  {
   "cell_type": "code",
   "execution_count": 7,
   "id": "d42205ed-9909-4f36-949f-4ed7244b006f",
   "metadata": {
    "scrolled": true
   },
   "outputs": [],
   "source": [
    "# model = Eff_Unet(\n",
    "#         layers=[5, 5, 15, 10],\n",
    "#         embed_dims=[40, 80, 192, 384],\n",
    "#         downsamples=[True, True, True, True],\n",
    "#         vit_num=6,\n",
    "#         drop_path_rate=0.1,\n",
    "#         num_classes=1,\n",
    "#         resolution = image_size).cuda()\n",
    "# model = HarDMSEG(in_channels = 1)\n",
    "# model = LightMed(in_channels = 1, out_channels = 1, image_size = image_size)\n",
    "# model = PMFSNet(in_channels = 1, out_channels = 2, dim = \"2d\")\n",
    "# model = PMFSNet_FFT(in_channels = 1, out_channels = 2, dim = \"2d\")\n",
    "# model = HybridSegModel(in_channels = 1, out_channels = 2, output_size = image_size, layers_num = 3)"
   ]
  },
  {
   "cell_type": "code",
   "execution_count": 8,
   "id": "9105c5e2-de65-4585-8f0e-c98e7048cdcc",
   "metadata": {},
   "outputs": [],
   "source": [
    "# loss_fn_nodule = StructureLoss()\n",
    "# loss_fn_gland = StructureLoss()"
   ]
  },
  {
   "cell_type": "code",
   "execution_count": 9,
   "id": "42b0ac90-a13a-4cd5-a0df-dd36e48534cc",
   "metadata": {
    "scrolled": true
   },
   "outputs": [],
   "source": [
    "# model.to(\"cuda\")\n",
    "# image = image.to(\"cuda\")\n",
    "# mask = mask.to(\"cuda\")"
   ]
  },
  {
   "cell_type": "code",
   "execution_count": 10,
   "id": "b7be29f2-eb47-4c1b-a2aa-f233277df2f4",
   "metadata": {},
   "outputs": [],
   "source": [
    "# optimizer = optim.Adam(model.parameters(), lr=0.001)"
   ]
  },
  {
   "cell_type": "code",
   "execution_count": 11,
   "id": "783c83b7-f098-43cc-b1e1-414e543eb63a",
   "metadata": {
    "scrolled": true
   },
   "outputs": [],
   "source": [
    "# for epoch in range(1000):\n",
    "#     outputs = model(image)\n",
    "\n",
    "#     nodule_output = outputs[:, 0:1, :, :][seg_type==1]\n",
    "#     nodule_mask = mask[seg_type==1]\n",
    "    \n",
    "#     gland_output = outputs[:, 1:2, :, :][seg_type==2]\n",
    "#     gland_mask = mask[seg_type==2]\n",
    "#     # outputs = torch.sigmoid(logits)\n",
    "#     # print(nodule_output.shape, nodule_mask.shape)\n",
    "#     nodule_loss = loss_fn_nodule(nodule_output, nodule_mask)\n",
    "#     gland_loss = loss_fn_gland(gland_output, gland_mask)\n",
    "    \n",
    "#     loss = nodule_loss + gland_loss\n",
    "    \n",
    "#     IOU = (IOU_score(nodule_output, nodule_mask) + IOU_score(gland_output, gland_mask)) / 2\n",
    "    \n",
    "#     dice_loss = DiceLoss()\n",
    "#     # print(dice_loss(nodule_output, nodule_mask))\n",
    "#     # print(dice_loss(gland_output, gland_mask)) \n",
    "#     DICE = ((1 - dice_loss(nodule_output, nodule_mask)) + (1 - dice_loss(gland_output, gland_mask))) / 2\n",
    "    \n",
    "#     # Backward and optimize\n",
    "#     optimizer.zero_grad()   # clear previous gradients\n",
    "#     loss.backward()         # compute gradients\n",
    "#     optimizer.step()        # update weights\n",
    "\n",
    "#     print(f\"Epoch {epoch+1}, Loss: {loss.item():.4f}, IOU: {IOU.item():.4f}, DICE: {DICE.item()}\")"
   ]
  },
  {
   "cell_type": "code",
   "execution_count": null,
   "id": "74ba9d28-3779-4cc2-b8b7-0f2e82e2b252",
   "metadata": {},
   "outputs": [],
   "source": []
  },
  {
   "cell_type": "code",
   "execution_count": 12,
   "id": "5786a0c4-28f4-4cbb-b78c-40ad76262db7",
   "metadata": {},
   "outputs": [],
   "source": [
    "# (1 - dice_loss(nodule_output, nodule_mask))"
   ]
  },
  {
   "cell_type": "code",
   "execution_count": 13,
   "id": "1b8b759a-8a5b-4e2a-99f6-2ae9169207dc",
   "metadata": {
    "scrolled": true
   },
   "outputs": [],
   "source": [
    "# index = 4\n",
    "# plt.subplot(1,2,1)\n",
    "# plt.imshow(nodule_mask[index][0].detach().cpu().numpy())\n",
    "# nodule_output = (nodule_output > 0.5)\n",
    "# plt.subplot(1,2,2)\n",
    "# plt.imshow(nodule_output[index][0].detach().cpu().numpy())"
   ]
  },
  {
   "cell_type": "code",
   "execution_count": 14,
   "id": "646519ad-45ad-42c0-98cc-4364c5cfefb2",
   "metadata": {},
   "outputs": [],
   "source": [
    "# index = 4\n",
    "# plt.subplot(1,2,1)\n",
    "# plt.imshow(gland_mask[index][0].detach().cpu().numpy())\n",
    "# gland_output = (gland_output > 0.5)\n",
    "# plt.subplot(1,2,2)\n",
    "# plt.imshow(gland_output[index][0].detach().cpu().numpy())"
   ]
  },
  {
   "cell_type": "code",
   "execution_count": null,
   "id": "7b9646be-a608-488d-849c-77cd4e212d1a",
   "metadata": {},
   "outputs": [],
   "source": []
  },
  {
   "cell_type": "code",
   "execution_count": null,
   "id": "fec4d7b8-7c40-40d2-a6a6-48d9d8b68db3",
   "metadata": {},
   "outputs": [],
   "source": []
  },
  {
   "cell_type": "code",
   "execution_count": 15,
   "id": "1d1d16cd-aa05-4c5e-9736-0cdbb02529a1",
   "metadata": {},
   "outputs": [],
   "source": [
    "def train(dataloader, model, optimizer, loss_fn_nodule, loss_fn_gland, device):\n",
    "    total_loss = 0\n",
    "    total_IOU = 0\n",
    "    total_DICE = 0\n",
    "    \n",
    "    model.train()\n",
    "    model.to(device)\n",
    "    count = 0\n",
    "    for image, mask, seg_type in tqdm(dataloader):\n",
    "        image, mask, seg_type = image.to(device), mask.to(device), seg_type.to(device)\n",
    "        outputs = model(image)\n",
    "\n",
    "        nodule_output = outputs[:, 0:1, :, :][seg_type==1]\n",
    "        nodule_mask = mask[seg_type==1]\n",
    "        \n",
    "        gland_output = outputs[:, 1:2, :, :][seg_type==2]\n",
    "        gland_mask = mask[seg_type==2]\n",
    "\n",
    "        nodule_loss = loss_fn_nodule(nodule_output, nodule_mask)\n",
    "        gland_loss = loss_fn_gland(gland_output, gland_mask)\n",
    "\n",
    "\n",
    "        \n",
    "        loss = nodule_loss + gland_loss\n",
    "        IOU = (IOU_score(nodule_output, nodule_mask) + IOU_score(gland_output, gland_mask)) / 2\n",
    "\n",
    "        dice_loss = DiceLoss()\n",
    "        DICE = ((1 - dice_loss(nodule_output, nodule_mask)) + (1 - dice_loss(gland_output, gland_mask))) / 2\n",
    "\n",
    "        \n",
    "        # Backward and optimize\n",
    "        optimizer.zero_grad()   # clear previous gradients\n",
    "        loss.backward()         # compute gradients\n",
    "        optimizer.step()        # update weights\n",
    "\n",
    "        total_loss += loss.item()\n",
    "        total_IOU += IOU.item()\n",
    "        total_DICE += DICE.item()\n",
    "        # count+=1\n",
    "        # if count==5:\n",
    "        #     break\n",
    "    return total_loss/len(dataloader), total_IOU/len(dataloader), total_DICE/len(dataloader)\n",
    "\n",
    "\n",
    "# \n",
    "# Only calculate nodule loss, IOU, DICE, because there is no gland data in the testing set\n",
    "def val(dataloader, model, loss_fn_nodule, loss_fn_gland, device):\n",
    "    total_loss = 0\n",
    "    DDTI_total_loss = 0\n",
    "    TN3K_total_loss = 0\n",
    "    \n",
    "    total_IOU = 0\n",
    "    DDTI_total_IOU = 0\n",
    "    TN3K_total_IOU = 0\n",
    "    \n",
    "    total_DICE = 0\n",
    "    DDTI_total_DICE = 0\n",
    "    TN3K_total_DICE = 0\n",
    "\n",
    "    model.eval()\n",
    "    model.to(device)\n",
    "    for image, mask, seg_type, from_dataset in tqdm(dataloader):\n",
    "        image, mask, seg_type = image.to(device), mask.to(device), seg_type.to(device)\n",
    "        outputs = model(image)\n",
    "        \n",
    "        nodule_output = outputs[:, 0:1, :, :][seg_type==1]\n",
    "        nodule_mask = mask[seg_type==1]\n",
    "\n",
    "\n",
    "        DDTI_nodule_output = nodule_output[from_dataset==1]\n",
    "        TN3K_nodule_output = nodule_output[from_dataset==3]\n",
    "\n",
    "        DDTI_nodule_mask = nodule_mask[from_dataset==1]\n",
    "        TN3K_nodule_mask = nodule_mask[from_dataset==3]\n",
    "        \n",
    "\n",
    "        nodule_loss = loss_fn_nodule(nodule_output, nodule_mask)\n",
    "        DDTI_nodule_loss = loss_fn_nodule(DDTI_nodule_output, DDTI_nodule_mask)\n",
    "        TN3K_nodule_loss = loss_fn_nodule(TN3K_nodule_output, TN3K_nodule_mask)\n",
    "        \n",
    "        IOU = IOU_score(nodule_output, nodule_mask)\n",
    "        DDTI_IOU = IOU_score(DDTI_nodule_output, DDTI_nodule_mask)\n",
    "        TN3K_IOU = IOU_score(TN3K_nodule_output, TN3K_nodule_mask)\n",
    "\n",
    "        dice_loss = DiceLoss()\n",
    "        DICE = 1 - dice_loss(nodule_output, nodule_mask)\n",
    "        DDTI_DICE = 1 - dice_loss(DDTI_nodule_output, DDTI_nodule_mask)\n",
    "        TN3K_DICE = 1 - dice_loss(TN3K_nodule_output, TN3K_nodule_mask)\n",
    "    \n",
    "\n",
    "        total_loss += nodule_loss.item()\n",
    "        DDTI_total_loss += DDTI_nodule_loss.item()\n",
    "        TN3K_total_loss += TN3K_nodule_loss.item()\n",
    "        \n",
    "        total_IOU += IOU.item()\n",
    "        DDTI_total_IOU += DDTI_IOU.item()\n",
    "        TN3K_total_IOU += TN3K_IOU.item()\n",
    "        \n",
    "        total_DICE += DICE.item()\n",
    "        DDTI_total_DICE += DDTI_DICE.item()\n",
    "        TN3K_total_DICE += TN3K_DICE.item()\n",
    "    return total_loss/len(dataloader), total_IOU/len(dataloader), total_DICE/len(dataloader), DDTI_total_loss/len(dataloader), DDTI_total_IOU/len(dataloader), DDTI_total_DICE/len(dataloader), TN3K_total_loss/len(dataloader), TN3K_total_IOU/len(dataloader), TN3K_total_DICE/len(dataloader), "
   ]
  },
  {
   "cell_type": "code",
   "execution_count": 16,
   "id": "338a9dc0-d323-490b-81c5-1853e70983d4",
   "metadata": {
    "scrolled": true
   },
   "outputs": [
    {
     "data": {
      "text/html": [
       "Tracking run with wandb version 0.19.11"
      ],
      "text/plain": [
       "<IPython.core.display.HTML object>"
      ]
     },
     "metadata": {},
     "output_type": "display_data"
    },
    {
     "data": {
      "text/html": [
       "Run data is saved locally in <code>/home/twszbak764/thyroid/code/wandb/run-20250517_140246-t4jmt5lf</code>"
      ],
      "text/plain": [
       "<IPython.core.display.HTML object>"
      ]
     },
     "metadata": {},
     "output_type": "display_data"
    },
    {
     "data": {
      "text/html": [
       "Syncing run <strong><a href='https://wandb.ai/s960068sss-ucl/thyroid_hybrid_model/runs/t4jmt5lf' target=\"_blank\">hybrid_v3_baseline_224</a></strong> to <a href='https://wandb.ai/s960068sss-ucl/thyroid_hybrid_model' target=\"_blank\">Weights & Biases</a> (<a href='https://wandb.me/developer-guide' target=\"_blank\">docs</a>)<br>"
      ],
      "text/plain": [
       "<IPython.core.display.HTML object>"
      ]
     },
     "metadata": {},
     "output_type": "display_data"
    },
    {
     "data": {
      "text/html": [
       " View project at <a href='https://wandb.ai/s960068sss-ucl/thyroid_hybrid_model' target=\"_blank\">https://wandb.ai/s960068sss-ucl/thyroid_hybrid_model</a>"
      ],
      "text/plain": [
       "<IPython.core.display.HTML object>"
      ]
     },
     "metadata": {},
     "output_type": "display_data"
    },
    {
     "data": {
      "text/html": [
       " View run at <a href='https://wandb.ai/s960068sss-ucl/thyroid_hybrid_model/runs/t4jmt5lf' target=\"_blank\">https://wandb.ai/s960068sss-ucl/thyroid_hybrid_model/runs/t4jmt5lf</a>"
      ],
      "text/plain": [
       "<IPython.core.display.HTML object>"
      ]
     },
     "metadata": {},
     "output_type": "display_data"
    },
    {
     "data": {
      "text/html": [
       "<button onClick=\"this.nextSibling.style.display='block';this.style.display='none';\">Display W&B run</button><iframe src='https://wandb.ai/s960068sss-ucl/thyroid_hybrid_model/runs/t4jmt5lf?jupyter=true' style='border:none;width:100%;height:420px;display:none;'></iframe>"
      ],
      "text/plain": [
       "<wandb.sdk.wandb_run.Run at 0x7f278400ee40>"
      ]
     },
     "execution_count": 16,
     "metadata": {},
     "output_type": "execute_result"
    }
   ],
   "source": [
    "epochs = 50\n",
    "lr = 0.001\n",
    "project = \"thyroid_hybrid_model\"\n",
    "# name=name=\"PMFSNet_crop_DDTI_standardization_aug_affine(0.5)_hflip(0.5)_lr_0.001\"\n",
    "# name = \"HarDnet_crop_DDTI_standardization_aug_affine(0.5)_lr_0.005\"\n",
    "# name = \"LightMed_crop_DDTI\"\n",
    "# name = \"test\"\n",
    "# name = \"HarDnetMSEG_baseline\"\n",
    "name = \"hybrid_v3_baseline_224\"\n",
    "wandb.init(\n",
    "    project = project,  # Project name in W&B\n",
    "    name = name,       # (optional) specific run name\n",
    "    config={                     # (optional) hyperparameters\n",
    "        \"image_size\": image_size,\n",
    "        \"learning_rate\": lr,\n",
    "        \"epochs\": epochs,\n",
    "        \"batch_size\": batch_size,\n",
    "        # \"weight_decay\":1e-4\n",
    "    }\n",
    ")"
   ]
  },
  {
   "cell_type": "code",
   "execution_count": 17,
   "id": "d28b5b3f-f5eb-4766-880e-c4b32c34a429",
   "metadata": {},
   "outputs": [],
   "source": [
    "# model = Eff_Unet(\n",
    "#         layers=[5, 5, 15, 10],\n",
    "#         embed_dims=[10, 20, 48, 96],\n",
    "#         # embed_dims=[40, 80, 192, 384],\n",
    "#         downsamples=[True, True, True, True],\n",
    "#         vit_num=6,\n",
    "#         drop_path_rate=0.1,\n",
    "#         num_classes=1,\n",
    "#         resolution = image_size).cuda()\n",
    "# model = HarDMSEG(in_channels = 1, out_channels = 2)\n",
    "# model = LightMed(in_channels = 1, out_channels = 2, image_size = image_size)\n",
    "# model = PMFSNet(in_channels = 1, out_channels = 2, dim = \"2d\")\n",
    "# model = PMFSNet_FFT(in_channels = 1, out_channels = 2, dim = \"2d\")\n",
    "model =  HybridSegModel(in_channels = 1, out_channels = 2, output_size = image_size, layers_num = 3)"
   ]
  },
  {
   "cell_type": "code",
   "execution_count": 18,
   "id": "17f78983-065b-4117-be49-342f079b8bc8",
   "metadata": {},
   "outputs": [
    {
     "name": "stdout",
     "output_type": "stream",
     "text": [
      "image size : 224, lr : 0.001, epochs : 50, batch size : 100, model : HybridSegModel(\n",
      "  (backbone): HarDNetBackbone(\n",
      "    (base_conv_1): ConvLayer(\n",
      "      (conv): Conv2d(1, 32, kernel_size=(3, 3), stride=(2, 2), padding=(1, 1), bias=False)\n",
      "      (norm): BatchNorm2d(32, eps=1e-05, momentum=0.1, affine=True, track_running_stats=True)\n",
      "      (relu): ReLU6(inplace=True)\n",
      "    )\n",
      "    (base_conv_2): ConvLayer(\n",
      "      (conv): Conv2d(32, 64, kernel_size=(3, 3), stride=(1, 1), padding=(1, 1), bias=False)\n",
      "      (norm): BatchNorm2d(64, eps=1e-05, momentum=0.1, affine=True, track_running_stats=True)\n",
      "      (relu): ReLU6(inplace=True)\n",
      "    )\n",
      "    (base_max_pool): MaxPool2d(kernel_size=3, stride=2, padding=1, dilation=1, ceil_mode=False)\n",
      "    (encoder_blocks): ModuleList(\n",
      "      (0): EncoderBlock(\n",
      "        (hardblock): HarDBlock(\n",
      "          (layers): ModuleList(\n",
      "            (0): ConvLayer(\n",
      "              (conv): Conv2d(64, 14, kernel_size=(3, 3), stride=(1, 1), padding=(1, 1), bias=False)\n",
      "              (norm): BatchNorm2d(14, eps=1e-05, momentum=0.1, affine=True, track_running_stats=True)\n",
      "              (relu): ReLU6(inplace=True)\n",
      "            )\n",
      "            (1): ConvLayer(\n",
      "              (conv): Conv2d(78, 24, kernel_size=(3, 3), stride=(1, 1), padding=(1, 1), bias=False)\n",
      "              (norm): BatchNorm2d(24, eps=1e-05, momentum=0.1, affine=True, track_running_stats=True)\n",
      "              (relu): ReLU6(inplace=True)\n",
      "            )\n",
      "            (2): ConvLayer(\n",
      "              (conv): Conv2d(24, 14, kernel_size=(3, 3), stride=(1, 1), padding=(1, 1), bias=False)\n",
      "              (norm): BatchNorm2d(14, eps=1e-05, momentum=0.1, affine=True, track_running_stats=True)\n",
      "              (relu): ReLU6(inplace=True)\n",
      "            )\n",
      "            (3): ConvLayer(\n",
      "              (conv): Conv2d(102, 40, kernel_size=(3, 3), stride=(1, 1), padding=(1, 1), bias=False)\n",
      "              (norm): BatchNorm2d(40, eps=1e-05, momentum=0.1, affine=True, track_running_stats=True)\n",
      "              (relu): ReLU6(inplace=True)\n",
      "            )\n",
      "            (4): ConvLayer(\n",
      "              (conv): Conv2d(40, 14, kernel_size=(3, 3), stride=(1, 1), padding=(1, 1), bias=False)\n",
      "              (norm): BatchNorm2d(14, eps=1e-05, momentum=0.1, affine=True, track_running_stats=True)\n",
      "              (relu): ReLU6(inplace=True)\n",
      "            )\n",
      "            (5): ConvLayer(\n",
      "              (conv): Conv2d(54, 24, kernel_size=(3, 3), stride=(1, 1), padding=(1, 1), bias=False)\n",
      "              (norm): BatchNorm2d(24, eps=1e-05, momentum=0.1, affine=True, track_running_stats=True)\n",
      "              (relu): ReLU6(inplace=True)\n",
      "            )\n",
      "            (6): ConvLayer(\n",
      "              (conv): Conv2d(24, 14, kernel_size=(3, 3), stride=(1, 1), padding=(1, 1), bias=False)\n",
      "              (norm): BatchNorm2d(14, eps=1e-05, momentum=0.1, affine=True, track_running_stats=True)\n",
      "              (relu): ReLU6(inplace=True)\n",
      "            )\n",
      "            (7): ConvLayer(\n",
      "              (conv): Conv2d(142, 68, kernel_size=(3, 3), stride=(1, 1), padding=(1, 1), bias=False)\n",
      "              (norm): BatchNorm2d(68, eps=1e-05, momentum=0.1, affine=True, track_running_stats=True)\n",
      "              (relu): ReLU6(inplace=True)\n",
      "            )\n",
      "          )\n",
      "        )\n",
      "        (conv): ConvLayer(\n",
      "          (conv): Conv2d(124, 128, kernel_size=(1, 1), stride=(1, 1), bias=False)\n",
      "          (norm): BatchNorm2d(128, eps=1e-05, momentum=0.1, affine=True, track_running_stats=True)\n",
      "          (relu): ReLU6(inplace=True)\n",
      "        )\n",
      "      )\n",
      "      (1): EncoderBlock(\n",
      "        (hardblock): HarDBlock(\n",
      "          (layers): ModuleList(\n",
      "            (0): ConvLayer(\n",
      "              (conv): Conv2d(128, 16, kernel_size=(3, 3), stride=(1, 1), padding=(1, 1), bias=False)\n",
      "              (norm): BatchNorm2d(16, eps=1e-05, momentum=0.1, affine=True, track_running_stats=True)\n",
      "              (relu): ReLU6(inplace=True)\n",
      "            )\n",
      "            (1): ConvLayer(\n",
      "              (conv): Conv2d(144, 28, kernel_size=(3, 3), stride=(1, 1), padding=(1, 1), bias=False)\n",
      "              (norm): BatchNorm2d(28, eps=1e-05, momentum=0.1, affine=True, track_running_stats=True)\n",
      "              (relu): ReLU6(inplace=True)\n",
      "            )\n",
      "            (2): ConvLayer(\n",
      "              (conv): Conv2d(28, 16, kernel_size=(3, 3), stride=(1, 1), padding=(1, 1), bias=False)\n",
      "              (norm): BatchNorm2d(16, eps=1e-05, momentum=0.1, affine=True, track_running_stats=True)\n",
      "              (relu): ReLU6(inplace=True)\n",
      "            )\n",
      "            (3): ConvLayer(\n",
      "              (conv): Conv2d(172, 46, kernel_size=(3, 3), stride=(1, 1), padding=(1, 1), bias=False)\n",
      "              (norm): BatchNorm2d(46, eps=1e-05, momentum=0.1, affine=True, track_running_stats=True)\n",
      "              (relu): ReLU6(inplace=True)\n",
      "            )\n",
      "            (4): ConvLayer(\n",
      "              (conv): Conv2d(46, 16, kernel_size=(3, 3), stride=(1, 1), padding=(1, 1), bias=False)\n",
      "              (norm): BatchNorm2d(16, eps=1e-05, momentum=0.1, affine=True, track_running_stats=True)\n",
      "              (relu): ReLU6(inplace=True)\n",
      "            )\n",
      "            (5): ConvLayer(\n",
      "              (conv): Conv2d(62, 28, kernel_size=(3, 3), stride=(1, 1), padding=(1, 1), bias=False)\n",
      "              (norm): BatchNorm2d(28, eps=1e-05, momentum=0.1, affine=True, track_running_stats=True)\n",
      "              (relu): ReLU6(inplace=True)\n",
      "            )\n",
      "            (6): ConvLayer(\n",
      "              (conv): Conv2d(28, 16, kernel_size=(3, 3), stride=(1, 1), padding=(1, 1), bias=False)\n",
      "              (norm): BatchNorm2d(16, eps=1e-05, momentum=0.1, affine=True, track_running_stats=True)\n",
      "              (relu): ReLU6(inplace=True)\n",
      "            )\n",
      "            (7): ConvLayer(\n",
      "              (conv): Conv2d(218, 78, kernel_size=(3, 3), stride=(1, 1), padding=(1, 1), bias=False)\n",
      "              (norm): BatchNorm2d(78, eps=1e-05, momentum=0.1, affine=True, track_running_stats=True)\n",
      "              (relu): ReLU6(inplace=True)\n",
      "            )\n",
      "            (8): ConvLayer(\n",
      "              (conv): Conv2d(78, 16, kernel_size=(3, 3), stride=(1, 1), padding=(1, 1), bias=False)\n",
      "              (norm): BatchNorm2d(16, eps=1e-05, momentum=0.1, affine=True, track_running_stats=True)\n",
      "              (relu): ReLU6(inplace=True)\n",
      "            )\n",
      "            (9): ConvLayer(\n",
      "              (conv): Conv2d(94, 28, kernel_size=(3, 3), stride=(1, 1), padding=(1, 1), bias=False)\n",
      "              (norm): BatchNorm2d(28, eps=1e-05, momentum=0.1, affine=True, track_running_stats=True)\n",
      "              (relu): ReLU6(inplace=True)\n",
      "            )\n",
      "            (10): ConvLayer(\n",
      "              (conv): Conv2d(28, 16, kernel_size=(3, 3), stride=(1, 1), padding=(1, 1), bias=False)\n",
      "              (norm): BatchNorm2d(16, eps=1e-05, momentum=0.1, affine=True, track_running_stats=True)\n",
      "              (relu): ReLU6(inplace=True)\n",
      "            )\n",
      "            (11): ConvLayer(\n",
      "              (conv): Conv2d(122, 46, kernel_size=(3, 3), stride=(1, 1), padding=(1, 1), bias=False)\n",
      "              (norm): BatchNorm2d(46, eps=1e-05, momentum=0.1, affine=True, track_running_stats=True)\n",
      "              (relu): ReLU6(inplace=True)\n",
      "            )\n",
      "            (12): ConvLayer(\n",
      "              (conv): Conv2d(46, 16, kernel_size=(3, 3), stride=(1, 1), padding=(1, 1), bias=False)\n",
      "              (norm): BatchNorm2d(16, eps=1e-05, momentum=0.1, affine=True, track_running_stats=True)\n",
      "              (relu): ReLU6(inplace=True)\n",
      "            )\n",
      "            (13): ConvLayer(\n",
      "              (conv): Conv2d(62, 28, kernel_size=(3, 3), stride=(1, 1), padding=(1, 1), bias=False)\n",
      "              (norm): BatchNorm2d(28, eps=1e-05, momentum=0.1, affine=True, track_running_stats=True)\n",
      "              (relu): ReLU6(inplace=True)\n",
      "            )\n",
      "            (14): ConvLayer(\n",
      "              (conv): Conv2d(28, 16, kernel_size=(3, 3), stride=(1, 1), padding=(1, 1), bias=False)\n",
      "              (norm): BatchNorm2d(16, eps=1e-05, momentum=0.1, affine=True, track_running_stats=True)\n",
      "              (relu): ReLU6(inplace=True)\n",
      "            )\n",
      "            (15): ConvLayer(\n",
      "              (conv): Conv2d(296, 134, kernel_size=(3, 3), stride=(1, 1), padding=(1, 1), bias=False)\n",
      "              (norm): BatchNorm2d(134, eps=1e-05, momentum=0.1, affine=True, track_running_stats=True)\n",
      "              (relu): ReLU6(inplace=True)\n",
      "            )\n",
      "          )\n",
      "        )\n",
      "        (conv): ConvLayer(\n",
      "          (conv): Conv2d(262, 256, kernel_size=(1, 1), stride=(1, 1), bias=False)\n",
      "          (norm): BatchNorm2d(256, eps=1e-05, momentum=0.1, affine=True, track_running_stats=True)\n",
      "          (relu): ReLU6(inplace=True)\n",
      "        )\n",
      "      )\n",
      "      (2): EncoderBlock(\n",
      "        (hardblock): HarDBlock(\n",
      "          (layers): ModuleList(\n",
      "            (0): ConvLayer(\n",
      "              (conv): Conv2d(256, 20, kernel_size=(3, 3), stride=(1, 1), padding=(1, 1), bias=False)\n",
      "              (norm): BatchNorm2d(20, eps=1e-05, momentum=0.1, affine=True, track_running_stats=True)\n",
      "              (relu): ReLU6(inplace=True)\n",
      "            )\n",
      "            (1): ConvLayer(\n",
      "              (conv): Conv2d(276, 34, kernel_size=(3, 3), stride=(1, 1), padding=(1, 1), bias=False)\n",
      "              (norm): BatchNorm2d(34, eps=1e-05, momentum=0.1, affine=True, track_running_stats=True)\n",
      "              (relu): ReLU6(inplace=True)\n",
      "            )\n",
      "            (2): ConvLayer(\n",
      "              (conv): Conv2d(34, 20, kernel_size=(3, 3), stride=(1, 1), padding=(1, 1), bias=False)\n",
      "              (norm): BatchNorm2d(20, eps=1e-05, momentum=0.1, affine=True, track_running_stats=True)\n",
      "              (relu): ReLU6(inplace=True)\n",
      "            )\n",
      "            (3): ConvLayer(\n",
      "              (conv): Conv2d(310, 58, kernel_size=(3, 3), stride=(1, 1), padding=(1, 1), bias=False)\n",
      "              (norm): BatchNorm2d(58, eps=1e-05, momentum=0.1, affine=True, track_running_stats=True)\n",
      "              (relu): ReLU6(inplace=True)\n",
      "            )\n",
      "            (4): ConvLayer(\n",
      "              (conv): Conv2d(58, 20, kernel_size=(3, 3), stride=(1, 1), padding=(1, 1), bias=False)\n",
      "              (norm): BatchNorm2d(20, eps=1e-05, momentum=0.1, affine=True, track_running_stats=True)\n",
      "              (relu): ReLU6(inplace=True)\n",
      "            )\n",
      "            (5): ConvLayer(\n",
      "              (conv): Conv2d(78, 34, kernel_size=(3, 3), stride=(1, 1), padding=(1, 1), bias=False)\n",
      "              (norm): BatchNorm2d(34, eps=1e-05, momentum=0.1, affine=True, track_running_stats=True)\n",
      "              (relu): ReLU6(inplace=True)\n",
      "            )\n",
      "            (6): ConvLayer(\n",
      "              (conv): Conv2d(34, 20, kernel_size=(3, 3), stride=(1, 1), padding=(1, 1), bias=False)\n",
      "              (norm): BatchNorm2d(20, eps=1e-05, momentum=0.1, affine=True, track_running_stats=True)\n",
      "              (relu): ReLU6(inplace=True)\n",
      "            )\n",
      "            (7): ConvLayer(\n",
      "              (conv): Conv2d(368, 98, kernel_size=(3, 3), stride=(1, 1), padding=(1, 1), bias=False)\n",
      "              (norm): BatchNorm2d(98, eps=1e-05, momentum=0.1, affine=True, track_running_stats=True)\n",
      "              (relu): ReLU6(inplace=True)\n",
      "            )\n",
      "            (8): ConvLayer(\n",
      "              (conv): Conv2d(98, 20, kernel_size=(3, 3), stride=(1, 1), padding=(1, 1), bias=False)\n",
      "              (norm): BatchNorm2d(20, eps=1e-05, momentum=0.1, affine=True, track_running_stats=True)\n",
      "              (relu): ReLU6(inplace=True)\n",
      "            )\n",
      "            (9): ConvLayer(\n",
      "              (conv): Conv2d(118, 34, kernel_size=(3, 3), stride=(1, 1), padding=(1, 1), bias=False)\n",
      "              (norm): BatchNorm2d(34, eps=1e-05, momentum=0.1, affine=True, track_running_stats=True)\n",
      "              (relu): ReLU6(inplace=True)\n",
      "            )\n",
      "            (10): ConvLayer(\n",
      "              (conv): Conv2d(34, 20, kernel_size=(3, 3), stride=(1, 1), padding=(1, 1), bias=False)\n",
      "              (norm): BatchNorm2d(20, eps=1e-05, momentum=0.1, affine=True, track_running_stats=True)\n",
      "              (relu): ReLU6(inplace=True)\n",
      "            )\n",
      "            (11): ConvLayer(\n",
      "              (conv): Conv2d(152, 58, kernel_size=(3, 3), stride=(1, 1), padding=(1, 1), bias=False)\n",
      "              (norm): BatchNorm2d(58, eps=1e-05, momentum=0.1, affine=True, track_running_stats=True)\n",
      "              (relu): ReLU6(inplace=True)\n",
      "            )\n",
      "            (12): ConvLayer(\n",
      "              (conv): Conv2d(58, 20, kernel_size=(3, 3), stride=(1, 1), padding=(1, 1), bias=False)\n",
      "              (norm): BatchNorm2d(20, eps=1e-05, momentum=0.1, affine=True, track_running_stats=True)\n",
      "              (relu): ReLU6(inplace=True)\n",
      "            )\n",
      "            (13): ConvLayer(\n",
      "              (conv): Conv2d(78, 34, kernel_size=(3, 3), stride=(1, 1), padding=(1, 1), bias=False)\n",
      "              (norm): BatchNorm2d(34, eps=1e-05, momentum=0.1, affine=True, track_running_stats=True)\n",
      "              (relu): ReLU6(inplace=True)\n",
      "            )\n",
      "            (14): ConvLayer(\n",
      "              (conv): Conv2d(34, 20, kernel_size=(3, 3), stride=(1, 1), padding=(1, 1), bias=False)\n",
      "              (norm): BatchNorm2d(20, eps=1e-05, momentum=0.1, affine=True, track_running_stats=True)\n",
      "              (relu): ReLU6(inplace=True)\n",
      "            )\n",
      "            (15): ConvLayer(\n",
      "              (conv): Conv2d(466, 168, kernel_size=(3, 3), stride=(1, 1), padding=(1, 1), bias=False)\n",
      "              (norm): BatchNorm2d(168, eps=1e-05, momentum=0.1, affine=True, track_running_stats=True)\n",
      "              (relu): ReLU6(inplace=True)\n",
      "            )\n",
      "          )\n",
      "        )\n",
      "        (conv): ConvLayer(\n",
      "          (conv): Conv2d(328, 320, kernel_size=(1, 1), stride=(1, 1), bias=False)\n",
      "          (norm): BatchNorm2d(320, eps=1e-05, momentum=0.1, affine=True, track_running_stats=True)\n",
      "          (relu): ReLU6(inplace=True)\n",
      "        )\n",
      "      )\n",
      "    )\n",
      "    (encoder_pools): ModuleList(\n",
      "      (0-2): 3 x MaxPool2d(kernel_size=2, stride=2, padding=0, dilation=1, ceil_mode=False)\n",
      "    )\n",
      "  )\n",
      "  (pmfs): PMFS(\n",
      "    (amff): AMFF(\n",
      "      (max_pools): ModuleList(\n",
      "        (0-3): 4 x AdaptiveMaxPool2d(output_size=(20, 20))\n",
      "      )\n",
      "      (conv): ModuleList(\n",
      "        (0): Conv2d(64, 12, kernel_size=(3, 3), stride=(1, 1), padding=(1, 1))\n",
      "        (1): Conv2d(128, 12, kernel_size=(3, 3), stride=(1, 1), padding=(1, 1))\n",
      "        (2): Conv2d(256, 12, kernel_size=(3, 3), stride=(1, 1), padding=(1, 1))\n",
      "        (3): Conv2d(320, 12, kernel_size=(3, 3), stride=(1, 1), padding=(1, 1))\n",
      "      )\n",
      "    )\n",
      "    (pmcs): PMCS(\n",
      "      (query_conv): Conv2d(48, 48, kernel_size=(1, 1), stride=(1, 1))\n",
      "      (key_conv): Conv2d(48, 1, kernel_size=(1, 1), stride=(1, 1))\n",
      "      (value_conv): Conv2d(48, 48, kernel_size=(1, 1), stride=(1, 1))\n",
      "      (out_conv): Conv2d(48, 48, kernel_size=(1, 1), stride=(1, 1))\n",
      "      (norm): LayerNorm((48,), eps=1e-05, elementwise_affine=True)\n",
      "      (sigmoid): Sigmoid()\n",
      "    )\n",
      "    (pmss): PMSS(\n",
      "      (query_conv): Conv2d(48, 48, kernel_size=(1, 1), stride=(1, 1))\n",
      "      (key_conv): Conv2d(48, 48, kernel_size=(1, 1), stride=(1, 1))\n",
      "      (value_conv): Conv2d(48, 192, kernel_size=(1, 1), stride=(1, 1))\n",
      "      (output_conv): Conv2d(192, 48, kernel_size=(1, 1), stride=(1, 1))\n",
      "      (sigmoid): Sigmoid()\n",
      "    )\n",
      "  )\n",
      "  (decoder): Decoder(\n",
      "    (all_ups): ModuleList(\n",
      "      (0): ConvTranspose2d(48, 16, kernel_size=(2, 2), stride=(2, 2))\n",
      "      (1): ConvTranspose2d(16, 8, kernel_size=(2, 2), stride=(2, 2))\n",
      "    )\n",
      "    (all_convs): ModuleList(\n",
      "      (0): Sequential(\n",
      "        (0): Conv2d(16, 16, kernel_size=(3, 3), stride=(1, 1), padding=(1, 1))\n",
      "        (1): ReLU(inplace=True)\n",
      "      )\n",
      "      (1): Sequential(\n",
      "        (0): Conv2d(8, 8, kernel_size=(3, 3), stride=(1, 1), padding=(1, 1))\n",
      "        (1): ReLU(inplace=True)\n",
      "      )\n",
      "    )\n",
      "    (ups): ModuleList(\n",
      "      (0): ConvTranspose2d(48, 16, kernel_size=(2, 2), stride=(2, 2))\n",
      "      (1): ConvTranspose2d(16, 8, kernel_size=(2, 2), stride=(2, 2))\n",
      "    )\n",
      "    (convs): ModuleList(\n",
      "      (0): Sequential(\n",
      "        (0): Conv2d(16, 16, kernel_size=(3, 3), stride=(1, 1), padding=(1, 1))\n",
      "        (1): ReLU(inplace=True)\n",
      "      )\n",
      "      (1): Sequential(\n",
      "        (0): Conv2d(8, 8, kernel_size=(3, 3), stride=(1, 1), padding=(1, 1))\n",
      "        (1): ReLU(inplace=True)\n",
      "      )\n",
      "    )\n",
      "    (out_conv): Conv2d(8, 32, kernel_size=(1, 1), stride=(1, 1))\n",
      "  )\n",
      "  (upsample_list): ModuleList(\n",
      "    (0): UpsampleConvBlock(\n",
      "      (conv): ConvLayer(\n",
      "        (conv): Conv2d(64, 32, kernel_size=(3, 3), stride=(1, 1), padding=(1, 1), bias=False)\n",
      "        (norm): BatchNorm2d(32, eps=1e-05, momentum=0.1, affine=True, track_running_stats=True)\n",
      "        (relu): ReLU6(inplace=True)\n",
      "      )\n",
      "    )\n",
      "    (1): UpsampleConvBlock(\n",
      "      (conv): ConvLayer(\n",
      "        (conv): Conv2d(128, 32, kernel_size=(3, 3), stride=(1, 1), padding=(1, 1), bias=False)\n",
      "        (norm): BatchNorm2d(32, eps=1e-05, momentum=0.1, affine=True, track_running_stats=True)\n",
      "        (relu): ReLU6(inplace=True)\n",
      "      )\n",
      "    )\n",
      "    (2): UpsampleConvBlock(\n",
      "      (conv): ConvLayer(\n",
      "        (conv): Conv2d(256, 32, kernel_size=(3, 3), stride=(1, 1), padding=(1, 1), bias=False)\n",
      "        (norm): BatchNorm2d(32, eps=1e-05, momentum=0.1, affine=True, track_running_stats=True)\n",
      "        (relu): ReLU6(inplace=True)\n",
      "      )\n",
      "    )\n",
      "    (3): UpsampleConvBlock(\n",
      "      (conv): ConvLayer(\n",
      "        (conv): Conv2d(320, 32, kernel_size=(3, 3), stride=(1, 1), padding=(1, 1), bias=False)\n",
      "        (norm): BatchNorm2d(32, eps=1e-05, momentum=0.1, affine=True, track_running_stats=True)\n",
      "        (relu): ReLU6(inplace=True)\n",
      "      )\n",
      "    )\n",
      "    (4): UpsampleConvBlock(\n",
      "      (conv): ConvLayer(\n",
      "        (conv): Conv2d(640, 32, kernel_size=(3, 3), stride=(1, 1), padding=(1, 1), bias=False)\n",
      "        (norm): BatchNorm2d(32, eps=1e-05, momentum=0.1, affine=True, track_running_stats=True)\n",
      "        (relu): ReLU6(inplace=True)\n",
      "      )\n",
      "    )\n",
      "    (5): UpsampleConvBlock(\n",
      "      (conv): ConvLayer(\n",
      "        (conv): Conv2d(1024, 32, kernel_size=(3, 3), stride=(1, 1), padding=(1, 1), bias=False)\n",
      "        (norm): BatchNorm2d(32, eps=1e-05, momentum=0.1, affine=True, track_running_stats=True)\n",
      "        (relu): ReLU6(inplace=True)\n",
      "      )\n",
      "    )\n",
      "  )\n",
      "  (final_conv): Conv2d(128, 2, kernel_size=(1, 1), stride=(1, 1))\n",
      ")\n"
     ]
    }
   ],
   "source": [
    "print(f\"image size : {image_size}, lr : {lr}, epochs : {epochs}, batch size : {batch_size}, model : {model}\")"
   ]
  },
  {
   "cell_type": "markdown",
   "id": "b9193833-aa7f-44d9-b6f2-0eb7d28f9e9f",
   "metadata": {},
   "source": [
    "### If using pretrained model"
   ]
  },
  {
   "cell_type": "code",
   "execution_count": 19,
   "id": "874fb586-4f2a-4bd2-bd18-00f94f31feef",
   "metadata": {},
   "outputs": [],
   "source": [
    "# pretrained_name = \"PMFSNet_baseline\"\n",
    "# # model = HarDMSEG(in_channels = 1)\n",
    "# model = PMFSNet(in_channels = 1, out_channels = 1, dim = \"2d\")\n",
    "# # model = LightMed(in_channels = 1, out_channels = 1, image_size = image_size)\n",
    "# checkpoint = torch.load(f\"models/{pretrained_name}/best_checkpoint.pth\")\n",
    "# model.load_state_dict(checkpoint['model_state_dict'])"
   ]
  },
  {
   "cell_type": "code",
   "execution_count": 20,
   "id": "39874c9f-ddfc-439b-abfa-f50b620f314a",
   "metadata": {},
   "outputs": [],
   "source": [
    "# loss_fn = DiceLoss()\n",
    "loss_fn_nodule = StructureLoss()\n",
    "loss_fn_gland = StructureLoss()\n",
    "optimizer = optim.Adam(model.parameters(), lr=lr)\n",
    "scheduler = optim.lr_scheduler.CosineAnnealingLR(optimizer, T_max=epochs)"
   ]
  },
  {
   "cell_type": "code",
   "execution_count": 21,
   "id": "59c88d21-6f83-4dc4-9b30-27b058360611",
   "metadata": {
    "scrolled": true
   },
   "outputs": [
    {
     "name": "stdout",
     "output_type": "stream",
     "text": [
      "epoch : 0\n"
     ]
    },
    {
     "name": "stderr",
     "output_type": "stream",
     "text": [
      "/home/twszbak764/miniconda3/envs/thyroid/lib/python3.12/site-packages/torch/nn/_reduction.py:51: UserWarning: size_average and reduce args will be deprecated, please use reduction='mean' instead.\n",
      "  warnings.warn(warning.format(ret))\n",
      "100%|██████████| 65/65 [00:37<00:00,  1.74it/s]\n"
     ]
    },
    {
     "name": "stdout",
     "output_type": "stream",
     "text": [
      "train loss : 1.6147734293570886, train IOU : 0.4962871871315516, train DICE : 0.5909997761249542\n"
     ]
    },
    {
     "name": "stderr",
     "output_type": "stream",
     "text": [
      "100%|██████████| 13/13 [00:05<00:00,  2.42it/s]\n"
     ]
    },
    {
     "name": "stdout",
     "output_type": "stream",
     "text": [
      "val loss : 1.023854517019712, val IOU : 0.3605102759141188, val DICE : 0.5511583823424119\n",
      "epoch : 1\n"
     ]
    },
    {
     "name": "stderr",
     "output_type": "stream",
     "text": [
      "100%|██████████| 65/65 [00:33<00:00,  1.96it/s]\n"
     ]
    },
    {
     "name": "stdout",
     "output_type": "stream",
     "text": [
      "train loss : 1.121367455445803, train IOU : 0.6331697454819313, train DICE : 0.7704144973021287\n"
     ]
    },
    {
     "name": "stderr",
     "output_type": "stream",
     "text": [
      "100%|██████████| 13/13 [00:03<00:00,  3.29it/s]\n"
     ]
    },
    {
     "name": "stdout",
     "output_type": "stream",
     "text": [
      "val loss : 0.9782948218859159, val IOU : 0.34867404515926653, val DICE : 0.5491639696634733\n",
      "epoch : 2\n"
     ]
    },
    {
     "name": "stderr",
     "output_type": "stream",
     "text": [
      "100%|██████████| 65/65 [00:33<00:00,  1.95it/s]\n"
     ]
    },
    {
     "name": "stdout",
     "output_type": "stream",
     "text": [
      "train loss : 1.0010986117216256, train IOU : 0.6738931738413297, train DICE : 0.8031409520369309\n"
     ]
    },
    {
     "name": "stderr",
     "output_type": "stream",
     "text": [
      "100%|██████████| 13/13 [00:03<00:00,  3.31it/s]\n"
     ]
    },
    {
     "name": "stdout",
     "output_type": "stream",
     "text": [
      "val loss : 0.9075318116408128, val IOU : 0.43839975045277524, val DICE : 0.6217882449810321\n",
      "epoch : 3\n"
     ]
    },
    {
     "name": "stderr",
     "output_type": "stream",
     "text": [
      "100%|██████████| 65/65 [00:33<00:00,  1.96it/s]\n"
     ]
    },
    {
     "name": "stdout",
     "output_type": "stream",
     "text": [
      "train loss : 0.8990957681949322, train IOU : 0.7097249471224272, train DICE : 0.8291402697563172\n"
     ]
    },
    {
     "name": "stderr",
     "output_type": "stream",
     "text": [
      "100%|██████████| 13/13 [00:03<00:00,  3.29it/s]\n"
     ]
    },
    {
     "name": "stdout",
     "output_type": "stream",
     "text": [
      "val loss : 0.8604131111731896, val IOU : 0.4590920874705681, val DICE : 0.6566345554131728\n",
      "epoch : 4\n"
     ]
    },
    {
     "name": "stderr",
     "output_type": "stream",
     "text": [
      "100%|██████████| 65/65 [00:33<00:00,  1.95it/s]\n"
     ]
    },
    {
     "name": "stdout",
     "output_type": "stream",
     "text": [
      "train loss : 0.8204577711912302, train IOU : 0.7393567809691796, train DICE : 0.8483415090120756\n"
     ]
    },
    {
     "name": "stderr",
     "output_type": "stream",
     "text": [
      "100%|██████████| 13/13 [00:03<00:00,  3.30it/s]\n"
     ]
    },
    {
     "name": "stdout",
     "output_type": "stream",
     "text": [
      "val loss : 0.8287495558078473, val IOU : 0.4972732731929192, val DICE : 0.6554801968427805\n",
      "epoch : 5\n"
     ]
    },
    {
     "name": "stderr",
     "output_type": "stream",
     "text": [
      "100%|██████████| 65/65 [00:33<00:00,  1.95it/s]\n"
     ]
    },
    {
     "name": "stdout",
     "output_type": "stream",
     "text": [
      "train loss : 0.7708316592069773, train IOU : 0.7559941961215093, train DICE : 0.859984935246981\n"
     ]
    },
    {
     "name": "stderr",
     "output_type": "stream",
     "text": [
      "100%|██████████| 13/13 [00:03<00:00,  3.30it/s]\n"
     ]
    },
    {
     "name": "stdout",
     "output_type": "stream",
     "text": [
      "val loss : 0.6823715980236347, val IOU : 0.5897650810388418, val DICE : 0.7436569470625657\n",
      "epoch : 6\n"
     ]
    },
    {
     "name": "stderr",
     "output_type": "stream",
     "text": [
      "100%|██████████| 65/65 [00:33<00:00,  1.96it/s]\n"
     ]
    },
    {
     "name": "stdout",
     "output_type": "stream",
     "text": [
      "train loss : 0.7148369789123535, train IOU : 0.7756395284946148, train DICE : 0.8727875251036424\n"
     ]
    },
    {
     "name": "stderr",
     "output_type": "stream",
     "text": [
      "100%|██████████| 13/13 [00:03<00:00,  3.27it/s]\n"
     ]
    },
    {
     "name": "stdout",
     "output_type": "stream",
     "text": [
      "val loss : 0.7145812282195458, val IOU : 0.5729852685561547, val DICE : 0.7260613441467285\n",
      "epoch : 7\n"
     ]
    },
    {
     "name": "stderr",
     "output_type": "stream",
     "text": [
      "100%|██████████| 65/65 [00:33<00:00,  1.96it/s]\n"
     ]
    },
    {
     "name": "stdout",
     "output_type": "stream",
     "text": [
      "train loss : 0.6741430117533758, train IOU : 0.7898200887900132, train DICE : 0.8835731029510498\n"
     ]
    },
    {
     "name": "stderr",
     "output_type": "stream",
     "text": [
      "100%|██████████| 13/13 [00:03<00:00,  3.30it/s]\n"
     ]
    },
    {
     "name": "stdout",
     "output_type": "stream",
     "text": [
      "val loss : 0.704776983994704, val IOU : 0.5701843316738422, val DICE : 0.7234097398244418\n",
      "epoch : 8\n"
     ]
    },
    {
     "name": "stderr",
     "output_type": "stream",
     "text": [
      "100%|██████████| 65/65 [00:33<00:00,  1.95it/s]\n"
     ]
    },
    {
     "name": "stdout",
     "output_type": "stream",
     "text": [
      "train loss : 0.6503768792519202, train IOU : 0.7977463309581463, train DICE : 0.8880484140836276\n"
     ]
    },
    {
     "name": "stderr",
     "output_type": "stream",
     "text": [
      "100%|██████████| 13/13 [00:03<00:00,  3.28it/s]\n"
     ]
    },
    {
     "name": "stdout",
     "output_type": "stream",
     "text": [
      "val loss : 0.6416948621089642, val IOU : 0.6253998142022353, val DICE : 0.7643418403772207\n",
      "epoch : 9\n"
     ]
    },
    {
     "name": "stderr",
     "output_type": "stream",
     "text": [
      "100%|██████████| 65/65 [00:33<00:00,  1.95it/s]\n"
     ]
    },
    {
     "name": "stdout",
     "output_type": "stream",
     "text": [
      "train loss : 0.6167224132097684, train IOU : 0.8091231465339661, train DICE : 0.8960516416109525\n"
     ]
    },
    {
     "name": "stderr",
     "output_type": "stream",
     "text": [
      "100%|██████████| 13/13 [00:03<00:00,  3.30it/s]\n"
     ]
    },
    {
     "name": "stdout",
     "output_type": "stream",
     "text": [
      "val loss : 0.7196352665240948, val IOU : 0.5729016019747808, val DICE : 0.7277284447963421\n",
      "epoch : 10\n"
     ]
    },
    {
     "name": "stderr",
     "output_type": "stream",
     "text": [
      "100%|██████████| 65/65 [00:33<00:00,  1.95it/s]\n"
     ]
    },
    {
     "name": "stdout",
     "output_type": "stream",
     "text": [
      "train loss : 0.5881059114749615, train IOU : 0.8191769077227666, train DICE : 0.9023809552192688\n"
     ]
    },
    {
     "name": "stderr",
     "output_type": "stream",
     "text": [
      "100%|██████████| 13/13 [00:03<00:00,  3.25it/s]\n"
     ]
    },
    {
     "name": "stdout",
     "output_type": "stream",
     "text": [
      "val loss : 0.8072242049070505, val IOU : 0.5146847367286682, val DICE : 0.6766123955066388\n",
      "epoch : 11\n"
     ]
    },
    {
     "name": "stderr",
     "output_type": "stream",
     "text": [
      "100%|██████████| 65/65 [00:33<00:00,  1.95it/s]\n"
     ]
    },
    {
     "name": "stdout",
     "output_type": "stream",
     "text": [
      "train loss : 0.5507989273621485, train IOU : 0.8312314840463492, train DICE : 0.9102608818274278\n"
     ]
    },
    {
     "name": "stderr",
     "output_type": "stream",
     "text": [
      "100%|██████████| 13/13 [00:03<00:00,  3.29it/s]\n"
     ]
    },
    {
     "name": "stdout",
     "output_type": "stream",
     "text": [
      "val loss : 0.6696609533750094, val IOU : 0.619760261132167, val DICE : 0.7570898211919345\n",
      "epoch : 12\n"
     ]
    },
    {
     "name": "stderr",
     "output_type": "stream",
     "text": [
      "100%|██████████| 65/65 [00:33<00:00,  1.95it/s]\n"
     ]
    },
    {
     "name": "stdout",
     "output_type": "stream",
     "text": [
      "train loss : 0.5355571788090926, train IOU : 0.8368290020869329, train DICE : 0.9140369956309978\n"
     ]
    },
    {
     "name": "stderr",
     "output_type": "stream",
     "text": [
      "100%|██████████| 13/13 [00:04<00:00,  3.07it/s]\n"
     ]
    },
    {
     "name": "stdout",
     "output_type": "stream",
     "text": [
      "val loss : 0.6721418683345501, val IOU : 0.6218248055531428, val DICE : 0.7591608029145461\n",
      "epoch : 13\n"
     ]
    },
    {
     "name": "stderr",
     "output_type": "stream",
     "text": [
      "100%|██████████| 65/65 [00:33<00:00,  1.95it/s]\n"
     ]
    },
    {
     "name": "stdout",
     "output_type": "stream",
     "text": [
      "train loss : 0.5316023432291471, train IOU : 0.8375237070597135, train DICE : 0.9142101737169119\n"
     ]
    },
    {
     "name": "stderr",
     "output_type": "stream",
     "text": [
      "100%|██████████| 13/13 [00:04<00:00,  3.25it/s]\n"
     ]
    },
    {
     "name": "stdout",
     "output_type": "stream",
     "text": [
      "val loss : 0.9358037068293645, val IOU : 0.49713061635310835, val DICE : 0.678575323178218\n",
      "epoch : 14\n"
     ]
    },
    {
     "name": "stderr",
     "output_type": "stream",
     "text": [
      "100%|██████████| 65/65 [00:33<00:00,  1.95it/s]\n"
     ]
    },
    {
     "name": "stdout",
     "output_type": "stream",
     "text": [
      "train loss : 0.5078601846328148, train IOU : 0.8458173990249633, train DICE : 0.920620217690101\n"
     ]
    },
    {
     "name": "stderr",
     "output_type": "stream",
     "text": [
      "100%|██████████| 13/13 [00:03<00:00,  3.32it/s]\n"
     ]
    },
    {
     "name": "stdout",
     "output_type": "stream",
     "text": [
      "val loss : 0.6177164591275729, val IOU : 0.6322764112399175, val DICE : 0.7839256754288306\n",
      "epoch : 15\n"
     ]
    },
    {
     "name": "stderr",
     "output_type": "stream",
     "text": [
      "100%|██████████| 65/65 [00:33<00:00,  1.96it/s]\n"
     ]
    },
    {
     "name": "stdout",
     "output_type": "stream",
     "text": [
      "train loss : 0.47041650185218226, train IOU : 0.8579173060563895, train DICE : 0.9281891776965214\n"
     ]
    },
    {
     "name": "stderr",
     "output_type": "stream",
     "text": [
      "100%|██████████| 13/13 [00:03<00:00,  3.29it/s]\n"
     ]
    },
    {
     "name": "stdout",
     "output_type": "stream",
     "text": [
      "val loss : 0.6087675369702853, val IOU : 0.6332452755707961, val DICE : 0.786767629476694\n",
      "epoch : 16\n"
     ]
    },
    {
     "name": "stderr",
     "output_type": "stream",
     "text": [
      "100%|██████████| 65/65 [00:33<00:00,  1.95it/s]\n"
     ]
    },
    {
     "name": "stdout",
     "output_type": "stream",
     "text": [
      "train loss : 0.4401486616868239, train IOU : 0.8679818153381348, train DICE : 0.9347616681685814\n"
     ]
    },
    {
     "name": "stderr",
     "output_type": "stream",
     "text": [
      "100%|██████████| 13/13 [00:03<00:00,  3.26it/s]\n"
     ]
    },
    {
     "name": "stdout",
     "output_type": "stream",
     "text": [
      "val loss : 0.5976946812409621, val IOU : 0.6628037507717426, val DICE : 0.7983859318953294\n",
      "epoch : 17\n"
     ]
    },
    {
     "name": "stderr",
     "output_type": "stream",
     "text": [
      "100%|██████████| 65/65 [00:33<00:00,  1.95it/s]\n"
     ]
    },
    {
     "name": "stdout",
     "output_type": "stream",
     "text": [
      "train loss : 0.41569513586851264, train IOU : 0.8758645066848167, train DICE : 0.9396628132233253\n"
     ]
    },
    {
     "name": "stderr",
     "output_type": "stream",
     "text": [
      "100%|██████████| 13/13 [00:03<00:00,  3.28it/s]\n"
     ]
    },
    {
     "name": "stdout",
     "output_type": "stream",
     "text": [
      "val loss : 0.5749300420284271, val IOU : 0.6791589489349952, val DICE : 0.8179338849507846\n",
      "epoch : 18\n"
     ]
    },
    {
     "name": "stderr",
     "output_type": "stream",
     "text": [
      "100%|██████████| 65/65 [00:33<00:00,  1.96it/s]\n"
     ]
    },
    {
     "name": "stdout",
     "output_type": "stream",
     "text": [
      "train loss : 0.40248729311502895, train IOU : 0.8802763388707088, train DICE : 0.941891334607051\n"
     ]
    },
    {
     "name": "stderr",
     "output_type": "stream",
     "text": [
      "100%|██████████| 13/13 [00:03<00:00,  3.30it/s]\n"
     ]
    },
    {
     "name": "stdout",
     "output_type": "stream",
     "text": [
      "val loss : 0.5999939441680908, val IOU : 0.6655369767775903, val DICE : 0.8052432858026944\n",
      "epoch : 19\n"
     ]
    },
    {
     "name": "stderr",
     "output_type": "stream",
     "text": [
      "100%|██████████| 65/65 [00:33<00:00,  1.96it/s]\n"
     ]
    },
    {
     "name": "stdout",
     "output_type": "stream",
     "text": [
      "train loss : 0.3809363291813777, train IOU : 0.8873275197469271, train DICE : 0.9461240392464858\n"
     ]
    },
    {
     "name": "stderr",
     "output_type": "stream",
     "text": [
      "100%|██████████| 13/13 [00:03<00:00,  3.28it/s]\n"
     ]
    },
    {
     "name": "stdout",
     "output_type": "stream",
     "text": [
      "val loss : 0.5767710988338177, val IOU : 0.6834839628292964, val DICE : 0.8174050266926105\n",
      "epoch : 20\n"
     ]
    },
    {
     "name": "stderr",
     "output_type": "stream",
     "text": [
      "100%|██████████| 65/65 [00:33<00:00,  1.96it/s]\n"
     ]
    },
    {
     "name": "stdout",
     "output_type": "stream",
     "text": [
      "train loss : 0.3651916201298053, train IOU : 0.8921714104138888, train DICE : 0.9487397258098309\n"
     ]
    },
    {
     "name": "stderr",
     "output_type": "stream",
     "text": [
      "100%|██████████| 13/13 [00:03<00:00,  3.29it/s]\n"
     ]
    },
    {
     "name": "stdout",
     "output_type": "stream",
     "text": [
      "val loss : 0.6107127483074481, val IOU : 0.6891362437835107, val DICE : 0.8225430662815387\n",
      "epoch : 21\n"
     ]
    },
    {
     "name": "stderr",
     "output_type": "stream",
     "text": [
      "100%|██████████| 65/65 [00:33<00:00,  1.95it/s]\n"
     ]
    },
    {
     "name": "stdout",
     "output_type": "stream",
     "text": [
      "train loss : 0.3491148334283095, train IOU : 0.8973843244405894, train DICE : 0.9518342458284819\n"
     ]
    },
    {
     "name": "stderr",
     "output_type": "stream",
     "text": [
      "100%|██████████| 13/13 [00:03<00:00,  3.34it/s]\n"
     ]
    },
    {
     "name": "stdout",
     "output_type": "stream",
     "text": [
      "val loss : 0.6138841005472037, val IOU : 0.6865703005057114, val DICE : 0.8194639591070322\n",
      "epoch : 22\n"
     ]
    },
    {
     "name": "stderr",
     "output_type": "stream",
     "text": [
      "100%|██████████| 65/65 [00:33<00:00,  1.96it/s]\n"
     ]
    },
    {
     "name": "stdout",
     "output_type": "stream",
     "text": [
      "train loss : 0.33346610160974355, train IOU : 0.9018835828854488, train DICE : 0.9545126126362727\n"
     ]
    },
    {
     "name": "stderr",
     "output_type": "stream",
     "text": [
      "100%|██████████| 13/13 [00:03<00:00,  3.31it/s]\n"
     ]
    },
    {
     "name": "stdout",
     "output_type": "stream",
     "text": [
      "val loss : 0.6268582481604356, val IOU : 0.6831236344117385, val DICE : 0.8272845240739676\n",
      "epoch : 23\n"
     ]
    },
    {
     "name": "stderr",
     "output_type": "stream",
     "text": [
      "100%|██████████| 65/65 [00:33<00:00,  1.96it/s]\n"
     ]
    },
    {
     "name": "stdout",
     "output_type": "stream",
     "text": [
      "train loss : 0.3230459690093994, train IOU : 0.9053216796654922, train DICE : 0.9561388960251441\n"
     ]
    },
    {
     "name": "stderr",
     "output_type": "stream",
     "text": [
      "100%|██████████| 13/13 [00:03<00:00,  3.26it/s]\n"
     ]
    },
    {
     "name": "stdout",
     "output_type": "stream",
     "text": [
      "val loss : 0.6836749406961294, val IOU : 0.677873799434075, val DICE : 0.8146156622813299\n",
      "epoch : 24\n"
     ]
    },
    {
     "name": "stderr",
     "output_type": "stream",
     "text": [
      "100%|██████████| 65/65 [00:33<00:00,  1.96it/s]\n"
     ]
    },
    {
     "name": "stdout",
     "output_type": "stream",
     "text": [
      "train loss : 0.3231003087300521, train IOU : 0.9055789415652935, train DICE : 0.9561481833457947\n"
     ]
    },
    {
     "name": "stderr",
     "output_type": "stream",
     "text": [
      "100%|██████████| 13/13 [00:03<00:00,  3.27it/s]\n"
     ]
    },
    {
     "name": "stdout",
     "output_type": "stream",
     "text": [
      "val loss : 0.6525460137770727, val IOU : 0.6938513746628394, val DICE : 0.8085619944792527\n",
      "epoch : 25\n"
     ]
    },
    {
     "name": "stderr",
     "output_type": "stream",
     "text": [
      "100%|██████████| 65/65 [00:33<00:00,  1.95it/s]\n"
     ]
    },
    {
     "name": "stdout",
     "output_type": "stream",
     "text": [
      "train loss : 0.3091280941779797, train IOU : 0.9094937746341412, train DICE : 0.9583167021091168\n"
     ]
    },
    {
     "name": "stderr",
     "output_type": "stream",
     "text": [
      "100%|██████████| 13/13 [00:03<00:00,  3.33it/s]\n"
     ]
    },
    {
     "name": "stdout",
     "output_type": "stream",
     "text": [
      "val loss : 0.6406230743114765, val IOU : 0.6932130960317758, val DICE : 0.8270570131448599\n",
      "epoch : 26\n"
     ]
    },
    {
     "name": "stderr",
     "output_type": "stream",
     "text": [
      "100%|██████████| 65/65 [00:33<00:00,  1.95it/s]\n"
     ]
    },
    {
     "name": "stdout",
     "output_type": "stream",
     "text": [
      "train loss : 0.2756603353298627, train IOU : 0.9200954418915969, train DICE : 0.9639252635148855\n"
     ]
    },
    {
     "name": "stderr",
     "output_type": "stream",
     "text": [
      "100%|██████████| 13/13 [00:03<00:00,  3.29it/s]\n"
     ]
    },
    {
     "name": "stdout",
     "output_type": "stream",
     "text": [
      "val loss : 0.7115704600627606, val IOU : 0.6964024901390076, val DICE : 0.8301325440406799\n",
      "epoch : 27\n"
     ]
    },
    {
     "name": "stderr",
     "output_type": "stream",
     "text": [
      "100%|██████████| 65/65 [00:33<00:00,  1.96it/s]\n"
     ]
    },
    {
     "name": "stdout",
     "output_type": "stream",
     "text": [
      "train loss : 0.22868883059575007, train IOU : 0.933881165431096, train DICE : 0.970946321120629\n"
     ]
    },
    {
     "name": "stderr",
     "output_type": "stream",
     "text": [
      "100%|██████████| 13/13 [00:03<00:00,  3.30it/s]\n"
     ]
    },
    {
     "name": "stdout",
     "output_type": "stream",
     "text": [
      "val loss : 0.7885082822579604, val IOU : 0.6989262424982511, val DICE : 0.8342499457872831\n",
      "epoch : 31\n"
     ]
    },
    {
     "name": "stderr",
     "output_type": "stream",
     "text": [
      "100%|██████████| 65/65 [00:33<00:00,  1.95it/s]\n"
     ]
    },
    {
     "name": "stdout",
     "output_type": "stream",
     "text": [
      "train loss : 0.21619968758179592, train IOU : 0.9373990535736084, train DICE : 0.9726592595760639\n"
     ]
    },
    {
     "name": "stderr",
     "output_type": "stream",
     "text": [
      "100%|██████████| 13/13 [00:03<00:00,  3.29it/s]\n"
     ]
    },
    {
     "name": "stdout",
     "output_type": "stream",
     "text": [
      "val loss : 0.851124277481666, val IOU : 0.7017999749917251, val DICE : 0.8395786056151757\n",
      "epoch : 32\n"
     ]
    },
    {
     "name": "stderr",
     "output_type": "stream",
     "text": [
      "100%|██████████| 65/65 [00:33<00:00,  1.96it/s]\n"
     ]
    },
    {
     "name": "stdout",
     "output_type": "stream",
     "text": [
      "train loss : 0.2064355533856612, train IOU : 0.9403478494057289, train DICE : 0.9741319289574256\n"
     ]
    },
    {
     "name": "stderr",
     "output_type": "stream",
     "text": [
      "100%|██████████| 13/13 [00:03<00:00,  3.28it/s]\n"
     ]
    },
    {
     "name": "stdout",
     "output_type": "stream",
     "text": [
      "val loss : 0.826722250534938, val IOU : 0.7085270652404199, val DICE : 0.8399726840165945\n",
      "epoch : 33\n"
     ]
    },
    {
     "name": "stderr",
     "output_type": "stream",
     "text": [
      "100%|██████████| 65/65 [00:33<00:00,  1.97it/s]\n"
     ]
    },
    {
     "name": "stdout",
     "output_type": "stream",
     "text": [
      "train loss : 0.19810563967778133, train IOU : 0.94273067345986, train DICE : 0.9752727150917053\n"
     ]
    },
    {
     "name": "stderr",
     "output_type": "stream",
     "text": [
      "100%|██████████| 13/13 [00:03<00:00,  3.32it/s]\n"
     ]
    },
    {
     "name": "stdout",
     "output_type": "stream",
     "text": [
      "val loss : 0.909263340326456, val IOU : 0.7064114671487075, val DICE : 0.8393315627024724\n",
      "epoch : 34\n"
     ]
    },
    {
     "name": "stderr",
     "output_type": "stream",
     "text": [
      "100%|██████████| 65/65 [00:33<00:00,  1.96it/s]\n"
     ]
    },
    {
     "name": "stdout",
     "output_type": "stream",
     "text": [
      "train loss : 0.18993266201936282, train IOU : 0.9450871614309457, train DICE : 0.97630942601424\n"
     ]
    },
    {
     "name": "stderr",
     "output_type": "stream",
     "text": [
      "100%|██████████| 13/13 [00:03<00:00,  3.34it/s]\n"
     ]
    },
    {
     "name": "stdout",
     "output_type": "stream",
     "text": [
      "val loss : 0.8520312630213224, val IOU : 0.7141324694340045, val DICE : 0.8452771672835717\n",
      "epoch : 35\n"
     ]
    },
    {
     "name": "stderr",
     "output_type": "stream",
     "text": [
      "100%|██████████| 65/65 [00:33<00:00,  1.96it/s]\n"
     ]
    },
    {
     "name": "stdout",
     "output_type": "stream",
     "text": [
      "train loss : 0.18144837067677425, train IOU : 0.9475454009496249, train DICE : 0.9775238238848173\n"
     ]
    },
    {
     "name": "stderr",
     "output_type": "stream",
     "text": [
      "100%|██████████| 13/13 [00:03<00:00,  3.27it/s]\n"
     ]
    },
    {
     "name": "stdout",
     "output_type": "stream",
     "text": [
      "val loss : 0.8992815430347736, val IOU : 0.7161923280129066, val DICE : 0.8463885554900537\n",
      "epoch : 36\n"
     ]
    },
    {
     "name": "stderr",
     "output_type": "stream",
     "text": [
      " 43%|████▎     | 28/65 [00:14<00:19,  1.88it/s]\n"
     ]
    },
    {
     "ename": "KeyboardInterrupt",
     "evalue": "",
     "output_type": "error",
     "traceback": [
      "\u001b[31m---------------------------------------------------------------------------\u001b[39m",
      "\u001b[31mKeyboardInterrupt\u001b[39m                         Traceback (most recent call last)",
      "\u001b[36mCell\u001b[39m\u001b[36m \u001b[39m\u001b[32mIn[21]\u001b[39m\u001b[32m, line 4\u001b[39m\n\u001b[32m      2\u001b[39m \u001b[38;5;28;01mfor\u001b[39;00m epoch \u001b[38;5;129;01min\u001b[39;00m \u001b[38;5;28mrange\u001b[39m(epochs):\n\u001b[32m      3\u001b[39m     \u001b[38;5;28mprint\u001b[39m(\u001b[33mf\u001b[39m\u001b[33m\"\u001b[39m\u001b[33mepoch : \u001b[39m\u001b[38;5;132;01m{\u001b[39;00mepoch\u001b[38;5;132;01m}\u001b[39;00m\u001b[33m\"\u001b[39m)\n\u001b[32m----> \u001b[39m\u001b[32m4\u001b[39m     total_loss_train, total_IOU_train, total_DICE_train = train(train_dataloader, model, optimizer, loss_fn_nodule, loss_fn_gland, \u001b[33m\"\u001b[39m\u001b[33mcuda\u001b[39m\u001b[33m\"\u001b[39m)\n\u001b[32m      5\u001b[39m     \u001b[38;5;28mprint\u001b[39m(\u001b[33mf\u001b[39m\u001b[33m\"\u001b[39m\u001b[33mtrain loss : \u001b[39m\u001b[38;5;132;01m{\u001b[39;00mtotal_loss_train\u001b[38;5;132;01m}\u001b[39;00m\u001b[33m, train IOU : \u001b[39m\u001b[38;5;132;01m{\u001b[39;00mtotal_IOU_train\u001b[38;5;132;01m}\u001b[39;00m\u001b[33m, train DICE : \u001b[39m\u001b[38;5;132;01m{\u001b[39;00mtotal_DICE_train\u001b[38;5;132;01m}\u001b[39;00m\u001b[33m\"\u001b[39m)\n\u001b[32m      6\u001b[39m     total_loss_val, total_IOU_val, total_DICE_val, DDTI_total_loss_val, DDTI_total_IOU_val, DDTI_total_DICE_val, TN3K_total_loss_val, TN3K_total_IOU_val, TN3K_total_DICE_val = val(test_dataloader, model, loss_fn_nodule, loss_fn_gland, \u001b[33m\"\u001b[39m\u001b[33mcuda\u001b[39m\u001b[33m\"\u001b[39m)\n",
      "\u001b[36mCell\u001b[39m\u001b[36m \u001b[39m\u001b[32mIn[15]\u001b[39m\u001b[32m, line 36\u001b[39m, in \u001b[36mtrain\u001b[39m\u001b[34m(dataloader, model, optimizer, loss_fn_nodule, loss_fn_gland, device)\u001b[39m\n\u001b[32m     33\u001b[39m loss.backward()         \u001b[38;5;66;03m# compute gradients\u001b[39;00m\n\u001b[32m     34\u001b[39m optimizer.step()        \u001b[38;5;66;03m# update weights\u001b[39;00m\n\u001b[32m---> \u001b[39m\u001b[32m36\u001b[39m total_loss += loss.item()\n\u001b[32m     37\u001b[39m total_IOU += IOU.item()\n\u001b[32m     38\u001b[39m total_DICE += DICE.item()\n",
      "\u001b[31mKeyboardInterrupt\u001b[39m: "
     ]
    }
   ],
   "source": [
    "max_IOU = -1\n",
    "for epoch in range(epochs):\n",
    "    print(f\"epoch : {epoch}\")\n",
    "    total_loss_train, total_IOU_train, total_DICE_train = train(train_dataloader, model, optimizer, loss_fn_nodule, loss_fn_gland, \"cuda\")\n",
    "    print(f\"train loss : {total_loss_train}, train IOU : {total_IOU_train}, train DICE : {total_DICE_train}\")\n",
    "    total_loss_val, total_IOU_val, total_DICE_val, DDTI_total_loss_val, DDTI_total_IOU_val, DDTI_total_DICE_val, TN3K_total_loss_val, TN3K_total_IOU_val, TN3K_total_DICE_val = val(test_dataloader, model, loss_fn_nodule, loss_fn_gland, \"cuda\")\n",
    "    print(f\"val loss : {total_loss_val}, val IOU : {total_IOU_val}, val DICE : {total_DICE_val}\")\n",
    "    \n",
    "    scheduler.step()\n",
    "    current_lr = scheduler.get_last_lr()[0]\n",
    "\n",
    "\n",
    "\n",
    "    if max_IOU < total_IOU_val:\n",
    "        max_IOU = total_IOU_val\n",
    "        checkpoint = {\n",
    "            'epoch': epoch,\n",
    "            'model_state_dict': model.state_dict(),\n",
    "            'optimizer_state_dict': optimizer.state_dict(),\n",
    "            'scheduler_state_dict': scheduler.state_dict(),\n",
    "            \"IOU\" : total_IOU_val,\n",
    "            \"DICE\" : total_DICE_val,\n",
    "            \"loss\" : total_loss_val\n",
    "        }\n",
    "        folder = f\"models/{name}\"\n",
    "        if not os.path.exists(folder):\n",
    "            os.mkdir(folder)\n",
    "        torch.save(checkpoint, f\"models/{name}/best_checkpoint.pth\")\n",
    "\n",
    "    \n",
    "    wandb.log({\n",
    "        \"epoch\": epoch,\n",
    "        \"Learning Rate\":current_lr,\n",
    "        \n",
    "        \"train_loss\": total_loss_train,\n",
    "        \"train_IOU\": total_IOU_train,\n",
    "        \"train_DICE\": total_DICE_train,\n",
    "        \n",
    "        \"val_loss\": total_loss_val,\n",
    "        \"val_IOU\": total_IOU_val,\n",
    "        \"val_DICE\": total_DICE_val,\n",
    "\n",
    "        \"DDTI_val_loss\": DDTI_total_loss_val,\n",
    "        \"DDTI_val_IOU\": DDTI_total_IOU_val,\n",
    "        \"DDTI_val_DICE\": DDTI_total_DICE_val,\n",
    "\n",
    "        \"TN3K_val_loss\": TN3K_total_loss_val,\n",
    "        \"TN3K_val_IOU\": TN3K_total_IOU_val,\n",
    "        \"TN3K_val_DICE\": TN3K_total_DICE_val,\n",
    "        \n",
    "    })\n",
    "\n",
    "\n",
    "\n",
    "\n",
    "checkpoint = {\n",
    "    'epoch': epoch,\n",
    "    'model_state_dict': model.state_dict(),\n",
    "    'optimizer_state_dict': optimizer.state_dict(),\n",
    "    'scheduler_state_dict': scheduler.state_dict(),\n",
    "    \"IOU\" : total_IOU_val,\n",
    "    \"DICE\" : total_DICE_val,\n",
    "    \"loss\" : total_loss_val\n",
    "}\n",
    "if not os.path.exists(folder):\n",
    "    os.mkdir(folder)\n",
    "torch.save(checkpoint, f\"models/{name}/last_checkpoint.pth\")\n",
    "wandb.finish()"
   ]
  },
  {
   "cell_type": "code",
   "execution_count": null,
   "id": "5d67100e-b724-4699-a866-2e90091b467c",
   "metadata": {},
   "outputs": [],
   "source": [
    "print(max_IOU)"
   ]
  },
  {
   "cell_type": "code",
   "execution_count": null,
   "id": "c58a8697-c3e8-414c-9ed8-722bc4edf44d",
   "metadata": {},
   "outputs": [],
   "source": [
    "inference_name = \"PMFSNet_baseline\"\n",
    "# model = HarDMSEG(in_channels = 1)\n",
    "model = PMFSNet(in_channels = 1, out_channels = 1, dim = \"2d\")\n",
    "# model = LightMed(in_channels = 1, out_channels = 1, image_size = image_size)\n",
    "checkpoint = torch.load(f\"models/{inference_name}/last_checkpoint.pth\")\n",
    "model.load_state_dict(checkpoint['model_state_dict'])\n",
    "# optimizer.load_state_dict(checkpoint['optimizer_state_dict'])\n",
    "# scheduler.load_state_dict(checkpoint['scheduler_state_dict'])"
   ]
  },
  {
   "cell_type": "code",
   "execution_count": null,
   "id": "4e84c5aa-badd-4626-93f8-b4d23ee5afcf",
   "metadata": {},
   "outputs": [],
   "source": [
    "\n",
    "total_loss_val, total_IOU_val, total_DICE_val = val(test_dataloader, model, loss_fn, \"cuda\")\n",
    "print(f\"val loss : {total_loss_val}, val IOU : {total_IOU_val}, val DICE : {total_DICE_val}\")\n"
   ]
  },
  {
   "cell_type": "code",
   "execution_count": null,
   "id": "dafcd1cd-51e8-4895-8a6d-837234076860",
   "metadata": {
    "scrolled": true
   },
   "outputs": [],
   "source": [
    "DICE = 0\n",
    "# model.to(\"cuda\")\n",
    "model.eval()\n",
    "for image, mask in tqdm(test_dataloader):\n",
    "    image, mask = image, mask\n",
    "    preds = model(image)\n",
    "    DICE += (1 - dice_loss(preds, mask)).item()\n",
    "print(DICE/len(test_dataloader))"
   ]
  },
  {
   "cell_type": "code",
   "execution_count": null,
   "id": "a39cba45-1411-4e97-8f59-560e936c1602",
   "metadata": {
    "scrolled": true
   },
   "outputs": [],
   "source": [
    "index = 7\n",
    "plt.subplot(1,2,1)\n",
    "plt.imshow(preds[index][0])\n",
    "plt.subplot(1,2,2)\n",
    "plt.imshow(mask[index][0])"
   ]
  },
  {
   "cell_type": "code",
   "execution_count": null,
   "id": "f32ecdce-22c9-4a43-b389-c21d455fae5f",
   "metadata": {},
   "outputs": [],
   "source": [
    "dice_loss = DiceLoss()\n",
    "print(1 - dice_loss(preds, mask))"
   ]
  },
  {
   "cell_type": "code",
   "execution_count": null,
   "id": "a182cb39-4545-44db-940d-727076da0cce",
   "metadata": {},
   "outputs": [],
   "source": [
    "plt.imshow(mask[index][0])"
   ]
  },
  {
   "cell_type": "code",
   "execution_count": null,
   "id": "a070d2d6-8567-48af-a4db-2aa0f7bd4ed3",
   "metadata": {},
   "outputs": [],
   "source": []
  }
 ],
 "metadata": {
  "kernelspec": {
   "display_name": "thyroid",
   "language": "python",
   "name": "thyroid"
  },
  "language_info": {
   "codemirror_mode": {
    "name": "ipython",
    "version": 3
   },
   "file_extension": ".py",
   "mimetype": "text/x-python",
   "name": "python",
   "nbconvert_exporter": "python",
   "pygments_lexer": "ipython3",
   "version": "3.12.9"
  }
 },
 "nbformat": 4,
 "nbformat_minor": 5
}
