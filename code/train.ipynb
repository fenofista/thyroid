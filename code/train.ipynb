{
 "cells": [
  {
   "cell_type": "code",
   "execution_count": 1,
   "id": "52551d1d-9446-4db5-8b82-a125baea80d7",
   "metadata": {},
   "outputs": [
    {
     "name": "stderr",
     "output_type": "stream",
     "text": [
      "C:\\Users\\oplab\\anaconda3\\envs\\thyroid\\Lib\\site-packages\\tqdm\\auto.py:21: TqdmWarning: IProgress not found. Please update jupyter and ipywidgets. See https://ipywidgets.readthedocs.io/en/stable/user_install.html\n",
      "  from .autonotebook import tqdm as notebook_tqdm\n",
      "C:\\Users\\oplab\\anaconda3\\envs\\thyroid\\Lib\\site-packages\\timm\\models\\layers\\__init__.py:48: FutureWarning: Importing from timm.models.layers is deprecated, please import via timm.layers\n",
      "  warnings.warn(f\"Importing from {__name__} is deprecated, please import via timm.layers\", FutureWarning)\n",
      "C:\\Users\\oplab\\anaconda3\\envs\\thyroid\\Lib\\site-packages\\timm\\models\\registry.py:4: FutureWarning: Importing from timm.models.registry is deprecated, please import via timm.models\n",
      "  warnings.warn(f\"Importing from {__name__} is deprecated, please import via timm.models\", FutureWarning)\n"
     ]
    }
   ],
   "source": [
    "import torch\n",
    "from torch.utils.data import Dataset, DataLoader\n",
    "import numpy as np\n",
    "from PIL import Image\n",
    "import os\n",
    "from torchvision import transforms\n",
    "import pandas as pd\n",
    "import matplotlib.pyplot as plt\n",
    "import torch.optim as optim\n",
    "from tqdm import tqdm\n",
    "import random\n",
    "import torch.nn as nn\n",
    "from dataset import Thyroid_Dataset\n",
    "from model import Eff_Unet\n",
    "from HarDMSEG import HarDMSEG\n",
    "from loss_metric import DiceLoss, IOU_score, StructureLoss\n",
    "from LightMed.model.LightMed import LightMed\n",
    "from PMFSNet.lib.models.PMFSNet import PMFSNet\n",
    "from PMFSNet.lib.models.PMFSNet_FFT import PMFSNet_FFT\n",
    "import torchvision.transforms.functional as F\n",
    "import torchvision.transforms as T\n",
    "import torchvision.transforms.functional as tx\n",
    "from torchvision.transforms import GaussianBlur"
   ]
  },
  {
   "cell_type": "code",
   "execution_count": 2,
   "id": "248dde1d-68d5-4fa1-96f0-94c0408334e8",
   "metadata": {},
   "outputs": [],
   "source": [
    "def set_seed(seed):\n",
    "    random.seed(seed)\n",
    "    np.random.seed(seed)\n",
    "    os.environ['PYTHONHASHSEED'] = str(seed)\n",
    "    torch.manual_seed(seed)\n",
    "    torch.cuda.manual_seed(seed)\n",
    "    torch.cuda.manual_seed_all(seed)\n",
    "    torch.backends.cudnn.deterministic = True\n",
    "    torch.backends.cudnn.benchmark = False\n",
    "\n",
    "set_seed(42)"
   ]
  },
  {
   "cell_type": "code",
   "execution_count": 3,
   "id": "ef26125b-81d0-440a-89fc-ae66f35ffbd1",
   "metadata": {},
   "outputs": [
    {
     "name": "stderr",
     "output_type": "stream",
     "text": [
      "wandb: ERROR Failed to detect the name of this notebook. You can set it manually with the WANDB_NOTEBOOK_NAME environment variable to enable code saving.\n",
      "wandb: Currently logged in as: s960068sss (s960068sss-ucl) to https://api.wandb.ai. Use `wandb login --relogin` to force relogin\n"
     ]
    },
    {
     "data": {
      "text/plain": [
       "True"
      ]
     },
     "execution_count": 3,
     "metadata": {},
     "output_type": "execute_result"
    }
   ],
   "source": [
    "import wandb\n",
    "wandb.login()"
   ]
  },
  {
   "cell_type": "code",
   "execution_count": 4,
   "id": "a327316f-dc4a-4787-93c2-94866cec88ef",
   "metadata": {
    "scrolled": true
   },
   "outputs": [],
   "source": [
    "image_size = 128\n",
    "batch_size = 64\n",
    "def train_augmentation(image, mask, image_size):\n",
    "\n",
    "    p = 0.5\n",
    "    \n",
    "    resize = T.Resize((image_size, image_size))\n",
    "    image = resize(image)\n",
    "    mask = resize(mask)\n",
    "    \n",
    "    # if(random.random() < p):\n",
    "    #     jitter = T.ColorJitter(brightness=0.5)\n",
    "    #     image = jitter(image)\n",
    "    if(random.random() < p):\n",
    "        angle = random.uniform(-10, 10)  # 旋轉角度從 ±10 度\n",
    "        translate = (random.uniform(-0.05, 0.05) * image.size[0],\n",
    "                     random.uniform(-0.05, 0.05) * image.size[1])  # 最多平移 ±5%\n",
    "        scale = random.uniform(0.95, 1.05)  # 尺度縮放 ±5%\n",
    "        shear = [random.uniform(-5, 5), random.uniform(-5, 5)]  # 小幅剪切\n",
    "    \n",
    "        image = F.affine(image, angle=angle, translate=translate, scale=scale, shear=shear)\n",
    "        mask = F.affine(mask, angle=angle, translate=translate, scale=scale, shear=shear)\n",
    "    # if(random.random() < p):\n",
    "    #     transform = T.GaussianBlur(kernel_size=3, sigma=(0.1, 2.0))\n",
    "    #     image = transform(image)  # image must be a PIL image\n",
    "    \n",
    "    image_tensor = tx.to_tensor(image)\n",
    "    mask_tensor = tx.to_tensor(mask)\n",
    "\n",
    "    # If standardization\n",
    "    mean = image_tensor.mean()\n",
    "    std = image_tensor.std()\n",
    "    std = std if std > 0 else 1.0  # avoid division by zero\n",
    "    image_tensor = (image_tensor - mean) / std\n",
    "    \n",
    "    return image_tensor, mask_tensor\n",
    "def test_augmentation(image, mask, image_size):\n",
    "    resize = T.Resize((image_size, image_size))\n",
    "    image = resize(image)\n",
    "    mask = resize(mask)\n",
    "\n",
    "    image_tensor = tx.to_tensor(image)\n",
    "    mask_tensor = tx.to_tensor(mask)\n",
    "\n",
    "    # If standardization\n",
    "    mean = image_tensor.mean()\n",
    "    std = image_tensor.std()\n",
    "    std = std if std > 0 else 1.0  # avoid division by zero\n",
    "    image_tensor = (image_tensor - mean) / std\n",
    "    return image_tensor, mask_tensor\n",
    "\n",
    "    \n",
    "train_dataset = Thyroid_Dataset(\"train_v2.csv\", transform = train_augmentation, image_size = image_size)\n",
    "train_dataloader = DataLoader(train_dataset, batch_size = batch_size, shuffle = True)\n",
    "\n",
    "test_dataset = Thyroid_Dataset(\"test_v2.csv\", transform = test_augmentation, image_size = image_size, return_from_dataset = True, crop_DDTI = True, histo_match = False)\n",
    "test_dataloader = DataLoader(test_dataset, batch_size = batch_size)\n",
    "\n",
    "image, mask, seg_type = next(iter(train_dataloader))\n",
    "image = image\n",
    "mask = mask"
   ]
  },
  {
   "cell_type": "code",
   "execution_count": 5,
   "id": "47edc937-3f17-4110-b4aa-c27f96849fba",
   "metadata": {
    "scrolled": true
   },
   "outputs": [
    {
     "name": "stdout",
     "output_type": "stream",
     "text": [
      "std :  tensor(1.0000)\n",
      "unique :  tensor([0., 1.])\n"
     ]
    }
   ],
   "source": [
    "print(\"std : \", torch.std(image))\n",
    "print(\"unique : \", torch.unique(mask))"
   ]
  },
  {
   "cell_type": "code",
   "execution_count": 6,
   "id": "1b81274e-b0ec-4908-ab13-a892eb8adddd",
   "metadata": {},
   "outputs": [
    {
     "data": {
      "text/plain": [
       "<matplotlib.image.AxesImage at 0x276fd2dd490>"
      ]
     },
     "execution_count": 6,
     "metadata": {},
     "output_type": "execute_result"
    },
    {
     "data": {
      "image/png": "[encoded data removed]",
      "text/plain": [
       "<Figure size 640x480 with 2 Axes>"
      ]
     },
     "metadata": {},
     "output_type": "display_data"
    }
   ],
   "source": [
    "index = 35\n",
    "plt.subplot(1,2,1)\n",
    "plt.imshow(image[index][0])\n",
    "plt.subplot(1,2,2)\n",
    "plt.imshow(mask[index][0])"
   ]
  },
  {
   "cell_type": "code",
   "execution_count": 7,
   "id": "d42205ed-9909-4f36-949f-4ed7244b006f",
   "metadata": {
    "scrolled": true
   },
   "outputs": [],
   "source": [
    "# model = Eff_Unet(\n",
    "#         layers=[5, 5, 15, 10],\n",
    "#         embed_dims=[40, 80, 192, 384],\n",
    "#         downsamples=[True, True, True, True],\n",
    "#         vit_num=6,\n",
    "#         drop_path_rate=0.1,\n",
    "#         num_classes=1,\n",
    "#         resolution = image_size).cuda()\n",
    "# model = HarDMSEG(in_channels = 1)\n",
    "# model = LightMed(in_channels = 1, out_channels = 1, image_size = image_size)\n",
    "# model = PMFSNet(in_channels = 1, out_channels = 2, dim = \"2d\")\n",
    "# model = PMFSNet_FFT(in_channels = 1, out_channels = 2, dim = \"2d\")"
   ]
  },
  {
   "cell_type": "code",
   "execution_count": 8,
   "id": "9105c5e2-de65-4585-8f0e-c98e7048cdcc",
   "metadata": {},
   "outputs": [],
   "source": [
    "# loss_fn_nodule = StructureLoss()\n",
    "# loss_fn_gland = StructureLoss()"
   ]
  },
  {
   "cell_type": "code",
   "execution_count": 9,
   "id": "b7be29f2-eb47-4c1b-a2aa-f233277df2f4",
   "metadata": {},
   "outputs": [],
   "source": [
    "# optimizer = optim.Adam(model.parameters(), lr=0.01)"
   ]
  },
  {
   "cell_type": "code",
   "execution_count": 10,
   "id": "42b0ac90-a13a-4cd5-a0df-dd36e48534cc",
   "metadata": {
    "scrolled": true
   },
   "outputs": [],
   "source": [
    "# seg_type"
   ]
  },
  {
   "cell_type": "code",
   "execution_count": 11,
   "id": "783c83b7-f098-43cc-b1e1-414e543eb63a",
   "metadata": {
    "scrolled": true
   },
   "outputs": [],
   "source": [
    "# for epoch in range(1000):\n",
    "#     outputs = model(image)\n",
    "\n",
    "#     nodule_output = outputs[:, 0:1, :, :][seg_type==1]\n",
    "#     nodule_mask = mask[seg_type==1]\n",
    "    \n",
    "#     gland_output = outputs[:, 1:2, :, :][seg_type==2]\n",
    "#     gland_mask = mask[seg_type==2]\n",
    "#     # outputs = torch.sigmoid(logits)\n",
    "#     # print(nodule_output.shape, nodule_mask.shape)\n",
    "#     nodule_loss = loss_fn_nodule(nodule_output, nodule_mask)\n",
    "#     gland_loss = loss_fn_gland(gland_output, gland_mask)\n",
    "    \n",
    "#     loss = nodule_loss + gland_loss\n",
    "    \n",
    "#     IOU = (IOU_score(nodule_output, nodule_mask) + IOU_score(gland_output, gland_mask)) / 2\n",
    "    \n",
    "#     dice_loss = DiceLoss()\n",
    "#     # print(dice_loss(nodule_output, nodule_mask))\n",
    "#     # print(dice_loss(gland_output, gland_mask)) \n",
    "#     DICE = ((1 - dice_loss(nodule_output, nodule_mask)) + (1 - dice_loss(gland_output, gland_mask))) / 2\n",
    "    \n",
    "#     # Backward and optimize\n",
    "#     optimizer.zero_grad()   # clear previous gradients\n",
    "#     loss.backward()         # compute gradients\n",
    "#     optimizer.step()        # update weights\n",
    "\n",
    "#     print(f\"Epoch {epoch+1}, Loss: {loss.item():.4f}, IOU: {IOU.item():.4f}, DICE: {DICE.item()}\")"
   ]
  },
  {
   "cell_type": "code",
   "execution_count": 12,
   "id": "1b8b759a-8a5b-4e2a-99f6-2ae9169207dc",
   "metadata": {
    "scrolled": true
   },
   "outputs": [],
   "source": [
    "# index = 4\n",
    "# plt.subplot(1,2,1)\n",
    "# plt.imshow(nodule_mask[index][0])\n",
    "# nodule_output = (nodule_output > 0.5)\n",
    "# plt.subplot(1,2,2)\n",
    "# plt.imshow(nodule_output[index][0].detach().numpy())"
   ]
  },
  {
   "cell_type": "code",
   "execution_count": 13,
   "id": "646519ad-45ad-42c0-98cc-4364c5cfefb2",
   "metadata": {},
   "outputs": [],
   "source": [
    "# index = 4\n",
    "# plt.subplot(1,2,1)\n",
    "# plt.imshow(gland_mask[index][0])\n",
    "# gland_output = (gland_output > 0.5)\n",
    "# plt.subplot(1,2,2)\n",
    "# plt.imshow(gland_output[index][0].detach().numpy())"
   ]
  },
  {
   "cell_type": "code",
   "execution_count": null,
   "id": "5786a0c4-28f4-4cbb-b78c-40ad76262db7",
   "metadata": {},
   "outputs": [],
   "source": []
  },
  {
   "cell_type": "code",
   "execution_count": null,
   "id": "7b9646be-a608-488d-849c-77cd4e212d1a",
   "metadata": {},
   "outputs": [],
   "source": []
  },
  {
   "cell_type": "code",
   "execution_count": null,
   "id": "fec4d7b8-7c40-40d2-a6a6-48d9d8b68db3",
   "metadata": {},
   "outputs": [],
   "source": []
  },
  {
   "cell_type": "code",
   "execution_count": 14,
   "id": "1d1d16cd-aa05-4c5e-9736-0cdbb02529a1",
   "metadata": {},
   "outputs": [],
   "source": [
    "def train(dataloader, model, optimizer, loss_fn_nodule, loss_fn_gland, device):\n",
    "    total_loss = 0\n",
    "    total_IOU = 0\n",
    "    total_DICE = 0\n",
    "    \n",
    "    model.train()\n",
    "    model.to(device)\n",
    "    count = 0\n",
    "    for image, mask, seg_type in tqdm(dataloader):\n",
    "        image, mask, seg_type = image.to(device), mask.to(device), seg_type.to(device)\n",
    "        outputs = model(image)\n",
    "\n",
    "        nodule_output = outputs[:, 0:1, :, :][seg_type==1]\n",
    "        nodule_mask = mask[seg_type==1]\n",
    "        \n",
    "        gland_output = outputs[:, 1:2, :, :][seg_type==2]\n",
    "        gland_mask = mask[seg_type==2]\n",
    "\n",
    "        nodule_loss = loss_fn_nodule(nodule_output, nodule_mask)\n",
    "        gland_loss = loss_fn_gland(gland_output, gland_mask)\n",
    "\n",
    "\n",
    "        \n",
    "        loss = nodule_loss + gland_loss\n",
    "        IOU = (IOU_score(nodule_output, nodule_mask) + IOU_score(gland_output, gland_mask)) / 2\n",
    "\n",
    "        dice_loss = DiceLoss()\n",
    "        DICE = ((1 - dice_loss(nodule_output, nodule_mask)) + (1 - dice_loss(gland_output, gland_mask))) / 2\n",
    "\n",
    "        \n",
    "        # Backward and optimize\n",
    "        optimizer.zero_grad()   # clear previous gradients\n",
    "        loss.backward()         # compute gradients\n",
    "        optimizer.step()        # update weights\n",
    "\n",
    "        total_loss += loss.item()\n",
    "        total_IOU += IOU.item()\n",
    "        total_DICE += DICE.item()\n",
    "        # count+=1\n",
    "        # if count==5:\n",
    "        #     break\n",
    "    return total_loss/len(dataloader), total_IOU/len(dataloader), total_DICE/len(dataloader)\n",
    "\n",
    "\n",
    "# \n",
    "# Only calculate nodule loss, IOU, DICE, because there is no gland data in the testing set\n",
    "def val(dataloader, model, loss_fn_nodule, loss_fn_gland, device):\n",
    "    total_loss = 0\n",
    "    DDTI_total_loss = 0\n",
    "    TN3K_total_loss = 0\n",
    "    \n",
    "    total_IOU = 0\n",
    "    DDTI_total_IOU = 0\n",
    "    TN3K_total_IOU = 0\n",
    "    \n",
    "    total_DICE = 0\n",
    "    DDTI_total_DICE = 0\n",
    "    TN3K_total_DICE = 0\n",
    "\n",
    "    model.eval()\n",
    "    model.to(device)\n",
    "    for image, mask, seg_type, from_dataset in tqdm(dataloader):\n",
    "        image, mask, seg_type = image.to(device), mask.to(device), seg_type.to(device)\n",
    "        outputs = model(image)\n",
    "        \n",
    "        nodule_output = outputs[:, 0:1, :, :][seg_type==1]\n",
    "        nodule_mask = mask[seg_type==1]\n",
    "\n",
    "\n",
    "        DDTI_nodule_output = nodule_output[from_dataset==1]\n",
    "        TN3K_nodule_output = nodule_output[from_dataset==3]\n",
    "\n",
    "        DDTI_nodule_mask = nodule_mask[from_dataset==1]\n",
    "        TN3K_nodule_mask = nodule_mask[from_dataset==3]\n",
    "        \n",
    "\n",
    "        nodule_loss = loss_fn_nodule(nodule_output, nodule_mask)\n",
    "        DDTI_nodule_loss = loss_fn_nodule(DDTI_nodule_output, DDTI_nodule_mask)\n",
    "        TN3K_nodule_loss = loss_fn_nodule(TN3K_nodule_output, TN3K_nodule_mask)\n",
    "        \n",
    "        IOU = IOU_score(nodule_output, nodule_mask)\n",
    "        DDTI_IOU = IOU_score(DDTI_nodule_output, DDTI_nodule_mask)\n",
    "        TN3K_IOU = IOU_score(TN3K_nodule_output, TN3K_nodule_mask)\n",
    "\n",
    "        dice_loss = DiceLoss()\n",
    "        DICE = 1 - dice_loss(nodule_output, nodule_mask)\n",
    "        DDTI_DICE = 1 - dice_loss(DDTI_nodule_output, DDTI_nodule_mask)\n",
    "        TN3K_DICE = 1 - dice_loss(TN3K_nodule_output, TN3K_nodule_mask)\n",
    "    \n",
    "\n",
    "        total_loss += nodule_loss.item()\n",
    "        DDTI_total_loss += DDTI_nodule_loss.item()\n",
    "        TN3K_total_loss += TN3K_nodule_loss.item()\n",
    "        \n",
    "        total_IOU += IOU.item()\n",
    "        DDTI_total_IOU += DDTI_IOU.item()\n",
    "        TN3K_total_IOU += TN3K_IOU.item()\n",
    "        \n",
    "        total_DICE += DICE.item()\n",
    "        DDTI_total_DICE += DDTI_DICE.item()\n",
    "        TN3K_total_DICE += TN3K_DICE.item()\n",
    "    return total_loss/len(dataloader), total_IOU/len(dataloader), total_DICE/len(dataloader), DDTI_total_loss/len(dataloader), DDTI_total_IOU/len(dataloader), DDTI_total_DICE/len(dataloader), TN3K_total_loss/len(dataloader), TN3K_total_IOU/len(dataloader), TN3K_total_DICE/len(dataloader), "
   ]
  },
  {
   "cell_type": "code",
   "execution_count": 16,
   "id": "338a9dc0-d323-490b-81c5-1853e70983d4",
   "metadata": {
    "scrolled": true
   },
   "outputs": [
    {
     "data": {
      "text/html": [
       "Finishing previous runs because reinit is set to 'default'."
      ],
      "text/plain": [
       "<IPython.core.display.HTML object>"
      ]
     },
     "metadata": {},
     "output_type": "display_data"
    },
    {
     "data": {
      "text/html": [],
      "text/plain": [
       "<IPython.core.display.HTML object>"
      ]
     },
     "metadata": {},
     "output_type": "display_data"
    },
    {
     "data": {
      "text/html": [
       " View run <strong style=\"color:#cdcd00\">PMFSNet_crop_DDTI_standardization_aug_affine(0.5)_lr_0.005_for_finetune</strong> at: <a href='https://wandb.ai/s960068sss-ucl/thyroid/runs/wu5rdi1d' target=\"_blank\">https://wandb.ai/s960068sss-ucl/thyroid/runs/wu5rdi1d</a><br> View project at: <a href='https://wandb.ai/s960068sss-ucl/thyroid' target=\"_blank\">https://wandb.ai/s960068sss-ucl/thyroid</a><br>Synced 5 W&B file(s), 0 media file(s), 0 artifact file(s) and 0 other file(s)"
      ],
      "text/plain": [
       "<IPython.core.display.HTML object>"
      ]
     },
     "metadata": {},
     "output_type": "display_data"
    },
    {
     "data": {
      "text/html": [
       "Find logs at: <code>.\\wandb\\run-20250513_002650-wu5rdi1d\\logs</code>"
      ],
      "text/plain": [
       "<IPython.core.display.HTML object>"
      ]
     },
     "metadata": {},
     "output_type": "display_data"
    },
    {
     "data": {
      "text/html": [
       "Tracking run with wandb version 0.19.10"
      ],
      "text/plain": [
       "<IPython.core.display.HTML object>"
      ]
     },
     "metadata": {},
     "output_type": "display_data"
    },
    {
     "data": {
      "text/html": [
       "Run data is saved locally in <code>C:\\Users\\oplab\\Desktop\\Tony\\Thyroid\\code\\wandb\\run-20250513_002655-8h98ii7g</code>"
      ],
      "text/plain": [
       "<IPython.core.display.HTML object>"
      ]
     },
     "metadata": {},
     "output_type": "display_data"
    },
    {
     "data": {
      "text/html": [
       "Syncing run <strong><a href='https://wandb.ai/s960068sss-ucl/thyroid/runs/8h98ii7g' target=\"_blank\">PMFSNet_crop_DDTI_standardization_aug_affine(0.5)_lr_0.005_for_finetune</a></strong> to <a href='https://wandb.ai/s960068sss-ucl/thyroid' target=\"_blank\">Weights & Biases</a> (<a href='https://wandb.me/developer-guide' target=\"_blank\">docs</a>)<br>"
      ],
      "text/plain": [
       "<IPython.core.display.HTML object>"
      ]
     },
     "metadata": {},
     "output_type": "display_data"
    },
    {
     "data": {
      "text/html": [
       " View project at <a href='https://wandb.ai/s960068sss-ucl/thyroid' target=\"_blank\">https://wandb.ai/s960068sss-ucl/thyroid</a>"
      ],
      "text/plain": [
       "<IPython.core.display.HTML object>"
      ]
     },
     "metadata": {},
     "output_type": "display_data"
    },
    {
     "data": {
      "text/html": [
       " View run at <a href='https://wandb.ai/s960068sss-ucl/thyroid/runs/8h98ii7g' target=\"_blank\">https://wandb.ai/s960068sss-ucl/thyroid/runs/8h98ii7g</a>"
      ],
      "text/plain": [
       "<IPython.core.display.HTML object>"
      ]
     },
     "metadata": {},
     "output_type": "display_data"
    },
    {
     "data": {
      "text/html": [
       "<button onClick=\"this.nextSibling.style.display='block';this.style.display='none';\">Display W&B run</button><iframe src='https://wandb.ai/s960068sss-ucl/thyroid/runs/8h98ii7g?jupyter=true' style='border:none;width:100%;height:420px;display:none;'></iframe>"
      ],
      "text/plain": [
       "<wandb.sdk.wandb_run.Run at 0x276fc21cce0>"
      ]
     },
     "execution_count": 16,
     "metadata": {},
     "output_type": "execute_result"
    }
   ],
   "source": [
    "epochs = 15\n",
    "lr = 0.005\n",
    "project = \"thyroid\"\n",
    "name=name=\"PMFSNet_crop_DDTI_standardization_aug_affine(0.5)_lr_0.005_for_finetune\"\n",
    "wandb.init(\n",
    "    project = project,  # Project name in W&B\n",
    "    name = name,       # (optional) specific run name\n",
    "    config={                     # (optional) hyperparameters\n",
    "        \"image_size\": image_size,\n",
    "        \"learning_rate\": lr,\n",
    "        \"epochs\": epochs,\n",
    "        \"batch_size\": batch_size,\n",
    "        # \"weight_decay\":1e-4\n",
    "    }\n",
    ")"
   ]
  },
  {
   "cell_type": "code",
   "execution_count": 17,
   "id": "17f78983-065b-4117-be49-342f079b8bc8",
   "metadata": {},
   "outputs": [
    {
     "name": "stdout",
     "output_type": "stream",
     "text": [
      "image size : 128, lr : 0.005, epochs : 15, batch size : 64\n"
     ]
    }
   ],
   "source": [
    "print(f\"image size : {image_size}, lr : {lr}, epochs : {epochs}, batch size : {batch_size}\")"
   ]
  },
  {
   "cell_type": "code",
   "execution_count": 18,
   "id": "d28b5b3f-f5eb-4766-880e-c4b32c34a429",
   "metadata": {},
   "outputs": [],
   "source": [
    "# model = Eff_Unet(\n",
    "#         layers=[5, 5, 15, 10],\n",
    "#         embed_dims=[10, 20, 48, 96],\n",
    "#         # embed_dims=[40, 80, 192, 384],\n",
    "#         downsamples=[True, True, True, True],\n",
    "#         vit_num=6,\n",
    "#         drop_path_rate=0.1,\n",
    "#         num_classes=1,\n",
    "#         resolution = image_size).cuda()\n",
    "# model = HarDMSEG(in_channels = 1, out_channels = 2)\n",
    "# model = LightMed(in_channels = 1, out_channels = 2, image_size = image_size)\n",
    "model = PMFSNet(in_channels = 1, out_channels = 2, dim = \"2d\")\n",
    "# model = PMFSNet_FFT(in_channels = 1, out_channels = 2, dim = \"2d\")"
   ]
  },
  {
   "cell_type": "markdown",
   "id": "b9193833-aa7f-44d9-b6f2-0eb7d28f9e9f",
   "metadata": {},
   "source": [
    "### If using pretrained model"
   ]
  },
  {
   "cell_type": "code",
   "execution_count": 19,
   "id": "874fb586-4f2a-4bd2-bd18-00f94f31feef",
   "metadata": {},
   "outputs": [],
   "source": [
    "# pretrained_name = \"PMFSNet_baseline\"\n",
    "# # model = HarDMSEG(in_channels = 1)\n",
    "# model = PMFSNet(in_channels = 1, out_channels = 1, dim = \"2d\")\n",
    "# # model = LightMed(in_channels = 1, out_channels = 1, image_size = image_size)\n",
    "# checkpoint = torch.load(f\"models/{pretrained_name}/best_checkpoint.pth\")\n",
    "# model.load_state_dict(checkpoint['model_state_dict'])"
   ]
  },
  {
   "cell_type": "code",
   "execution_count": 20,
   "id": "39874c9f-ddfc-439b-abfa-f50b620f314a",
   "metadata": {},
   "outputs": [],
   "source": [
    "# loss_fn = DiceLoss()\n",
    "loss_fn_nodule = StructureLoss()\n",
    "loss_fn_gland = StructureLoss()\n",
    "optimizer = optim.Adam(model.parameters(), lr=lr)\n",
    "scheduler = optim.lr_scheduler.CosineAnnealingLR(optimizer, T_max=epochs)"
   ]
  },
  {
   "cell_type": "code",
   "execution_count": 21,
   "id": "59c88d21-6f83-4dc4-9b30-27b058360611",
   "metadata": {
    "scrolled": true
   },
   "outputs": [
    {
     "name": "stdout",
     "output_type": "stream",
     "text": [
      "epoch : 0\n"
     ]
    },
    {
     "name": "stderr",
     "output_type": "stream",
     "text": [
      "C:\\Users\\oplab\\anaconda3\\envs\\thyroid\\Lib\\site-packages\\torch\\nn\\_reduction.py:51: UserWarning: size_average and reduce args will be deprecated, please use reduction='mean' instead.\n",
      "  warnings.warn(warning.format(ret))\n",
      "\n",
      "00%|████████████████████████████████████████████████████████████████████████████████| 101/101 [00:27<00:00,  3.62it/s]"
     ]
    },
    {
     "name": "stdout",
     "output_type": "stream",
     "text": [
      "train loss : 1.3341433128508011, train IOU : 0.5222882326729227, train DICE : 0.6688720002622888\n"
     ]
    },
    {
     "name": "stderr",
     "output_type": "stream",
     "text": [
      "\n",
      "00%|██████████████████████████████████████████████████████████████████████████████████| 20/20 [00:56<00:00,  2.81s/it]"
     ]
    },
    {
     "name": "stdout",
     "output_type": "stream",
     "text": [
      "val loss : 0.8835012674331665, val IOU : 0.449467770755291, val DICE : 0.6083641648292542\n",
      "epoch : 1\n"
     ]
    },
    {
     "name": "stderr",
     "output_type": "stream",
     "text": [
      "\n",
      "00%|████████████████████████████████████████████████████████████████████████████████| 101/101 [00:36<00:00,  2.79it/s]"
     ]
    },
    {
     "name": "stdout",
     "output_type": "stream",
     "text": [
      "train loss : 0.9992655928772275, train IOU : 0.6416634144169269, train DICE : 0.7799017104772058\n"
     ]
    },
    {
     "name": "stderr",
     "output_type": "stream",
     "text": [
      "\n",
      "00%|██████████████████████████████████████████████████████████████████████████████████| 20/20 [00:04<00:00,  4.54it/s]"
     ]
    },
    {
     "name": "stdout",
     "output_type": "stream",
     "text": [
      "val loss : 0.8032999604940414, val IOU : 0.5037176862359047, val DICE : 0.6721390157938003\n",
      "epoch : 2\n"
     ]
    },
    {
     "name": "stderr",
     "output_type": "stream",
     "text": [
      "\n",
      "00%|████████████████████████████████████████████████████████████████████████████████| 101/101 [00:35<00:00,  2.83it/s]"
     ]
    },
    {
     "name": "stdout",
     "output_type": "stream",
     "text": [
      "train loss : 0.9152239395840334, train IOU : 0.670894194357466, train DICE : 0.8036623048310233\n"
     ]
    },
    {
     "name": "stderr",
     "output_type": "stream",
     "text": [
      "\n",
      "00%|██████████████████████████████████████████████████████████████████████████████████| 20/20 [00:03<00:00,  5.27it/s]"
     ]
    },
    {
     "name": "stdout",
     "output_type": "stream",
     "text": [
      "val loss : 0.7421911269426346, val IOU : 0.5320711404085159, val DICE : 0.6887698918581009\n",
      "epoch : 3\n"
     ]
    },
    {
     "name": "stderr",
     "output_type": "stream",
     "text": [
      "\n",
      "00%|████████████████████████████████████████████████████████████████████████████████| 101/101 [00:38<00:00,  2.63it/s]"
     ]
    },
    {
     "name": "stdout",
     "output_type": "stream",
     "text": [
      "train loss : 0.8389008818286481, train IOU : 0.6980659046975692, train DICE : 0.8229475995101551\n"
     ]
    },
    {
     "name": "stderr",
     "output_type": "stream",
     "text": [
      "\n",
      "00%|██████████████████████████████████████████████████████████████████████████████████| 20/20 [00:04<00:00,  4.91it/s]"
     ]
    },
    {
     "name": "stdout",
     "output_type": "stream",
     "text": [
      "val loss : 0.8138817816972732, val IOU : 0.4939751088619232, val DICE : 0.6728263974189759\n",
      "epoch : 4\n"
     ]
    },
    {
     "name": "stderr",
     "output_type": "stream",
     "text": [
      "\n",
      "00%|████████████████████████████████████████████████████████████████████████████████| 101/101 [00:36<00:00,  2.76it/s]"
     ]
    },
    {
     "name": "stdout",
     "output_type": "stream",
     "text": [
      "train loss : 0.7853152386032709, train IOU : 0.7168307581750473, train DICE : 0.8370508693232395\n"
     ]
    },
    {
     "name": "stderr",
     "output_type": "stream",
     "text": [
      "\n",
      "00%|██████████████████████████████████████████████████████████████████████████████████| 20/20 [00:03<00:00,  6.04it/s]"
     ]
    },
    {
     "name": "stdout",
     "output_type": "stream",
     "text": [
      "val loss : 0.7121108949184418, val IOU : 0.5625621855258942, val DICE : 0.7154228806495666\n",
      "epoch : 5\n"
     ]
    },
    {
     "name": "stderr",
     "output_type": "stream",
     "text": [
      "\n",
      "00%|████████████████████████████████████████████████████████████████████████████████| 101/101 [00:37<00:00,  2.68it/s]"
     ]
    },
    {
     "name": "stdout",
     "output_type": "stream",
     "text": [
      "train loss : 0.741033661483538, train IOU : 0.7328810024969649, train DICE : 0.848422131916084\n"
     ]
    },
    {
     "name": "stderr",
     "output_type": "stream",
     "text": [
      "\n",
      "00%|██████████████████████████████████████████████████████████████████████████████████| 20/20 [00:03<00:00,  5.30it/s]"
     ]
    },
    {
     "name": "stdout",
     "output_type": "stream",
     "text": [
      "val loss : 0.7098649710416793, val IOU : 0.5550478637218476, val DICE : 0.7172826558351517\n",
      "epoch : 6\n"
     ]
    },
    {
     "name": "stderr",
     "output_type": "stream",
     "text": [
      "\n",
      "00%|████████████████████████████████████████████████████████████████████████████████| 101/101 [00:36<00:00,  2.75it/s]"
     ]
    },
    {
     "name": "stdout",
     "output_type": "stream",
     "text": [
      "train loss : 0.7022294490644247, train IOU : 0.7485134572085768, train DICE : 0.8579405404553555\n"
     ]
    },
    {
     "name": "stderr",
     "output_type": "stream",
     "text": [
      "\n",
      "00%|██████████████████████████████████████████████████████████████████████████████████| 20/20 [00:03<00:00,  5.28it/s]"
     ]
    },
    {
     "name": "stdout",
     "output_type": "stream",
     "text": [
      "val loss : 0.644003713130951, val IOU : 0.5933874249458313, val DICE : 0.7447217017412185\n",
      "epoch : 7\n"
     ]
    },
    {
     "name": "stderr",
     "output_type": "stream",
     "text": [
      "\n",
      "00%|████████████████████████████████████████████████████████████████████████████████| 101/101 [00:36<00:00,  2.80it/s]"
     ]
    },
    {
     "name": "stdout",
     "output_type": "stream",
     "text": [
      "train loss : 0.6664811478983058, train IOU : 0.7603694896886845, train DICE : 0.865368116610121\n"
     ]
    },
    {
     "name": "stderr",
     "output_type": "stream",
     "text": [
      "\n",
      "00%|██████████████████████████████████████████████████████████████████████████████████| 20/20 [00:03<00:00,  5.44it/s]"
     ]
    },
    {
     "name": "stdout",
     "output_type": "stream",
     "text": [
      "val loss : 0.6009479343891144, val IOU : 0.6249833256006241, val DICE : 0.7642772018909454\n",
      "epoch : 8\n"
     ]
    },
    {
     "name": "stderr",
     "output_type": "stream",
     "text": [
      "\n",
      "00%|████████████████████████████████████████████████████████████████████████████████| 101/101 [00:36<00:00,  2.78it/s]"
     ]
    },
    {
     "name": "stdout",
     "output_type": "stream",
     "text": [
      "train loss : 0.6300557845889931, train IOU : 0.7739462970507027, train DICE : 0.8750364562072376\n"
     ]
    },
    {
     "name": "stderr",
     "output_type": "stream",
     "text": [
      "\n",
      "00%|██████████████████████████████████████████████████████████████████████████████████| 20/20 [00:03<00:00,  5.10it/s]"
     ]
    },
    {
     "name": "stdout",
     "output_type": "stream",
     "text": [
      "val loss : 0.8262793987989425, val IOU : 0.5390506312251091, val DICE : 0.7094085961580276\n",
      "epoch : 9\n"
     ]
    },
    {
     "name": "stderr",
     "output_type": "stream",
     "text": [
      "\n",
      "00%|████████████████████████████████████████████████████████████████████████████████| 101/101 [00:34<00:00,  2.90it/s]"
     ]
    },
    {
     "name": "stdout",
     "output_type": "stream",
     "text": [
      "train loss : 0.6006441435011307, train IOU : 0.78348840404265, train DICE : 0.8821261224180165\n"
     ]
    },
    {
     "name": "stderr",
     "output_type": "stream",
     "text": [
      "\n",
      "00%|██████████████████████████████████████████████████████████████████████████████████| 20/20 [00:04<00:00,  4.80it/s]"
     ]
    },
    {
     "name": "stdout",
     "output_type": "stream",
     "text": [
      "val loss : 0.7562498331069947, val IOU : 0.5715987756848335, val DICE : 0.7255950450897217\n",
      "epoch : 10\n"
     ]
    },
    {
     "name": "stderr",
     "output_type": "stream",
     "text": [
      "\n",
      "00%|████████████████████████████████████████████████████████████████████████████████| 101/101 [00:38<00:00,  2.65it/s]"
     ]
    },
    {
     "name": "stdout",
     "output_type": "stream",
     "text": [
      "train loss : 0.5722492042154369, train IOU : 0.7954810904984427, train DICE : 0.8886870334644129\n"
     ]
    },
    {
     "name": "stderr",
     "output_type": "stream",
     "text": [
      "\n",
      "00%|██████████████████████████████████████████████████████████████████████████████████| 20/20 [00:03<00:00,  5.25it/s]"
     ]
    },
    {
     "name": "stdout",
     "output_type": "stream",
     "text": [
      "val loss : 0.7476067692041397, val IOU : 0.5723918914794922, val DICE : 0.7311058014631271\n",
      "epoch : 11\n"
     ]
    },
    {
     "name": "stderr",
     "output_type": "stream",
     "text": [
      "\n",
      "00%|████████████████████████████████████████████████████████████████████████████████| 101/101 [00:34<00:00,  2.92it/s]"
     ]
    },
    {
     "name": "stdout",
     "output_type": "stream",
     "text": [
      "train loss : 0.5463544136226768, train IOU : 0.8040210457131414, train DICE : 0.8958995472086538\n"
     ]
    },
    {
     "name": "stderr",
     "output_type": "stream",
     "text": [
      "\n",
      "00%|██████████████████████████████████████████████████████████████████████████████████| 20/20 [00:04<00:00,  4.86it/s]"
     ]
    },
    {
     "name": "stdout",
     "output_type": "stream",
     "text": [
      "val loss : 0.5888251185417175, val IOU : 0.6427848726511002, val DICE : 0.7843709737062454\n",
      "epoch : 12\n"
     ]
    },
    {
     "name": "stderr",
     "output_type": "stream",
     "text": [
      "\n",
      "00%|████████████████████████████████████████████████████████████████████████████████| 101/101 [00:38<00:00,  2.63it/s]"
     ]
    },
    {
     "name": "stdout",
     "output_type": "stream",
     "text": [
      "train loss : 0.5324539341548882, train IOU : 0.809261664895728, train DICE : 0.8983101667744098\n"
     ]
    },
    {
     "name": "stderr",
     "output_type": "stream",
     "text": [
      "\n",
      "00%|██████████████████████████████████████████████████████████████████████████████████| 20/20 [00:03<00:00,  5.35it/s]"
     ]
    },
    {
     "name": "stdout",
     "output_type": "stream",
     "text": [
      "val loss : 0.606863833963871, val IOU : 0.6434672772884369, val DICE : 0.7850916296243667\n",
      "epoch : 13\n"
     ]
    },
    {
     "name": "stderr",
     "output_type": "stream",
     "text": [
      "\n",
      "00%|████████████████████████████████████████████████████████████████████████████████| 101/101 [00:33<00:00,  2.98it/s]"
     ]
    },
    {
     "name": "stdout",
     "output_type": "stream",
     "text": [
      "train loss : 0.5136062992681371, train IOU : 0.8154841838496747, train DICE : 0.902529243785556\n"
     ]
    },
    {
     "name": "stderr",
     "output_type": "stream",
     "text": [
      "\n",
      "00%|██████████████████████████████████████████████████████████████████████████████████| 20/20 [00:04<00:00,  4.95it/s]"
     ]
    },
    {
     "name": "stdout",
     "output_type": "stream",
     "text": [
      "val loss : 0.5742309480905533, val IOU : 0.6580510199069977, val DICE : 0.7947728157043457\n",
      "epoch : 14\n"
     ]
    },
    {
     "name": "stderr",
     "output_type": "stream",
     "text": [
      "\n",
      "00%|████████████████████████████████████████████████████████████████████████████████| 101/101 [00:39<00:00,  2.57it/s]"
     ]
    },
    {
     "name": "stdout",
     "output_type": "stream",
     "text": [
      "train loss : 0.5050737592253355, train IOU : 0.8200417680315452, train DICE : 0.9049001743297765\n"
     ]
    },
    {
     "name": "stderr",
     "output_type": "stream",
     "text": [
      "\n",
      "00%|██████████████████████████████████████████████████████████████████████████████████| 20/20 [00:03<00:00,  5.13it/s]"
     ]
    },
    {
     "name": "stdout",
     "output_type": "stream",
     "text": [
      "val loss : 0.5704532206058502, val IOU : 0.6596294850111007, val DICE : 0.7964860498905182\n"
     ]
    },
    {
     "data": {
      "text/html": [],
      "text/plain": [
       "<IPython.core.display.HTML object>"
      ]
     },
     "metadata": {},
     "output_type": "display_data"
    },
    {
     "data": {
      "text/html": [
       "<br>    <style><br>        .wandb-row {<br>            display: flex;<br>            flex-direction: row;<br>            flex-wrap: wrap;<br>            justify-content: flex-start;<br>            width: 100%;<br>        }<br>        .wandb-col {<br>            display: flex;<br>            flex-direction: column;<br>            flex-basis: 100%;<br>            flex: 1;<br>            padding: 10px;<br>        }<br>    </style><br><div class=\"wandb-row\"><div class=\"wandb-col\"><h3>Run history:</h3><br/><table class=\"wandb\"><tr><td>DDTI_val_DICE</td><td>▂▄▄▂▅▅▆█▁▃▂▇▇██</td></tr><tr><td>DDTI_val_IOU</td><td>▂▃▄▁▅▄▆█▁▃▂▇▆▇▇</td></tr><tr><td>DDTI_val_loss</td><td>▅▄▃▅▃▃▂▁█▆▇▂▃▂▂</td></tr><tr><td>Learning Rate</td><td>██▇▇▆▆▅▄▃▃▂▂▁▁▁</td></tr><tr><td>TN3K_val_DICE</td><td>▁▃▄▄▅▅▆▆▆▆▇████</td></tr><tr><td>TN3K_val_IOU</td><td>▁▃▄▄▅▅▅▆▆▆▇▇███</td></tr><tr><td>TN3K_val_loss</td><td>█▆▅▅▄▄▃▃▃▃▂▁▁▁▁</td></tr><tr><td>epoch</td><td>▁▁▂▃▃▃▄▅▅▅▆▇▇▇█</td></tr><tr><td>train_DICE</td><td>▁▄▅▆▆▆▇▇▇▇█████</td></tr><tr><td>train_IOU</td><td>▁▄▄▅▆▆▆▇▇▇▇████</td></tr><tr><td>train_loss</td><td>█▅▄▄▃▃▃▂▂▂▂▁▁▁▁</td></tr><tr><td>val_DICE</td><td>▁▃▄▃▅▅▆▇▅▅▆████</td></tr><tr><td>val_IOU</td><td>▁▃▄▂▅▅▆▇▄▅▅▇▇██</td></tr><tr><td>val_loss</td><td>█▆▅▆▄▄▃▂▇▅▅▁▂▁▁</td></tr></table><br/></div><div class=\"wandb-col\"><h3>Run summary:</h3><br/><table class=\"wandb\"><tr><td>DDTI_val_DICE</td><td>0.6828</td></tr><tr><td>DDTI_val_IOU</td><td>0.54808</td></tr><tr><td>DDTI_val_loss</td><td>0.76675</td></tr><tr><td>Learning Rate</td><td>0</td></tr><tr><td>TN3K_val_DICE</td><td>0.88222</td></tr><tr><td>TN3K_val_IOU</td><td>0.77655</td></tr><tr><td>TN3K_val_loss</td><td>0.36581</td></tr><tr><td>epoch</td><td>14</td></tr><tr><td>train_DICE</td><td>0.9049</td></tr><tr><td>train_IOU</td><td>0.82004</td></tr><tr><td>train_loss</td><td>0.50507</td></tr><tr><td>val_DICE</td><td>0.79649</td></tr><tr><td>val_IOU</td><td>0.65963</td></tr><tr><td>val_loss</td><td>0.57045</td></tr></table><br/></div></div>"
      ],
      "text/plain": [
       "<IPython.core.display.HTML object>"
      ]
     },
     "metadata": {},
     "output_type": "display_data"
    },
    {
     "data": {
      "text/html": [
       " View run <strong style=\"color:#cdcd00\">PMFSNet_crop_DDTI_standardization_aug_affine(0.5)_lr_0.005_for_finetune</strong> at: <a href='https://wandb.ai/s960068sss-ucl/thyroid/runs/8h98ii7g' target=\"_blank\">https://wandb.ai/s960068sss-ucl/thyroid/runs/8h98ii7g</a><br> View project at: <a href='https://wandb.ai/s960068sss-ucl/thyroid' target=\"_blank\">https://wandb.ai/s960068sss-ucl/thyroid</a><br>Synced 5 W&B file(s), 0 media file(s), 0 artifact file(s) and 0 other file(s)"
      ],
      "text/plain": [
       "<IPython.core.display.HTML object>"
      ]
     },
     "metadata": {},
     "output_type": "display_data"
    },
    {
     "data": {
      "text/html": [
       "Find logs at: <code>.\\wandb\\run-20250513_002655-8h98ii7g\\logs</code>"
      ],
      "text/plain": [
       "<IPython.core.display.HTML object>"
      ]
     },
     "metadata": {},
     "output_type": "display_data"
    }
   ],
   "source": [
    "max_IOU = -1\n",
    "for epoch in range(epochs):\n",
    "    print(f\"epoch : {epoch}\")\n",
    "    total_loss_train, total_IOU_train, total_DICE_train = train(train_dataloader, model, optimizer, loss_fn_nodule, loss_fn_gland, \"cuda\")\n",
    "    print(f\"train loss : {total_loss_train}, train IOU : {total_IOU_train}, train DICE : {total_DICE_train}\")\n",
    "    total_loss_val, total_IOU_val, total_DICE_val, DDTI_total_loss_val, DDTI_total_IOU_val, DDTI_total_DICE_val, TN3K_total_loss_val, TN3K_total_IOU_val, TN3K_total_DICE_val = val(test_dataloader, model, loss_fn_nodule, loss_fn_gland, \"cuda\")\n",
    "    print(f\"val loss : {total_loss_val}, val IOU : {total_IOU_val}, val DICE : {total_DICE_val}\")\n",
    "    \n",
    "    scheduler.step()\n",
    "    current_lr = scheduler.get_last_lr()[0]\n",
    "\n",
    "\n",
    "\n",
    "    if max_IOU < total_IOU_val:\n",
    "        max_IOU = total_IOU_val\n",
    "        checkpoint = {\n",
    "            'epoch': epoch,\n",
    "            'model_state_dict': model.state_dict(),\n",
    "            'optimizer_state_dict': optimizer.state_dict(),\n",
    "            'scheduler_state_dict': scheduler.state_dict(),\n",
    "            \"IOU\" : total_IOU_val,\n",
    "            \"DICE\" : total_DICE_val,\n",
    "            \"loss\" : total_loss_val\n",
    "        }\n",
    "        folder = f\"models/{name}\"\n",
    "        if not os.path.exists(folder):\n",
    "            os.mkdir(folder)\n",
    "        torch.save(checkpoint, f\"models/{name}/best_checkpoint.pth\")\n",
    "\n",
    "    \n",
    "    wandb.log({\n",
    "        \"epoch\": epoch,\n",
    "        \"Learning Rate\":current_lr,\n",
    "        \n",
    "        \"train_loss\": total_loss_train,\n",
    "        \"train_IOU\": total_IOU_train,\n",
    "        \"train_DICE\": total_DICE_train,\n",
    "        \n",
    "        \"val_loss\": total_loss_val,\n",
    "        \"val_IOU\": total_IOU_val,\n",
    "        \"val_DICE\": total_DICE_val,\n",
    "\n",
    "        \"DDTI_val_loss\": DDTI_total_loss_val,\n",
    "        \"DDTI_val_IOU\": DDTI_total_IOU_val,\n",
    "        \"DDTI_val_DICE\": DDTI_total_DICE_val,\n",
    "\n",
    "        \"TN3K_val_loss\": TN3K_total_loss_val,\n",
    "        \"TN3K_val_IOU\": TN3K_total_IOU_val,\n",
    "        \"TN3K_val_DICE\": TN3K_total_DICE_val,\n",
    "        \n",
    "    })\n",
    "\n",
    "\n",
    "\n",
    "\n",
    "checkpoint = {\n",
    "    'epoch': epoch,\n",
    "    'model_state_dict': model.state_dict(),\n",
    "    'optimizer_state_dict': optimizer.state_dict(),\n",
    "    'scheduler_state_dict': scheduler.state_dict(),\n",
    "    \"IOU\" : total_IOU_val,\n",
    "    \"DICE\" : total_DICE_val,\n",
    "    \"loss\" : total_loss_val\n",
    "}\n",
    "if not os.path.exists(folder):\n",
    "    os.mkdir(folder)\n",
    "torch.save(checkpoint, f\"models/{name}/last_checkpoint.pth\")\n",
    "wandb.finish()"
   ]
  },
  {
   "cell_type": "code",
   "execution_count": 48,
   "id": "5d67100e-b724-4699-a866-2e90091b467c",
   "metadata": {},
   "outputs": [
    {
     "name": "stdout",
     "output_type": "stream",
     "text": [
      "0.6537312358617783\n"
     ]
    }
   ],
   "source": [
    "print(max_IOU)"
   ]
  },
  {
   "cell_type": "code",
   "execution_count": 49,
   "id": "c58a8697-c3e8-414c-9ed8-722bc4edf44d",
   "metadata": {},
   "outputs": [
    {
     "ename": "RuntimeError",
     "evalue": "Error(s) in loading state_dict for PMFSNet:\n\tsize mismatch for out_conv.conv.3.weight: copying a param with shape torch.Size([2, 60, 3, 3]) from checkpoint, the shape in current model is torch.Size([1, 60, 3, 3]).\n\tsize mismatch for out_conv.conv.3.bias: copying a param with shape torch.Size([2]) from checkpoint, the shape in current model is torch.Size([1]).",
     "output_type": "error",
     "traceback": [
      "\u001b[31m---------------------------------------------------------------------------\u001b[39m",
      "\u001b[31mRuntimeError\u001b[39m                              Traceback (most recent call last)",
      "\u001b[36mCell\u001b[39m\u001b[36m \u001b[39m\u001b[32mIn[49]\u001b[39m\u001b[32m, line 6\u001b[39m\n\u001b[32m      4\u001b[39m \u001b[38;5;66;03m# model = LightMed(in_channels = 1, out_channels = 1, image_size = image_size)\u001b[39;00m\n\u001b[32m      5\u001b[39m checkpoint = torch.load(\u001b[33mf\u001b[39m\u001b[33m\"\u001b[39m\u001b[33mmodels/\u001b[39m\u001b[38;5;132;01m{\u001b[39;00minference_name\u001b[38;5;132;01m}\u001b[39;00m\u001b[33m/last_checkpoint.pth\u001b[39m\u001b[33m\"\u001b[39m)\n\u001b[32m----> \u001b[39m\u001b[32m6\u001b[39m \u001b[43mmodel\u001b[49m\u001b[43m.\u001b[49m\u001b[43mload_state_dict\u001b[49m\u001b[43m(\u001b[49m\u001b[43mcheckpoint\u001b[49m\u001b[43m[\u001b[49m\u001b[33;43m'\u001b[39;49m\u001b[33;43mmodel_state_dict\u001b[39;49m\u001b[33;43m'\u001b[39;49m\u001b[43m]\u001b[49m\u001b[43m)\u001b[49m\n\u001b[32m      7\u001b[39m \u001b[38;5;66;03m# optimizer.load_state_dict(checkpoint['optimizer_state_dict'])\u001b[39;00m\n\u001b[32m      8\u001b[39m \u001b[38;5;66;03m# scheduler.load_state_dict(checkpoint['scheduler_state_dict'])\u001b[39;00m\n",
      "\u001b[36mFile \u001b[39m\u001b[32m~\\anaconda3\\envs\\thyroid\\Lib\\site-packages\\torch\\nn\\modules\\module.py:2593\u001b[39m, in \u001b[36mModule.load_state_dict\u001b[39m\u001b[34m(self, state_dict, strict, assign)\u001b[39m\n\u001b[32m   2585\u001b[39m         error_msgs.insert(\n\u001b[32m   2586\u001b[39m             \u001b[32m0\u001b[39m,\n\u001b[32m   2587\u001b[39m             \u001b[33m\"\u001b[39m\u001b[33mMissing key(s) in state_dict: \u001b[39m\u001b[38;5;132;01m{}\u001b[39;00m\u001b[33m. \u001b[39m\u001b[33m\"\u001b[39m.format(\n\u001b[32m   2588\u001b[39m                 \u001b[33m\"\u001b[39m\u001b[33m, \u001b[39m\u001b[33m\"\u001b[39m.join(\u001b[33mf\u001b[39m\u001b[33m'\u001b[39m\u001b[33m\"\u001b[39m\u001b[38;5;132;01m{\u001b[39;00mk\u001b[38;5;132;01m}\u001b[39;00m\u001b[33m\"\u001b[39m\u001b[33m'\u001b[39m \u001b[38;5;28;01mfor\u001b[39;00m k \u001b[38;5;129;01min\u001b[39;00m missing_keys)\n\u001b[32m   2589\u001b[39m             ),\n\u001b[32m   2590\u001b[39m         )\n\u001b[32m   2592\u001b[39m \u001b[38;5;28;01mif\u001b[39;00m \u001b[38;5;28mlen\u001b[39m(error_msgs) > \u001b[32m0\u001b[39m:\n\u001b[32m-> \u001b[39m\u001b[32m2593\u001b[39m     \u001b[38;5;28;01mraise\u001b[39;00m \u001b[38;5;167;01mRuntimeError\u001b[39;00m(\n\u001b[32m   2594\u001b[39m         \u001b[33m\"\u001b[39m\u001b[33mError(s) in loading state_dict for \u001b[39m\u001b[38;5;132;01m{}\u001b[39;00m\u001b[33m:\u001b[39m\u001b[38;5;130;01m\\n\u001b[39;00m\u001b[38;5;130;01m\\t\u001b[39;00m\u001b[38;5;132;01m{}\u001b[39;00m\u001b[33m\"\u001b[39m.format(\n\u001b[32m   2595\u001b[39m             \u001b[38;5;28mself\u001b[39m.\u001b[34m__class__\u001b[39m.\u001b[34m__name__\u001b[39m, \u001b[33m\"\u001b[39m\u001b[38;5;130;01m\\n\u001b[39;00m\u001b[38;5;130;01m\\t\u001b[39;00m\u001b[33m\"\u001b[39m.join(error_msgs)\n\u001b[32m   2596\u001b[39m         )\n\u001b[32m   2597\u001b[39m     )\n\u001b[32m   2598\u001b[39m \u001b[38;5;28;01mreturn\u001b[39;00m _IncompatibleKeys(missing_keys, unexpected_keys)\n",
      "\u001b[31mRuntimeError\u001b[39m: Error(s) in loading state_dict for PMFSNet:\n\tsize mismatch for out_conv.conv.3.weight: copying a param with shape torch.Size([2, 60, 3, 3]) from checkpoint, the shape in current model is torch.Size([1, 60, 3, 3]).\n\tsize mismatch for out_conv.conv.3.bias: copying a param with shape torch.Size([2]) from checkpoint, the shape in current model is torch.Size([1])."
     ]
    }
   ],
   "source": [
    "inference_name = \"PMFSNet_baseline\"\n",
    "# model = HarDMSEG(in_channels = 1)\n",
    "model = PMFSNet(in_channels = 1, out_channels = 1, dim = \"2d\")\n",
    "# model = LightMed(in_channels = 1, out_channels = 1, image_size = image_size)\n",
    "checkpoint = torch.load(f\"models/{inference_name}/last_checkpoint.pth\")\n",
    "model.load_state_dict(checkpoint['model_state_dict'])\n",
    "# optimizer.load_state_dict(checkpoint['optimizer_state_dict'])\n",
    "# scheduler.load_state_dict(checkpoint['scheduler_state_dict'])"
   ]
  },
  {
   "cell_type": "code",
   "execution_count": null,
   "id": "4e84c5aa-badd-4626-93f8-b4d23ee5afcf",
   "metadata": {},
   "outputs": [],
   "source": [
    "\n",
    "total_loss_val, total_IOU_val, total_DICE_val = val(test_dataloader, model, loss_fn, \"cuda\")\n",
    "print(f\"val loss : {total_loss_val}, val IOU : {total_IOU_val}, val DICE : {total_DICE_val}\")\n"
   ]
  },
  {
   "cell_type": "code",
   "execution_count": null,
   "id": "dafcd1cd-51e8-4895-8a6d-837234076860",
   "metadata": {
    "scrolled": true
   },
   "outputs": [],
   "source": [
    "DICE = 0\n",
    "# model.to(\"cuda\")\n",
    "model.eval()\n",
    "for image, mask in tqdm(test_dataloader):\n",
    "    image, mask = image, mask\n",
    "    preds = model(image)\n",
    "    DICE += (1 - dice_loss(preds, mask)).item()\n",
    "print(DICE/len(test_dataloader))"
   ]
  },
  {
   "cell_type": "code",
   "execution_count": null,
   "id": "a39cba45-1411-4e97-8f59-560e936c1602",
   "metadata": {
    "scrolled": true
   },
   "outputs": [],
   "source": [
    "index = 7\n",
    "plt.subplot(1,2,1)\n",
    "plt.imshow(preds[index][0])\n",
    "plt.subplot(1,2,2)\n",
    "plt.imshow(mask[index][0])"
   ]
  },
  {
   "cell_type": "code",
   "execution_count": null,
   "id": "f32ecdce-22c9-4a43-b389-c21d455fae5f",
   "metadata": {},
   "outputs": [],
   "source": [
    "dice_loss = DiceLoss()\n",
    "print(1 - dice_loss(preds, mask))"
   ]
  },
  {
   "cell_type": "code",
   "execution_count": null,
   "id": "a182cb39-4545-44db-940d-727076da0cce",
   "metadata": {},
   "outputs": [],
   "source": [
    "plt.imshow(mask[index][0])"
   ]
  },
  {
   "cell_type": "code",
   "execution_count": null,
   "id": "a070d2d6-8567-48af-a4db-2aa0f7bd4ed3",
   "metadata": {},
   "outputs": [],
   "source": []
  }
 ],
 "metadata": {
  "kernelspec": {
   "display_name": "thyroid",
   "language": "python",
   "name": "thyroid"
  },
  "language_info": {
   "codemirror_mode": {
    "name": "ipython",
    "version": 3
   },
   "file_extension": ".py",
   "mimetype": "text/x-python",
   "name": "python",
   "nbconvert_exporter": "python",
   "pygments_lexer": "ipython3",
   "version": "3.12.10"
  }
 },
 "nbformat": 4,
 "nbformat_minor": 5
}
