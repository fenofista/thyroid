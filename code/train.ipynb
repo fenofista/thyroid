{
 "cells": [
  {
   "cell_type": "code",
   "execution_count": 1,
   "id": "52551d1d-9446-4db5-8b82-a125baea80d7",
   "metadata": {},
   "outputs": [
    {
     "name": "stderr",
     "output_type": "stream",
     "text": [
      "/home/twszbak764/.local/lib/python3.12/site-packages/tqdm/auto.py:21: TqdmWarning: IProgress not found. Please update jupyter and ipywidgets. See https://ipywidgets.readthedocs.io/en/stable/user_install.html\n",
      "  from .autonotebook import tqdm as notebook_tqdm\n",
      "/home/twszbak764/.local/lib/python3.12/site-packages/timm/models/layers/__init__.py:48: FutureWarning: Importing from timm.models.layers is deprecated, please import via timm.layers\n",
      "  warnings.warn(f\"Importing from {__name__} is deprecated, please import via timm.layers\", FutureWarning)\n",
      "/home/twszbak764/.local/lib/python3.12/site-packages/timm/models/registry.py:4: FutureWarning: Importing from timm.models.registry is deprecated, please import via timm.models\n",
      "  warnings.warn(f\"Importing from {__name__} is deprecated, please import via timm.models\", FutureWarning)\n"
     ]
    }
   ],
   "source": [
    "import torch\n",
    "from torch.utils.data import Dataset, DataLoader\n",
    "import numpy as np\n",
    "from PIL import Image\n",
    "import os\n",
    "from torchvision import transforms\n",
    "import pandas as pd\n",
    "import matplotlib.pyplot as plt\n",
    "import torch.optim as optim\n",
    "from tqdm import tqdm\n",
    "import random\n",
    "import torch.nn as nn\n",
    "from dataset import Thyroid_Dataset\n",
    "from model import Eff_Unet\n",
    "from HarDMSEG import HarDMSEG\n",
    "from loss_metric import DiceLoss, IOU_score, StructureLoss\n",
    "from LightMed.model.LightMed import LightMed\n",
    "from PMFSNet.lib.models.PMFSNet import PMFSNet\n",
    "from PMFSNet.lib.models.PMFSNet_FFT import PMFSNet_FFT\n",
    "import torchvision.transforms.functional as F\n",
    "import torchvision.transforms as T\n",
    "import torchvision.transforms.functional as tx\n",
    "from torchvision.transforms import GaussianBlur\n",
    "# from hybrid_model_v1 import HybridSegModel\n",
    "from hybrid_model_v4 import HybridSegModel"
   ]
  },
  {
   "cell_type": "code",
   "execution_count": 2,
   "id": "248dde1d-68d5-4fa1-96f0-94c0408334e8",
   "metadata": {},
   "outputs": [],
   "source": [
    "def set_seed(seed):\n",
    "    random.seed(seed)\n",
    "    np.random.seed(seed)\n",
    "    os.environ['PYTHONHASHSEED'] = str(seed)\n",
    "    torch.manual_seed(seed)\n",
    "    torch.cuda.manual_seed(seed)\n",
    "    torch.cuda.manual_seed_all(seed)\n",
    "    torch.backends.cudnn.deterministic = True\n",
    "    torch.backends.cudnn.benchmark = False\n",
    "\n",
    "set_seed(42)"
   ]
  },
  {
   "cell_type": "code",
   "execution_count": 3,
   "id": "ef26125b-81d0-440a-89fc-ae66f35ffbd1",
   "metadata": {},
   "outputs": [
    {
     "name": "stderr",
     "output_type": "stream",
     "text": [
      "\u001b[34m\u001b[1mwandb\u001b[0m: \u001b[32m\u001b[41mERROR\u001b[0m Failed to detect the name of this notebook. You can set it manually with the WANDB_NOTEBOOK_NAME environment variable to enable code saving.\n",
      "\u001b[34m\u001b[1mwandb\u001b[0m: Currently logged in as: \u001b[33ms960068sss\u001b[0m (\u001b[33ms960068sss-ucl\u001b[0m) to \u001b[32mhttps://api.wandb.ai\u001b[0m. Use \u001b[1m`wandb login --relogin`\u001b[0m to force relogin\n"
     ]
    },
    {
     "data": {
      "text/plain": [
       "True"
      ]
     },
     "execution_count": 3,
     "metadata": {},
     "output_type": "execute_result"
    }
   ],
   "source": [
    "import wandb\n",
    "wandb.login()"
   ]
  },
  {
   "cell_type": "code",
   "execution_count": 16,
   "id": "a327316f-dc4a-4787-93c2-94866cec88ef",
   "metadata": {
    "scrolled": true
   },
   "outputs": [],
   "source": [
    "image_size = 128\n",
    "batch_size = 100\n",
    "def train_augmentation(image, mask, image_size):\n",
    "\n",
    "    p = 0.5\n",
    "    \n",
    "    resize = T.Resize((image_size, image_size))\n",
    "    image = resize(image)\n",
    "    mask = resize(mask)\n",
    "    \n",
    "    # if(random.random() < p):\n",
    "    #     jitter = T.ColorJitter(brightness=0.5)\n",
    "    #     image = jitter(image)\n",
    "    # if(random.random() < p):\n",
    "    #     angle = random.uniform(-10, 10)  # 旋轉角度從 ±10 度\n",
    "    #     translate = (random.uniform(-0.05, 0.05) * image.size[0],\n",
    "    #                  random.uniform(-0.05, 0.05) * image.size[1])  # 最多平移 ±5%\n",
    "    #     scale = random.uniform(0.95, 1.05)  # 尺度縮放 ±5%\n",
    "    #     shear = [random.uniform(-5, 5), random.uniform(-5, 5)]  # 小幅剪切\n",
    "    \n",
    "    #     image = F.affine(image, angle=angle, translate=translate, scale=scale, shear=shear)\n",
    "    #     mask = F.affine(mask, angle=angle, translate=translate, scale=scale, shear=shear)\n",
    "    # if random.random() < p:\n",
    "    #     image = F.hflip(image)\n",
    "    #     mask = F.hflip(mask)\n",
    "    # if(random.random() < p):\n",
    "    #     transform = T.GaussianBlur(kernel_size=3, sigma=(0.1, 2.0))\n",
    "    #     image = transform(image)  # image must be a PIL image\n",
    "    \n",
    "    image_tensor = tx.to_tensor(image)\n",
    "    mask_tensor = tx.to_tensor(mask)\n",
    "\n",
    "    # If standardization\n",
    "    mean = image_tensor.mean()\n",
    "    std = image_tensor.std()\n",
    "    std = std if std > 0 else 1.0  # avoid division by zero\n",
    "    image_tensor = (image_tensor - mean) / std\n",
    "    \n",
    "    return image_tensor, mask_tensor\n",
    "def test_augmentation(image, mask, image_size):\n",
    "    resize = T.Resize((image_size, image_size))\n",
    "    image = resize(image)\n",
    "    mask = resize(mask)\n",
    "\n",
    "    image_tensor = tx.to_tensor(image)\n",
    "    mask_tensor = tx.to_tensor(mask)\n",
    "\n",
    "    # If standardization\n",
    "    mean = image_tensor.mean()\n",
    "    std = image_tensor.std()\n",
    "    std = std if std > 0 else 1.0  # avoid division by zero\n",
    "    image_tensor = (image_tensor - mean) / std\n",
    "    return image_tensor, mask_tensor\n",
    "\n",
    "    \n",
    "train_dataset = Thyroid_Dataset(\"train_v2.csv\", transform = train_augmentation, image_size = image_size)\n",
    "train_dataloader = DataLoader(train_dataset, batch_size = batch_size, shuffle = True)\n",
    "\n",
    "test_dataset = Thyroid_Dataset(\"test_v2.csv\", transform = test_augmentation, image_size = image_size, return_from_dataset = True, crop_DDTI = True, histo_match = False)\n",
    "test_dataloader = DataLoader(test_dataset, batch_size = batch_size)\n",
    "\n",
    "image, mask, seg_type = next(iter(train_dataloader))\n",
    "image = image\n",
    "mask = mask"
   ]
  },
  {
   "cell_type": "code",
   "execution_count": 17,
   "id": "47edc937-3f17-4110-b4aa-c27f96849fba",
   "metadata": {
    "scrolled": true
   },
   "outputs": [
    {
     "name": "stdout",
     "output_type": "stream",
     "text": [
      "std :  tensor(1.0000)\n",
      "unique :  tensor([0., 1.])\n"
     ]
    }
   ],
   "source": [
    "print(\"std : \", torch.std(image))\n",
    "print(\"unique : \", torch.unique(mask))"
   ]
  },
  {
   "cell_type": "code",
   "execution_count": 18,
   "id": "1b81274e-b0ec-4908-ab13-a892eb8adddd",
   "metadata": {
    "scrolled": true
   },
   "outputs": [],
   "source": [
    "# index = 39\n",
    "# for index in range(5):\n",
    "#     # plt.subplot(1,2,1)\n",
    "#     # plt.imshow(mask[index][0], alpha = 0.3)\n",
    "#     plt.imshow(image[index][0])\n",
    "#     plt.imshow(mask[index][0], alpha = 0.3)\n",
    "    \n",
    "#     # plt.subplot(1,2,2)\n",
    "#     # plt.imshow(mask[index][0])\n",
    "#     plt.show()"
   ]
  },
  {
   "cell_type": "code",
   "execution_count": 19,
   "id": "d42205ed-9909-4f36-949f-4ed7244b006f",
   "metadata": {
    "scrolled": true
   },
   "outputs": [],
   "source": [
    "# model = Eff_Unet(\n",
    "#         layers=[5, 5, 15, 10],\n",
    "#         embed_dims=[40, 80, 192, 384],\n",
    "#         downsamples=[True, True, True, True],\n",
    "#         vit_num=6,\n",
    "#         drop_path_rate=0.1,\n",
    "#         num_classes=1,\n",
    "#         resolution = image_size).cuda()\n",
    "# model = HarDMSEG(in_channels = 1)\n",
    "# model = LightMed(in_channels = 1, out_channels = 1, image_size = image_size)\n",
    "# model = PMFSNet(in_channels = 1, out_channels = 2, dim = \"2d\")\n",
    "# model = PMFSNet_FFT(in_channels = 1, out_channels = 2, dim = \"2d\")\n",
    "# model = HybridSegModel(in_channels = 1, out_channels = 2, output_size = image_size, layers_num = 3)"
   ]
  },
  {
   "cell_type": "code",
   "execution_count": 20,
   "id": "9105c5e2-de65-4585-8f0e-c98e7048cdcc",
   "metadata": {},
   "outputs": [],
   "source": [
    "# loss_fn_nodule = StructureLoss()\n",
    "# loss_fn_gland = StructureLoss()"
   ]
  },
  {
   "cell_type": "code",
   "execution_count": 21,
   "id": "42b0ac90-a13a-4cd5-a0df-dd36e48534cc",
   "metadata": {
    "scrolled": true
   },
   "outputs": [],
   "source": [
    "# model.to(\"cuda\")\n",
    "# image = image.to(\"cuda\")\n",
    "# mask = mask.to(\"cuda\")"
   ]
  },
  {
   "cell_type": "code",
   "execution_count": 22,
   "id": "b7be29f2-eb47-4c1b-a2aa-f233277df2f4",
   "metadata": {},
   "outputs": [],
   "source": [
    "# optimizer = optim.Adam(model.parameters(), lr=0.001)"
   ]
  },
  {
   "cell_type": "code",
   "execution_count": 23,
   "id": "783c83b7-f098-43cc-b1e1-414e543eb63a",
   "metadata": {
    "scrolled": true
   },
   "outputs": [],
   "source": [
    "# for epoch in range(1000):\n",
    "#     outputs = model(image)\n",
    "\n",
    "#     nodule_output = outputs[:, 0:1, :, :][seg_type==1]\n",
    "#     nodule_mask = mask[seg_type==1]\n",
    "    \n",
    "#     gland_output = outputs[:, 1:2, :, :][seg_type==2]\n",
    "#     gland_mask = mask[seg_type==2]\n",
    "#     # outputs = torch.sigmoid(logits)\n",
    "#     # print(nodule_output.shape, nodule_mask.shape)\n",
    "#     nodule_loss = loss_fn_nodule(nodule_output, nodule_mask)\n",
    "#     gland_loss = loss_fn_gland(gland_output, gland_mask)\n",
    "    \n",
    "#     loss = nodule_loss + gland_loss\n",
    "    \n",
    "#     IOU = (IOU_score(nodule_output, nodule_mask) + IOU_score(gland_output, gland_mask)) / 2\n",
    "    \n",
    "#     dice_loss = DiceLoss()\n",
    "#     # print(dice_loss(nodule_output, nodule_mask))\n",
    "#     # print(dice_loss(gland_output, gland_mask)) \n",
    "#     DICE = ((1 - dice_loss(nodule_output, nodule_mask)) + (1 - dice_loss(gland_output, gland_mask))) / 2\n",
    "    \n",
    "#     # Backward and optimize\n",
    "#     optimizer.zero_grad()   # clear previous gradients\n",
    "#     loss.backward()         # compute gradients\n",
    "#     optimizer.step()        # update weights\n",
    "\n",
    "#     print(f\"Epoch {epoch+1}, Loss: {loss.item():.4f}, IOU: {IOU.item():.4f}, DICE: {DICE.item()}\")"
   ]
  },
  {
   "cell_type": "code",
   "execution_count": null,
   "id": "74ba9d28-3779-4cc2-b8b7-0f2e82e2b252",
   "metadata": {},
   "outputs": [],
   "source": []
  },
  {
   "cell_type": "code",
   "execution_count": 24,
   "id": "5786a0c4-28f4-4cbb-b78c-40ad76262db7",
   "metadata": {},
   "outputs": [],
   "source": [
    "# (1 - dice_loss(nodule_output, nodule_mask))"
   ]
  },
  {
   "cell_type": "code",
   "execution_count": 25,
   "id": "1b8b759a-8a5b-4e2a-99f6-2ae9169207dc",
   "metadata": {
    "scrolled": true
   },
   "outputs": [],
   "source": [
    "# index = 4\n",
    "# plt.subplot(1,2,1)\n",
    "# plt.imshow(nodule_mask[index][0].detach().cpu().numpy())\n",
    "# nodule_output = (nodule_output > 0.5)\n",
    "# plt.subplot(1,2,2)\n",
    "# plt.imshow(nodule_output[index][0].detach().cpu().numpy())"
   ]
  },
  {
   "cell_type": "code",
   "execution_count": 26,
   "id": "646519ad-45ad-42c0-98cc-4364c5cfefb2",
   "metadata": {},
   "outputs": [],
   "source": [
    "# index = 4\n",
    "# plt.subplot(1,2,1)\n",
    "# plt.imshow(gland_mask[index][0].detach().cpu().numpy())\n",
    "# gland_output = (gland_output > 0.5)\n",
    "# plt.subplot(1,2,2)\n",
    "# plt.imshow(gland_output[index][0].detach().cpu().numpy())"
   ]
  },
  {
   "cell_type": "code",
   "execution_count": null,
   "id": "7b9646be-a608-488d-849c-77cd4e212d1a",
   "metadata": {},
   "outputs": [],
   "source": []
  },
  {
   "cell_type": "code",
   "execution_count": null,
   "id": "fec4d7b8-7c40-40d2-a6a6-48d9d8b68db3",
   "metadata": {},
   "outputs": [],
   "source": []
  },
  {
   "cell_type": "code",
   "execution_count": 27,
   "id": "1d1d16cd-aa05-4c5e-9736-0cdbb02529a1",
   "metadata": {},
   "outputs": [],
   "source": [
    "def train(dataloader, model, optimizer, loss_fn_nodule, loss_fn_gland, device):\n",
    "    total_loss = 0\n",
    "    total_IOU = 0\n",
    "    total_DICE = 0\n",
    "    \n",
    "    model.train()\n",
    "    model.to(device)\n",
    "    count = 0\n",
    "    for image, mask, seg_type in tqdm(dataloader):\n",
    "        image, mask, seg_type = image.to(device), mask.to(device), seg_type.to(device)\n",
    "        outputs = model(image)\n",
    "\n",
    "        nodule_output = outputs[:, 0:1, :, :][seg_type==1]\n",
    "        nodule_mask = mask[seg_type==1]\n",
    "        \n",
    "        gland_output = outputs[:, 1:2, :, :][seg_type==2]\n",
    "        gland_mask = mask[seg_type==2]\n",
    "\n",
    "        nodule_loss = loss_fn_nodule(nodule_output, nodule_mask)\n",
    "        gland_loss = loss_fn_gland(gland_output, gland_mask)\n",
    "\n",
    "\n",
    "        \n",
    "        loss = nodule_loss + gland_loss\n",
    "        IOU = (IOU_score(nodule_output, nodule_mask) + IOU_score(gland_output, gland_mask)) / 2\n",
    "\n",
    "        dice_loss = DiceLoss()\n",
    "        DICE = ((1 - dice_loss(nodule_output, nodule_mask)) + (1 - dice_loss(gland_output, gland_mask))) / 2\n",
    "\n",
    "        \n",
    "        # Backward and optimize\n",
    "        optimizer.zero_grad()   # clear previous gradients\n",
    "        loss.backward()         # compute gradients\n",
    "        optimizer.step()        # update weights\n",
    "\n",
    "        total_loss += loss.item()\n",
    "        total_IOU += IOU.item()\n",
    "        total_DICE += DICE.item()\n",
    "        # count+=1\n",
    "        # if count==5:\n",
    "        #     break\n",
    "    return total_loss/len(dataloader), total_IOU/len(dataloader), total_DICE/len(dataloader)\n",
    "\n",
    "\n",
    "# \n",
    "# Only calculate nodule loss, IOU, DICE, because there is no gland data in the testing set\n",
    "def val(dataloader, model, loss_fn_nodule, loss_fn_gland, device):\n",
    "    total_loss = 0\n",
    "    DDTI_total_loss = 0\n",
    "    TN3K_total_loss = 0\n",
    "    \n",
    "    total_IOU = 0\n",
    "    DDTI_total_IOU = 0\n",
    "    TN3K_total_IOU = 0\n",
    "    \n",
    "    total_DICE = 0\n",
    "    DDTI_total_DICE = 0\n",
    "    TN3K_total_DICE = 0\n",
    "\n",
    "    model.eval()\n",
    "    model.to(device)\n",
    "    for image, mask, seg_type, from_dataset in tqdm(dataloader):\n",
    "        image, mask, seg_type = image.to(device), mask.to(device), seg_type.to(device)\n",
    "        outputs = model(image)\n",
    "        \n",
    "        nodule_output = outputs[:, 0:1, :, :][seg_type==1]\n",
    "        nodule_mask = mask[seg_type==1]\n",
    "\n",
    "\n",
    "        DDTI_nodule_output = nodule_output[from_dataset==1]\n",
    "        TN3K_nodule_output = nodule_output[from_dataset==3]\n",
    "\n",
    "        DDTI_nodule_mask = nodule_mask[from_dataset==1]\n",
    "        TN3K_nodule_mask = nodule_mask[from_dataset==3]\n",
    "        \n",
    "\n",
    "        nodule_loss = loss_fn_nodule(nodule_output, nodule_mask)\n",
    "        DDTI_nodule_loss = loss_fn_nodule(DDTI_nodule_output, DDTI_nodule_mask)\n",
    "        TN3K_nodule_loss = loss_fn_nodule(TN3K_nodule_output, TN3K_nodule_mask)\n",
    "        \n",
    "        IOU = IOU_score(nodule_output, nodule_mask)\n",
    "        DDTI_IOU = IOU_score(DDTI_nodule_output, DDTI_nodule_mask)\n",
    "        TN3K_IOU = IOU_score(TN3K_nodule_output, TN3K_nodule_mask)\n",
    "\n",
    "        dice_loss = DiceLoss()\n",
    "        DICE = 1 - dice_loss(nodule_output, nodule_mask)\n",
    "        DDTI_DICE = 1 - dice_loss(DDTI_nodule_output, DDTI_nodule_mask)\n",
    "        TN3K_DICE = 1 - dice_loss(TN3K_nodule_output, TN3K_nodule_mask)\n",
    "    \n",
    "\n",
    "        total_loss += nodule_loss.item()\n",
    "        DDTI_total_loss += DDTI_nodule_loss.item()\n",
    "        TN3K_total_loss += TN3K_nodule_loss.item()\n",
    "        \n",
    "        total_IOU += IOU.item()\n",
    "        DDTI_total_IOU += DDTI_IOU.item()\n",
    "        TN3K_total_IOU += TN3K_IOU.item()\n",
    "        \n",
    "        total_DICE += DICE.item()\n",
    "        DDTI_total_DICE += DDTI_DICE.item()\n",
    "        TN3K_total_DICE += TN3K_DICE.item()\n",
    "    return total_loss/len(dataloader), total_IOU/len(dataloader), total_DICE/len(dataloader), DDTI_total_loss/len(dataloader), DDTI_total_IOU/len(dataloader), DDTI_total_DICE/len(dataloader), TN3K_total_loss/len(dataloader), TN3K_total_IOU/len(dataloader), TN3K_total_DICE/len(dataloader), "
   ]
  },
  {
   "cell_type": "code",
   "execution_count": 28,
   "id": "338a9dc0-d323-490b-81c5-1853e70983d4",
   "metadata": {
    "scrolled": true
   },
   "outputs": [
    {
     "data": {
      "text/html": [
       "creating run (0.0s)"
      ],
      "text/plain": [
       "<IPython.core.display.HTML object>"
      ]
     },
     "metadata": {},
     "output_type": "display_data"
    },
    {
     "data": {
      "text/html": [
       "Tracking run with wandb version 0.19.11"
      ],
      "text/plain": [
       "<IPython.core.display.HTML object>"
      ]
     },
     "metadata": {},
     "output_type": "display_data"
    },
    {
     "data": {
      "text/html": [
       "Run data is saved locally in <code>/home/twszbak764/thyroid/code/wandb/run-20250517_152142-hh8mmtpv</code>"
      ],
      "text/plain": [
       "<IPython.core.display.HTML object>"
      ]
     },
     "metadata": {},
     "output_type": "display_data"
    },
    {
     "data": {
      "text/html": [
       "Syncing run <strong><a href='https://wandb.ai/s960068sss-ucl/thyroid_hybrid_model/runs/hh8mmtpv' target=\"_blank\">hybrid_v4_baseline</a></strong> to <a href='https://wandb.ai/s960068sss-ucl/thyroid_hybrid_model' target=\"_blank\">Weights & Biases</a> (<a href='https://wandb.me/developer-guide' target=\"_blank\">docs</a>)<br>"
      ],
      "text/plain": [
       "<IPython.core.display.HTML object>"
      ]
     },
     "metadata": {},
     "output_type": "display_data"
    },
    {
     "data": {
      "text/html": [
       " View project at <a href='https://wandb.ai/s960068sss-ucl/thyroid_hybrid_model' target=\"_blank\">https://wandb.ai/s960068sss-ucl/thyroid_hybrid_model</a>"
      ],
      "text/plain": [
       "<IPython.core.display.HTML object>"
      ]
     },
     "metadata": {},
     "output_type": "display_data"
    },
    {
     "data": {
      "text/html": [
       " View run at <a href='https://wandb.ai/s960068sss-ucl/thyroid_hybrid_model/runs/hh8mmtpv' target=\"_blank\">https://wandb.ai/s960068sss-ucl/thyroid_hybrid_model/runs/hh8mmtpv</a>"
      ],
      "text/plain": [
       "<IPython.core.display.HTML object>"
      ]
     },
     "metadata": {},
     "output_type": "display_data"
    },
    {
     "data": {
      "text/html": [
       "<button onClick=\"this.nextSibling.style.display='block';this.style.display='none';\">Display W&B run</button><iframe src='https://wandb.ai/s960068sss-ucl/thyroid_hybrid_model/runs/hh8mmtpv?jupyter=true' style='border:none;width:100%;height:420px;display:none;'></iframe>"
      ],
      "text/plain": [
       "<wandb.sdk.wandb_run.Run at 0x7f55f202b9e0>"
      ]
     },
     "execution_count": 28,
     "metadata": {},
     "output_type": "execute_result"
    }
   ],
   "source": [
    "epochs = 50\n",
    "lr = 0.001\n",
    "project = \"thyroid_hybrid_model\"\n",
    "# name=name=\"PMFSNet_crop_DDTI_standardization_aug_affine(0.5)_hflip(0.5)_lr_0.001\"\n",
    "# name = \"HarDnet_crop_DDTI_standardization_aug_affine(0.5)_lr_0.005\"\n",
    "# name = \"LightMed_crop_DDTI\"\n",
    "# name = \"test\"\n",
    "# name = \"HarDnetMSEG_baseline\"\n",
    "name = \"hybrid_v4_baseline\"\n",
    "wandb.init(\n",
    "    project = project,  # Project name in W&B\n",
    "    name = name,       # (optional) specific run name\n",
    "    config={                     # (optional) hyperparameters\n",
    "        \"image_size\": image_size,\n",
    "        \"learning_rate\": lr,\n",
    "        \"epochs\": epochs,\n",
    "        \"batch_size\": batch_size,\n",
    "        # \"weight_decay\":1e-4\n",
    "    }\n",
    ")"
   ]
  },
  {
   "cell_type": "code",
   "execution_count": 29,
   "id": "d28b5b3f-f5eb-4766-880e-c4b32c34a429",
   "metadata": {},
   "outputs": [],
   "source": [
    "# model = Eff_Unet(\n",
    "#         layers=[5, 5, 15, 10],\n",
    "#         embed_dims=[10, 20, 48, 96],\n",
    "#         # embed_dims=[40, 80, 192, 384],\n",
    "#         downsamples=[True, True, True, True],\n",
    "#         vit_num=6,\n",
    "#         drop_path_rate=0.1,\n",
    "#         num_classes=1,\n",
    "#         resolution = image_size).cuda()\n",
    "# model = HarDMSEG(in_channels = 1, out_channels = 2)\n",
    "# model = LightMed(in_channels = 1, out_channels = 2, image_size = image_size)\n",
    "# model = PMFSNet(in_channels = 1, out_channels = 2, dim = \"2d\")\n",
    "# model = PMFSNet_FFT(in_channels = 1, out_channels = 2, dim = \"2d\")\n",
    "model =  HybridSegModel(in_channels = 1, out_channels = 2, output_size = image_size, layers_num = 3)"
   ]
  },
  {
   "cell_type": "code",
   "execution_count": 30,
   "id": "17f78983-065b-4117-be49-342f079b8bc8",
   "metadata": {},
   "outputs": [
    {
     "name": "stdout",
     "output_type": "stream",
     "text": [
      "image size : 128, lr : 0.001, epochs : 50, batch size : 100, model : HybridSegModel(\n",
      "  (backbone): HarDNetBackbone(\n",
      "    (base_conv_1): ConvLayer(\n",
      "      (conv): Conv2d(1, 32, kernel_size=(3, 3), stride=(2, 2), padding=(1, 1), bias=False)\n",
      "      (norm): BatchNorm2d(32, eps=1e-05, momentum=0.1, affine=True, track_running_stats=True)\n",
      "      (relu): ReLU6(inplace=True)\n",
      "    )\n",
      "    (base_conv_2): ConvLayer(\n",
      "      (conv): Conv2d(32, 64, kernel_size=(3, 3), stride=(1, 1), padding=(1, 1), bias=False)\n",
      "      (norm): BatchNorm2d(64, eps=1e-05, momentum=0.1, affine=True, track_running_stats=True)\n",
      "      (relu): ReLU6(inplace=True)\n",
      "    )\n",
      "    (base_max_pool): MaxPool2d(kernel_size=3, stride=2, padding=1, dilation=1, ceil_mode=False)\n",
      "    (encoder_blocks): ModuleList(\n",
      "      (0): EncoderBlock(\n",
      "        (hardblock): HarDBlock(\n",
      "          (layers): ModuleList(\n",
      "            (0): ConvLayer(\n",
      "              (conv): Conv2d(64, 14, kernel_size=(3, 3), stride=(1, 1), padding=(1, 1), bias=False)\n",
      "              (norm): BatchNorm2d(14, eps=1e-05, momentum=0.1, affine=True, track_running_stats=True)\n",
      "              (relu): ReLU6(inplace=True)\n",
      "            )\n",
      "            (1): ConvLayer(\n",
      "              (conv): Conv2d(78, 24, kernel_size=(3, 3), stride=(1, 1), padding=(1, 1), bias=False)\n",
      "              (norm): BatchNorm2d(24, eps=1e-05, momentum=0.1, affine=True, track_running_stats=True)\n",
      "              (relu): ReLU6(inplace=True)\n",
      "            )\n",
      "            (2): ConvLayer(\n",
      "              (conv): Conv2d(24, 14, kernel_size=(3, 3), stride=(1, 1), padding=(1, 1), bias=False)\n",
      "              (norm): BatchNorm2d(14, eps=1e-05, momentum=0.1, affine=True, track_running_stats=True)\n",
      "              (relu): ReLU6(inplace=True)\n",
      "            )\n",
      "            (3): ConvLayer(\n",
      "              (conv): Conv2d(102, 40, kernel_size=(3, 3), stride=(1, 1), padding=(1, 1), bias=False)\n",
      "              (norm): BatchNorm2d(40, eps=1e-05, momentum=0.1, affine=True, track_running_stats=True)\n",
      "              (relu): ReLU6(inplace=True)\n",
      "            )\n",
      "            (4): ConvLayer(\n",
      "              (conv): Conv2d(40, 14, kernel_size=(3, 3), stride=(1, 1), padding=(1, 1), bias=False)\n",
      "              (norm): BatchNorm2d(14, eps=1e-05, momentum=0.1, affine=True, track_running_stats=True)\n",
      "              (relu): ReLU6(inplace=True)\n",
      "            )\n",
      "            (5): ConvLayer(\n",
      "              (conv): Conv2d(54, 24, kernel_size=(3, 3), stride=(1, 1), padding=(1, 1), bias=False)\n",
      "              (norm): BatchNorm2d(24, eps=1e-05, momentum=0.1, affine=True, track_running_stats=True)\n",
      "              (relu): ReLU6(inplace=True)\n",
      "            )\n",
      "            (6): ConvLayer(\n",
      "              (conv): Conv2d(24, 14, kernel_size=(3, 3), stride=(1, 1), padding=(1, 1), bias=False)\n",
      "              (norm): BatchNorm2d(14, eps=1e-05, momentum=0.1, affine=True, track_running_stats=True)\n",
      "              (relu): ReLU6(inplace=True)\n",
      "            )\n",
      "            (7): ConvLayer(\n",
      "              (conv): Conv2d(142, 68, kernel_size=(3, 3), stride=(1, 1), padding=(1, 1), bias=False)\n",
      "              (norm): BatchNorm2d(68, eps=1e-05, momentum=0.1, affine=True, track_running_stats=True)\n",
      "              (relu): ReLU6(inplace=True)\n",
      "            )\n",
      "          )\n",
      "        )\n",
      "        (conv): ConvLayer(\n",
      "          (conv): Conv2d(124, 128, kernel_size=(1, 1), stride=(1, 1), bias=False)\n",
      "          (norm): BatchNorm2d(128, eps=1e-05, momentum=0.1, affine=True, track_running_stats=True)\n",
      "          (relu): ReLU6(inplace=True)\n",
      "        )\n",
      "        (global_avg_pool): AdaptiveAvgPool2d(output_size=1)\n",
      "        (fc1): Linear(in_features=128, out_features=8, bias=True)\n",
      "        (relu): ReLU(inplace=True)\n",
      "        (fc2): Linear(in_features=8, out_features=128, bias=True)\n",
      "        (sigmoid): Sigmoid()\n",
      "      )\n",
      "      (1): EncoderBlock(\n",
      "        (hardblock): HarDBlock(\n",
      "          (layers): ModuleList(\n",
      "            (0): ConvLayer(\n",
      "              (conv): Conv2d(128, 16, kernel_size=(3, 3), stride=(1, 1), padding=(1, 1), bias=False)\n",
      "              (norm): BatchNorm2d(16, eps=1e-05, momentum=0.1, affine=True, track_running_stats=True)\n",
      "              (relu): ReLU6(inplace=True)\n",
      "            )\n",
      "            (1): ConvLayer(\n",
      "              (conv): Conv2d(144, 28, kernel_size=(3, 3), stride=(1, 1), padding=(1, 1), bias=False)\n",
      "              (norm): BatchNorm2d(28, eps=1e-05, momentum=0.1, affine=True, track_running_stats=True)\n",
      "              (relu): ReLU6(inplace=True)\n",
      "            )\n",
      "            (2): ConvLayer(\n",
      "              (conv): Conv2d(28, 16, kernel_size=(3, 3), stride=(1, 1), padding=(1, 1), bias=False)\n",
      "              (norm): BatchNorm2d(16, eps=1e-05, momentum=0.1, affine=True, track_running_stats=True)\n",
      "              (relu): ReLU6(inplace=True)\n",
      "            )\n",
      "            (3): ConvLayer(\n",
      "              (conv): Conv2d(172, 46, kernel_size=(3, 3), stride=(1, 1), padding=(1, 1), bias=False)\n",
      "              (norm): BatchNorm2d(46, eps=1e-05, momentum=0.1, affine=True, track_running_stats=True)\n",
      "              (relu): ReLU6(inplace=True)\n",
      "            )\n",
      "            (4): ConvLayer(\n",
      "              (conv): Conv2d(46, 16, kernel_size=(3, 3), stride=(1, 1), padding=(1, 1), bias=False)\n",
      "              (norm): BatchNorm2d(16, eps=1e-05, momentum=0.1, affine=True, track_running_stats=True)\n",
      "              (relu): ReLU6(inplace=True)\n",
      "            )\n",
      "            (5): ConvLayer(\n",
      "              (conv): Conv2d(62, 28, kernel_size=(3, 3), stride=(1, 1), padding=(1, 1), bias=False)\n",
      "              (norm): BatchNorm2d(28, eps=1e-05, momentum=0.1, affine=True, track_running_stats=True)\n",
      "              (relu): ReLU6(inplace=True)\n",
      "            )\n",
      "            (6): ConvLayer(\n",
      "              (conv): Conv2d(28, 16, kernel_size=(3, 3), stride=(1, 1), padding=(1, 1), bias=False)\n",
      "              (norm): BatchNorm2d(16, eps=1e-05, momentum=0.1, affine=True, track_running_stats=True)\n",
      "              (relu): ReLU6(inplace=True)\n",
      "            )\n",
      "            (7): ConvLayer(\n",
      "              (conv): Conv2d(218, 78, kernel_size=(3, 3), stride=(1, 1), padding=(1, 1), bias=False)\n",
      "              (norm): BatchNorm2d(78, eps=1e-05, momentum=0.1, affine=True, track_running_stats=True)\n",
      "              (relu): ReLU6(inplace=True)\n",
      "            )\n",
      "            (8): ConvLayer(\n",
      "              (conv): Conv2d(78, 16, kernel_size=(3, 3), stride=(1, 1), padding=(1, 1), bias=False)\n",
      "              (norm): BatchNorm2d(16, eps=1e-05, momentum=0.1, affine=True, track_running_stats=True)\n",
      "              (relu): ReLU6(inplace=True)\n",
      "            )\n",
      "            (9): ConvLayer(\n",
      "              (conv): Conv2d(94, 28, kernel_size=(3, 3), stride=(1, 1), padding=(1, 1), bias=False)\n",
      "              (norm): BatchNorm2d(28, eps=1e-05, momentum=0.1, affine=True, track_running_stats=True)\n",
      "              (relu): ReLU6(inplace=True)\n",
      "            )\n",
      "            (10): ConvLayer(\n",
      "              (conv): Conv2d(28, 16, kernel_size=(3, 3), stride=(1, 1), padding=(1, 1), bias=False)\n",
      "              (norm): BatchNorm2d(16, eps=1e-05, momentum=0.1, affine=True, track_running_stats=True)\n",
      "              (relu): ReLU6(inplace=True)\n",
      "            )\n",
      "            (11): ConvLayer(\n",
      "              (conv): Conv2d(122, 46, kernel_size=(3, 3), stride=(1, 1), padding=(1, 1), bias=False)\n",
      "              (norm): BatchNorm2d(46, eps=1e-05, momentum=0.1, affine=True, track_running_stats=True)\n",
      "              (relu): ReLU6(inplace=True)\n",
      "            )\n",
      "            (12): ConvLayer(\n",
      "              (conv): Conv2d(46, 16, kernel_size=(3, 3), stride=(1, 1), padding=(1, 1), bias=False)\n",
      "              (norm): BatchNorm2d(16, eps=1e-05, momentum=0.1, affine=True, track_running_stats=True)\n",
      "              (relu): ReLU6(inplace=True)\n",
      "            )\n",
      "            (13): ConvLayer(\n",
      "              (conv): Conv2d(62, 28, kernel_size=(3, 3), stride=(1, 1), padding=(1, 1), bias=False)\n",
      "              (norm): BatchNorm2d(28, eps=1e-05, momentum=0.1, affine=True, track_running_stats=True)\n",
      "              (relu): ReLU6(inplace=True)\n",
      "            )\n",
      "            (14): ConvLayer(\n",
      "              (conv): Conv2d(28, 16, kernel_size=(3, 3), stride=(1, 1), padding=(1, 1), bias=False)\n",
      "              (norm): BatchNorm2d(16, eps=1e-05, momentum=0.1, affine=True, track_running_stats=True)\n",
      "              (relu): ReLU6(inplace=True)\n",
      "            )\n",
      "            (15): ConvLayer(\n",
      "              (conv): Conv2d(296, 134, kernel_size=(3, 3), stride=(1, 1), padding=(1, 1), bias=False)\n",
      "              (norm): BatchNorm2d(134, eps=1e-05, momentum=0.1, affine=True, track_running_stats=True)\n",
      "              (relu): ReLU6(inplace=True)\n",
      "            )\n",
      "          )\n",
      "        )\n",
      "        (conv): ConvLayer(\n",
      "          (conv): Conv2d(262, 256, kernel_size=(1, 1), stride=(1, 1), bias=False)\n",
      "          (norm): BatchNorm2d(256, eps=1e-05, momentum=0.1, affine=True, track_running_stats=True)\n",
      "          (relu): ReLU6(inplace=True)\n",
      "        )\n",
      "        (global_avg_pool): AdaptiveAvgPool2d(output_size=1)\n",
      "        (fc1): Linear(in_features=256, out_features=16, bias=True)\n",
      "        (relu): ReLU(inplace=True)\n",
      "        (fc2): Linear(in_features=16, out_features=256, bias=True)\n",
      "        (sigmoid): Sigmoid()\n",
      "      )\n",
      "      (2): EncoderBlock(\n",
      "        (hardblock): HarDBlock(\n",
      "          (layers): ModuleList(\n",
      "            (0): ConvLayer(\n",
      "              (conv): Conv2d(256, 20, kernel_size=(3, 3), stride=(1, 1), padding=(1, 1), bias=False)\n",
      "              (norm): BatchNorm2d(20, eps=1e-05, momentum=0.1, affine=True, track_running_stats=True)\n",
      "              (relu): ReLU6(inplace=True)\n",
      "            )\n",
      "            (1): ConvLayer(\n",
      "              (conv): Conv2d(276, 34, kernel_size=(3, 3), stride=(1, 1), padding=(1, 1), bias=False)\n",
      "              (norm): BatchNorm2d(34, eps=1e-05, momentum=0.1, affine=True, track_running_stats=True)\n",
      "              (relu): ReLU6(inplace=True)\n",
      "            )\n",
      "            (2): ConvLayer(\n",
      "              (conv): Conv2d(34, 20, kernel_size=(3, 3), stride=(1, 1), padding=(1, 1), bias=False)\n",
      "              (norm): BatchNorm2d(20, eps=1e-05, momentum=0.1, affine=True, track_running_stats=True)\n",
      "              (relu): ReLU6(inplace=True)\n",
      "            )\n",
      "            (3): ConvLayer(\n",
      "              (conv): Conv2d(310, 58, kernel_size=(3, 3), stride=(1, 1), padding=(1, 1), bias=False)\n",
      "              (norm): BatchNorm2d(58, eps=1e-05, momentum=0.1, affine=True, track_running_stats=True)\n",
      "              (relu): ReLU6(inplace=True)\n",
      "            )\n",
      "            (4): ConvLayer(\n",
      "              (conv): Conv2d(58, 20, kernel_size=(3, 3), stride=(1, 1), padding=(1, 1), bias=False)\n",
      "              (norm): BatchNorm2d(20, eps=1e-05, momentum=0.1, affine=True, track_running_stats=True)\n",
      "              (relu): ReLU6(inplace=True)\n",
      "            )\n",
      "            (5): ConvLayer(\n",
      "              (conv): Conv2d(78, 34, kernel_size=(3, 3), stride=(1, 1), padding=(1, 1), bias=False)\n",
      "              (norm): BatchNorm2d(34, eps=1e-05, momentum=0.1, affine=True, track_running_stats=True)\n",
      "              (relu): ReLU6(inplace=True)\n",
      "            )\n",
      "            (6): ConvLayer(\n",
      "              (conv): Conv2d(34, 20, kernel_size=(3, 3), stride=(1, 1), padding=(1, 1), bias=False)\n",
      "              (norm): BatchNorm2d(20, eps=1e-05, momentum=0.1, affine=True, track_running_stats=True)\n",
      "              (relu): ReLU6(inplace=True)\n",
      "            )\n",
      "            (7): ConvLayer(\n",
      "              (conv): Conv2d(368, 98, kernel_size=(3, 3), stride=(1, 1), padding=(1, 1), bias=False)\n",
      "              (norm): BatchNorm2d(98, eps=1e-05, momentum=0.1, affine=True, track_running_stats=True)\n",
      "              (relu): ReLU6(inplace=True)\n",
      "            )\n",
      "            (8): ConvLayer(\n",
      "              (conv): Conv2d(98, 20, kernel_size=(3, 3), stride=(1, 1), padding=(1, 1), bias=False)\n",
      "              (norm): BatchNorm2d(20, eps=1e-05, momentum=0.1, affine=True, track_running_stats=True)\n",
      "              (relu): ReLU6(inplace=True)\n",
      "            )\n",
      "            (9): ConvLayer(\n",
      "              (conv): Conv2d(118, 34, kernel_size=(3, 3), stride=(1, 1), padding=(1, 1), bias=False)\n",
      "              (norm): BatchNorm2d(34, eps=1e-05, momentum=0.1, affine=True, track_running_stats=True)\n",
      "              (relu): ReLU6(inplace=True)\n",
      "            )\n",
      "            (10): ConvLayer(\n",
      "              (conv): Conv2d(34, 20, kernel_size=(3, 3), stride=(1, 1), padding=(1, 1), bias=False)\n",
      "              (norm): BatchNorm2d(20, eps=1e-05, momentum=0.1, affine=True, track_running_stats=True)\n",
      "              (relu): ReLU6(inplace=True)\n",
      "            )\n",
      "            (11): ConvLayer(\n",
      "              (conv): Conv2d(152, 58, kernel_size=(3, 3), stride=(1, 1), padding=(1, 1), bias=False)\n",
      "              (norm): BatchNorm2d(58, eps=1e-05, momentum=0.1, affine=True, track_running_stats=True)\n",
      "              (relu): ReLU6(inplace=True)\n",
      "            )\n",
      "            (12): ConvLayer(\n",
      "              (conv): Conv2d(58, 20, kernel_size=(3, 3), stride=(1, 1), padding=(1, 1), bias=False)\n",
      "              (norm): BatchNorm2d(20, eps=1e-05, momentum=0.1, affine=True, track_running_stats=True)\n",
      "              (relu): ReLU6(inplace=True)\n",
      "            )\n",
      "            (13): ConvLayer(\n",
      "              (conv): Conv2d(78, 34, kernel_size=(3, 3), stride=(1, 1), padding=(1, 1), bias=False)\n",
      "              (norm): BatchNorm2d(34, eps=1e-05, momentum=0.1, affine=True, track_running_stats=True)\n",
      "              (relu): ReLU6(inplace=True)\n",
      "            )\n",
      "            (14): ConvLayer(\n",
      "              (conv): Conv2d(34, 20, kernel_size=(3, 3), stride=(1, 1), padding=(1, 1), bias=False)\n",
      "              (norm): BatchNorm2d(20, eps=1e-05, momentum=0.1, affine=True, track_running_stats=True)\n",
      "              (relu): ReLU6(inplace=True)\n",
      "            )\n",
      "            (15): ConvLayer(\n",
      "              (conv): Conv2d(466, 168, kernel_size=(3, 3), stride=(1, 1), padding=(1, 1), bias=False)\n",
      "              (norm): BatchNorm2d(168, eps=1e-05, momentum=0.1, affine=True, track_running_stats=True)\n",
      "              (relu): ReLU6(inplace=True)\n",
      "            )\n",
      "          )\n",
      "        )\n",
      "        (conv): ConvLayer(\n",
      "          (conv): Conv2d(328, 320, kernel_size=(1, 1), stride=(1, 1), bias=False)\n",
      "          (norm): BatchNorm2d(320, eps=1e-05, momentum=0.1, affine=True, track_running_stats=True)\n",
      "          (relu): ReLU6(inplace=True)\n",
      "        )\n",
      "        (global_avg_pool): AdaptiveAvgPool2d(output_size=1)\n",
      "        (fc1): Linear(in_features=320, out_features=20, bias=True)\n",
      "        (relu): ReLU(inplace=True)\n",
      "        (fc2): Linear(in_features=20, out_features=320, bias=True)\n",
      "        (sigmoid): Sigmoid()\n",
      "      )\n",
      "    )\n",
      "    (encoder_pools): ModuleList(\n",
      "      (0-2): 3 x MaxPool2d(kernel_size=2, stride=2, padding=0, dilation=1, ceil_mode=False)\n",
      "    )\n",
      "  )\n",
      "  (pmfs): PMFS(\n",
      "    (amff): AMFF(\n",
      "      (max_pools): ModuleList(\n",
      "        (0-3): 4 x AdaptiveMaxPool2d(output_size=(20, 20))\n",
      "      )\n",
      "      (conv): ModuleList(\n",
      "        (0): Conv2d(64, 12, kernel_size=(3, 3), stride=(1, 1), padding=(1, 1))\n",
      "        (1): Conv2d(128, 12, kernel_size=(3, 3), stride=(1, 1), padding=(1, 1))\n",
      "        (2): Conv2d(256, 12, kernel_size=(3, 3), stride=(1, 1), padding=(1, 1))\n",
      "        (3): Conv2d(320, 12, kernel_size=(3, 3), stride=(1, 1), padding=(1, 1))\n",
      "      )\n",
      "    )\n",
      "    (pmcs): PMCS(\n",
      "      (query_conv): Conv2d(48, 48, kernel_size=(1, 1), stride=(1, 1))\n",
      "      (key_conv): Conv2d(48, 1, kernel_size=(1, 1), stride=(1, 1))\n",
      "      (value_conv): Conv2d(48, 48, kernel_size=(1, 1), stride=(1, 1))\n",
      "      (out_conv): Conv2d(48, 48, kernel_size=(1, 1), stride=(1, 1))\n",
      "      (norm): LayerNorm((48,), eps=1e-05, elementwise_affine=True)\n",
      "      (sigmoid): Sigmoid()\n",
      "    )\n",
      "    (pmss): PMSS(\n",
      "      (query_conv): Conv2d(48, 48, kernel_size=(1, 1), stride=(1, 1))\n",
      "      (key_conv): Conv2d(48, 48, kernel_size=(1, 1), stride=(1, 1))\n",
      "      (value_conv): Conv2d(48, 192, kernel_size=(1, 1), stride=(1, 1))\n",
      "      (output_conv): Conv2d(192, 48, kernel_size=(1, 1), stride=(1, 1))\n",
      "      (sigmoid): Sigmoid()\n",
      "    )\n",
      "  )\n",
      "  (decoder): Decoder(\n",
      "    (all_ups): ModuleList(\n",
      "      (0): ConvTranspose2d(48, 16, kernel_size=(2, 2), stride=(2, 2))\n",
      "      (1): ConvTranspose2d(16, 8, kernel_size=(2, 2), stride=(2, 2))\n",
      "    )\n",
      "    (all_convs): ModuleList(\n",
      "      (0): Sequential(\n",
      "        (0): Conv2d(16, 16, kernel_size=(3, 3), stride=(1, 1), padding=(1, 1))\n",
      "        (1): ReLU(inplace=True)\n",
      "      )\n",
      "      (1): Sequential(\n",
      "        (0): Conv2d(8, 8, kernel_size=(3, 3), stride=(1, 1), padding=(1, 1))\n",
      "        (1): ReLU(inplace=True)\n",
      "      )\n",
      "    )\n",
      "    (ups): ModuleList(\n",
      "      (0): ConvTranspose2d(48, 16, kernel_size=(2, 2), stride=(2, 2))\n",
      "      (1): ConvTranspose2d(16, 8, kernel_size=(2, 2), stride=(2, 2))\n",
      "    )\n",
      "    (convs): ModuleList(\n",
      "      (0): Sequential(\n",
      "        (0): Conv2d(16, 16, kernel_size=(3, 3), stride=(1, 1), padding=(1, 1))\n",
      "        (1): ReLU(inplace=True)\n",
      "      )\n",
      "      (1): Sequential(\n",
      "        (0): Conv2d(8, 8, kernel_size=(3, 3), stride=(1, 1), padding=(1, 1))\n",
      "        (1): ReLU(inplace=True)\n",
      "      )\n",
      "    )\n",
      "    (out_conv): Conv2d(8, 32, kernel_size=(1, 1), stride=(1, 1))\n",
      "  )\n",
      "  (upsample_list): ModuleList(\n",
      "    (0): UpsampleConvBlock(\n",
      "      (conv): ConvLayer(\n",
      "        (conv): Conv2d(64, 32, kernel_size=(3, 3), stride=(1, 1), padding=(1, 1), bias=False)\n",
      "        (norm): BatchNorm2d(32, eps=1e-05, momentum=0.1, affine=True, track_running_stats=True)\n",
      "        (relu): ReLU6(inplace=True)\n",
      "      )\n",
      "    )\n",
      "    (1): UpsampleConvBlock(\n",
      "      (conv): ConvLayer(\n",
      "        (conv): Conv2d(128, 32, kernel_size=(3, 3), stride=(1, 1), padding=(1, 1), bias=False)\n",
      "        (norm): BatchNorm2d(32, eps=1e-05, momentum=0.1, affine=True, track_running_stats=True)\n",
      "        (relu): ReLU6(inplace=True)\n",
      "      )\n",
      "    )\n",
      "    (2): UpsampleConvBlock(\n",
      "      (conv): ConvLayer(\n",
      "        (conv): Conv2d(256, 32, kernel_size=(3, 3), stride=(1, 1), padding=(1, 1), bias=False)\n",
      "        (norm): BatchNorm2d(32, eps=1e-05, momentum=0.1, affine=True, track_running_stats=True)\n",
      "        (relu): ReLU6(inplace=True)\n",
      "      )\n",
      "    )\n",
      "    (3): UpsampleConvBlock(\n",
      "      (conv): ConvLayer(\n",
      "        (conv): Conv2d(320, 32, kernel_size=(3, 3), stride=(1, 1), padding=(1, 1), bias=False)\n",
      "        (norm): BatchNorm2d(32, eps=1e-05, momentum=0.1, affine=True, track_running_stats=True)\n",
      "        (relu): ReLU6(inplace=True)\n",
      "      )\n",
      "    )\n",
      "    (4): UpsampleConvBlock(\n",
      "      (conv): ConvLayer(\n",
      "        (conv): Conv2d(640, 32, kernel_size=(3, 3), stride=(1, 1), padding=(1, 1), bias=False)\n",
      "        (norm): BatchNorm2d(32, eps=1e-05, momentum=0.1, affine=True, track_running_stats=True)\n",
      "        (relu): ReLU6(inplace=True)\n",
      "      )\n",
      "    )\n",
      "    (5): UpsampleConvBlock(\n",
      "      (conv): ConvLayer(\n",
      "        (conv): Conv2d(1024, 32, kernel_size=(3, 3), stride=(1, 1), padding=(1, 1), bias=False)\n",
      "        (norm): BatchNorm2d(32, eps=1e-05, momentum=0.1, affine=True, track_running_stats=True)\n",
      "        (relu): ReLU6(inplace=True)\n",
      "      )\n",
      "    )\n",
      "  )\n",
      "  (final_conv): Conv2d(128, 2, kernel_size=(1, 1), stride=(1, 1))\n",
      ")\n"
     ]
    }
   ],
   "source": [
    "print(f\"image size : {image_size}, lr : {lr}, epochs : {epochs}, batch size : {batch_size}, model : {model}\")"
   ]
  },
  {
   "cell_type": "markdown",
   "id": "b9193833-aa7f-44d9-b6f2-0eb7d28f9e9f",
   "metadata": {},
   "source": [
    "### If using pretrained model"
   ]
  },
  {
   "cell_type": "code",
   "execution_count": 31,
   "id": "874fb586-4f2a-4bd2-bd18-00f94f31feef",
   "metadata": {},
   "outputs": [],
   "source": [
    "# pretrained_name = \"PMFSNet_baseline\"\n",
    "# # model = HarDMSEG(in_channels = 1)\n",
    "# model = PMFSNet(in_channels = 1, out_channels = 1, dim = \"2d\")\n",
    "# # model = LightMed(in_channels = 1, out_channels = 1, image_size = image_size)\n",
    "# checkpoint = torch.load(f\"models/{pretrained_name}/best_checkpoint.pth\")\n",
    "# model.load_state_dict(checkpoint['model_state_dict'])"
   ]
  },
  {
   "cell_type": "code",
   "execution_count": 32,
   "id": "39874c9f-ddfc-439b-abfa-f50b620f314a",
   "metadata": {},
   "outputs": [],
   "source": [
    "# loss_fn = DiceLoss()\n",
    "loss_fn_nodule = StructureLoss()\n",
    "loss_fn_gland = StructureLoss()\n",
    "optimizer = optim.Adam(model.parameters(), lr=lr)\n",
    "scheduler = optim.lr_scheduler.CosineAnnealingLR(optimizer, T_max=epochs)"
   ]
  },
  {
   "cell_type": "code",
   "execution_count": 33,
   "id": "59c88d21-6f83-4dc4-9b30-27b058360611",
   "metadata": {
    "scrolled": true
   },
   "outputs": [
    {
     "name": "stdout",
     "output_type": "stream",
     "text": [
      "epoch : 0\n"
     ]
    },
    {
     "name": "stderr",
     "output_type": "stream",
     "text": [
      "/home/twszbak764/miniconda3/envs/thyroid/lib/python3.12/site-packages/torch/nn/_reduction.py:51: UserWarning: size_average and reduce args will be deprecated, please use reduction='mean' instead.\n",
      "  warnings.warn(warning.format(ret))\n",
      "100%|██████████| 65/65 [02:17<00:00,  2.12s/it]\n"
     ]
    },
    {
     "name": "stdout",
     "output_type": "stream",
     "text": [
      "train loss : 1.5676540576494657, train IOU : 0.49147199598642494, train DICE : 0.5858914586213919\n"
     ]
    },
    {
     "name": "stderr",
     "output_type": "stream",
     "text": [
      "100%|██████████| 13/13 [00:11<00:00,  1.11it/s]\n"
     ]
    },
    {
     "name": "stdout",
     "output_type": "stream",
     "text": [
      "val loss : 0.9443813516543462, val IOU : 0.4258478283882141, val DICE : 0.5914853857113764\n",
      "epoch : 1\n"
     ]
    },
    {
     "name": "stderr",
     "output_type": "stream",
     "text": [
      "100%|██████████| 65/65 [00:27<00:00,  2.33it/s]\n"
     ]
    },
    {
     "name": "stdout",
     "output_type": "stream",
     "text": [
      "train loss : 1.040482603586637, train IOU : 0.6263256219717173, train DICE : 0.7678200813440176\n"
     ]
    },
    {
     "name": "stderr",
     "output_type": "stream",
     "text": [
      "100%|██████████| 13/13 [00:03<00:00,  4.13it/s]\n"
     ]
    },
    {
     "name": "stdout",
     "output_type": "stream",
     "text": [
      "val loss : 0.831899092747615, val IOU : 0.4658553348137782, val DICE : 0.6338094151937045\n",
      "epoch : 2\n"
     ]
    },
    {
     "name": "stderr",
     "output_type": "stream",
     "text": [
      "100%|██████████| 65/65 [00:27<00:00,  2.32it/s]\n"
     ]
    },
    {
     "name": "stdout",
     "output_type": "stream",
     "text": [
      "train loss : 0.9184813701189481, train IOU : 0.6693175123288081, train DICE : 0.8018625635367174\n"
     ]
    },
    {
     "name": "stderr",
     "output_type": "stream",
     "text": [
      "100%|██████████| 13/13 [00:03<00:00,  4.12it/s]\n"
     ]
    },
    {
     "name": "stdout",
     "output_type": "stream",
     "text": [
      "val loss : 0.7855929686472967, val IOU : 0.5007804517562573, val DICE : 0.6739070277947646\n",
      "epoch : 3\n"
     ]
    },
    {
     "name": "stderr",
     "output_type": "stream",
     "text": [
      "100%|██████████| 65/65 [00:27<00:00,  2.32it/s]\n"
     ]
    },
    {
     "name": "stdout",
     "output_type": "stream",
     "text": [
      "train loss : 0.8563471234761751, train IOU : 0.6926214108100304, train DICE : 0.8168062109213609\n"
     ]
    },
    {
     "name": "stderr",
     "output_type": "stream",
     "text": [
      "100%|██████████| 13/13 [00:03<00:00,  4.15it/s]\n"
     ]
    },
    {
     "name": "stdout",
     "output_type": "stream",
     "text": [
      "val loss : 0.8484527560380789, val IOU : 0.47213626366395217, val DICE : 0.6512032151222229\n",
      "epoch : 4\n"
     ]
    },
    {
     "name": "stderr",
     "output_type": "stream",
     "text": [
      "100%|██████████| 65/65 [00:27<00:00,  2.33it/s]\n"
     ]
    },
    {
     "name": "stdout",
     "output_type": "stream",
     "text": [
      "train loss : 0.7891300265605633, train IOU : 0.716511686031635, train DICE : 0.8353043932181138\n"
     ]
    },
    {
     "name": "stderr",
     "output_type": "stream",
     "text": [
      "100%|██████████| 13/13 [00:03<00:00,  4.14it/s]\n"
     ]
    },
    {
     "name": "stdout",
     "output_type": "stream",
     "text": [
      "val loss : 0.8702697983154883, val IOU : 0.4597056187116183, val DICE : 0.64989900130492\n",
      "epoch : 5\n"
     ]
    },
    {
     "name": "stderr",
     "output_type": "stream",
     "text": [
      "100%|██████████| 65/65 [00:27<00:00,  2.33it/s]\n"
     ]
    },
    {
     "name": "stdout",
     "output_type": "stream",
     "text": [
      "train loss : 0.7342162966728211, train IOU : 0.7364094284864572, train DICE : 0.8489457203791692\n"
     ]
    },
    {
     "name": "stderr",
     "output_type": "stream",
     "text": [
      "100%|██████████| 13/13 [00:03<00:00,  4.16it/s]\n"
     ]
    },
    {
     "name": "stdout",
     "output_type": "stream",
     "text": [
      "val loss : 0.6912888059249291, val IOU : 0.5644152072759775, val DICE : 0.7289770520650424\n",
      "epoch : 6\n"
     ]
    },
    {
     "name": "stderr",
     "output_type": "stream",
     "text": [
      "100%|██████████| 65/65 [00:27<00:00,  2.32it/s]\n"
     ]
    },
    {
     "name": "stdout",
     "output_type": "stream",
     "text": [
      "train loss : 0.7033137596570529, train IOU : 0.7476504335036644, train DICE : 0.8570861999805157\n"
     ]
    },
    {
     "name": "stderr",
     "output_type": "stream",
     "text": [
      "100%|██████████| 13/13 [00:03<00:00,  4.14it/s]\n"
     ]
    },
    {
     "name": "stdout",
     "output_type": "stream",
     "text": [
      "val loss : 0.7574362479723417, val IOU : 0.5481427724544818, val DICE : 0.7053376252834613\n",
      "epoch : 7\n"
     ]
    },
    {
     "name": "stderr",
     "output_type": "stream",
     "text": [
      "100%|██████████| 65/65 [00:27<00:00,  2.33it/s]\n"
     ]
    },
    {
     "name": "stdout",
     "output_type": "stream",
     "text": [
      "train loss : 0.6719483458078824, train IOU : 0.7593314510125381, train DICE : 0.8641530678822444\n"
     ]
    },
    {
     "name": "stderr",
     "output_type": "stream",
     "text": [
      "100%|██████████| 13/13 [00:03<00:00,  4.13it/s]\n"
     ]
    },
    {
     "name": "stdout",
     "output_type": "stream",
     "text": [
      "val loss : 0.666551241507897, val IOU : 0.5768225284723135, val DICE : 0.7307635224782504\n",
      "epoch : 8\n"
     ]
    },
    {
     "name": "stderr",
     "output_type": "stream",
     "text": [
      "100%|██████████| 65/65 [00:27<00:00,  2.33it/s]\n"
     ]
    },
    {
     "name": "stdout",
     "output_type": "stream",
     "text": [
      "train loss : 0.6321619143852821, train IOU : 0.7733376741409301, train DICE : 0.8740507217553946\n"
     ]
    },
    {
     "name": "stderr",
     "output_type": "stream",
     "text": [
      "100%|██████████| 13/13 [00:03<00:00,  3.83it/s]\n"
     ]
    },
    {
     "name": "stdout",
     "output_type": "stream",
     "text": [
      "val loss : 0.6297316734607403, val IOU : 0.5985229015350342, val DICE : 0.7492468219537002\n",
      "epoch : 9\n"
     ]
    },
    {
     "name": "stderr",
     "output_type": "stream",
     "text": [
      "100%|██████████| 65/65 [00:27<00:00,  2.32it/s]\n"
     ]
    },
    {
     "name": "stdout",
     "output_type": "stream",
     "text": [
      "train loss : 0.6101040986868052, train IOU : 0.7822184498493489, train DICE : 0.8786996437953069\n"
     ]
    },
    {
     "name": "stderr",
     "output_type": "stream",
     "text": [
      "100%|██████████| 13/13 [00:03<00:00,  4.14it/s]\n"
     ]
    },
    {
     "name": "stdout",
     "output_type": "stream",
     "text": [
      "val loss : 0.6302338242530823, val IOU : 0.6077814789918753, val DICE : 0.7578446085636432\n",
      "epoch : 10\n"
     ]
    },
    {
     "name": "stderr",
     "output_type": "stream",
     "text": [
      "100%|██████████| 65/65 [00:27<00:00,  2.33it/s]\n"
     ]
    },
    {
     "name": "stdout",
     "output_type": "stream",
     "text": [
      "train loss : 0.5799933649026431, train IOU : 0.7930509227972764, train DICE : 0.8861626047354478\n"
     ]
    },
    {
     "name": "stderr",
     "output_type": "stream",
     "text": [
      "100%|██████████| 13/13 [00:03<00:00,  4.13it/s]\n"
     ]
    },
    {
     "name": "stdout",
     "output_type": "stream",
     "text": [
      "val loss : 0.687390923500061, val IOU : 0.5935124250558707, val DICE : 0.7383068937521714\n",
      "epoch : 11\n"
     ]
    },
    {
     "name": "stderr",
     "output_type": "stream",
     "text": [
      "100%|██████████| 65/65 [00:27<00:00,  2.32it/s]\n"
     ]
    },
    {
     "name": "stdout",
     "output_type": "stream",
     "text": [
      "train loss : 0.5499865651130676, train IOU : 0.8029938055918767, train DICE : 0.8931765409616323\n"
     ]
    },
    {
     "name": "stderr",
     "output_type": "stream",
     "text": [
      "100%|██████████| 13/13 [00:03<00:00,  4.14it/s]\n"
     ]
    },
    {
     "name": "stdout",
     "output_type": "stream",
     "text": [
      "val loss : 0.6637809368280264, val IOU : 0.6160316879932697, val DICE : 0.771647939315209\n",
      "epoch : 12\n"
     ]
    },
    {
     "name": "stderr",
     "output_type": "stream",
     "text": [
      "100%|██████████| 65/65 [00:27<00:00,  2.32it/s]\n"
     ]
    },
    {
     "name": "stdout",
     "output_type": "stream",
     "text": [
      "train loss : 0.5360339806630061, train IOU : 0.8084231862655052, train DICE : 0.8958802828421959\n"
     ]
    },
    {
     "name": "stderr",
     "output_type": "stream",
     "text": [
      "100%|██████████| 13/13 [00:03<00:00,  4.13it/s]\n"
     ]
    },
    {
     "name": "stdout",
     "output_type": "stream",
     "text": [
      "val loss : 0.6870631392185504, val IOU : 0.599530985722175, val DICE : 0.7641651951349698\n",
      "epoch : 13\n"
     ]
    },
    {
     "name": "stderr",
     "output_type": "stream",
     "text": [
      "100%|██████████| 65/65 [00:27<00:00,  2.33it/s]\n"
     ]
    },
    {
     "name": "stdout",
     "output_type": "stream",
     "text": [
      "train loss : 0.5068313424403851, train IOU : 0.8180629895283625, train DICE : 0.9034132214692923\n"
     ]
    },
    {
     "name": "stderr",
     "output_type": "stream",
     "text": [
      "100%|██████████| 13/13 [00:03<00:00,  4.14it/s]\n"
     ]
    },
    {
     "name": "stdout",
     "output_type": "stream",
     "text": [
      "val loss : 0.593281837610098, val IOU : 0.633396355005411, val DICE : 0.7786755378429706\n",
      "epoch : 14\n"
     ]
    },
    {
     "name": "stderr",
     "output_type": "stream",
     "text": [
      "100%|██████████| 65/65 [00:27<00:00,  2.33it/s]\n"
     ]
    },
    {
     "name": "stdout",
     "output_type": "stream",
     "text": [
      "train loss : 0.5029836186995873, train IOU : 0.8206316205171439, train DICE : 0.9042371529799241\n"
     ]
    },
    {
     "name": "stderr",
     "output_type": "stream",
     "text": [
      "100%|██████████| 13/13 [00:03<00:00,  4.17it/s]\n"
     ]
    },
    {
     "name": "stdout",
     "output_type": "stream",
     "text": [
      "val loss : 0.6581571927437415, val IOU : 0.6232842986400311, val DICE : 0.7760517918146573\n",
      "epoch : 15\n"
     ]
    },
    {
     "name": "stderr",
     "output_type": "stream",
     "text": [
      "100%|██████████| 65/65 [00:27<00:00,  2.33it/s]\n"
     ]
    },
    {
     "name": "stdout",
     "output_type": "stream",
     "text": [
      "train loss : 0.4885286170702714, train IOU : 0.825598525083982, train DICE : 0.9078224658966064\n"
     ]
    },
    {
     "name": "stderr",
     "output_type": "stream",
     "text": [
      "100%|██████████| 13/13 [00:03<00:00,  4.15it/s]\n"
     ]
    },
    {
     "name": "stdout",
     "output_type": "stream",
     "text": [
      "val loss : 0.7283866772284875, val IOU : 0.5947739390226511, val DICE : 0.7503557663697463\n",
      "epoch : 16\n"
     ]
    },
    {
     "name": "stderr",
     "output_type": "stream",
     "text": [
      "100%|██████████| 65/65 [00:27<00:00,  2.33it/s]\n"
     ]
    },
    {
     "name": "stdout",
     "output_type": "stream",
     "text": [
      "train loss : 0.44864088251040535, train IOU : 0.8403247585663429, train DICE : 0.916829041334299\n"
     ]
    },
    {
     "name": "stderr",
     "output_type": "stream",
     "text": [
      "100%|██████████| 13/13 [00:03<00:00,  4.12it/s]\n"
     ]
    },
    {
     "name": "stdout",
     "output_type": "stream",
     "text": [
      "val loss : 0.614047123835637, val IOU : 0.6468655833831201, val DICE : 0.7994187153302706\n",
      "epoch : 17\n"
     ]
    },
    {
     "name": "stderr",
     "output_type": "stream",
     "text": [
      "100%|██████████| 65/65 [00:27<00:00,  2.32it/s]\n"
     ]
    },
    {
     "name": "stdout",
     "output_type": "stream",
     "text": [
      "train loss : 0.42872747778892517, train IOU : 0.846922086752378, train DICE : 0.921907850412222\n"
     ]
    },
    {
     "name": "stderr",
     "output_type": "stream",
     "text": [
      "100%|██████████| 13/13 [00:03<00:00,  4.14it/s]\n"
     ]
    },
    {
     "name": "stdout",
     "output_type": "stream",
     "text": [
      "val loss : 0.6358850185687726, val IOU : 0.6428822829173162, val DICE : 0.7969745718515836\n",
      "epoch : 18\n"
     ]
    },
    {
     "name": "stderr",
     "output_type": "stream",
     "text": [
      "100%|██████████| 65/65 [00:27<00:00,  2.33it/s]\n"
     ]
    },
    {
     "name": "stdout",
     "output_type": "stream",
     "text": [
      "train loss : 0.39674770511113683, train IOU : 0.8587695149274973, train DICE : 0.928868607374338\n"
     ]
    },
    {
     "name": "stderr",
     "output_type": "stream",
     "text": [
      "100%|██████████| 13/13 [00:03<00:00,  4.15it/s]\n"
     ]
    },
    {
     "name": "stdout",
     "output_type": "stream",
     "text": [
      "val loss : 0.5997111247136042, val IOU : 0.6590312719345093, val DICE : 0.8142488598823547\n",
      "epoch : 19\n"
     ]
    },
    {
     "name": "stderr",
     "output_type": "stream",
     "text": [
      "100%|██████████| 65/65 [00:27<00:00,  2.32it/s]\n"
     ]
    },
    {
     "name": "stdout",
     "output_type": "stream",
     "text": [
      "train loss : 0.40319948058861954, train IOU : 0.8558168860582205, train DICE : 0.9270645664288447\n"
     ]
    },
    {
     "name": "stderr",
     "output_type": "stream",
     "text": [
      "100%|██████████| 13/13 [00:03<00:00,  4.13it/s]\n"
     ]
    },
    {
     "name": "stdout",
     "output_type": "stream",
     "text": [
      "val loss : 0.6131205696326035, val IOU : 0.6624994002855741, val DICE : 0.8108667181088374\n",
      "epoch : 20\n"
     ]
    },
    {
     "name": "stderr",
     "output_type": "stream",
     "text": [
      "100%|██████████| 65/65 [00:27<00:00,  2.32it/s]\n"
     ]
    },
    {
     "name": "stdout",
     "output_type": "stream",
     "text": [
      "train loss : 0.38680041157282313, train IOU : 0.8621625698529757, train DICE : 0.9311077319658719\n"
     ]
    },
    {
     "name": "stderr",
     "output_type": "stream",
     "text": [
      "100%|██████████| 13/13 [00:03<00:00,  4.13it/s]\n"
     ]
    },
    {
     "name": "stdout",
     "output_type": "stream",
     "text": [
      "val loss : 0.5911811544344976, val IOU : 0.6587722484882061, val DICE : 0.8139892999942486\n",
      "epoch : 21\n"
     ]
    },
    {
     "name": "stderr",
     "output_type": "stream",
     "text": [
      "100%|██████████| 65/65 [00:27<00:00,  2.33it/s]\n"
     ]
    },
    {
     "name": "stdout",
     "output_type": "stream",
     "text": [
      "train loss : 0.36143060005628147, train IOU : 0.8705240845680237, train DICE : 0.9365692872267503\n"
     ]
    },
    {
     "name": "stderr",
     "output_type": "stream",
     "text": [
      "100%|██████████| 13/13 [00:03<00:00,  4.14it/s]\n"
     ]
    },
    {
     "name": "stdout",
     "output_type": "stream",
     "text": [
      "val loss : 0.6305265243236835, val IOU : 0.661010008591872, val DICE : 0.8161482306627127\n",
      "epoch : 22\n"
     ]
    },
    {
     "name": "stderr",
     "output_type": "stream",
     "text": [
      "100%|██████████| 65/65 [00:27<00:00,  2.33it/s]\n"
     ]
    },
    {
     "name": "stdout",
     "output_type": "stream",
     "text": [
      "train loss : 0.3456478462769435, train IOU : 0.8760465062581576, train DICE : 0.9401446975194491\n"
     ]
    },
    {
     "name": "stderr",
     "output_type": "stream",
     "text": [
      "100%|██████████| 13/13 [00:03<00:00,  4.13it/s]\n"
     ]
    },
    {
     "name": "stdout",
     "output_type": "stream",
     "text": [
      "val loss : 0.6753035760842837, val IOU : 0.6629531979560852, val DICE : 0.8131026258835425\n",
      "epoch : 23\n"
     ]
    },
    {
     "name": "stderr",
     "output_type": "stream",
     "text": [
      "100%|██████████| 65/65 [00:27<00:00,  2.33it/s]\n"
     ]
    },
    {
     "name": "stdout",
     "output_type": "stream",
     "text": [
      "train loss : 0.33214099636444677, train IOU : 0.8810552587875953, train DICE : 0.9428327853863055\n"
     ]
    },
    {
     "name": "stderr",
     "output_type": "stream",
     "text": [
      "100%|██████████| 13/13 [00:03<00:00,  4.16it/s]\n"
     ]
    },
    {
     "name": "stdout",
     "output_type": "stream",
     "text": [
      "val loss : 0.6241328028532175, val IOU : 0.6689013609519372, val DICE : 0.8203782806029687\n",
      "epoch : 24\n"
     ]
    },
    {
     "name": "stderr",
     "output_type": "stream",
     "text": [
      "100%|██████████| 65/65 [00:27<00:00,  2.33it/s]\n"
     ]
    },
    {
     "name": "stdout",
     "output_type": "stream",
     "text": [
      "train loss : 0.3188092240920434, train IOU : 0.8861223239165086, train DICE : 0.9450775256523719\n"
     ]
    },
    {
     "name": "stderr",
     "output_type": "stream",
     "text": [
      "100%|██████████| 13/13 [00:03<00:00,  4.14it/s]\n"
     ]
    },
    {
     "name": "stdout",
     "output_type": "stream",
     "text": [
      "val loss : 0.6811755162018996, val IOU : 0.682478510416471, val DICE : 0.8259310905749981\n",
      "epoch : 25\n"
     ]
    },
    {
     "name": "stderr",
     "output_type": "stream",
     "text": [
      "100%|██████████| 65/65 [00:27<00:00,  2.33it/s]\n"
     ]
    },
    {
     "name": "stdout",
     "output_type": "stream",
     "text": [
      "train loss : 0.3033615208589114, train IOU : 0.8914026122826796, train DICE : 0.9484305794422443\n"
     ]
    },
    {
     "name": "stderr",
     "output_type": "stream",
     "text": [
      "100%|██████████| 13/13 [00:03<00:00,  4.13it/s]\n"
     ]
    },
    {
     "name": "stdout",
     "output_type": "stream",
     "text": [
      "val loss : 0.591651955476174, val IOU : 0.6970646518927354, val DICE : 0.8345762353677016\n",
      "epoch : 26\n"
     ]
    },
    {
     "name": "stderr",
     "output_type": "stream",
     "text": [
      "100%|██████████| 65/65 [00:27<00:00,  2.33it/s]\n"
     ]
    },
    {
     "name": "stdout",
     "output_type": "stream",
     "text": [
      "train loss : 0.2900605185673787, train IOU : 0.8959402689566979, train DICE : 0.9508100188695467\n"
     ]
    },
    {
     "name": "stderr",
     "output_type": "stream",
     "text": [
      "100%|██████████| 13/13 [00:03<00:00,  4.12it/s]\n"
     ]
    },
    {
     "name": "stdout",
     "output_type": "stream",
     "text": [
      "val loss : 0.7293785581221948, val IOU : 0.668690773156973, val DICE : 0.810573032269111\n",
      "epoch : 27\n"
     ]
    },
    {
     "name": "stderr",
     "output_type": "stream",
     "text": [
      "100%|██████████| 65/65 [00:27<00:00,  2.32it/s]\n"
     ]
    },
    {
     "name": "stdout",
     "output_type": "stream",
     "text": [
      "train loss : 0.28631541224626395, train IOU : 0.8974281595303462, train DICE : 0.9514346966376671\n"
     ]
    },
    {
     "name": "stderr",
     "output_type": "stream",
     "text": [
      "100%|██████████| 13/13 [00:03<00:00,  4.15it/s]\n"
     ]
    },
    {
     "name": "stdout",
     "output_type": "stream",
     "text": [
      "val loss : 0.6366285956822909, val IOU : 0.6901136178236741, val DICE : 0.8316150995401236\n",
      "epoch : 28\n"
     ]
    },
    {
     "name": "stderr",
     "output_type": "stream",
     "text": [
      "100%|██████████| 65/65 [00:27<00:00,  2.32it/s]\n"
     ]
    },
    {
     "name": "stdout",
     "output_type": "stream",
     "text": [
      "train loss : 0.2694016612493075, train IOU : 0.9026713728904724, train DICE : 0.9550314233853266\n"
     ]
    },
    {
     "name": "stderr",
     "output_type": "stream",
     "text": [
      "100%|██████████| 13/13 [00:03<00:00,  4.15it/s]\n"
     ]
    },
    {
     "name": "stdout",
     "output_type": "stream",
     "text": [
      "val loss : 0.6744207052084116, val IOU : 0.6922538601435148, val DICE : 0.8377354282599229\n",
      "epoch : 29\n"
     ]
    },
    {
     "name": "stderr",
     "output_type": "stream",
     "text": [
      "100%|██████████| 65/65 [00:27<00:00,  2.33it/s]\n"
     ]
    },
    {
     "name": "stdout",
     "output_type": "stream",
     "text": [
      "train loss : 0.2590923866400352, train IOU : 0.906505547120021, train DICE : 0.9568912295194772\n"
     ]
    },
    {
     "name": "stderr",
     "output_type": "stream",
     "text": [
      "100%|██████████| 13/13 [00:03<00:00,  4.13it/s]\n"
     ]
    },
    {
     "name": "stdout",
     "output_type": "stream",
     "text": [
      "val loss : 0.8340627275980436, val IOU : 0.6696480558468745, val DICE : 0.8233626026373643\n",
      "epoch : 30\n"
     ]
    },
    {
     "name": "stderr",
     "output_type": "stream",
     "text": [
      "100%|██████████| 65/65 [00:27<00:00,  2.33it/s]\n"
     ]
    },
    {
     "name": "stdout",
     "output_type": "stream",
     "text": [
      "train loss : 0.24326209104978122, train IOU : 0.9121129907094515, train DICE : 0.9598002360417293\n"
     ]
    },
    {
     "name": "stderr",
     "output_type": "stream",
     "text": [
      "100%|██████████| 13/13 [00:03<00:00,  4.14it/s]\n"
     ]
    },
    {
     "name": "stdout",
     "output_type": "stream",
     "text": [
      "val loss : 0.6484556198120117, val IOU : 0.7082313436728257, val DICE : 0.8388896676210257\n",
      "epoch : 31\n"
     ]
    },
    {
     "name": "stderr",
     "output_type": "stream",
     "text": [
      "100%|██████████| 65/65 [00:27<00:00,  2.32it/s]\n"
     ]
    },
    {
     "name": "stdout",
     "output_type": "stream",
     "text": [
      "train loss : 0.22935599638865545, train IOU : 0.9174300936552194, train DICE : 0.9621538263100844\n"
     ]
    },
    {
     "name": "stderr",
     "output_type": "stream",
     "text": [
      "100%|██████████| 13/13 [00:03<00:00,  4.15it/s]\n"
     ]
    },
    {
     "name": "stdout",
     "output_type": "stream",
     "text": [
      "val loss : 0.7585894832244287, val IOU : 0.6986161699661841, val DICE : 0.8380943032411429\n",
      "epoch : 32\n"
     ]
    },
    {
     "name": "stderr",
     "output_type": "stream",
     "text": [
      "100%|██████████| 65/65 [00:27<00:00,  2.33it/s]\n"
     ]
    },
    {
     "name": "stdout",
     "output_type": "stream",
     "text": [
      "train loss : 0.22075135043034186, train IOU : 0.9200649545742915, train DICE : 0.963872072329888\n"
     ]
    },
    {
     "name": "stderr",
     "output_type": "stream",
     "text": [
      "100%|██████████| 13/13 [00:03<00:00,  4.14it/s]\n"
     ]
    },
    {
     "name": "stdout",
     "output_type": "stream",
     "text": [
      "val loss : 0.7453473393733685, val IOU : 0.7083202050282404, val DICE : 0.8441574344268212\n",
      "epoch : 33\n"
     ]
    },
    {
     "name": "stderr",
     "output_type": "stream",
     "text": [
      "100%|██████████| 65/65 [00:27<00:00,  2.33it/s]\n"
     ]
    },
    {
     "name": "stdout",
     "output_type": "stream",
     "text": [
      "train loss : 0.20949435967665453, train IOU : 0.9242664749805743, train DICE : 0.9657813814970163\n"
     ]
    },
    {
     "name": "stderr",
     "output_type": "stream",
     "text": [
      "100%|██████████| 13/13 [00:03<00:00,  4.13it/s]\n"
     ]
    },
    {
     "name": "stdout",
     "output_type": "stream",
     "text": [
      "val loss : 0.7420344948768616, val IOU : 0.7139055820611807, val DICE : 0.8477441989458524\n",
      "epoch : 34\n"
     ]
    },
    {
     "name": "stderr",
     "output_type": "stream",
     "text": [
      "100%|██████████| 65/65 [00:27<00:00,  2.33it/s]\n"
     ]
    },
    {
     "name": "stdout",
     "output_type": "stream",
     "text": [
      "train loss : 0.20006899237632753, train IOU : 0.9276572575935951, train DICE : 0.9675551579548762\n"
     ]
    },
    {
     "name": "stderr",
     "output_type": "stream",
     "text": [
      "100%|██████████| 13/13 [00:03<00:00,  4.11it/s]\n"
     ]
    },
    {
     "name": "stdout",
     "output_type": "stream",
     "text": [
      "val loss : 0.7617133122224075, val IOU : 0.7134498357772827, val DICE : 0.8475709786781898\n",
      "epoch : 35\n"
     ]
    },
    {
     "name": "stderr",
     "output_type": "stream",
     "text": [
      "100%|██████████| 65/65 [00:27<00:00,  2.32it/s]\n"
     ]
    },
    {
     "name": "stdout",
     "output_type": "stream",
     "text": [
      "train loss : 0.19168580449544467, train IOU : 0.9302039128083449, train DICE : 0.9688228130340576\n"
     ]
    },
    {
     "name": "stderr",
     "output_type": "stream",
     "text": [
      "100%|██████████| 13/13 [00:03<00:00,  4.13it/s]\n"
     ]
    },
    {
     "name": "stdout",
     "output_type": "stream",
     "text": [
      "val loss : 0.7571725524388827, val IOU : 0.7202132252546457, val DICE : 0.8526495557564956\n",
      "epoch : 36\n"
     ]
    },
    {
     "name": "stderr",
     "output_type": "stream",
     "text": [
      "100%|██████████| 65/65 [00:27<00:00,  2.32it/s]\n"
     ]
    },
    {
     "name": "stdout",
     "output_type": "stream",
     "text": [
      "train loss : 0.183868424479778, train IOU : 0.9333164646075323, train DICE : 0.9703280403063848\n"
     ]
    },
    {
     "name": "stderr",
     "output_type": "stream",
     "text": [
      "100%|██████████| 13/13 [00:03<00:00,  4.14it/s]\n"
     ]
    },
    {
     "name": "stdout",
     "output_type": "stream",
     "text": [
      "val loss : 0.7572458707369291, val IOU : 0.7223504093977121, val DICE : 0.8526716415698712\n",
      "epoch : 37\n"
     ]
    },
    {
     "name": "stderr",
     "output_type": "stream",
     "text": [
      "100%|██████████| 65/65 [00:27<00:00,  2.33it/s]\n"
     ]
    },
    {
     "name": "stdout",
     "output_type": "stream",
     "text": [
      "train loss : 0.17384969133597153, train IOU : 0.9366710653671851, train DICE : 0.972093979211954\n"
     ]
    },
    {
     "name": "stderr",
     "output_type": "stream",
     "text": [
      "100%|██████████| 13/13 [00:03<00:00,  4.14it/s]\n"
     ]
    },
    {
     "name": "stdout",
     "output_type": "stream",
     "text": [
      "val loss : 0.822954576749068, val IOU : 0.7174166120015658, val DICE : 0.8523057561654311\n",
      "epoch : 38\n"
     ]
    },
    {
     "name": "stderr",
     "output_type": "stream",
     "text": [
      "100%|██████████| 65/65 [00:27<00:00,  2.32it/s]\n"
     ]
    },
    {
     "name": "stdout",
     "output_type": "stream",
     "text": [
      "train loss : 0.16774224088742182, train IOU : 0.9387639504212599, train DICE : 0.9730678870127751\n"
     ]
    },
    {
     "name": "stderr",
     "output_type": "stream",
     "text": [
      "100%|██████████| 13/13 [00:03<00:00,  4.10it/s]\n"
     ]
    },
    {
     "name": "stdout",
     "output_type": "stream",
     "text": [
      "val loss : 0.8606597964580243, val IOU : 0.7202628209040716, val DICE : 0.8527579857752874\n",
      "epoch : 39\n"
     ]
    },
    {
     "name": "stderr",
     "output_type": "stream",
     "text": [
      "100%|██████████| 65/65 [00:27<00:00,  2.32it/s]\n"
     ]
    },
    {
     "name": "stdout",
     "output_type": "stream",
     "text": [
      "train loss : 0.1622927237015504, train IOU : 0.9408403405776391, train DICE : 0.9740487832289476\n"
     ]
    },
    {
     "name": "stderr",
     "output_type": "stream",
     "text": [
      "100%|██████████| 13/13 [00:03<00:00,  4.13it/s]\n"
     ]
    },
    {
     "name": "stdout",
     "output_type": "stream",
     "text": [
      "val loss : 0.8714930827801044, val IOU : 0.7242627923305218, val DICE : 0.8540512827726511\n",
      "epoch : 40\n"
     ]
    },
    {
     "name": "stderr",
     "output_type": "stream",
     "text": [
      "100%|██████████| 65/65 [00:27<00:00,  2.33it/s]\n"
     ]
    },
    {
     "name": "stdout",
     "output_type": "stream",
     "text": [
      "train loss : 0.15462095783307003, train IOU : 0.943575644493103, train DICE : 0.975388724070329\n"
     ]
    },
    {
     "name": "stderr",
     "output_type": "stream",
     "text": [
      "100%|██████████| 13/13 [00:03<00:00,  4.14it/s]\n"
     ]
    },
    {
     "name": "stdout",
     "output_type": "stream",
     "text": [
      "val loss : 0.9061798820128808, val IOU : 0.7230198245782119, val DICE : 0.8526411239917462\n",
      "epoch : 41\n"
     ]
    },
    {
     "name": "stderr",
     "output_type": "stream",
     "text": [
      "100%|██████████| 65/65 [00:27<00:00,  2.33it/s]\n"
     ]
    },
    {
     "name": "stdout",
     "output_type": "stream",
     "text": [
      "train loss : 0.1503597665291566, train IOU : 0.9453351708558889, train DICE : 0.9760971188545227\n"
     ]
    },
    {
     "name": "stderr",
     "output_type": "stream",
     "text": [
      "100%|██████████| 13/13 [00:03<00:00,  4.14it/s]\n"
     ]
    },
    {
     "name": "stdout",
     "output_type": "stream",
     "text": [
      "val loss : 0.9085791248541611, val IOU : 0.7272660090373113, val DICE : 0.8551625792796795\n",
      "epoch : 42\n"
     ]
    },
    {
     "name": "stderr",
     "output_type": "stream",
     "text": [
      "100%|██████████| 65/65 [00:27<00:00,  2.32it/s]\n"
     ]
    },
    {
     "name": "stdout",
     "output_type": "stream",
     "text": [
      "train loss : 0.14574729272952447, train IOU : 0.9468671817045945, train DICE : 0.976865488749284\n"
     ]
    },
    {
     "name": "stderr",
     "output_type": "stream",
     "text": [
      "100%|██████████| 13/13 [00:03<00:00,  4.14it/s]\n"
     ]
    },
    {
     "name": "stdout",
     "output_type": "stream",
     "text": [
      "val loss : 0.9904428995572604, val IOU : 0.7220923121158893, val DICE : 0.8527090824567355\n",
      "epoch : 43\n"
     ]
    },
    {
     "name": "stderr",
     "output_type": "stream",
     "text": [
      "100%|██████████| 65/65 [00:28<00:00,  2.32it/s]\n"
     ]
    },
    {
     "name": "stdout",
     "output_type": "stream",
     "text": [
      "train loss : 0.14262775411972634, train IOU : 0.94793677513416, train DICE : 0.9774139679395235\n"
     ]
    },
    {
     "name": "stderr",
     "output_type": "stream",
     "text": [
      "100%|██████████| 13/13 [00:03<00:00,  4.14it/s]\n"
     ]
    },
    {
     "name": "stdout",
     "output_type": "stream",
     "text": [
      "val loss : 0.9769184910334073, val IOU : 0.7253768398211553, val DICE : 0.8549419412246118\n",
      "epoch : 44\n"
     ]
    },
    {
     "name": "stderr",
     "output_type": "stream",
     "text": [
      "100%|██████████| 65/65 [00:27<00:00,  2.32it/s]\n"
     ]
    },
    {
     "name": "stdout",
     "output_type": "stream",
     "text": [
      "train loss : 0.14035692123266366, train IOU : 0.9488299434001629, train DICE : 0.9776758221479562\n"
     ]
    },
    {
     "name": "stderr",
     "output_type": "stream",
     "text": [
      "100%|██████████| 13/13 [00:03<00:00,  4.14it/s]\n"
     ]
    },
    {
     "name": "stdout",
     "output_type": "stream",
     "text": [
      "val loss : 0.9937525529127854, val IOU : 0.7238523639165438, val DICE : 0.8546978693742019\n",
      "epoch : 45\n"
     ]
    },
    {
     "name": "stderr",
     "output_type": "stream",
     "text": [
      "100%|██████████| 65/65 [00:28<00:00,  2.32it/s]\n"
     ]
    },
    {
     "name": "stdout",
     "output_type": "stream",
     "text": [
      "train loss : 0.13768183611906493, train IOU : 0.9498400275523846, train DICE : 0.9782440506494963\n"
     ]
    },
    {
     "name": "stderr",
     "output_type": "stream",
     "text": [
      "100%|██████████| 13/13 [00:03<00:00,  4.11it/s]\n"
     ]
    },
    {
     "name": "stdout",
     "output_type": "stream",
     "text": [
      "val loss : 1.017182483122899, val IOU : 0.7257229227286118, val DICE : 0.8550660564349248\n",
      "epoch : 46\n"
     ]
    },
    {
     "name": "stderr",
     "output_type": "stream",
     "text": [
      "100%|██████████| 65/65 [00:27<00:00,  2.32it/s]\n"
     ]
    },
    {
     "name": "stdout",
     "output_type": "stream",
     "text": [
      "train loss : 0.13635545418812678, train IOU : 0.9503751672231234, train DICE : 0.9784566145676833\n"
     ]
    },
    {
     "name": "stderr",
     "output_type": "stream",
     "text": [
      "100%|██████████| 13/13 [00:03<00:00,  4.12it/s]\n"
     ]
    },
    {
     "name": "stdout",
     "output_type": "stream",
     "text": [
      "val loss : 1.0072557009183443, val IOU : 0.7272211955143855, val DICE : 0.8558895817169776\n",
      "epoch : 47\n"
     ]
    },
    {
     "name": "stderr",
     "output_type": "stream",
     "text": [
      "100%|██████████| 65/65 [00:27<00:00,  2.32it/s]\n"
     ]
    },
    {
     "name": "stdout",
     "output_type": "stream",
     "text": [
      "train loss : 0.1347159001689691, train IOU : 0.9509076631986177, train DICE : 0.9786438052470867\n"
     ]
    },
    {
     "name": "stderr",
     "output_type": "stream",
     "text": [
      "100%|██████████| 13/13 [00:03<00:00,  4.14it/s]\n"
     ]
    },
    {
     "name": "stdout",
     "output_type": "stream",
     "text": [
      "val loss : 1.0024332358286931, val IOU : 0.727833669919234, val DICE : 0.8558721358959491\n",
      "epoch : 48\n"
     ]
    },
    {
     "name": "stderr",
     "output_type": "stream",
     "text": [
      "100%|██████████| 65/65 [00:27<00:00,  2.32it/s]\n"
     ]
    },
    {
     "name": "stdout",
     "output_type": "stream",
     "text": [
      "train loss : 0.13391112994689208, train IOU : 0.951243322629195, train DICE : 0.978809615281912\n"
     ]
    },
    {
     "name": "stderr",
     "output_type": "stream",
     "text": [
      "100%|██████████| 13/13 [00:03<00:00,  4.11it/s]\n"
     ]
    },
    {
     "name": "stdout",
     "output_type": "stream",
     "text": [
      "val loss : 1.0013078542856069, val IOU : 0.7282093442403353, val DICE : 0.8560047012109023\n",
      "epoch : 49\n"
     ]
    },
    {
     "name": "stderr",
     "output_type": "stream",
     "text": [
      "100%|██████████| 65/65 [00:27<00:00,  2.32it/s]\n"
     ]
    },
    {
     "name": "stdout",
     "output_type": "stream",
     "text": [
      "train loss : 0.1337906437424513, train IOU : 0.9514646658530602, train DICE : 0.9788126395298884\n"
     ]
    },
    {
     "name": "stderr",
     "output_type": "stream",
     "text": [
      "100%|██████████| 13/13 [00:03<00:00,  4.16it/s]\n"
     ]
    },
    {
     "name": "stdout",
     "output_type": "stream",
     "text": [
      "val loss : 1.0233374008765588, val IOU : 0.7266041682316706, val DICE : 0.8553725205934964\n"
     ]
    },
    {
     "data": {
      "text/html": [],
      "text/plain": [
       "<IPython.core.display.HTML object>"
      ]
     },
     "metadata": {},
     "output_type": "display_data"
    },
    {
     "data": {
      "text/html": [
       "<br>    <style><br>        .wandb-row {<br>            display: flex;<br>            flex-direction: row;<br>            flex-wrap: wrap;<br>            justify-content: flex-start;<br>            width: 100%;<br>        }<br>        .wandb-col {<br>            display: flex;<br>            flex-direction: column;<br>            flex-basis: 100%;<br>            flex: 1;<br>            padding: 10px;<br>        }<br>    </style><br><div class=\"wandb-row\"><div class=\"wandb-col\"><h3>Run history:</h3><br/><table class=\"wandb\"><tr><td>DDTI_val_DICE</td><td>▂▃▄▂▁▅▆▆▇▅▇▆▅▇▇▇█▇▇▇▆▇█▆█▇████████▇█████</td></tr><tr><td>DDTI_val_IOU</td><td>▃▄▂▁▆▇▇▇▆▇█▆▅▇▆▇█▇▇▇█▆▇▇▆▇▇█▇██▇█▇█▇▇▇▇▇</td></tr><tr><td>DDTI_val_loss</td><td>▃▂▂▃▃▂▁▁▁▂▂▁▂▂▂▂▂▂▂▃▄▃▃▅▃▄▄▅▅▅▆▆▇▇██████</td></tr><tr><td>Learning Rate</td><td>██████▇▇▇▇▇▆▆▆▆▅▅▅▅▅▄▄▄▃▃▃▃▂▂▂▂▂▂▁▁▁▁▁▁▁</td></tr><tr><td>TN3K_val_DICE</td><td>▁▂▃▃▃▄▄▅▅▅▅▅▆▅▆▆▇▆▇▇▇▇▇▇▇▇██████████████</td></tr><tr><td>TN3K_val_IOU</td><td>▁▂▃▃▃▃▄▄▅▅▅▅▅▆▆▆▆▆▆▇▇▇▇▇▇▇▇█████████████</td></tr><tr><td>TN3K_val_loss</td><td>█▇▆▆▆▆▅▅▅▅▄▄▄▄▃▃▃▃▃▃▂▃▂▂▂▂▂▁▁▁▁▁▁▁▁▁▁▁▁▁</td></tr><tr><td>epoch</td><td>▁▁▁▁▂▂▂▂▂▃▃▃▃▃▃▄▄▄▄▄▅▅▅▅▅▅▆▆▆▆▆▇▇▇▇▇▇███</td></tr><tr><td>train_DICE</td><td>▁▄▅▅▅▆▆▆▆▆▇▇▇▇▇▇▇▇▇▇████████████████████</td></tr><tr><td>train_IOU</td><td>▁▃▄▄▅▅▅▅▆▆▆▆▆▆▆▇▇▇▇▇▇▇▇▇▇▇██████████████</td></tr><tr><td>train_loss</td><td>█▅▅▅▄▄▃▃▃▃▃▃▃▂▂▂▂▂▂▂▂▂▂▂▂▁▁▁▁▁▁▁▁▁▁▁▁▁▁▁</td></tr><tr><td>val_DICE</td><td>▁▃▃▃▅▅▅▅▅▆▆▆▅▇▆▇▇▇▇▇▇▇▇█▇███████████████</td></tr><tr><td>val_IOU</td><td>▁▂▃▂▂▄▄▅▅▅▅▆▆▅▆▆▆▆▆▆▇▇▇▇████████████████</td></tr><tr><td>val_loss</td><td>▇▅▄▅▆▄▂▂▂▃▃▁▂▁▂▁▁▂▂▂▁▃▂▂▅▃▃▄▄▄▅▆▆▆▇█████</td></tr></table><br/></div><div class=\"wandb-col\"><h3>Run summary:</h3><br/><table class=\"wandb\"><tr><td>DDTI_val_DICE</td><td>0.6892</td></tr><tr><td>DDTI_val_IOU</td><td>0.51236</td></tr><tr><td>DDTI_val_loss</td><td>1.94161</td></tr><tr><td>Learning Rate</td><td>0</td></tr><tr><td>TN3K_val_DICE</td><td>0.97832</td></tr><tr><td>TN3K_val_IOU</td><td>0.94716</td></tr><tr><td>TN3K_val_loss</td><td>0.0856</td></tr><tr><td>epoch</td><td>49</td></tr><tr><td>train_DICE</td><td>0.97881</td></tr><tr><td>train_IOU</td><td>0.95146</td></tr><tr><td>train_loss</td><td>0.13379</td></tr><tr><td>val_DICE</td><td>0.85537</td></tr><tr><td>val_IOU</td><td>0.7266</td></tr><tr><td>val_loss</td><td>1.02334</td></tr></table><br/></div></div>"
      ],
      "text/plain": [
       "<IPython.core.display.HTML object>"
      ]
     },
     "metadata": {},
     "output_type": "display_data"
    },
    {
     "data": {
      "text/html": [
       " View run <strong style=\"color:#cdcd00\">hybrid_v4_baseline</strong> at: <a href='https://wandb.ai/s960068sss-ucl/thyroid_hybrid_model/runs/hh8mmtpv' target=\"_blank\">https://wandb.ai/s960068sss-ucl/thyroid_hybrid_model/runs/hh8mmtpv</a><br> View project at: <a href='https://wandb.ai/s960068sss-ucl/thyroid_hybrid_model' target=\"_blank\">https://wandb.ai/s960068sss-ucl/thyroid_hybrid_model</a><br>Synced 5 W&B file(s), 0 media file(s), 0 artifact file(s) and 0 other file(s)"
      ],
      "text/plain": [
       "<IPython.core.display.HTML object>"
      ]
     },
     "metadata": {},
     "output_type": "display_data"
    },
    {
     "data": {
      "text/html": [
       "Find logs at: <code>./wandb/run-20250517_152142-hh8mmtpv/logs</code>"
      ],
      "text/plain": [
       "<IPython.core.display.HTML object>"
      ]
     },
     "metadata": {},
     "output_type": "display_data"
    }
   ],
   "source": [
    "max_IOU = -1\n",
    "for epoch in range(epochs):\n",
    "    print(f\"epoch : {epoch}\")\n",
    "    total_loss_train, total_IOU_train, total_DICE_train = train(train_dataloader, model, optimizer, loss_fn_nodule, loss_fn_gland, \"cuda\")\n",
    "    print(f\"train loss : {total_loss_train}, train IOU : {total_IOU_train}, train DICE : {total_DICE_train}\")\n",
    "    total_loss_val, total_IOU_val, total_DICE_val, DDTI_total_loss_val, DDTI_total_IOU_val, DDTI_total_DICE_val, TN3K_total_loss_val, TN3K_total_IOU_val, TN3K_total_DICE_val = val(test_dataloader, model, loss_fn_nodule, loss_fn_gland, \"cuda\")\n",
    "    print(f\"val loss : {total_loss_val}, val IOU : {total_IOU_val}, val DICE : {total_DICE_val}\")\n",
    "    \n",
    "    scheduler.step()\n",
    "    current_lr = scheduler.get_last_lr()[0]\n",
    "\n",
    "\n",
    "\n",
    "    if max_IOU < total_IOU_val:\n",
    "        max_IOU = total_IOU_val\n",
    "        checkpoint = {\n",
    "            'epoch': epoch,\n",
    "            'model_state_dict': model.state_dict(),\n",
    "            'optimizer_state_dict': optimizer.state_dict(),\n",
    "            'scheduler_state_dict': scheduler.state_dict(),\n",
    "            \"IOU\" : total_IOU_val,\n",
    "            \"DICE\" : total_DICE_val,\n",
    "            \"loss\" : total_loss_val\n",
    "        }\n",
    "        folder = f\"models/{name}\"\n",
    "        if not os.path.exists(folder):\n",
    "            os.mkdir(folder)\n",
    "        torch.save(checkpoint, f\"models/{name}/best_checkpoint.pth\")\n",
    "\n",
    "    \n",
    "    wandb.log({\n",
    "        \"epoch\": epoch,\n",
    "        \"Learning Rate\":current_lr,\n",
    "        \n",
    "        \"train_loss\": total_loss_train,\n",
    "        \"train_IOU\": total_IOU_train,\n",
    "        \"train_DICE\": total_DICE_train,\n",
    "        \n",
    "        \"val_loss\": total_loss_val,\n",
    "        \"val_IOU\": total_IOU_val,\n",
    "        \"val_DICE\": total_DICE_val,\n",
    "\n",
    "        \"DDTI_val_loss\": DDTI_total_loss_val,\n",
    "        \"DDTI_val_IOU\": DDTI_total_IOU_val,\n",
    "        \"DDTI_val_DICE\": DDTI_total_DICE_val,\n",
    "\n",
    "        \"TN3K_val_loss\": TN3K_total_loss_val,\n",
    "        \"TN3K_val_IOU\": TN3K_total_IOU_val,\n",
    "        \"TN3K_val_DICE\": TN3K_total_DICE_val,\n",
    "        \n",
    "    })\n",
    "\n",
    "\n",
    "\n",
    "\n",
    "checkpoint = {\n",
    "    'epoch': epoch,\n",
    "    'model_state_dict': model.state_dict(),\n",
    "    'optimizer_state_dict': optimizer.state_dict(),\n",
    "    'scheduler_state_dict': scheduler.state_dict(),\n",
    "    \"IOU\" : total_IOU_val,\n",
    "    \"DICE\" : total_DICE_val,\n",
    "    \"loss\" : total_loss_val\n",
    "}\n",
    "if not os.path.exists(folder):\n",
    "    os.mkdir(folder)\n",
    "torch.save(checkpoint, f\"models/{name}/last_checkpoint.pth\")\n",
    "wandb.finish()"
   ]
  },
  {
   "cell_type": "code",
   "execution_count": null,
   "id": "5d67100e-b724-4699-a866-2e90091b467c",
   "metadata": {},
   "outputs": [],
   "source": [
    "print(max_IOU)"
   ]
  },
  {
   "cell_type": "code",
   "execution_count": null,
   "id": "c58a8697-c3e8-414c-9ed8-722bc4edf44d",
   "metadata": {},
   "outputs": [],
   "source": [
    "inference_name = \"PMFSNet_baseline\"\n",
    "# model = HarDMSEG(in_channels = 1)\n",
    "model = PMFSNet(in_channels = 1, out_channels = 1, dim = \"2d\")\n",
    "# model = LightMed(in_channels = 1, out_channels = 1, image_size = image_size)\n",
    "checkpoint = torch.load(f\"models/{inference_name}/last_checkpoint.pth\")\n",
    "model.load_state_dict(checkpoint['model_state_dict'])\n",
    "# optimizer.load_state_dict(checkpoint['optimizer_state_dict'])\n",
    "# scheduler.load_state_dict(checkpoint['scheduler_state_dict'])"
   ]
  },
  {
   "cell_type": "code",
   "execution_count": null,
   "id": "4e84c5aa-badd-4626-93f8-b4d23ee5afcf",
   "metadata": {},
   "outputs": [],
   "source": [
    "\n",
    "total_loss_val, total_IOU_val, total_DICE_val = val(test_dataloader, model, loss_fn, \"cuda\")\n",
    "print(f\"val loss : {total_loss_val}, val IOU : {total_IOU_val}, val DICE : {total_DICE_val}\")\n"
   ]
  },
  {
   "cell_type": "code",
   "execution_count": null,
   "id": "dafcd1cd-51e8-4895-8a6d-837234076860",
   "metadata": {
    "scrolled": true
   },
   "outputs": [],
   "source": [
    "DICE = 0\n",
    "# model.to(\"cuda\")\n",
    "model.eval()\n",
    "for image, mask in tqdm(test_dataloader):\n",
    "    image, mask = image, mask\n",
    "    preds = model(image)\n",
    "    DICE += (1 - dice_loss(preds, mask)).item()\n",
    "print(DICE/len(test_dataloader))"
   ]
  },
  {
   "cell_type": "code",
   "execution_count": null,
   "id": "a39cba45-1411-4e97-8f59-560e936c1602",
   "metadata": {
    "scrolled": true
   },
   "outputs": [],
   "source": [
    "index = 7\n",
    "plt.subplot(1,2,1)\n",
    "plt.imshow(preds[index][0])\n",
    "plt.subplot(1,2,2)\n",
    "plt.imshow(mask[index][0])"
   ]
  },
  {
   "cell_type": "code",
   "execution_count": null,
   "id": "f32ecdce-22c9-4a43-b389-c21d455fae5f",
   "metadata": {},
   "outputs": [],
   "source": [
    "dice_loss = DiceLoss()\n",
    "print(1 - dice_loss(preds, mask))"
   ]
  },
  {
   "cell_type": "code",
   "execution_count": null,
   "id": "a182cb39-4545-44db-940d-727076da0cce",
   "metadata": {},
   "outputs": [],
   "source": [
    "plt.imshow(mask[index][0])"
   ]
  },
  {
   "cell_type": "code",
   "execution_count": null,
   "id": "a070d2d6-8567-48af-a4db-2aa0f7bd4ed3",
   "metadata": {},
   "outputs": [],
   "source": []
  }
 ],
 "metadata": {
  "kernelspec": {
   "display_name": "thyroid",
   "language": "python",
   "name": "thyroid"
  },
  "language_info": {
   "codemirror_mode": {
    "name": "ipython",
    "version": 3
   },
   "file_extension": ".py",
   "mimetype": "text/x-python",
   "name": "python",
   "nbconvert_exporter": "python",
   "pygments_lexer": "ipython3",
   "version": "3.12.9"
  }
 },
 "nbformat": 4,
 "nbformat_minor": 5
}
