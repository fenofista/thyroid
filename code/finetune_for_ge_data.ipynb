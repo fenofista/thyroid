{
 "cells": [
  {
   "cell_type": "code",
   "execution_count": 7,
   "id": "cbada50d-1e33-4c43-898d-674a7a1cbd43",
   "metadata": {},
   "outputs": [],
   "source": [
    "import torch\n",
    "from torch.utils.data import Dataset, DataLoader\n",
    "import numpy as np\n",
    "from PIL import Image\n",
    "import os\n",
    "from torchvision import transforms\n",
    "import pandas as pd\n",
    "import matplotlib.pyplot as plt\n",
    "import torch.optim as optim\n",
    "from tqdm import tqdm\n",
    "import random\n",
    "import torch.nn as nn\n",
    "from dataset import Thyroid_Dataset\n",
    "from model import Eff_Unet\n",
    "from HarDMSEG import HarDMSEG\n",
    "from loss_metric import DiceLoss, IOU_score, StructureLoss\n",
    "from LightMed.model.LightMed import LightMed\n",
    "from PMFSNet.lib.models.PMFSNet import PMFSNet\n",
    "from PMFSNet.lib.models.PMFSNet_FFT import PMFSNet_FFT\n",
    "from hybrid_model_v3 import HybridSegModel"
   ]
  },
  {
   "cell_type": "code",
   "execution_count": 2,
   "id": "552e0837-3243-45a8-af13-0dd8363d8b6d",
   "metadata": {},
   "outputs": [],
   "source": [
    "def set_seed(seed):\n",
    "    random.seed(seed)\n",
    "    np.random.seed(seed)\n",
    "    os.environ['PYTHONHASHSEED'] = str(seed)\n",
    "    torch.manual_seed(seed)\n",
    "    torch.cuda.manual_seed(seed)\n",
    "    torch.cuda.manual_seed_all(seed)\n",
    "    torch.backends.cudnn.deterministic = True\n",
    "    torch.backends.cudnn.benchmark = False\n",
    "\n",
    "set_seed(42)"
   ]
  },
  {
   "cell_type": "code",
   "execution_count": 3,
   "id": "c3dd7a74-f2d5-493a-8d69-aca94d4586aa",
   "metadata": {},
   "outputs": [
    {
     "name": "stderr",
     "output_type": "stream",
     "text": [
      "\u001b[34m\u001b[1mwandb\u001b[0m: \u001b[32m\u001b[41mERROR\u001b[0m Failed to detect the name of this notebook. You can set it manually with the WANDB_NOTEBOOK_NAME environment variable to enable code saving.\n",
      "\u001b[34m\u001b[1mwandb\u001b[0m: Currently logged in as: \u001b[33ms960068sss\u001b[0m (\u001b[33ms960068sss-ucl\u001b[0m) to \u001b[32mhttps://api.wandb.ai\u001b[0m. Use \u001b[1m`wandb login --relogin`\u001b[0m to force relogin\n"
     ]
    },
    {
     "data": {
      "text/plain": [
       "True"
      ]
     },
     "execution_count": 3,
     "metadata": {},
     "output_type": "execute_result"
    }
   ],
   "source": [
    "import wandb\n",
    "wandb.login()"
   ]
  },
  {
   "cell_type": "code",
   "execution_count": 4,
   "id": "f7db1b35-7517-4305-8612-c910a0093bf0",
   "metadata": {},
   "outputs": [],
   "source": [
    "import torch\n",
    "from torch.utils.data import Dataset, DataLoader\n",
    "import numpy as np\n",
    "from PIL import Image\n",
    "import os\n",
    "from torchvision import transforms\n",
    "import pandas as pd\n",
    "import matplotlib.pyplot as plt\n",
    "import torchvision.transforms.functional as tx\n",
    "import random\n",
    "import cv2\n",
    "from PIL import ImageEnhance\n",
    "from skimage.exposure import match_histograms\n",
    "import torchvision.transforms as T\n",
    "import torchvision.transforms.functional as F\n",
    "class GE_Thyroid_Dataset(Dataset):\n",
    "    def __init__(self, csv_file, transform, image_size):\n",
    "        self.df = pd.read_csv(csv_file)\n",
    "        self.transform = transform\n",
    "        self.image_size = image_size\n",
    "    def __len__(self):\n",
    "        return len(self.df)\n",
    "\n",
    "    def __getitem__(self, idx):\n",
    "        image_name = self.df[\"image_name\"][idx]\n",
    "        mask_name = self.df[\"mask_name\"][idx]\n",
    "        image_type = self.df[\"image_type\"][idx]\n",
    "\n",
    "        if image_type == \"train\":\n",
    "            from_folder = \"../ge_data/train\"\n",
    "        else:\n",
    "            from_folder = \"../ge_data/test\"\n",
    "\n",
    "        image_path = f\"{from_folder}/images/{image_name}\"\n",
    "        mask_path = f\"{from_folder}/masks/{mask_name}\"\n",
    "\n",
    "        image = Image.open(image_path).convert(\"L\")\n",
    "        mask = Image.open(mask_path).convert(\"L\")\n",
    "        \n",
    "        image_tensor, mask_tensor = self.transform(image, mask, self.image_size)\n",
    "        mask_tensor = (mask_tensor > 0.5).float()\n",
    "\n",
    "        return image_tensor, mask_tensor, mask_name, image_type"
   ]
  },
  {
   "cell_type": "code",
   "execution_count": 48,
   "id": "73eef130-f914-4c3f-8670-99dff492b23e",
   "metadata": {},
   "outputs": [],
   "source": [
    "image_size = 128\n",
    "batch_size = 128\n",
    "def train_augmentation(image, mask, image_size):\n",
    "    resize = T.Resize((image_size, image_size))\n",
    "    image = resize(image)\n",
    "    mask = resize(mask)\n",
    "\n",
    "    image_tensor = tx.to_tensor(image)\n",
    "    mask_tensor = tx.to_tensor(mask)\n",
    "\n",
    "    # If standardization\n",
    "    mean = image_tensor.mean()\n",
    "    std = image_tensor.std()\n",
    "    std = std if std > 0 else 1.0  # avoid division by zero\n",
    "    image_tensor = (image_tensor - mean) / std\n",
    "    return image_tensor, mask_tensor\n",
    "def test_augmentation(image, mask, image_size):\n",
    "    resize = T.Resize((image_size, image_size))\n",
    "    image = resize(image)\n",
    "    mask = resize(mask)\n",
    "\n",
    "    image_tensor = tx.to_tensor(image)\n",
    "    mask_tensor = tx.to_tensor(mask)\n",
    "\n",
    "    # If standardization\n",
    "    mean = image_tensor.mean()\n",
    "    std = image_tensor.std()\n",
    "    std = std if std > 0 else 1.0  # avoid division by zero\n",
    "    image_tensor = (image_tensor - mean) / std\n",
    "    return image_tensor, mask_tensor\n",
    "\n",
    "train_dataset = GE_Thyroid_Dataset(\"../ge_data/train_csv_for_finetune(0.1).csv\", transform = train_augmentation, image_size = image_size)\n",
    "train_dataloader = DataLoader(train_dataset, batch_size = batch_size, shuffle = True)\n",
    "\n",
    "test_dataset = GE_Thyroid_Dataset(\"../ge_data/test_csv_for_finetune_all.csv\", transform = test_augmentation, image_size = image_size)\n",
    "test_dataloader = DataLoader(test_dataset, batch_size = batch_size, shuffle = False)\n",
    "\n",
    "image, mask, mask_name, image_type = next(iter(train_dataloader))"
   ]
  },
  {
   "cell_type": "code",
   "execution_count": null,
   "id": "da0e1427-6dc3-41fc-a80d-bc9bea2dc4d3",
   "metadata": {},
   "outputs": [],
   "source": []
  },
  {
   "cell_type": "code",
   "execution_count": 52,
   "id": "cee5b6f8-749e-4964-862a-255a44883a20",
   "metadata": {},
   "outputs": [
    {
     "name": "stdout",
     "output_type": "stream",
     "text": [
      "56 112\n"
     ]
    }
   ],
   "source": [
    "print(len(train_dataset), len(test_dataset))"
   ]
  },
  {
   "cell_type": "code",
   "execution_count": 50,
   "id": "014e0c3f-1e5b-44ff-9930-0bfb774c38b2",
   "metadata": {},
   "outputs": [
    {
     "data": {
      "text/plain": [
       "<matplotlib.image.AxesImage at 0x7f9ed26b6cf0>"
      ]
     },
     "execution_count": 50,
     "metadata": {},
     "output_type": "execute_result"
    },
    {
     "data": {
      "image/png": "[encoded data removed]",
      "text/plain": [
       "<Figure size 640x480 with 1 Axes>"
      ]
     },
     "metadata": {},
     "output_type": "display_data"
    }
   ],
   "source": [
    "plt.imshow(image[10][0])"
   ]
  },
  {
   "cell_type": "code",
   "execution_count": 61,
   "id": "e8872213-5242-443e-9bdf-51fef62c8c8b",
   "metadata": {
    "scrolled": true
   },
   "outputs": [
    {
     "name": "stdout",
     "output_type": "stream",
     "text": [
      "Epoch 1, Loss: 3.4430, IOU: 0.1576, DICE: 0.3058069944381714\n",
      "Epoch 2, Loss: 2.4288, IOU: 0.0132, DICE: 0.031785428524017334\n",
      "Epoch 3, Loss: 1.4299, IOU: 0.1040, DICE: 0.17694640159606934\n",
      "Epoch 4, Loss: 1.2252, IOU: 0.1232, DICE: 0.1627742052078247\n",
      "Epoch 5, Loss: 1.0636, IOU: 0.1544, DICE: 0.20304012298583984\n",
      "Epoch 6, Loss: 1.0186, IOU: 0.1041, DICE: 0.20359253883361816\n",
      "Epoch 7, Loss: 1.0028, IOU: 0.0782, DICE: 0.20940715074539185\n",
      "Epoch 8, Loss: 0.9781, IOU: 0.1164, DICE: 0.23842912912368774\n",
      "Epoch 9, Loss: 0.9582, IOU: 0.1646, DICE: 0.26858824491500854\n",
      "Epoch 10, Loss: 0.9538, IOU: 0.1856, DICE: 0.2868896722793579\n",
      "Epoch 11, Loss: 0.9327, IOU: 0.1999, DICE: 0.30179446935653687\n",
      "Epoch 12, Loss: 0.9169, IOU: 0.2004, DICE: 0.31019335985183716\n",
      "Epoch 13, Loss: 0.9539, IOU: 0.1397, DICE: 0.2805877923965454\n",
      "Epoch 14, Loss: 0.9046, IOU: 0.2181, DICE: 0.33352112770080566\n",
      "Epoch 15, Loss: 0.9075, IOU: 0.2190, DICE: 0.339316189289093\n",
      "Epoch 16, Loss: 0.8871, IOU: 0.2294, DICE: 0.3511725068092346\n",
      "Epoch 17, Loss: 0.8725, IOU: 0.2440, DICE: 0.3645566701889038\n",
      "Epoch 18, Loss: 0.8816, IOU: 0.2477, DICE: 0.37371373176574707\n",
      "Epoch 19, Loss: 0.8408, IOU: 0.2694, DICE: 0.39815056324005127\n",
      "Epoch 20, Loss: 0.8299, IOU: 0.2695, DICE: 0.4050791263580322\n",
      "Epoch 21, Loss: 0.8139, IOU: 0.2936, DICE: 0.42474400997161865\n",
      "Epoch 22, Loss: 0.8098, IOU: 0.3012, DICE: 0.42402005195617676\n",
      "Epoch 23, Loss: 0.8037, IOU: 0.2949, DICE: 0.4450141191482544\n",
      "Epoch 24, Loss: 0.7754, IOU: 0.3297, DICE: 0.460720956325531\n",
      "Epoch 25, Loss: 0.7586, IOU: 0.3574, DICE: 0.48522287607192993\n",
      "Epoch 26, Loss: 0.7759, IOU: 0.3143, DICE: 0.4760397672653198\n",
      "Epoch 27, Loss: 0.7912, IOU: 0.3152, DICE: 0.47539806365966797\n",
      "Epoch 28, Loss: 0.7574, IOU: 0.3351, DICE: 0.4806326627731323\n",
      "Epoch 29, Loss: 0.7518, IOU: 0.3345, DICE: 0.4907994866371155\n",
      "Epoch 30, Loss: 0.7472, IOU: 0.3504, DICE: 0.5109873414039612\n",
      "Epoch 31, Loss: 0.7175, IOU: 0.3640, DICE: 0.5264638066291809\n",
      "Epoch 32, Loss: 0.7051, IOU: 0.3784, DICE: 0.5270936489105225\n",
      "Epoch 33, Loss: 0.6937, IOU: 0.4009, DICE: 0.5417720675468445\n",
      "Epoch 34, Loss: 0.6950, IOU: 0.3861, DICE: 0.5400269627571106\n",
      "Epoch 35, Loss: 0.6999, IOU: 0.3962, DICE: 0.5524237751960754\n",
      "Epoch 36, Loss: 0.6624, IOU: 0.4306, DICE: 0.5787653923034668\n",
      "Epoch 37, Loss: 0.6462, IOU: 0.4474, DICE: 0.5864666104316711\n",
      "Epoch 38, Loss: 0.6522, IOU: 0.4303, DICE: 0.5908456444740295\n",
      "Epoch 39, Loss: 0.6696, IOU: 0.4274, DICE: 0.5635351538658142\n",
      "Epoch 40, Loss: 0.6401, IOU: 0.4445, DICE: 0.6077325344085693\n",
      "Epoch 41, Loss: 0.6519, IOU: 0.4195, DICE: 0.5894565582275391\n",
      "Epoch 42, Loss: 0.6048, IOU: 0.5039, DICE: 0.6253026127815247\n",
      "Epoch 43, Loss: 0.6580, IOU: 0.4351, DICE: 0.599689245223999\n",
      "Epoch 44, Loss: 0.6542, IOU: 0.4127, DICE: 0.5749444961547852\n",
      "Epoch 45, Loss: 0.6365, IOU: 0.4238, DICE: 0.5918917059898376\n",
      "Epoch 46, Loss: 0.6100, IOU: 0.4628, DICE: 0.6265316009521484\n",
      "Epoch 47, Loss: 0.5741, IOU: 0.4777, DICE: 0.6578953862190247\n",
      "Epoch 48, Loss: 0.5936, IOU: 0.4619, DICE: 0.6462613344192505\n",
      "Epoch 49, Loss: 0.5492, IOU: 0.5099, DICE: 0.6739071011543274\n",
      "Epoch 50, Loss: 0.5411, IOU: 0.5464, DICE: 0.6858372092247009\n",
      "Epoch 51, Loss: 0.5342, IOU: 0.5462, DICE: 0.6928396224975586\n",
      "Epoch 52, Loss: 0.5419, IOU: 0.5212, DICE: 0.685511589050293\n",
      "Epoch 53, Loss: 0.5377, IOU: 0.5009, DICE: 0.6824386715888977\n",
      "Epoch 54, Loss: 0.5031, IOU: 0.5621, DICE: 0.7118701338768005\n",
      "Epoch 55, Loss: 0.5004, IOU: 0.5841, DICE: 0.7258360981941223\n",
      "Epoch 56, Loss: 0.4940, IOU: 0.5606, DICE: 0.7152895331382751\n",
      "Epoch 57, Loss: 0.5092, IOU: 0.5591, DICE: 0.726802408695221\n",
      "Epoch 58, Loss: 0.5937, IOU: 0.4943, DICE: 0.6627703905105591\n",
      "Epoch 59, Loss: 0.6056, IOU: 0.4845, DICE: 0.6715528964996338\n",
      "Epoch 60, Loss: 0.5338, IOU: 0.5434, DICE: 0.7131757736206055\n",
      "Epoch 61, Loss: 0.5281, IOU: 0.5314, DICE: 0.6906799077987671\n",
      "Epoch 62, Loss: 0.5114, IOU: 0.5447, DICE: 0.6963334083557129\n",
      "Epoch 63, Loss: 0.6017, IOU: 0.4746, DICE: 0.6390742659568787\n",
      "Epoch 64, Loss: 0.5543, IOU: 0.4998, DICE: 0.6632238626480103\n",
      "Epoch 65, Loss: 0.5332, IOU: 0.5218, DICE: 0.6728261113166809\n",
      "Epoch 66, Loss: 0.5014, IOU: 0.5342, DICE: 0.6983964443206787\n",
      "Epoch 67, Loss: 0.4599, IOU: 0.6000, DICE: 0.7361805438995361\n",
      "Epoch 68, Loss: 0.4826, IOU: 0.5807, DICE: 0.7291279435157776\n",
      "Epoch 69, Loss: 0.4666, IOU: 0.5803, DICE: 0.7356542944908142\n",
      "Epoch 70, Loss: 0.4642, IOU: 0.5736, DICE: 0.7235319018363953\n",
      "Epoch 71, Loss: 0.4352, IOU: 0.5963, DICE: 0.7478963732719421\n",
      "Epoch 72, Loss: 0.4202, IOU: 0.6343, DICE: 0.7594546675682068\n",
      "Epoch 73, Loss: 0.3930, IOU: 0.6413, DICE: 0.7806407809257507\n",
      "Epoch 74, Loss: 0.3867, IOU: 0.6296, DICE: 0.7787690758705139\n",
      "Epoch 75, Loss: 0.3687, IOU: 0.6663, DICE: 0.790028989315033\n",
      "Epoch 76, Loss: 0.3566, IOU: 0.6638, DICE: 0.8031452298164368\n",
      "Epoch 77, Loss: 0.3566, IOU: 0.6626, DICE: 0.8031890392303467\n",
      "Epoch 78, Loss: 0.3606, IOU: 0.6785, DICE: 0.8013722896575928\n",
      "Epoch 79, Loss: 0.4121, IOU: 0.6131, DICE: 0.7695283889770508\n",
      "Epoch 80, Loss: 0.4288, IOU: 0.6279, DICE: 0.7755098938941956\n",
      "Epoch 81, Loss: 0.3727, IOU: 0.6435, DICE: 0.7901216745376587\n",
      "Epoch 82, Loss: 0.4444, IOU: 0.5999, DICE: 0.779773473739624\n",
      "Epoch 83, Loss: 0.3848, IOU: 0.6511, DICE: 0.7959036827087402\n",
      "Epoch 84, Loss: 0.4323, IOU: 0.6134, DICE: 0.771643340587616\n",
      "Epoch 85, Loss: 0.3709, IOU: 0.6404, DICE: 0.7966648936271667\n",
      "Epoch 86, Loss: 0.3886, IOU: 0.6410, DICE: 0.7915322184562683\n",
      "Epoch 87, Loss: 0.3549, IOU: 0.6672, DICE: 0.81046062707901\n",
      "Epoch 88, Loss: 0.3544, IOU: 0.6747, DICE: 0.8176140189170837\n",
      "Epoch 89, Loss: 0.4254, IOU: 0.6205, DICE: 0.7776730060577393\n",
      "Epoch 90, Loss: 0.3741, IOU: 0.6564, DICE: 0.806301474571228\n",
      "Epoch 91, Loss: 0.3745, IOU: 0.6365, DICE: 0.7872418165206909\n",
      "Epoch 92, Loss: 0.3902, IOU: 0.6249, DICE: 0.7787400484085083\n",
      "Epoch 93, Loss: 0.3596, IOU: 0.6635, DICE: 0.799314558506012\n",
      "Epoch 94, Loss: 0.3747, IOU: 0.6525, DICE: 0.7952621579170227\n",
      "Epoch 95, Loss: 0.3402, IOU: 0.6723, DICE: 0.8100124001502991\n",
      "Epoch 96, Loss: 0.3542, IOU: 0.6684, DICE: 0.8073341250419617\n",
      "Epoch 97, Loss: 0.3031, IOU: 0.7075, DICE: 0.8360063433647156\n",
      "Epoch 98, Loss: 0.3311, IOU: 0.6905, DICE: 0.8232936263084412\n",
      "Epoch 99, Loss: 0.2826, IOU: 0.7244, DICE: 0.8452035188674927\n",
      "Epoch 100, Loss: 0.2769, IOU: 0.7348, DICE: 0.8423854112625122\n"
     ]
    }
   ],
   "source": [
    "\n",
    "inference_name = \"hybrid_v3_baseline\"\n",
    "\n",
    "model = HybridSegModel(in_channels = 1, out_channels = 2, output_size = image_size, layers_num = 3)\n",
    "checkpoint = torch.load(f\"models/{inference_name}/best_checkpoint.pth\")\n",
    "model.load_state_dict(checkpoint['model_state_dict'])\n",
    "loss_fn = StructureLoss()\n",
    "optimizer = optim.Adam(model.parameters(), lr=lr)\n",
    "scheduler = optim.lr_scheduler.CosineAnnealingLR(optimizer, T_max=epochs)\n",
    "lr = 0.01\n",
    "model.to(\"cuda\")\n",
    "image = image.to(\"cuda\")\n",
    "mask = mask.to(\"cuda\")\n",
    "for epoch in range(100):\n",
    "    outputs = model(image)\n",
    "        \n",
    "    output = outputs[:, 0:1, :, :]\n",
    "    \n",
    "    \n",
    "    loss = loss_fn(output, mask)\n",
    "\n",
    "    IOU = IOU_score(output, mask)\n",
    "\n",
    "    dice_loss = DiceLoss()\n",
    "    DICE = 1 - dice_loss(output, mask)\n",
    "\n",
    "    \n",
    "    # Backward and optimize\n",
    "    optimizer.zero_grad()   # clear previous gradients\n",
    "    loss.backward()         # compute gradients\n",
    "    optimizer.step()        # update weights\n",
    "    print(f\"Epoch {epoch+1}, Loss: {loss.item():.4f}, IOU: {IOU.item():.4f}, DICE: {DICE.item()}\")"
   ]
  },
  {
   "cell_type": "code",
   "execution_count": 55,
   "id": "31a25cc8-c6ce-46c6-881f-0b042cfc3a5c",
   "metadata": {},
   "outputs": [],
   "source": [
    "def train(dataloader, model, optimizer, loss_fn, device):\n",
    "    total_loss = 0\n",
    "    total_IOU = 0\n",
    "    total_DICE = 0\n",
    "    \n",
    "    model.train()\n",
    "    model.to(device)\n",
    "    count = 0\n",
    "    for image, mask, mask_name, image_type in tqdm(dataloader):\n",
    "        image, mask = image.to(device), mask.to(device)\n",
    "        \n",
    "        outputs = model(image)\n",
    "        \n",
    "        output = outputs[:, 0:1, :, :]\n",
    "        \n",
    "        \n",
    "        loss = loss_fn(output, mask)\n",
    "\n",
    "        IOU = IOU_score(output, mask)\n",
    "\n",
    "        dice_loss = DiceLoss()\n",
    "        DICE = 1 - dice_loss(output, mask)\n",
    "\n",
    "        \n",
    "        # Backward and optimize\n",
    "        optimizer.zero_grad()   # clear previous gradients\n",
    "        loss.backward()         # compute gradients\n",
    "        optimizer.step()        # update weights\n",
    "\n",
    "        total_loss += loss.item()\n",
    "        total_IOU += IOU.item()\n",
    "        total_DICE += DICE.item()\n",
    "        # count+=1\n",
    "        # if count==5:\n",
    "        #     break\n",
    "    return total_loss/len(dataloader), total_IOU/len(dataloader), total_DICE/len(dataloader)\n",
    "\n",
    "\n",
    "# \n",
    "# Only calculate nodule loss, IOU, DICE, because there is no gland data in the testing set\n",
    "def val(dataloader, model, loss_fn, device):\n",
    "    total_loss = 0\n",
    "    \n",
    "    total_IOU = 0\n",
    "    \n",
    "    total_DICE = 0\n",
    "\n",
    "    model.eval()\n",
    "    model.to(device)\n",
    "    for image, mask, mask_name, image_type in tqdm(dataloader):\n",
    "        image, mask = image.to(device), mask.to(device)\n",
    "        outputs = model(image)\n",
    "        \n",
    "        output = outputs[:, 0:1, :, :]\n",
    "        \n",
    "        \n",
    "        loss = loss_fn(output, mask)\n",
    "\n",
    "        IOU = IOU_score(output, mask)\n",
    "\n",
    "        dice_loss = DiceLoss()\n",
    "        DICE = 1 - dice_loss(output, mask)\n",
    "    \n",
    "\n",
    "        total_loss += loss.item()\n",
    "        \n",
    "        total_IOU += IOU.item()\n",
    "        \n",
    "        total_DICE += DICE.item()\n",
    "    return total_loss/len(dataloader), total_IOU/len(dataloader), total_DICE/len(dataloader)\n",
    "\n",
    "\n",
    "    "
   ]
  },
  {
   "cell_type": "code",
   "execution_count": 39,
   "id": "0da10b3f-373c-4e37-a89f-3de7e7be13cf",
   "metadata": {},
   "outputs": [
    {
     "data": {
      "text/html": [
       "Tracking run with wandb version 0.19.11"
      ],
      "text/plain": [
       "<IPython.core.display.HTML object>"
      ]
     },
     "metadata": {},
     "output_type": "display_data"
    },
    {
     "data": {
      "text/html": [
       "Run data is saved locally in <code>/home/twszbak764/thyroid/code/wandb/run-20250519_144531-8hwkoivy</code>"
      ],
      "text/plain": [
       "<IPython.core.display.HTML object>"
      ]
     },
     "metadata": {},
     "output_type": "display_data"
    },
    {
     "data": {
      "text/html": [
       "Syncing run <strong><a href='https://wandb.ai/s960068sss-ucl/thyroid_ge_finetune/runs/8hwkoivy' target=\"_blank\">test</a></strong> to <a href='https://wandb.ai/s960068sss-ucl/thyroid_ge_finetune' target=\"_blank\">Weights & Biases</a> (<a href='https://wandb.me/developer-guide' target=\"_blank\">docs</a>)<br>"
      ],
      "text/plain": [
       "<IPython.core.display.HTML object>"
      ]
     },
     "metadata": {},
     "output_type": "display_data"
    },
    {
     "data": {
      "text/html": [
       " View project at <a href='https://wandb.ai/s960068sss-ucl/thyroid_ge_finetune' target=\"_blank\">https://wandb.ai/s960068sss-ucl/thyroid_ge_finetune</a>"
      ],
      "text/plain": [
       "<IPython.core.display.HTML object>"
      ]
     },
     "metadata": {},
     "output_type": "display_data"
    },
    {
     "data": {
      "text/html": [
       " View run at <a href='https://wandb.ai/s960068sss-ucl/thyroid_ge_finetune/runs/8hwkoivy' target=\"_blank\">https://wandb.ai/s960068sss-ucl/thyroid_ge_finetune/runs/8hwkoivy</a>"
      ],
      "text/plain": [
       "<IPython.core.display.HTML object>"
      ]
     },
     "metadata": {},
     "output_type": "display_data"
    },
    {
     "data": {
      "text/html": [
       "<button onClick=\"this.nextSibling.style.display='block';this.style.display='none';\">Display W&B run</button><iframe src='https://wandb.ai/s960068sss-ucl/thyroid_ge_finetune/runs/8hwkoivy?jupyter=true' style='border:none;width:100%;height:420px;display:none;'></iframe>"
      ],
      "text/plain": [
       "<wandb.sdk.wandb_run.Run at 0x7f9e94511310>"
      ]
     },
     "execution_count": 39,
     "metadata": {},
     "output_type": "execute_result"
    }
   ],
   "source": [
    "epochs = 50\n",
    "lr = 0.01\n",
    "project = \"thyroid_ge_finetune\"\n",
    "# name = \"hybrid_model_baseline(0.1)\"\n",
    "name = \"test\"\n",
    "wandb.init(\n",
    "    project = project,  # Project name in W&B\n",
    "    name = name,       # (optional) specific run name\n",
    "    config={                     # (optional) hyperparameters\n",
    "        \"image_size\": image_size,\n",
    "        \"learning_rate\": lr,\n",
    "        \"epochs\": epochs,\n",
    "        \"batch_size\": batch_size,\n",
    "        # \"weight_decay\":1e-4\n",
    "    }\n",
    ")"
   ]
  },
  {
   "cell_type": "code",
   "execution_count": 40,
   "id": "e33af555-b222-4002-a981-e8ff436d6898",
   "metadata": {},
   "outputs": [
    {
     "name": "stdout",
     "output_type": "stream",
     "text": [
      "image size : 128, lr : 0.01, epochs : 50, batch size : 128\n"
     ]
    }
   ],
   "source": [
    "print(f\"image size : {image_size}, lr : {lr}, epochs : {epochs}, batch size : {batch_size}\")"
   ]
  },
  {
   "cell_type": "code",
   "execution_count": 56,
   "id": "7d0f2b7c-d1d7-4e78-89cc-d55ab16516f1",
   "metadata": {
    "scrolled": true
   },
   "outputs": [
    {
     "data": {
      "text/plain": [
       "<All keys matched successfully>"
      ]
     },
     "execution_count": 56,
     "metadata": {},
     "output_type": "execute_result"
    }
   ],
   "source": [
    "\n",
    "inference_name = \"hybrid_v3_baseline\"\n",
    "\n",
    "model = HybridSegModel(in_channels = 1, out_channels = 2, output_size = image_size, layers_num = 3)\n",
    "checkpoint = torch.load(f\"models/{inference_name}/best_checkpoint.pth\")\n",
    "model.load_state_dict(checkpoint['model_state_dict'])\n",
    "# optimizer.load_state_dict(checkpoint['optimizer_state_dict'])\n",
    "# scheduler.load_state_dict(checkpoint['scheduler_state_dict'])"
   ]
  },
  {
   "cell_type": "code",
   "execution_count": 57,
   "id": "3f53eeed-e524-4c53-8e42-db3d746d9e52",
   "metadata": {},
   "outputs": [],
   "source": [
    "# loss_fn = DiceLoss()\n",
    "loss_fn = StructureLoss()\n",
    "optimizer = optim.Adam(model.parameters(), lr=lr)\n",
    "scheduler = optim.lr_scheduler.CosineAnnealingLR(optimizer, T_max=epochs)"
   ]
  },
  {
   "cell_type": "code",
   "execution_count": 58,
   "id": "be607e4f-fff9-4ade-afdd-8c73bcdbeb23",
   "metadata": {
    "scrolled": true
   },
   "outputs": [
    {
     "name": "stdout",
     "output_type": "stream",
     "text": [
      "epoch : 0\n"
     ]
    },
    {
     "name": "stderr",
     "output_type": "stream",
     "text": [
      "100%|██████████| 1/1 [00:00<00:00,  1.56it/s]\n"
     ]
    },
    {
     "name": "stdout",
     "output_type": "stream",
     "text": [
      "train loss : 3.443044662475586, train IOU : 0.157612606883049, train DICE : 0.3058069944381714\n",
      "epoch : 1\n"
     ]
    },
    {
     "name": "stderr",
     "output_type": "stream",
     "text": [
      "100%|██████████| 1/1 [00:00<00:00,  1.54it/s]\n"
     ]
    },
    {
     "name": "stdout",
     "output_type": "stream",
     "text": [
      "train loss : 2.4286766052246094, train IOU : 0.013178491033613682, train DICE : 0.03177690505981445\n",
      "epoch : 2\n"
     ]
    },
    {
     "name": "stderr",
     "output_type": "stream",
     "text": [
      "100%|██████████| 1/1 [00:00<00:00,  1.56it/s]\n"
     ]
    },
    {
     "name": "stdout",
     "output_type": "stream",
     "text": [
      "train loss : 1.4302808046340942, train IOU : 0.1035868376493454, train DICE : 0.17663288116455078\n",
      "epoch : 3\n"
     ]
    },
    {
     "name": "stderr",
     "output_type": "stream",
     "text": [
      "100%|██████████| 1/1 [00:00<00:00,  1.56it/s]\n"
     ]
    },
    {
     "name": "stdout",
     "output_type": "stream",
     "text": [
      "train loss : 1.2241655588150024, train IOU : 0.12387446314096451, train DICE : 0.16326826810836792\n",
      "epoch : 4\n"
     ]
    },
    {
     "name": "stderr",
     "output_type": "stream",
     "text": [
      "100%|██████████| 1/1 [00:00<00:00,  1.55it/s]\n"
     ]
    },
    {
     "name": "stdout",
     "output_type": "stream",
     "text": [
      "train loss : 1.063372254371643, train IOU : 0.154713973402977, train DICE : 0.20335865020751953\n",
      "epoch : 5\n"
     ]
    },
    {
     "name": "stderr",
     "output_type": "stream",
     "text": [
      "100%|██████████| 1/1 [00:00<00:00,  1.60it/s]\n"
     ]
    },
    {
     "name": "stdout",
     "output_type": "stream",
     "text": [
      "train loss : 1.0182889699935913, train IOU : 0.10428043454885483, train DICE : 0.20402413606643677\n",
      "epoch : 6\n"
     ]
    },
    {
     "name": "stderr",
     "output_type": "stream",
     "text": [
      "100%|██████████| 1/1 [00:00<00:00,  1.54it/s]\n"
     ]
    },
    {
     "name": "stdout",
     "output_type": "stream",
     "text": [
      "train loss : 1.0024833679199219, train IOU : 0.07828494906425476, train DICE : 0.2097894549369812\n",
      "epoch : 7\n"
     ]
    },
    {
     "name": "stderr",
     "output_type": "stream",
     "text": [
      "100%|██████████| 1/1 [00:00<00:00,  1.60it/s]\n"
     ]
    },
    {
     "name": "stdout",
     "output_type": "stream",
     "text": [
      "train loss : 0.977679431438446, train IOU : 0.11630143225193024, train DICE : 0.23881876468658447\n",
      "epoch : 8\n"
     ]
    },
    {
     "name": "stderr",
     "output_type": "stream",
     "text": [
      "100%|██████████| 1/1 [00:00<00:00,  1.60it/s]\n"
     ]
    },
    {
     "name": "stdout",
     "output_type": "stream",
     "text": [
      "train loss : 0.9577126502990723, train IOU : 0.1648196578025818, train DICE : 0.2689981460571289\n",
      "epoch : 9\n"
     ]
    },
    {
     "name": "stderr",
     "output_type": "stream",
     "text": [
      "100%|██████████| 1/1 [00:00<00:00,  1.60it/s]\n"
     ]
    },
    {
     "name": "stdout",
     "output_type": "stream",
     "text": [
      "train loss : 0.9532908201217651, train IOU : 0.18581481277942657, train DICE : 0.28733760118484497\n",
      "epoch : 10\n"
     ]
    },
    {
     "name": "stderr",
     "output_type": "stream",
     "text": [
      "100%|██████████| 1/1 [00:00<00:00,  1.59it/s]\n"
     ]
    },
    {
     "name": "stdout",
     "output_type": "stream",
     "text": [
      "train loss : 0.9322354197502136, train IOU : 0.20034141838550568, train DICE : 0.3021818995475769\n",
      "epoch : 11\n"
     ]
    },
    {
     "name": "stderr",
     "output_type": "stream",
     "text": [
      "100%|██████████| 1/1 [00:00<00:00,  1.56it/s]\n"
     ]
    },
    {
     "name": "stdout",
     "output_type": "stream",
     "text": [
      "train loss : 0.9162764549255371, train IOU : 0.20159929990768433, train DICE : 0.3106095790863037\n",
      "epoch : 12\n"
     ]
    },
    {
     "name": "stderr",
     "output_type": "stream",
     "text": [
      "100%|██████████| 1/1 [00:00<00:00,  1.60it/s]\n"
     ]
    },
    {
     "name": "stdout",
     "output_type": "stream",
     "text": [
      "train loss : 0.9560467004776001, train IOU : 0.13727501034736633, train DICE : 0.2788759469985962\n",
      "epoch : 13\n"
     ]
    },
    {
     "name": "stderr",
     "output_type": "stream",
     "text": [
      "100%|██████████| 1/1 [00:00<00:00,  1.60it/s]\n"
     ]
    },
    {
     "name": "stdout",
     "output_type": "stream",
     "text": [
      "train loss : 0.9037229418754578, train IOU : 0.21895462274551392, train DICE : 0.3342336416244507\n",
      "epoch : 14\n"
     ]
    },
    {
     "name": "stderr",
     "output_type": "stream",
     "text": [
      "100%|██████████| 1/1 [00:00<00:00,  1.56it/s]\n"
     ]
    },
    {
     "name": "stdout",
     "output_type": "stream",
     "text": [
      "train loss : 0.9066357612609863, train IOU : 0.21996428072452545, train DICE : 0.34000611305236816\n",
      "epoch : 15\n"
     ]
    },
    {
     "name": "stderr",
     "output_type": "stream",
     "text": [
      "100%|██████████| 1/1 [00:00<00:00,  1.56it/s]\n"
     ]
    },
    {
     "name": "stdout",
     "output_type": "stream",
     "text": [
      "train loss : 0.8851653337478638, train IOU : 0.23147308826446533, train DICE : 0.3523446321487427\n",
      "epoch : 16\n"
     ]
    },
    {
     "name": "stderr",
     "output_type": "stream",
     "text": [
      "100%|██████████| 1/1 [00:00<00:00,  1.60it/s]\n"
     ]
    },
    {
     "name": "stdout",
     "output_type": "stream",
     "text": [
      "train loss : 0.8721562623977661, train IOU : 0.24406081438064575, train DICE : 0.3645820617675781\n",
      "epoch : 17\n"
     ]
    },
    {
     "name": "stderr",
     "output_type": "stream",
     "text": [
      "100%|██████████| 1/1 [00:00<00:00,  1.60it/s]\n"
     ]
    },
    {
     "name": "stdout",
     "output_type": "stream",
     "text": [
      "train loss : 0.8766303062438965, train IOU : 0.2489262819290161, train DICE : 0.37575531005859375\n",
      "epoch : 18\n"
     ]
    },
    {
     "name": "stderr",
     "output_type": "stream",
     "text": [
      "100%|██████████| 1/1 [00:00<00:00,  1.58it/s]\n"
     ]
    },
    {
     "name": "stdout",
     "output_type": "stream",
     "text": [
      "train loss : 0.8408620357513428, train IOU : 0.26956674456596375, train DICE : 0.398601770401001\n",
      "epoch : 19\n"
     ]
    },
    {
     "name": "stderr",
     "output_type": "stream",
     "text": [
      "100%|██████████| 1/1 [00:00<00:00,  1.60it/s]\n"
     ]
    },
    {
     "name": "stdout",
     "output_type": "stream",
     "text": [
      "train loss : 0.8262789249420166, train IOU : 0.27224957942962646, train DICE : 0.40796297788619995\n",
      "epoch : 20\n"
     ]
    },
    {
     "name": "stderr",
     "output_type": "stream",
     "text": [
      "100%|██████████| 1/1 [00:00<00:00,  1.60it/s]\n"
     ]
    },
    {
     "name": "stdout",
     "output_type": "stream",
     "text": [
      "train loss : 0.8121699094772339, train IOU : 0.29590049386024475, train DICE : 0.4256424307823181\n",
      "epoch : 21\n"
     ]
    },
    {
     "name": "stderr",
     "output_type": "stream",
     "text": [
      "100%|██████████| 1/1 [00:00<00:00,  1.60it/s]\n"
     ]
    },
    {
     "name": "stdout",
     "output_type": "stream",
     "text": [
      "train loss : 0.8101924061775208, train IOU : 0.30377665162086487, train DICE : 0.42386627197265625\n",
      "epoch : 22\n"
     ]
    },
    {
     "name": "stderr",
     "output_type": "stream",
     "text": [
      "100%|██████████| 1/1 [00:00<00:00,  1.56it/s]\n"
     ]
    },
    {
     "name": "stdout",
     "output_type": "stream",
     "text": [
      "train loss : 0.8055728077888489, train IOU : 0.29455894231796265, train DICE : 0.44406354427337646\n",
      "epoch : 23\n"
     ]
    },
    {
     "name": "stderr",
     "output_type": "stream",
     "text": [
      "100%|██████████| 1/1 [00:00<00:00,  1.59it/s]\n"
     ]
    },
    {
     "name": "stdout",
     "output_type": "stream",
     "text": [
      "train loss : 0.7759473323822021, train IOU : 0.33022117614746094, train DICE : 0.4602741003036499\n",
      "epoch : 24\n"
     ]
    },
    {
     "name": "stderr",
     "output_type": "stream",
     "text": [
      "100%|██████████| 1/1 [00:00<00:00,  1.60it/s]\n"
     ]
    },
    {
     "name": "stdout",
     "output_type": "stream",
     "text": [
      "train loss : 0.757806122303009, train IOU : 0.3351122736930847, train DICE : 0.4881683588027954\n",
      "epoch : 25\n"
     ]
    },
    {
     "name": "stderr",
     "output_type": "stream",
     "text": [
      "100%|██████████| 1/1 [00:00<00:00,  1.54it/s]\n"
     ]
    },
    {
     "name": "stdout",
     "output_type": "stream",
     "text": [
      "train loss : 0.7460679411888123, train IOU : 0.34530705213546753, train DICE : 0.5013954639434814\n",
      "epoch : 26\n"
     ]
    },
    {
     "name": "stderr",
     "output_type": "stream",
     "text": [
      "100%|██████████| 1/1 [00:00<00:00,  1.54it/s]\n"
     ]
    },
    {
     "name": "stdout",
     "output_type": "stream",
     "text": [
      "train loss : 0.7864100933074951, train IOU : 0.315186083316803, train DICE : 0.4807623624801636\n",
      "epoch : 27\n"
     ]
    },
    {
     "name": "stderr",
     "output_type": "stream",
     "text": [
      "100%|██████████| 1/1 [00:00<00:00,  1.54it/s]\n"
     ]
    },
    {
     "name": "stdout",
     "output_type": "stream",
     "text": [
      "train loss : 0.7531067132949829, train IOU : 0.33943697810173035, train DICE : 0.48578572273254395\n",
      "epoch : 28\n"
     ]
    },
    {
     "name": "stderr",
     "output_type": "stream",
     "text": [
      "100%|██████████| 1/1 [00:00<00:00,  1.60it/s]\n"
     ]
    },
    {
     "name": "stdout",
     "output_type": "stream",
     "text": [
      "train loss : 0.7741970419883728, train IOU : 0.3304067850112915, train DICE : 0.48519325256347656\n",
      "epoch : 29\n"
     ]
    },
    {
     "name": "stderr",
     "output_type": "stream",
     "text": [
      "100%|██████████| 1/1 [00:00<00:00,  1.55it/s]\n"
     ]
    },
    {
     "name": "stdout",
     "output_type": "stream",
     "text": [
      "train loss : 0.7237870693206787, train IOU : 0.35498136281967163, train DICE : 0.5155723690986633\n",
      "epoch : 30\n"
     ]
    },
    {
     "name": "stderr",
     "output_type": "stream",
     "text": [
      "100%|██████████| 1/1 [00:00<00:00,  1.59it/s]\n"
     ]
    },
    {
     "name": "stdout",
     "output_type": "stream",
     "text": [
      "train loss : 0.7249175906181335, train IOU : 0.3743153512477875, train DICE : 0.5207530856132507\n",
      "epoch : 31\n"
     ]
    },
    {
     "name": "stderr",
     "output_type": "stream",
     "text": [
      "100%|██████████| 1/1 [00:00<00:00,  1.56it/s]\n"
     ]
    },
    {
     "name": "stdout",
     "output_type": "stream",
     "text": [
      "train loss : 0.7030850052833557, train IOU : 0.3867207467556, train DICE : 0.5223907828330994\n",
      "epoch : 32\n"
     ]
    },
    {
     "name": "stderr",
     "output_type": "stream",
     "text": [
      "100%|██████████| 1/1 [00:00<00:00,  1.60it/s]\n"
     ]
    },
    {
     "name": "stdout",
     "output_type": "stream",
     "text": [
      "train loss : 0.6984272599220276, train IOU : 0.3934778571128845, train DICE : 0.5258070826530457\n",
      "epoch : 33\n"
     ]
    },
    {
     "name": "stderr",
     "output_type": "stream",
     "text": [
      "100%|██████████| 1/1 [00:00<00:00,  1.60it/s]\n"
     ]
    },
    {
     "name": "stdout",
     "output_type": "stream",
     "text": [
      "train loss : 0.6722756028175354, train IOU : 0.411112517118454, train DICE : 0.5539308786392212\n",
      "epoch : 34\n"
     ]
    },
    {
     "name": "stderr",
     "output_type": "stream",
     "text": [
      "100%|██████████| 1/1 [00:00<00:00,  1.60it/s]\n"
     ]
    },
    {
     "name": "stdout",
     "output_type": "stream",
     "text": [
      "train loss : 0.6645209789276123, train IOU : 0.44153738021850586, train DICE : 0.5814277529716492\n",
      "epoch : 35\n"
     ]
    },
    {
     "name": "stderr",
     "output_type": "stream",
     "text": [
      "100%|██████████| 1/1 [00:00<00:00,  1.59it/s]\n"
     ]
    },
    {
     "name": "stdout",
     "output_type": "stream",
     "text": [
      "train loss : 0.6431130766868591, train IOU : 0.4444928467273712, train DICE : 0.5954827070236206\n",
      "epoch : 36\n"
     ]
    },
    {
     "name": "stderr",
     "output_type": "stream",
     "text": [
      "100%|██████████| 1/1 [00:00<00:00,  1.54it/s]\n"
     ]
    },
    {
     "name": "stdout",
     "output_type": "stream",
     "text": [
      "train loss : 0.7116779088973999, train IOU : 0.36213794350624084, train DICE : 0.5497382283210754\n",
      "epoch : 37\n"
     ]
    },
    {
     "name": "stderr",
     "output_type": "stream",
     "text": [
      "100%|██████████| 1/1 [00:00<00:00,  1.60it/s]\n"
     ]
    },
    {
     "name": "stdout",
     "output_type": "stream",
     "text": [
      "train loss : 0.7127777338027954, train IOU : 0.3769102990627289, train DICE : 0.5499523282051086\n",
      "epoch : 38\n"
     ]
    },
    {
     "name": "stderr",
     "output_type": "stream",
     "text": [
      "100%|██████████| 1/1 [00:00<00:00,  1.60it/s]\n"
     ]
    },
    {
     "name": "stdout",
     "output_type": "stream",
     "text": [
      "train loss : 0.6747421622276306, train IOU : 0.4065399467945099, train DICE : 0.565811276435852\n",
      "epoch : 39\n"
     ]
    },
    {
     "name": "stderr",
     "output_type": "stream",
     "text": [
      "100%|██████████| 1/1 [00:00<00:00,  1.59it/s]\n"
     ]
    },
    {
     "name": "stdout",
     "output_type": "stream",
     "text": [
      "train loss : 0.6601400375366211, train IOU : 0.42051923274993896, train DICE : 0.5792573690414429\n",
      "epoch : 40\n"
     ]
    },
    {
     "name": "stderr",
     "output_type": "stream",
     "text": [
      "100%|██████████| 1/1 [00:00<00:00,  1.55it/s]\n"
     ]
    },
    {
     "name": "stdout",
     "output_type": "stream",
     "text": [
      "train loss : 0.6344563364982605, train IOU : 0.478701114654541, train DICE : 0.6094513535499573\n",
      "epoch : 41\n"
     ]
    },
    {
     "name": "stderr",
     "output_type": "stream",
     "text": [
      "100%|██████████| 1/1 [00:00<00:00,  1.55it/s]\n"
     ]
    },
    {
     "name": "stdout",
     "output_type": "stream",
     "text": [
      "train loss : 0.6283372044563293, train IOU : 0.44298696517944336, train DICE : 0.6076174974441528\n",
      "epoch : 42\n"
     ]
    },
    {
     "name": "stderr",
     "output_type": "stream",
     "text": [
      "100%|██████████| 1/1 [00:00<00:00,  1.60it/s]\n"
     ]
    },
    {
     "name": "stdout",
     "output_type": "stream",
     "text": [
      "train loss : 0.6102782487869263, train IOU : 0.45788073539733887, train DICE : 0.6187433004379272\n",
      "epoch : 43\n"
     ]
    },
    {
     "name": "stderr",
     "output_type": "stream",
     "text": [
      "100%|██████████| 1/1 [00:00<00:00,  1.60it/s]\n"
     ]
    },
    {
     "name": "stdout",
     "output_type": "stream",
     "text": [
      "train loss : 0.6197380423545837, train IOU : 0.47352996468544006, train DICE : 0.6287919282913208\n",
      "epoch : 44\n"
     ]
    },
    {
     "name": "stderr",
     "output_type": "stream",
     "text": [
      "100%|██████████| 1/1 [00:00<00:00,  1.60it/s]\n"
     ]
    },
    {
     "name": "stdout",
     "output_type": "stream",
     "text": [
      "train loss : 0.6075804829597473, train IOU : 0.4469386637210846, train DICE : 0.6240260004997253\n",
      "epoch : 45\n"
     ]
    },
    {
     "name": "stderr",
     "output_type": "stream",
     "text": [
      "100%|██████████| 1/1 [00:00<00:00,  1.60it/s]\n"
     ]
    },
    {
     "name": "stdout",
     "output_type": "stream",
     "text": [
      "train loss : 0.5699392557144165, train IOU : 0.4841030538082123, train DICE : 0.655449390411377\n",
      "epoch : 46\n"
     ]
    },
    {
     "name": "stderr",
     "output_type": "stream",
     "text": [
      "100%|██████████| 1/1 [00:00<00:00,  1.54it/s]\n"
     ]
    },
    {
     "name": "stdout",
     "output_type": "stream",
     "text": [
      "train loss : 0.5691079497337341, train IOU : 0.5029183030128479, train DICE : 0.6689360737800598\n",
      "epoch : 47\n"
     ]
    },
    {
     "name": "stderr",
     "output_type": "stream",
     "text": [
      "100%|██████████| 1/1 [00:00<00:00,  1.56it/s]\n"
     ]
    },
    {
     "name": "stdout",
     "output_type": "stream",
     "text": [
      "train loss : 0.6216198205947876, train IOU : 0.43755847215652466, train DICE : 0.6250410676002502\n",
      "epoch : 48\n"
     ]
    },
    {
     "name": "stderr",
     "output_type": "stream",
     "text": [
      "100%|██████████| 1/1 [00:00<00:00,  1.59it/s]\n"
     ]
    },
    {
     "name": "stdout",
     "output_type": "stream",
     "text": [
      "train loss : 0.5204899907112122, train IOU : 0.5236183404922485, train DICE : 0.6946182250976562\n",
      "epoch : 49\n"
     ]
    },
    {
     "name": "stderr",
     "output_type": "stream",
     "text": [
      "100%|██████████| 1/1 [00:00<00:00,  1.60it/s]"
     ]
    },
    {
     "name": "stdout",
     "output_type": "stream",
     "text": [
      "train loss : 0.5527198910713196, train IOU : 0.5293310284614563, train DICE : 0.6848083138465881\n"
     ]
    },
    {
     "name": "stderr",
     "output_type": "stream",
     "text": [
      "\n"
     ]
    }
   ],
   "source": [
    "max_IOU = -1\n",
    "for epoch in range(epochs):\n",
    "    print(f\"epoch : {epoch}\")\n",
    "    total_loss_train, total_IOU_train, total_DICE_train = train(train_dataloader, model, optimizer, loss_fn, \"cuda\")\n",
    "    print(f\"train loss : {total_loss_train}, train IOU : {total_IOU_train}, train DICE : {total_DICE_train}\")\n",
    "#     total_loss_val, total_IOU_val, total_DICE_val = val(test_dataloader, model, loss_fn, \"cuda\")\n",
    "#     print(f\"val loss : {total_loss_val}, val IOU : {total_IOU_val}, val DICE : {total_DICE_val}\")\n",
    "    \n",
    "#     scheduler.step()\n",
    "#     current_lr = scheduler.get_last_lr()[0]\n",
    "\n",
    "\n",
    "\n",
    "#     if max_IOU < total_IOU_val:\n",
    "#         max_IOU = total_IOU_val\n",
    "#         checkpoint = {\n",
    "#             'epoch': epoch,\n",
    "#             'model_state_dict': model.state_dict(),\n",
    "#             'optimizer_state_dict': optimizer.state_dict(),\n",
    "#             'scheduler_state_dict': scheduler.state_dict(),\n",
    "#             \"IOU\" : total_IOU_val,\n",
    "#             \"DICE\" : total_DICE_val,\n",
    "#             \"loss\" : total_loss_val\n",
    "#         }\n",
    "#         folder = f\"models/{name}\"\n",
    "#         if not os.path.exists(folder):\n",
    "#             os.mkdir(folder)\n",
    "#         torch.save(checkpoint, f\"models/{name}/best_checkpoint.pth\")\n",
    "\n",
    "    \n",
    "#     wandb.log({\n",
    "#         \"epoch\": epoch,\n",
    "#         \"Learning Rate\":current_lr,\n",
    "        \n",
    "#         \"train_loss\": total_loss_train,\n",
    "#         \"train_IOU\": total_IOU_train,\n",
    "#         \"train_DICE\": total_DICE_train,\n",
    "        \n",
    "#         \"val_loss\": total_loss_val,\n",
    "#         \"val_IOU\": total_IOU_val,\n",
    "#         \"val_DICE\": total_DICE_val,\n",
    "        \n",
    "#     })\n",
    "\n",
    "\n",
    "\n",
    "\n",
    "# checkpoint = {\n",
    "#     'epoch': epoch,\n",
    "#     'model_state_dict': model.state_dict(),\n",
    "#     'optimizer_state_dict': optimizer.state_dict(),\n",
    "#     'scheduler_state_dict': scheduler.state_dict(),\n",
    "#     \"IOU\" : total_IOU_val,\n",
    "#     \"DICE\" : total_DICE_val,\n",
    "#     \"loss\" : total_loss_val\n",
    "# }\n",
    "# if not os.path.exists(folder):\n",
    "#     os.mkdir(folder)\n",
    "# torch.save(checkpoint, f\"models/{name}/last_checkpoint.pth\")\n",
    "# wandb.finish()"
   ]
  },
  {
   "cell_type": "code",
   "execution_count": null,
   "id": "0bfe4e64-fff0-4649-8694-28642344fc6a",
   "metadata": {},
   "outputs": [],
   "source": [
    "# inference_name = \"PMFSNet_finetune_baseline_v4(0.9)\"\n",
    "# # model = HarDMSEG(in_channels = 1)\n",
    "# model = PMFSNet(in_channels = 1, out_channels = 2, dim = \"2d\")\n",
    "# # model = LightMed(in_channels = 1, out_channels = 1, image_size = image_size)\n",
    "# checkpoint = torch.load(f\"models/{inference_name}/last_checkpoint.pth\")\n",
    "# model.load_state_dict(checkpoint['model_state_dict'])\n",
    "# # optimizer.load_state_dict(checkpoint['optimizer_state_dict'])\n",
    "# # scheduler.load_state_dict(checkpoint['scheduler_state_dict'])"
   ]
  },
  {
   "cell_type": "code",
   "execution_count": null,
   "id": "7d5a8ac3-23ba-47fe-8ea2-7d14aa5131fe",
   "metadata": {},
   "outputs": [],
   "source": []
  },
  {
   "cell_type": "code",
   "execution_count": null,
   "id": "a4f988eb-898e-4d44-890a-76c4d4eb6176",
   "metadata": {},
   "outputs": [],
   "source": [
    "# image, mask, seg_type, from_dataset = next(iter(test_dataloader))\n",
    "# model.to(\"cpu\")\n",
    "# outputs = model(image)\n",
    "# print(outputs.shape)"
   ]
  },
  {
   "cell_type": "code",
   "execution_count": null,
   "id": "ea4a46db-fef6-4b3c-b7b5-215d9acf7b83",
   "metadata": {},
   "outputs": [],
   "source": [
    "# index = 20\n",
    "# plt.subplot(1,2,1)\n",
    "# plt.imshow(image[index][0])\n",
    "# plt.imshow(mask[index][0], alpha = 0.5)\n",
    "# plt.title(\"label\")\n",
    "\n",
    "# outputs = outputs>0.5\n",
    "# plt.subplot(1,2,2)\n",
    "# plt.imshow(image[index][0])\n",
    "# plt.imshow(outputs[index][0].detach().cpu().numpy(), alpha = 0.5)\n",
    "# plt.title(\"prediction\")"
   ]
  },
  {
   "cell_type": "code",
   "execution_count": null,
   "id": "85b58550-f8c4-49cc-bf06-9f1fad998b2f",
   "metadata": {},
   "outputs": [],
   "source": []
  }
 ],
 "metadata": {
  "kernelspec": {
   "display_name": "thyroid",
   "language": "python",
   "name": "thyroid"
  },
  "language_info": {
   "codemirror_mode": {
    "name": "ipython",
    "version": 3
   },
   "file_extension": ".py",
   "mimetype": "text/x-python",
   "name": "python",
   "nbconvert_exporter": "python",
   "pygments_lexer": "ipython3",
   "version": "3.12.9"
  }
 },
 "nbformat": 4,
 "nbformat_minor": 5
}
