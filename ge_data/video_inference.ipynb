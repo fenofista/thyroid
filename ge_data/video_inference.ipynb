{
 "cells": [
  {
   "cell_type": "code",
   "execution_count": 3,
   "id": "2fd8ef6c-9d66-4ece-af2a-bee99317e9dd",
   "metadata": {},
   "outputs": [],
   "source": [
    "import torch\n",
    "from torchvision import models\n",
    "\n",
    "import cv2\n",
    "import numpy as np\n",
    "import torchvision.transforms as transforms\n",
    "from torch.cuda.amp import autocast\n",
    "import matplotlib.pyplot as plt\n",
    "from PIL import Image"
   ]
  },
  {
   "cell_type": "code",
   "execution_count": 2,
   "id": "6eb7ae29-129c-47b5-8817-1e05826b4c69",
   "metadata": {},
   "outputs": [
    {
     "name": "stdout",
     "output_type": "stream",
     "text": [
      "video_000053_1743039079001\n"
     ]
    },
    {
     "ename": "FileNotFoundError",
     "evalue": "[Errno 2] No such file or directory: 'from_video/video_000053_1743039079001_0.png'",
     "output_type": "error",
     "traceback": [
      "\u001b[31m---------------------------------------------------------------------------\u001b[39m",
      "\u001b[31mFileNotFoundError\u001b[39m                         Traceback (most recent call last)",
      "\u001b[36mCell\u001b[39m\u001b[36m \u001b[39m\u001b[32mIn[2]\u001b[39m\u001b[32m, line 25\u001b[39m\n\u001b[32m     23\u001b[39m     \u001b[38;5;28;01mif\u001b[39;00m count % \u001b[32m5\u001b[39m == \u001b[32m0\u001b[39m:\n\u001b[32m     24\u001b[39m         image = Image.fromarray(crop_frame)\n\u001b[32m---> \u001b[39m\u001b[32m25\u001b[39m         image.save(\u001b[33mf\u001b[39m\u001b[33m\"\u001b[39m\u001b[33mfrom_video/\u001b[39m\u001b[38;5;132;01m{\u001b[39;00mvideo_name\u001b[38;5;132;01m}\u001b[39;00m\u001b[33m_\u001b[39m\u001b[38;5;132;01m{\u001b[39;00m\u001b[38;5;28mstr\u001b[39m(count)\u001b[38;5;132;01m}\u001b[39;00m\u001b[33m.png\u001b[39m\u001b[33m\"\u001b[39m)\n\u001b[32m     26\u001b[39m     count+=\u001b[32m1\u001b[39m\n\u001b[32m     27\u001b[39m     \u001b[38;5;66;03m# break\u001b[39;00m\n\u001b[32m     28\u001b[39m \u001b[38;5;66;03m# print(count)\u001b[39;00m\n\u001b[32m     29\u001b[39m \u001b[38;5;66;03m# break\u001b[39;00m\n",
      "\u001b[36mFile \u001b[39m\u001b[32m~/miniconda3/envs/thyroid/lib/python3.12/site-packages/PIL/Image.py:2576\u001b[39m, in \u001b[36mImage.save\u001b[39m\u001b[34m(self, fp, format, **params)\u001b[39m\n\u001b[32m   2574\u001b[39m         fp = builtins.open(filename, \u001b[33m\"\u001b[39m\u001b[33mr+b\u001b[39m\u001b[33m\"\u001b[39m)\n\u001b[32m   2575\u001b[39m     \u001b[38;5;28;01melse\u001b[39;00m:\n\u001b[32m-> \u001b[39m\u001b[32m2576\u001b[39m         fp = builtins.open(filename, \u001b[33m\"\u001b[39m\u001b[33mw+b\u001b[39m\u001b[33m\"\u001b[39m)\n\u001b[32m   2577\u001b[39m \u001b[38;5;28;01melse\u001b[39;00m:\n\u001b[32m   2578\u001b[39m     fp = cast(IO[\u001b[38;5;28mbytes\u001b[39m], fp)\n",
      "\u001b[31mFileNotFoundError\u001b[39m: [Errno 2] No such file or directory: 'from_video/video_000053_1743039079001_0.png'"
     ]
    }
   ],
   "source": [
    "import os\n",
    "root = 'videos'\n",
    "for video_name in os.listdir(root):\n",
    "     if video_name[-4:] == '.mp4':\n",
    "          \n",
    "        video_path = os.path.join(root, video_name)\n",
    "        cap = cv2.VideoCapture(video_path)\n",
    "\n",
    "        if not cap.isOpened():\n",
    "            print(\"Error: Cannot open video.\")\n",
    "            exit()\n",
    "        count = 0\n",
    "        video_name = video_name.split(\".mp4\")[0]\n",
    "        print(video_name)\n",
    "        while cap.isOpened() :\n",
    "            ret, frame = cap.read()\n",
    "            if not ret:\n",
    "                break\n",
    "            # print(frame.shape)\n",
    "            row_len = frame.shape[0]\n",
    "            col_len = frame.shape[1]\n",
    "            crop_frame = frame[:col_len, :col_len, :]\n",
    "            \n",
    "            image = Image.fromarray(crop_frame)\n",
    "                # image.save(f\"from_video/{video_name}_{str(count)}.png\")\n",
    "            count+=1\n",
    "            break\n",
    "        # print(count)\n",
    "        break\n",
    "           \n",
    "\n",
    "        cap.release()\n",
    "        cv2.destroyAllWindows()"
   ]
  },
  {
   "cell_type": "code",
   "execution_count": null,
   "id": "441eace3-feae-4e7b-aae1-0d03d30c33ad",
   "metadata": {},
   "outputs": [],
   "source": []
  }
 ],
 "metadata": {
  "kernelspec": {
   "display_name": "thyroid",
   "language": "python",
   "name": "thyroid"
  },
  "language_info": {
   "codemirror_mode": {
    "name": "ipython",
    "version": 3
   },
   "file_extension": ".py",
   "mimetype": "text/x-python",
   "name": "python",
   "nbconvert_exporter": "python",
   "pygments_lexer": "ipython3",
   "version": "3.12.9"
  }
 },
 "nbformat": 4,
 "nbformat_minor": 5
}
