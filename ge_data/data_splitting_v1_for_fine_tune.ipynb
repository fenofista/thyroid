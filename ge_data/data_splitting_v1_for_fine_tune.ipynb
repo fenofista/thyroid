{
 "cells": [
  {
   "cell_type": "markdown",
   "id": "81ac463d-4fb5-45cb-bb84-ad121929ec00",
   "metadata": {},
   "source": [
    "# For inference all\n"
   ]
  },
  {
   "cell_type": "code",
   "execution_count": 9,
   "id": "d8c3ed6f-32df-433f-ac2b-350950ecf48e",
   "metadata": {},
   "outputs": [],
   "source": [
    "import os\n",
    "import pandas as pd\n",
    "from sklearn.utils import shuffle"
   ]
  },
  {
   "cell_type": "code",
   "execution_count": 2,
   "id": "2f91374b-0a00-4c6f-a3f3-e8a46816c18d",
   "metadata": {},
   "outputs": [],
   "source": [
    "train_images_folder = os.listdir(\"train/images\")\n",
    "train_masks_folder = os.listdir(\"train/masks\")\n",
    "\n",
    "test_images_folder = os.listdir(\"test/images\")\n",
    "test_masks_folder = os.listdir(\"test/masks\")"
   ]
  },
  {
   "cell_type": "code",
   "execution_count": 3,
   "id": "14334b7e-b4c5-4509-b23a-6b1c2546c705",
   "metadata": {},
   "outputs": [],
   "source": [
    "train_images_name = []\n",
    "train_masks_name = []\n",
    "for i in range(len(train_images_folder)):\n",
    "    image_name = train_images_folder[i]\n",
    "    mask_name = image_name\n",
    "    if \"jpg\" in mask_name:\n",
    "        mask_name = mask_name.replace(\"jpg\", \"png\")\n",
    "    train_images_name.append(image_name)\n",
    "    train_masks_name.append(mask_name)"
   ]
  },
  {
   "cell_type": "code",
   "execution_count": 4,
   "id": "a962e046-7ef2-4c06-bb23-e4b4b2b7ed62",
   "metadata": {},
   "outputs": [
    {
     "data": {
      "text/plain": [
       "['video_000090_17415984957499.png',\n",
       " 'video_000050_1729236450121.mp4#t=8.8.jpg',\n",
       " 'video_000050_1729236466431.mp4#t=1.733333.jpg',\n",
       " 'video_000035_1731054099996.mp4#t=5.333333.jpg',\n",
       " 'video_000049_1728635556554.mov#t=2.333333.jpg']"
      ]
     },
     "execution_count": 4,
     "metadata": {},
     "output_type": "execute_result"
    }
   ],
   "source": [
    "train_images_name[:5]"
   ]
  },
  {
   "cell_type": "code",
   "execution_count": 5,
   "id": "8e2a8a18-f47b-48d1-9266-e46ffb544400",
   "metadata": {},
   "outputs": [
    {
     "data": {
      "text/plain": [
       "['video_000090_17415984957499.png',\n",
       " 'video_000050_1729236450121.mp4#t=8.8.png',\n",
       " 'video_000050_1729236466431.mp4#t=1.733333.png',\n",
       " 'video_000035_1731054099996.mp4#t=5.333333.png',\n",
       " 'video_000049_1728635556554.mov#t=2.333333.png']"
      ]
     },
     "execution_count": 5,
     "metadata": {},
     "output_type": "execute_result"
    }
   ],
   "source": [
    "train_masks_name[:5]"
   ]
  },
  {
   "cell_type": "code",
   "execution_count": 6,
   "id": "037f022a-1868-42eb-8fad-01eb3b0677a5",
   "metadata": {},
   "outputs": [],
   "source": [
    "test_images_name = []\n",
    "test_masks_name = []\n",
    "for i in range(len(test_images_folder)):\n",
    "    image_name = test_images_folder[i]\n",
    "    mask_name = image_name\n",
    "    if \"jpg\" in mask_name:\n",
    "        mask_name = mask_name.replace(\"jpg\", \"png\")\n",
    "    test_images_name.append(image_name)\n",
    "    test_masks_name.append(mask_name)"
   ]
  },
  {
   "cell_type": "code",
   "execution_count": 7,
   "id": "56d9367c-0e5a-4ad4-aaf3-e2598e9e7f6e",
   "metadata": {},
   "outputs": [
    {
     "name": "stdout",
     "output_type": "stream",
     "text": [
      "565\n",
      "112\n",
      "565\n",
      "112\n"
     ]
    }
   ],
   "source": [
    "print(len(train_images_name))\n",
    "print(len(test_images_name))\n",
    "print(len(train_masks_name))\n",
    "print(len(test_masks_name))"
   ]
  },
  {
   "cell_type": "code",
   "execution_count": null,
   "id": "244175e2-d27d-4674-a83a-8720f9153bbc",
   "metadata": {},
   "outputs": [],
   "source": []
  },
  {
   "cell_type": "code",
   "execution_count": 13,
   "id": "0f63d5f0-c288-453a-9598-4ef225ea0b97",
   "metadata": {},
   "outputs": [],
   "source": [
    "train_images_name_shuffle, train_masks_name_shuffle = shuffle(train_images_name, train_masks_name, random_state = 42)"
   ]
  },
  {
   "cell_type": "code",
   "execution_count": 19,
   "id": "9503f001-cf74-487d-ab10-290fea63dd49",
   "metadata": {},
   "outputs": [
    {
     "name": "stdout",
     "output_type": "stream",
     "text": [
      "56\n"
     ]
    }
   ],
   "source": [
    "length = int(len(train_images_name_shuffle) * 0.1)\n",
    "print(length)"
   ]
  },
  {
   "cell_type": "code",
   "execution_count": 20,
   "id": "8308d891-6442-46b3-a958-15c874f43294",
   "metadata": {},
   "outputs": [],
   "source": [
    "train_df = {\n",
    "    \"image_name\" : [],\n",
    "    \"mask_name\" : [],\n",
    "    \"image_type\" : []\n",
    "}\n",
    "\n",
    "test_df = {\n",
    "    \"image_name\" : [],\n",
    "    \"mask_name\" : [],\n",
    "    \"image_type\" : []\n",
    "}"
   ]
  },
  {
   "cell_type": "code",
   "execution_count": 21,
   "id": "25fcbe67-4ef1-412b-807e-ffe5c88f194d",
   "metadata": {},
   "outputs": [],
   "source": [
    "for i in range((length)):\n",
    "    train_df[\"image_name\"].append(train_images_name_shuffle[i])\n",
    "    train_df[\"mask_name\"].append(train_masks_name_shuffle[i])\n",
    "    train_df[\"image_type\"].append(\"train\")"
   ]
  },
  {
   "cell_type": "code",
   "execution_count": 22,
   "id": "acbf315c-6ee4-41a1-ae5f-68291d5f33ad",
   "metadata": {},
   "outputs": [],
   "source": [
    "for i in range(len(test_images_name)):\n",
    "    test_df[\"image_name\"].append(test_images_name[i])\n",
    "    test_df[\"mask_name\"].append(test_masks_name[i])\n",
    "    test_df[\"image_type\"].append(\"test\")"
   ]
  },
  {
   "cell_type": "code",
   "execution_count": 23,
   "id": "080eeb73-90ea-43cd-aef3-71547b75be93",
   "metadata": {},
   "outputs": [],
   "source": [
    "train_df = pd.DataFrame(train_df)\n",
    "test_df = pd.DataFrame(test_df)"
   ]
  },
  {
   "cell_type": "code",
   "execution_count": 25,
   "id": "58d83b74-d045-4fd6-9647-d756e58032cb",
   "metadata": {},
   "outputs": [
    {
     "data": {
      "text/plain": [
       "56"
      ]
     },
     "execution_count": 25,
     "metadata": {},
     "output_type": "execute_result"
    }
   ],
   "source": [
    "len(train_df)"
   ]
  },
  {
   "cell_type": "code",
   "execution_count": 26,
   "id": "9774f797-7579-43ba-9b79-b42f7688e457",
   "metadata": {},
   "outputs": [
    {
     "data": {
      "text/plain": [
       "112"
      ]
     },
     "execution_count": 26,
     "metadata": {},
     "output_type": "execute_result"
    }
   ],
   "source": [
    "len(test_df)"
   ]
  },
  {
   "cell_type": "code",
   "execution_count": 28,
   "id": "4a5589ce-3a4f-4621-8244-ea521d5da1e8",
   "metadata": {},
   "outputs": [],
   "source": [
    "train_df.to_csv(\"train_csv_for_finetune(0.1).csv\", index = False)\n",
    "test_df.to_csv(\"test_csv_for_finetune_all.csv\", index = False)"
   ]
  },
  {
   "cell_type": "code",
   "execution_count": null,
   "id": "0dd630ec-6ccf-4227-b874-3e27d6e1984f",
   "metadata": {},
   "outputs": [],
   "source": []
  }
 ],
 "metadata": {
  "kernelspec": {
   "display_name": "thyroid",
   "language": "python",
   "name": "thyroid"
  },
  "language_info": {
   "codemirror_mode": {
    "name": "ipython",
    "version": 3
   },
   "file_extension": ".py",
   "mimetype": "text/x-python",
   "name": "python",
   "nbconvert_exporter": "python",
   "pygments_lexer": "ipython3",
   "version": "3.12.9"
  }
 },
 "nbformat": 4,
 "nbformat_minor": 5
}
