{
 "cells": [
  {
   "cell_type": "markdown",
   "id": "81ac463d-4fb5-45cb-bb84-ad121929ec00",
   "metadata": {},
   "source": [
    "# For inference all\n"
   ]
  },
  {
   "cell_type": "code",
   "execution_count": 1,
   "id": "d8c3ed6f-32df-433f-ac2b-350950ecf48e",
   "metadata": {},
   "outputs": [],
   "source": [
    "import os\n",
    "import pandas as pd"
   ]
  },
  {
   "cell_type": "code",
   "execution_count": 2,
   "id": "2f91374b-0a00-4c6f-a3f3-e8a46816c18d",
   "metadata": {},
   "outputs": [],
   "source": [
    "train_images_folder = os.listdir(\"train/images\")\n",
    "train_masks_folder = os.listdir(\"train/masks\")\n",
    "\n",
    "test_images_folder = os.listdir(\"test/images\")\n",
    "test_masks_folder = os.listdir(\"test/masks\")"
   ]
  },
  {
   "cell_type": "code",
   "execution_count": 3,
   "id": "14334b7e-b4c5-4509-b23a-6b1c2546c705",
   "metadata": {},
   "outputs": [],
   "source": [
    "train_images_name = []\n",
    "train_masks_name = []\n",
    "for i in range(len(train_images_folder)):\n",
    "    image_name = train_images_folder[i]\n",
    "    mask_name = image_name\n",
    "    if \"jpg\" in mask_name:\n",
    "        mask_name = mask_name.replace(\"jpg\", \"png\")\n",
    "    train_images_name.append(image_name)\n",
    "    train_masks_name.append(mask_name)"
   ]
  },
  {
   "cell_type": "code",
   "execution_count": 4,
   "id": "a962e046-7ef2-4c06-bb23-e4b4b2b7ed62",
   "metadata": {},
   "outputs": [
    {
     "data": {
      "text/plain": [
       "['video_000090_17415984957499.png',\n",
       " 'video_000050_1729236450121.mp4#t=8.8.jpg',\n",
       " 'video_000050_1729236466431.mp4#t=1.733333.jpg',\n",
       " 'video_000035_1731054099996.mp4#t=5.333333.jpg',\n",
       " 'video_000049_1728635556554.mov#t=2.333333.jpg']"
      ]
     },
     "execution_count": 4,
     "metadata": {},
     "output_type": "execute_result"
    }
   ],
   "source": [
    "train_images_name[:5]"
   ]
  },
  {
   "cell_type": "code",
   "execution_count": 5,
   "id": "8e2a8a18-f47b-48d1-9266-e46ffb544400",
   "metadata": {},
   "outputs": [
    {
     "data": {
      "text/plain": [
       "['video_000090_17415984957499.png',\n",
       " 'video_000050_1729236450121.mp4#t=8.8.png',\n",
       " 'video_000050_1729236466431.mp4#t=1.733333.png',\n",
       " 'video_000035_1731054099996.mp4#t=5.333333.png',\n",
       " 'video_000049_1728635556554.mov#t=2.333333.png']"
      ]
     },
     "execution_count": 5,
     "metadata": {},
     "output_type": "execute_result"
    }
   ],
   "source": [
    "train_masks_name[:5]"
   ]
  },
  {
   "cell_type": "code",
   "execution_count": 6,
   "id": "037f022a-1868-42eb-8fad-01eb3b0677a5",
   "metadata": {},
   "outputs": [],
   "source": [
    "test_images_name = []\n",
    "test_masks_name = []\n",
    "for i in range(len(test_images_folder)):\n",
    "    image_name = test_images_folder[i]\n",
    "    mask_name = image_name\n",
    "    if \"jpg\" in mask_name:\n",
    "        mask_name = mask_name.replace(\"jpg\", \"png\")\n",
    "    test_images_name.append(image_name)\n",
    "    test_masks_name.append(mask_name)"
   ]
  },
  {
   "cell_type": "code",
   "execution_count": 7,
   "id": "56d9367c-0e5a-4ad4-aaf3-e2598e9e7f6e",
   "metadata": {},
   "outputs": [
    {
     "name": "stdout",
     "output_type": "stream",
     "text": [
      "565\n",
      "112\n",
      "565\n",
      "112\n"
     ]
    }
   ],
   "source": [
    "print(len(train_images_name))\n",
    "print(len(test_images_name))\n",
    "print(len(train_masks_name))\n",
    "print(len(test_masks_name))"
   ]
  },
  {
   "cell_type": "code",
   "execution_count": 8,
   "id": "96e0b187-de41-4703-84fa-c540c5190cf6",
   "metadata": {},
   "outputs": [],
   "source": [
    "all_data = {\n",
    "    \"image_name\" : [],\n",
    "    \"image_type\" : [],\n",
    "    \"mask_name\" : []\n",
    "}"
   ]
  },
  {
   "cell_type": "code",
   "execution_count": 9,
   "id": "25fcbe67-4ef1-412b-807e-ffe5c88f194d",
   "metadata": {},
   "outputs": [],
   "source": [
    "for i in range(len(train_images_name)):\n",
    "    all_data[\"image_name\"].append(train_images_name[i])\n",
    "    all_data[\"mask_name\"].append(train_masks_name[i])\n",
    "    all_data[\"image_type\"].append(\"train\")"
   ]
  },
  {
   "cell_type": "code",
   "execution_count": 10,
   "id": "acbf315c-6ee4-41a1-ae5f-68291d5f33ad",
   "metadata": {},
   "outputs": [],
   "source": [
    "for i in range(len(test_images_name)):\n",
    "    all_data[\"image_name\"].append(test_images_name[i])\n",
    "    all_data[\"mask_name\"].append(test_masks_name[i])\n",
    "    all_data[\"image_type\"].append(\"test\")"
   ]
  },
  {
   "cell_type": "code",
   "execution_count": 11,
   "id": "080eeb73-90ea-43cd-aef3-71547b75be93",
   "metadata": {},
   "outputs": [],
   "source": [
    "df = pd.DataFrame(all_data)"
   ]
  },
  {
   "cell_type": "code",
   "execution_count": 12,
   "id": "965f101f-73f5-4df9-942d-fd10b8728449",
   "metadata": {},
   "outputs": [],
   "source": [
    "df.to_csv(\"all_data.csv\", index = False)"
   ]
  },
  {
   "cell_type": "code",
   "execution_count": null,
   "id": "58d83b74-d045-4fd6-9647-d756e58032cb",
   "metadata": {},
   "outputs": [],
   "source": []
  },
  {
   "cell_type": "code",
   "execution_count": null,
   "id": "9774f797-7579-43ba-9b79-b42f7688e457",
   "metadata": {},
   "outputs": [],
   "source": []
  }
 ],
 "metadata": {
  "kernelspec": {
   "display_name": "thyroid",
   "language": "python",
   "name": "thyroid"
  },
  "language_info": {
   "codemirror_mode": {
    "name": "ipython",
    "version": 3
   },
   "file_extension": ".py",
   "mimetype": "text/x-python",
   "name": "python",
   "nbconvert_exporter": "python",
   "pygments_lexer": "ipython3",
   "version": "3.12.9"
  }
 },
 "nbformat": 4,
 "nbformat_minor": 5
}
