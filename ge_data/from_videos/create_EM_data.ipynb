{
 "cells": [
  {
   "cell_type": "code",
   "execution_count": 1,
   "id": "58a492c8-6cc5-4cf2-ba60-beac446721af",
   "metadata": {},
   "outputs": [],
   "source": [
    "import pandas as pd\n",
    "import os"
   ]
  },
  {
   "cell_type": "code",
   "execution_count": 7,
   "id": "07de62a2-8ac0-4156-b928-ebde52f184d9",
   "metadata": {},
   "outputs": [],
   "source": [
    "good_pred = [\n",
    "    \"5.png\",\n",
    "    \"35.png\",\n",
    "    \"40.png\",\n",
    "    \"80.png\",\n",
    "    \"90.png\",\n",
    "    \"95.png\",\n",
    "    \"105.png\",\n",
    "    \"140.png\",\n",
    "    \"160.png\",\n",
    "    \"170.png\",\n",
    "]"
   ]
  },
  {
   "cell_type": "code",
   "execution_count": 3,
   "id": "36d023b2-ea26-4515-8d4e-03fad30b9105",
   "metadata": {},
   "outputs": [],
   "source": [
    "video_name = \"video_000041_1734078135266.MP4\"\n"
   ]
  },
  {
   "cell_type": "code",
   "execution_count": 5,
   "id": "c3738df0-f672-4654-8a32-66597cfebed5",
   "metadata": {},
   "outputs": [
    {
     "name": "stdout",
     "output_type": "stream",
     "text": [
      "186\n"
     ]
    }
   ],
   "source": [
    "video_dir = os.listdir(f\"crop_images/{video_name}\")\n",
    "print(len(video_dir))"
   ]
  },
  {
   "cell_type": "code",
   "execution_count": 10,
   "id": "875db0ca-86f2-443e-a78a-0d87a58b609f",
   "metadata": {},
   "outputs": [],
   "source": [
    "data = {\n",
    "    \"image_name\" : [],\n",
    "    \"mask_name\" : []\n",
    "}\n",
    "for i in range(len(video_dir)):\n",
    "    if video_dir[i] in good_pred:\n",
    "        data[\"image_name\"].append(video_name + \"/\" + video_dir[i])\n",
    "        data[\"mask_name\"].append(video_name + \"/nodule/\" + video_dir[i])"
   ]
  },
  {
   "cell_type": "code",
   "execution_count": 11,
   "id": "c06effa9-2716-469b-b8f0-646a0078961f",
   "metadata": {
    "scrolled": true
   },
   "outputs": [],
   "source": [
    "df = pd.DataFrame(data)"
   ]
  },
  {
   "cell_type": "code",
   "execution_count": 13,
   "id": "8b63629f-6fd6-4e8f-950a-0f3b435e6eec",
   "metadata": {},
   "outputs": [],
   "source": [
    "df[\"dataset\"] = \"ge\"\n",
    "df[\"mask_type\"] = \"nodule\"\n",
    "df[\"inference\"] = True\n",
    "df[\"from_folder\"] = \"ge_video\""
   ]
  },
  {
   "cell_type": "code",
   "execution_count": 15,
   "id": "7f1f5599-4d1b-4e8a-aeca-dbcba786d44e",
   "metadata": {},
   "outputs": [],
   "source": [
    "df.to_csv(\"nodule_inference_v2_1.csv\", index = False)"
   ]
  },
  {
   "cell_type": "code",
   "execution_count": null,
   "id": "46e848c9-82dc-4103-8c37-b5185a90ca79",
   "metadata": {},
   "outputs": [],
   "source": []
  }
 ],
 "metadata": {
  "kernelspec": {
   "display_name": "thyroid",
   "language": "python",
   "name": "thyroid"
  },
  "language_info": {
   "codemirror_mode": {
    "name": "ipython",
    "version": 3
   },
   "file_extension": ".py",
   "mimetype": "text/x-python",
   "name": "python",
   "nbconvert_exporter": "python",
   "pygments_lexer": "ipython3",
   "version": "3.12.9"
  }
 },
 "nbformat": 4,
 "nbformat_minor": 5
}
