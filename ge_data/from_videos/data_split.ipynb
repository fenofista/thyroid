{
 "cells": [
  {
   "cell_type": "code",
   "execution_count": 10,
   "id": "0826fec1-3295-4f81-bf31-ab63208d9b58",
   "metadata": {},
   "outputs": [],
   "source": [
    "import os\n",
    "import pandas as pd\n",
    "from sklearn.utils import shuffle"
   ]
  },
  {
   "cell_type": "code",
   "execution_count": 4,
   "id": "5259e1d5-2906-4952-843e-72b2caf2ccb2",
   "metadata": {},
   "outputs": [
    {
     "name": "stdout",
     "output_type": "stream",
     "text": [
      "1992\n"
     ]
    }
   ],
   "source": [
    "image_dir = os.listdir(\"images\")\n",
    "print(len(image_dir))"
   ]
  },
  {
   "cell_type": "code",
   "execution_count": 15,
   "id": "567bc01e-d4f8-4cfc-878c-f61dd47e517f",
   "metadata": {},
   "outputs": [],
   "source": [
    "data = {\n",
    "    \"image_name\" : image_dir,\n",
    "    \"mask_name\": image_dir\n",
    "}"
   ]
  },
  {
   "cell_type": "code",
   "execution_count": 16,
   "id": "6f0ebeda-0894-496f-b78d-cedc2c17f8b4",
   "metadata": {},
   "outputs": [],
   "source": [
    "df = pd.DataFrame(data)\n",
    "shuffle_df = shuffle(df, random_state = 42)\n",
    "shuffle_df = shuffle_df.reset_index(drop = True)"
   ]
  },
  {
   "cell_type": "code",
   "execution_count": 18,
   "id": "758f894a-c838-426f-b660-95d947b05b1d",
   "metadata": {},
   "outputs": [],
   "source": [
    "df.to_csv(\"nodule_all.csv\", index = False)\n",
    "df.to_csv(\"gland_all.csv\", index = False)\n"
   ]
  },
  {
   "cell_type": "code",
   "execution_count": null,
   "id": "a38d4cd3-d90d-4d1b-9a36-5e55c560f030",
   "metadata": {},
   "outputs": [],
   "source": []
  }
 ],
 "metadata": {
  "kernelspec": {
   "display_name": "thyroid",
   "language": "python",
   "name": "thyroid"
  },
  "language_info": {
   "codemirror_mode": {
    "name": "ipython",
    "version": 3
   },
   "file_extension": ".py",
   "mimetype": "text/x-python",
   "name": "python",
   "nbconvert_exporter": "python",
   "pygments_lexer": "ipython3",
   "version": "3.12.9"
  }
 },
 "nbformat": 4,
 "nbformat_minor": 5
}
