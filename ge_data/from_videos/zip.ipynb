{
 "cells": [
  {
   "cell_type": "code",
   "execution_count": 1,
   "id": "0aa4b123-2206-4d41-8dfb-c06872ad399f",
   "metadata": {},
   "outputs": [],
   "source": [
    "import shutil"
   ]
  },
  {
   "cell_type": "code",
   "execution_count": 5,
   "id": "43eb5a2d-f728-4937-995c-c0734f9469b1",
   "metadata": {},
   "outputs": [
    {
     "data": {
      "text/plain": [
       "'/home/twszbak764/thyroid/ge_data/from_videos/from_scratch_inference_masks_test_v3_1_aug_space(0.9)_weight_decay(1e-4).zip'"
      ]
     },
     "execution_count": 5,
     "metadata": {},
     "output_type": "execute_result"
    }
   ],
   "source": [
    "folder_name = \"from_scratch_inference_masks_test_v3_1_aug_space(0.9)_weight_decay(1e-4)\"\n",
    "shutil.make_archive(\n",
    "    folder_name,\n",
    "    \"zip\",\n",
    "    root_dir=\".\",\n",
    "    base_dir=folder_name\n",
    ")"
   ]
  },
  {
   "cell_type": "code",
   "execution_count": null,
   "id": "6d1c0cfe-0997-48d5-9529-48262bd11cdc",
   "metadata": {},
   "outputs": [],
   "source": []
  }
 ],
 "metadata": {
  "kernelspec": {
   "display_name": "thyroid",
   "language": "python",
   "name": "thyroid"
  },
  "language_info": {
   "codemirror_mode": {
    "name": "ipython",
    "version": 3
   },
   "file_extension": ".py",
   "mimetype": "text/x-python",
   "name": "python",
   "nbconvert_exporter": "python",
   "pygments_lexer": "ipython3",
   "version": "3.12.9"
  }
 },
 "nbformat": 4,
 "nbformat_minor": 5
}
